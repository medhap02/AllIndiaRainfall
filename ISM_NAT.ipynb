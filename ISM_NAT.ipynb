{
 "nbformat": 4,
 "nbformat_minor": 2,
 "metadata": {
  "language_info": {
   "name": "python",
   "codemirror_mode": {
    "name": "ipython",
    "version": 3
   }
  },
  "orig_nbformat": 2,
  "file_extension": ".py",
  "mimetype": "text/x-python",
  "name": "python",
  "npconvert_exporter": "python",
  "pygments_lexer": "ipython3",
  "version": 3
 },
 "cells": [
  {
   "cell_type": "code",
   "execution_count": 2,
   "metadata": {},
   "outputs": [],
   "source": [
    "%reset"
   ]
  },
  {
   "cell_type": "code",
   "execution_count": 9,
   "metadata": {},
   "outputs": [
    {
     "name": "stdout",
     "output_type": "stream",
     "text": "python version:\n3.7.4\n"
    }
   ],
   "source": [
    "import numpy as np\n",
    "import matplotlib \n",
    "import matplotlib.pyplot as plt\n",
    "import mpl_toolkits\n",
    "#from mpl_toolkits.basemap import Basemap\n",
    "import pandas as pd\n",
    "import xarray as xr\n",
    "#import Nio\n",
    "#print Nio.__version__\n",
    "\n",
    "print(\"python version:\")\n",
    "import platform\n",
    "print(platform.python_version())"
   ]
  },
  {
   "cell_type": "code",
   "execution_count": 11,
   "metadata": {},
   "outputs": [
    {
     "data": {
      "text/html": "<pre>&lt;xarray.Dataset&gt;\nDimensions:    (lat: 37, lon: 72, nbnds: 2, time: 2029)\nCoordinates:\n  * lat        (lat) float32 90.0 85.0 80.0 75.0 ... -75.0 -80.0 -85.0 -90.0\n  * lon        (lon) float32 0.0 5.0 10.0 15.0 20.0 ... 340.0 345.0 350.0 355.0\n  * time       (time) datetime64[ns] 1850-01-01 1850-02-01 ... 2019-01-01\nDimensions without coordinates: nbnds\nData variables:\n    slp        (time, lat, lon) float32 ...\n    time_bnds  (time, nbnds) float64 ...\nAttributes:\n    title:        HadSLP2\n    history:      Fri Mar  8 10:06:25 2013: ncks -d time,0,1957 slp.mnmean.re...\n    comments:     adSLP2 was created using marine observations taken from ICO...\n    Conventions:  CF-1.0\n    platform:     Model\n    source:       Hadley Center\n    institution:  Hadley Center\n    References:   https://www.esrl.noaa.gov/psd/data/gridded/data.hadslp2.html\n    NCO:          20130308\n    source_url:   https://hadobs.metoffice.com/hadslp2/</pre>",
      "text/plain": "<xarray.Dataset>\nDimensions:    (lat: 37, lon: 72, nbnds: 2, time: 2029)\nCoordinates:\n  * lat        (lat) float32 90.0 85.0 80.0 75.0 ... -75.0 -80.0 -85.0 -90.0\n  * lon        (lon) float32 0.0 5.0 10.0 15.0 20.0 ... 340.0 345.0 350.0 355.0\n  * time       (time) datetime64[ns] 1850-01-01 1850-02-01 ... 2019-01-01\nDimensions without coordinates: nbnds\nData variables:\n    slp        (time, lat, lon) float32 ...\n    time_bnds  (time, nbnds) float64 ...\nAttributes:\n    title:        HadSLP2\n    history:      Fri Mar  8 10:06:25 2013: ncks -d time,0,1957 slp.mnmean.re...\n    comments:     adSLP2 was created using marine observations taken from ICO...\n    Conventions:  CF-1.0\n    platform:     Model\n    source:       Hadley Center\n    institution:  Hadley Center\n    References:   https://www.esrl.noaa.gov/psd/data/gridded/data.hadslp2.html\n    NCO:          20130308\n    source_url:   https://hadobs.metoffice.com/hadslp2/"
     },
     "execution_count": 11,
     "metadata": {},
     "output_type": "execute_result"
    }
   ],
   "source": [
    "slpdat = xr.open_dataset('/Users/home/All-IndiaRainfall/data/slp.mnmean.real.nc')\n",
    "slpdat"
   ]
  },
  {
   "cell_type": "code",
   "execution_count": 12,
   "metadata": {},
   "outputs": [
    {
     "data": {
      "text/html": "<pre>&lt;xarray.DataArray &#x27;slp&#x27; (time: 2029, lat: 37, lon: 72)&gt;\n[5405256 values with dtype=float32]\nCoordinates:\n  * lat      (lat) float32 90.0 85.0 80.0 75.0 70.0 ... -75.0 -80.0 -85.0 -90.0\n  * lon      (lon) float32 0.0 5.0 10.0 15.0 20.0 ... 340.0 345.0 350.0 355.0\n  * time     (time) datetime64[ns] 1850-01-01 1850-02-01 ... 2019-01-01\nAttributes:\n    long_name:             Monthly Mean Sea Level Pressure\n    unpacked_valid_range:  [ 850. 1400.]\n    actual_range:          [ 953.9066 1052.5088]\n    units:                 mb\n    precision:             1\n    var_desc:              Sea Level Pressure\n    dataset:               HadSLP2\n    level_desc:            Surface\n    statistic:             Mean\n    parent_stat:           Individual Observation\n    valid_range:           [-32765  32765]</pre>",
      "text/plain": "<xarray.DataArray 'slp' (time: 2029, lat: 37, lon: 72)>\n[5405256 values with dtype=float32]\nCoordinates:\n  * lat      (lat) float32 90.0 85.0 80.0 75.0 70.0 ... -75.0 -80.0 -85.0 -90.0\n  * lon      (lon) float32 0.0 5.0 10.0 15.0 20.0 ... 340.0 345.0 350.0 355.0\n  * time     (time) datetime64[ns] 1850-01-01 1850-02-01 ... 2019-01-01\nAttributes:\n    long_name:             Monthly Mean Sea Level Pressure\n    unpacked_valid_range:  [ 850. 1400.]\n    actual_range:          [ 953.9066 1052.5088]\n    units:                 mb\n    precision:             1\n    var_desc:              Sea Level Pressure\n    dataset:               HadSLP2\n    level_desc:            Surface\n    statistic:             Mean\n    parent_stat:           Individual Observation\n    valid_range:           [-32765  32765]"
     },
     "execution_count": 12,
     "metadata": {},
     "output_type": "execute_result"
    }
   ],
   "source": [
    "slp = slpdat['slp']\n",
    "slp"
   ]
  },
  {
   "cell_type": "code",
   "execution_count": 13,
   "metadata": {},
   "outputs": [],
   "source": [
    "#NOTES:\n",
    "#weights = np.cos(slp.lat*np.pi/180)\n",
    "\n",
    "latrange = slp.sel(lat = slice(60, 40)).lat\n",
    "weights = np.cos(latrange*np.pi/180)"
   ]
  },
  {
   "cell_type": "code",
   "execution_count": 14,
   "metadata": {},
   "outputs": [],
   "source": [
    "marchdata = slp.sel(lat = slice(60, 40), lon = slice(95, 120), time = (slp['time.month']==3))\n",
    "marchSLP = marchdata.sel(time = slice('1900-03-01', '1988-03-01'))\n",
    "\n",
    "marchmean = (marchSLP*weights).mean({'lon', 'lat'})/weights.mean()\n",
    "#marchmean"
   ]
  },
  {
   "cell_type": "code",
   "execution_count": 15,
   "metadata": {},
   "outputs": [],
   "source": [
    "maydata = slp.sel(lat = slice(60, 40), lon = slice(95, 120), time = (slp['time.month']==5))\n",
    "maySLP = maydata.sel(time = slice('1900-05-01', '1988-05-01'))\n",
    "\n",
    "maymean = (maySLP*weights).mean({'lon', 'lat'})/weights.mean()\n",
    "#maymean"
   ]
  },
  {
   "cell_type": "code",
   "execution_count": 16,
   "metadata": {},
   "outputs": [
    {
     "data": {
      "text/html": "<pre>&lt;xarray.DataArray ()&gt;\narray(-13.135803, dtype=float32)</pre>",
      "text/plain": "<xarray.DataArray ()>\narray(-13.135803, dtype=float32)"
     },
     "execution_count": 16,
     "metadata": {},
     "output_type": "execute_result"
    }
   ],
   "source": [
    "NAT = maymean.mean() - marchmean.mean()\n",
    "NAT"
   ]
  },
  {
   "cell_type": "code",
   "execution_count": 17,
   "metadata": {},
   "outputs": [],
   "source": [
    "#AnomalousAsianLowpredictor\n",
    "#note: lat & lon go by scale of 5 degrees"
   ]
  }
 ]
}