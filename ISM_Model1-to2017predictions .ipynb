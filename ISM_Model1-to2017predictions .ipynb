{
 "nbformat": 4,
 "nbformat_minor": 2,
 "metadata": {
  "language_info": {
   "name": "python",
   "codemirror_mode": {
    "name": "ipython",
    "version": 3
   },
   "version": "3.7.4-final"
  },
  "orig_nbformat": 2,
  "file_extension": ".py",
  "mimetype": "text/x-python",
  "name": "python",
  "npconvert_exporter": "python",
  "pygments_lexer": "ipython3",
  "version": 3,
  "kernelspec": {
   "name": "python37464bitbaseconda35f0cee268cb44ceaf0469b41a6f34d7",
   "display_name": "Python 3.7.4 64-bit ('base': conda)"
  }
 },
 "cells": [
  {
   "cell_type": "code",
   "execution_count": 60,
   "metadata": {},
   "outputs": [
    {
     "name": "stdout",
     "output_type": "stream",
     "text": "Nothing done.\n"
    }
   ],
   "source": [
    "%reset"
   ]
  },
  {
   "cell_type": "code",
   "execution_count": 78,
   "metadata": {},
   "outputs": [
    {
     "name": "stdout",
     "output_type": "stream",
     "text": "python version:\n3.7.4\n"
    }
   ],
   "source": [
    "import numpy as np\n",
    "import matplotlib \n",
    "import matplotlib.pyplot as plt\n",
    "import mpl_toolkits\n",
    "#from mpl_toolkits.basemap import Basemap\n",
    "import pandas as pd\n",
    "import xarray as xr\n",
    "import nc_time_axis\n",
    "import cftime\n",
    "#import Nio\n",
    "#print (Nio.__version__)\n",
    "import sklearn\n",
    "\n",
    "print(\"python version:\")\n",
    "import platform\n",
    "print(platform.python_version())"
   ]
  },
  {
   "cell_type": "code",
   "execution_count": 29,
   "metadata": {},
   "outputs": [
    {
     "data": {
      "text/html": "<pre>&lt;xarray.DataArray &#x27;sst&#x27; (time: 2004, lat: 89, lon: 180)&gt;\n[32104080 values with dtype=float32]\nCoordinates:\n  * time     (time) datetime64[ns] 1854-01-01 1854-02-01 ... 2020-12-01\n  * lat      (lat) float64 -88.0 -86.0 -84.0 -82.0 -80.0 ... 82.0 84.0 86.0 88.0\n  * lon      (lon) float64 0.0 2.0 4.0 6.0 8.0 ... 350.0 352.0 354.0 356.0 358.0\nAttributes:\n    long_name:  extended reconstructed sea surface temperature [degree c] </pre>",
      "text/plain": "<xarray.DataArray 'sst' (time: 2004, lat: 89, lon: 180)>\n[32104080 values with dtype=float32]\nCoordinates:\n  * time     (time) datetime64[ns] 1854-01-01 1854-02-01 ... 2020-12-01\n  * lat      (lat) float64 -88.0 -86.0 -84.0 -82.0 -80.0 ... 82.0 84.0 86.0 88.0\n  * lon      (lon) float64 0.0 2.0 4.0 6.0 8.0 ... 350.0 352.0 354.0 356.0 358.0\nAttributes:\n    long_name:  extended reconstructed sea surface temperature [degree c] "
     },
     "execution_count": 29,
     "metadata": {},
     "output_type": "execute_result"
    }
   ],
   "source": [
    "sstdat = xr.open_dataset('http://apdrc.soest.hawaii.edu/dods/public_data/NOAA_SST/ERSST/monthly_v5')\n",
    "#sstdat\n",
    "sst = sstdat['sst']\n",
    "sst"
   ]
  },
  {
   "cell_type": "code",
   "execution_count": 30,
   "metadata": {},
   "outputs": [
    {
     "data": {
      "text/html": "<pre>&lt;xarray.DataArray &#x27;slp&#x27; (time: 2029, lat: 37, lon: 72)&gt;\n[5405256 values with dtype=float32]\nCoordinates:\n  * lat      (lat) float32 90.0 85.0 80.0 75.0 70.0 ... -75.0 -80.0 -85.0 -90.0\n  * lon      (lon) float32 0.0 5.0 10.0 15.0 20.0 ... 340.0 345.0 350.0 355.0\n  * time     (time) datetime64[ns] 1850-01-01 1850-02-01 ... 2019-01-01\nAttributes:\n    long_name:             Monthly Mean Sea Level Pressure\n    unpacked_valid_range:  [ 850. 1400.]\n    actual_range:          [ 953.9066 1052.5088]\n    units:                 mb\n    precision:             1\n    var_desc:              Sea Level Pressure\n    dataset:               HadSLP2\n    level_desc:            Surface\n    statistic:             Mean\n    parent_stat:           Individual Observation\n    valid_range:           [-32765  32765]</pre>",
      "text/plain": "<xarray.DataArray 'slp' (time: 2029, lat: 37, lon: 72)>\n[5405256 values with dtype=float32]\nCoordinates:\n  * lat      (lat) float32 90.0 85.0 80.0 75.0 70.0 ... -75.0 -80.0 -85.0 -90.0\n  * lon      (lon) float32 0.0 5.0 10.0 15.0 20.0 ... 340.0 345.0 350.0 355.0\n  * time     (time) datetime64[ns] 1850-01-01 1850-02-01 ... 2019-01-01\nAttributes:\n    long_name:             Monthly Mean Sea Level Pressure\n    unpacked_valid_range:  [ 850. 1400.]\n    actual_range:          [ 953.9066 1052.5088]\n    units:                 mb\n    precision:             1\n    var_desc:              Sea Level Pressure\n    dataset:               HadSLP2\n    level_desc:            Surface\n    statistic:             Mean\n    parent_stat:           Individual Observation\n    valid_range:           [-32765  32765]"
     },
     "execution_count": 30,
     "metadata": {},
     "output_type": "execute_result"
    }
   ],
   "source": [
    "slpdat = xr.open_dataset('/Users/home/All-IndiaRainfall/data/slp.mnmean.real.nc')\n",
    "#slpdat\n",
    "slp = slpdat['slp']\n",
    "slp"
   ]
  },
  {
   "cell_type": "code",
   "execution_count": 32,
   "metadata": {},
   "outputs": [
    {
     "data": {
      "text/html": "<pre>&lt;xarray.Dataset&gt;\nDimensions:  (data: 1068, int: 1068, time: 1068)\nCoordinates:\n  * data     (data) float32 15.3 6.7 10.3 38.5 40.6 ... 205.6 50.2 22.5 10.2\n  * time     (time) datetime64[ns] 1900-01-31 1900-02-28 ... 1988-12-31\nDimensions without coordinates: int\nData variables:\n    foo      (int) int64 0 1 2 3 4 5 6 7 ... 1061 1062 1063 1064 1065 1066 1067</pre>",
      "text/plain": "<xarray.Dataset>\nDimensions:  (data: 1068, int: 1068, time: 1068)\nCoordinates:\n  * data     (data) float32 15.3 6.7 10.3 38.5 40.6 ... 205.6 50.2 22.5 10.2\n  * time     (time) datetime64[ns] 1900-01-31 1900-02-28 ... 1988-12-31\nDimensions without coordinates: int\nData variables:\n    foo      (int) int64 0 1 2 3 4 5 6 7 ... 1061 1062 1063 1064 1065 1066 1067"
     },
     "execution_count": 32,
     "metadata": {},
     "output_type": "execute_result"
    }
   ],
   "source": [
    "precipdat = xr.open_dataset('/Users/home/All-IndiaRainfall/data/pALLIN_1900-1988_1900-1988.nc', decode_times=False)\n",
    "precipdat\n",
    "time = pd.date_range('1900-01-01', freq='M', periods=1068)\n",
    "precip = xr.Dataset({'data': ('data', precipdat['precip']), 'time': time, 'foo': ('int', np.arange(1068))})\n",
    "precip"
   ]
  },
  {
   "cell_type": "code",
   "execution_count": 33,
   "metadata": {},
   "outputs": [
    {
     "name": "stdout",
     "output_type": "stream",
     "text": "<xarray.DataArray (time: 0)>\narray([], dtype=float64)\nCoordinates:\n  * time     (time) datetime64[ns] \n<xarray.DataArray (time: 0)>\narray([], dtype=float64)\nCoordinates:\n  * time     (time) datetime64[ns] \n"
    }
   ],
   "source": [
    "#EP-ENSOpredictor\n",
    "\n",
    "'''set #1'''\n",
    "latrange1 = sst.sel(lat = slice(-20, 5)).lat\n",
    "weights1 = np.cos(latrange1*np.pi/180)\n",
    "\n",
    "marchdata1 = sst.sel(lat = slice(-20, 5), lon = slice(150, 170), time = (sst['time.month']==3))\n",
    "marchSST1 = marchdata1.sel(time = slice('1900-03-01', '2017-03-01'))\n",
    "\n",
    "marchmean1 = (marchSST1*weights1).mean({'lon', 'lat'})/weights1.mean()\n",
    "#marchmean1\n",
    "\n",
    "marchcalculation1 = (marchdata1.sel(time = slice('1900-03-01', '1988-03-01'))*weights1).mean({'lon', 'lat'})/weights1.mean()\n",
    "\n",
    "maydata1 = sst.sel(lat = slice(-20, 5), lon = slice(150, 170), time = (sst['time.month']==5))\n",
    "maySST1 = maydata1.sel(time = slice('1900-05-01', '2017-05-01'))\n",
    "\n",
    "maymean1 = (maySST1*weights1).mean({'lon', 'lat'})/weights1.mean()\n",
    "#maymean1\n",
    "\n",
    "maycalculation1 = (maydata1.sel(time = slice('1900-05-01', '1988-05-01'))*weights1).mean({'lon', 'lat'})/weights1.mean()\n",
    "\n",
    "marchmean1.time.data = maymean1.time.data\n",
    "marchcalculation1.time.data = maycalculation1.time.data\n",
    "\n",
    "DSST1 = maymean1 - marchmean1\n",
    "#DSST1\n",
    "\n",
    "DSSTcalculation1 = maycalculation1 - marchcalculation1\n",
    "\n",
    "'''set #2'''\n",
    "latrange2 = sst.sel(lat = slice(-10, 10)).lat\n",
    "weights2 = np.cos(latrange2*np.pi/180)\n",
    "\n",
    "marchdata2 = sst.sel(lat = slice(-10, 10), lon = slice(250, 280), time = (sst['time.month']==3))\n",
    "marchSST2 = marchdata2.sel(time = slice('1900-03-01', '2017-03-01'))\n",
    "\n",
    "marchmean2 = (marchSST2*weights2).mean({'lon', 'lat'})/weights2.mean()\n",
    "#marchmean2\n",
    "\n",
    "marchcalculation2 = (marchdata2.sel(time = slice('1900-03-01', '1988-03-01'))*weights2).mean({'lon', 'lat'})/weights2.mean()\n",
    "\n",
    "maydata2 = sst.sel(lat = slice(-10, 10), lon = slice(250, 280), time = (sst['time.month']==5))\n",
    "maySST2 = maydata2.sel(time = slice('1900-05-01', '2017-05-01'))\n",
    "\n",
    "maymean2 = (maySST2*weights2).mean({'lon', 'lat'})/weights2.mean()\n",
    "#maymean2\n",
    "\n",
    "maycalculation2 = (maydata2.sel(time = slice('1900-05-01', '1988-05-01'))*weights2).mean({'lon', 'lat'})/weights2.mean()\n",
    "\n",
    "marchmean2.time.data = maymean2.time.data\n",
    "marchcalculation2.time.data = maycalculation2.time.data\n",
    "\n",
    "DSST2 = (maymean2 - marchmean2)\n",
    "#DSST2\n",
    "\n",
    "DSSTcalculation2 = maycalculation2 - marchcalculation2\n",
    "\n",
    "EPT = DSST1 - DSST2\n",
    "print (EPT)\n",
    "\n",
    "EPTcalculation = DSSTcalculation1 - DSSTcalculation2\n",
    "print (EPTcalculation)"
   ]
  },
  {
   "cell_type": "code",
   "execution_count": 34,
   "metadata": {},
   "outputs": [
    {
     "name": "stderr",
     "output_type": "stream",
     "text": "/opt/anaconda3/lib/python3.7/site-packages/xarray/core/nanops.py:140: RuntimeWarning: Mean of empty slice\n  return np.nanmean(a, axis=axis, dtype=dtype)\n"
    },
    {
     "data": {
      "text/html": "<pre>&lt;xarray.DataArray (time: 0)&gt;\narray([], dtype=float64)\nCoordinates:\n  * time     (time) datetime64[ns] </pre>",
      "text/plain": "<xarray.DataArray (time: 0)>\narray([], dtype=float64)\nCoordinates:\n  * time     (time) datetime64[ns] "
     },
     "execution_count": 34,
     "metadata": {},
     "output_type": "execute_result"
    }
   ],
   "source": [
    "EPT = (DSST1 - DSST2) - EPTcalculation.mean()\n",
    "EPTstd = 0.546494\n",
    "EPT = EPT / EPTstd\n",
    "EPT"
   ]
  },
  {
   "cell_type": "code",
   "execution_count": 35,
   "metadata": {},
   "outputs": [
    {
     "name": "stdout",
     "output_type": "stream",
     "text": "<xarray.DataArray (time: 0)>\narray([], dtype=float64)\nCoordinates:\n  * time     (time) datetime64[ns] \n<xarray.DataArray ()>\narray(nan)\n<xarray.DataArray ()>\narray(nan)\n/opt/anaconda3/lib/python3.7/site-packages/xarray/core/nanops.py:140: RuntimeWarning: Mean of empty slice\n  return np.nanmean(a, axis=axis, dtype=dtype)\n"
    }
   ],
   "source": [
    "#CP-ENSOpredictor\n",
    "\n",
    "'''set #1'''\n",
    "latrange1= sst.sel(lat = slice(-25, -10)).lat\n",
    "weights1= np.cos(latrange1*np.pi/180)\n",
    "\n",
    "aprildata1= sst.sel(lat = slice(-25, -10), lon = slice(170, 200), time = (sst['time.month']==4))\n",
    "aprilSST1= aprildata1.sel(time = slice('1900-04-01', '2017-04-01'))\n",
    "\n",
    "aprilmean1= (aprilSST1*weights1).mean({'lon', 'lat'})/weights1.mean()\n",
    "#aprilmean1\n",
    "\n",
    "aprilcalculation1 = (aprildata1.sel(time = slice('1900-04-01', '1988-04-01'))*weights1).mean({'lon', 'lat'})/weights1.mean()\n",
    "\n",
    "maydata1= sst.sel(lat = slice(-25, -10), lon = slice(170, 200), time = (sst['time.month']==5))\n",
    "maySST1= maydata1.sel(time = slice('1900-05-01', '2017-05-01'))\n",
    "\n",
    "maymean1= (maySST1*weights1).mean({'lon', 'lat'})/weights1.mean()\n",
    "#maymean1\n",
    "\n",
    "maycalculation1 = (maydata1.sel(time = slice('1900-05-01', '1988-05-01'))*weights1).mean({'lon', 'lat'})/weights1.mean()\n",
    "\n",
    "aprilmean1.time.data = maymean1.time.data\n",
    "aprilcalculation1.time.data = maycalculation1.time.data\n",
    "\n",
    "DSST1 = maymean1 - aprilmean1\n",
    "#DSST1\n",
    "\n",
    "DSSTcalculation1 = maycalculation1 - aprilcalculation1\n",
    "\n",
    "'''set #2'''\n",
    "latrange2= sst.sel(lat = slice(5, 20)).lat\n",
    "weights2= np.cos(latrange2*np.pi/180)\n",
    "\n",
    "aprildata2= sst.sel(lat = slice(5, 20), lon = slice(180, 210), time = (sst['time.month']==4))\n",
    "aprilSST2= aprildata2.sel(time = slice('1900-04-01', '2017-04-01'))\n",
    "\n",
    "aprilmean2= (aprilSST2*weights2).mean({'lon', 'lat'})/weights2.mean()\n",
    "#aprilmean2\n",
    "\n",
    "aprilcalculation2 = (aprildata2.sel(time = slice('1900-04-01', '1988-04-01'))*weights2).mean({'lon', 'lat'})/weights2.mean()\n",
    "\n",
    "maydata2= sst.sel(lat = slice(5, 20), lon = slice(180, 210), time = (sst['time.month']==5))\n",
    "maySST2= maydata2.sel(time = slice('1900-05-01', '2017-05-01'))\n",
    "\n",
    "maymean2= (maySST2*weights2).mean({'lon', 'lat'})/weights2.mean()\n",
    "#maymean2\n",
    "\n",
    "maycalculation2 = (maydata2.sel(time = slice('1900-05-01', '1988-05-01'))*weights2).mean({'lon', 'lat'})/weights2.mean()\n",
    "\n",
    "aprilmean2.time.data = maymean2.time.data\n",
    "aprilcalculation2.time.data = maycalculation2.time.data\n",
    "\n",
    "DSST2 = maymean2 - aprilmean2\n",
    "#DSST2\n",
    "\n",
    "DSSTcalculation2 = maycalculation2 - aprilcalculation2\n",
    "\n",
    "CPT = DSST1 - DSST2\n",
    "print (CPT)\n",
    "\n",
    "CPTcalculation = DSSTcalculation1 - DSSTcalculation2\n",
    "\n",
    "print (CPT.mean())\n",
    "print (CPTcalculation.mean())"
   ]
  },
  {
   "cell_type": "code",
   "execution_count": 36,
   "metadata": {},
   "outputs": [
    {
     "data": {
      "text/html": "<pre>&lt;xarray.DataArray (time: 0)&gt;\narray([], dtype=float64)\nCoordinates:\n  * time     (time) datetime64[ns] </pre>",
      "text/plain": "<xarray.DataArray (time: 0)>\narray([], dtype=float64)\nCoordinates:\n  * time     (time) datetime64[ns] "
     },
     "execution_count": 36,
     "metadata": {},
     "output_type": "execute_result"
    }
   ],
   "source": [
    "CPT = (DSST1 - DSST2) - CPTcalculation.mean()\n",
    "CPTstd = 0.243743\n",
    "CPT = CPT / CPTstd\n",
    "CPT"
   ]
  },
  {
   "cell_type": "code",
   "execution_count": 37,
   "metadata": {},
   "outputs": [
    {
     "name": "stdout",
     "output_type": "stream",
     "text": "<xarray.DataArray (time: 0)>\narray([], dtype=float64)\nCoordinates:\n  * time     (time) datetime64[ns] \n"
    }
   ],
   "source": [
    "'''set #1'''\n",
    "latrange1 = slp.sel(lat = slice(-10, -40)).lat\n",
    "weights1 = np.cos(latrange1*np.pi/180)\n",
    "\n",
    "aprildata1 = slp.sel(lat = slice(-10, -40), lon = slice(200, 270), time = (slp['time.month']==4))\n",
    "aprilSLP1 = aprildata1.sel(time = slice('1900-04-01', '2017-04-01'))\n",
    "\n",
    "aprilmean1 = (aprilSLP1*weights1).mean({'lon', 'lat'})/weights1.mean()\n",
    "#aprilmean1\n",
    "\n",
    "aprilcalculation1 = ((aprildata1.sel(time = slice('1900-04-01', '1988-04-01')))*weights1).mean({'lon', 'lat'})/weights1.mean()\n",
    "\n",
    "maydata1 = slp.sel(lat = slice(-10, -40), lon = slice(200, 270), time = (slp['time.month']==5))\n",
    "maySLP1 = maydata1.sel(time = slice('1900-05-01', '2017-05-01'))\n",
    "\n",
    "maymean1 = (maySLP1*weights1).mean({'lon', 'lat'})/weights1.mean()\n",
    "#maymean1\n",
    "\n",
    "maycalculation1 = ((maydata1.sel(time = slice('1900-05-01', '1988-05-01')))*weights1).mean({'lon', 'lat'})/weights1.mean()\n",
    "\n",
    "aprilmean1.time.data = maymean1.time.data\n",
    "aprilcalculation1.time.data = maycalculation1.time.data\n",
    "\n",
    "NP = ((aprilmean1 + maymean1)/2)\n",
    "#NP\n",
    "\n",
    "NPcalculation = ((aprilcalculation1 + maycalculation1)/2)\n",
    "\n",
    "'''set#2'''\n",
    "latrange2 = slp.sel(lat = slice(30, 10)).lat\n",
    "weights2 = np.cos(latrange2*np.pi/180)\n",
    "\n",
    "aprildata2 = slp.sel(lat = slice(30, 10), lon = slice(180, 230), time = (slp['time.month']==4))\n",
    "aprilSLP2 = aprildata2.sel(time = slice('1900-04-01', '2017-04-01'))\n",
    "\n",
    "aprilmean2 = (aprilSLP2*weights2).mean({'lon', 'lat'})/weights2.mean()\n",
    "#aprilmean2\n",
    "\n",
    "aprilcalculation2 = ((aprildata2.sel(time = slice('1900-04-01', '1988-04-01')))*weights2).mean({'lon', 'lat'})/weights2.mean()\n",
    "\n",
    "maydata2 = slp.sel(lat = slice(30, 10), lon = slice(180, 230), time = (slp['time.month']==5))\n",
    "maySLP2 = maydata2.sel(time = slice('1900-05-01', '2017-05-01'))\n",
    "\n",
    "maymean2 = (maySLP2*weights2).mean({'lon', 'lat'})/weights2.mean()\n",
    "#maymean2\n",
    "\n",
    "maycalculation2 = ((maydata2.sel(time = slice('1900-05-01', '1988-05-01')))*weights2).mean({'lon', 'lat'})/weights2.mean()\n",
    "\n",
    "aprilmean2.time.data = maymean2.time.data\n",
    "aprilcalculation2.time.data = maycalculation2.time.data\n",
    "\n",
    "SP = ((aprilmean2 + maymean2)/2)\n",
    "#SP\n",
    "\n",
    "SPcalculation = ((aprilcalculation2 + maycalculation2)/2)\n",
    "\n",
    "#30*weigths\n",
    "NParea = (30*weights1.mean() * 60)\n",
    "SParea = (20*weights2.mean() * 50)\n",
    "PSH = ((NP * NParea) + (SP * SParea))/(NParea + SParea)\n",
    "print (PSH)\n",
    "\n",
    "PSHcalculation = ((NPcalculation * NParea) + (SPcalculation * SParea))/(NParea + SParea)\n",
    "#confirm that this is how you calculate the PSH"
   ]
  },
  {
   "cell_type": "code",
   "execution_count": 38,
   "metadata": {},
   "outputs": [
    {
     "name": "stdout",
     "output_type": "stream",
     "text": "<xarray.DataArray (time: 0)>\narray([], dtype=float64)\nCoordinates:\n  * time     (time) datetime64[ns] \n/opt/anaconda3/lib/python3.7/site-packages/xarray/core/nanops.py:140: RuntimeWarning: Mean of empty slice\n  return np.nanmean(a, axis=axis, dtype=dtype)\n"
    }
   ],
   "source": [
    "temp = PSH - PSHcalculation.mean()\n",
    "PSHstd = 0.430541\n",
    "PSH = temp / PSHstd\n",
    "print (PSH)"
   ]
  },
  {
   "cell_type": "code",
   "execution_count": 39,
   "metadata": {},
   "outputs": [
    {
     "name": "stdout",
     "output_type": "stream",
     "text": "<xarray.DataArray (time: 0)>\narray([], dtype=float32)\nCoordinates:\n  * time     (time) datetime64[ns] \n"
    }
   ],
   "source": [
    "#AnomalousAsianLowpredictor\n",
    "\n",
    "latrange = slp.sel(lat = slice(60, 40)).lat\n",
    "weights = np.cos(latrange*np.pi/180)\n",
    "\n",
    "marchdata = slp.sel(lat = slice(60, 40), lon = slice(95, 125), time = (slp['time.month']==3))\n",
    "marchSLP = marchdata.sel(time = slice('1900-03-01', '2017-03-01'))\n",
    "\n",
    "marchmean = (marchSLP*weights).mean({'lon', 'lat'})/weights.mean()\n",
    "#marchmean\n",
    "\n",
    "maydata = slp.sel(lat = slice(60, 40), lon = slice(95, 125), time = (slp['time.month']==5))\n",
    "maySLP = maydata.sel(time = slice('1900-05-01', '2017-05-01'))\n",
    "\n",
    "maymean = (maySLP*weights).mean({'lon', 'lat'})/weights.mean()\n",
    "#maymean\n",
    "\n",
    "marchcalculation = ((marchdata.sel(time = slice('1900-03-01', '1988-03-01')))*weights).mean({'lon', 'lat'})/weights.mean()\n",
    "maycalculation = ((maydata.sel(time = slice('1900-05-01', '1988-05-01')))*weights).mean({'lon', 'lat'})/weights.mean()\n",
    "\n",
    "marchmean.time.data = maymean.time.data\n",
    "marchcalculation.time.data = maycalculation.time.data\n",
    "\n",
    "NAT = maymean - marchmean\n",
    "print (NAT)\n",
    "\n",
    "NATcalculation =maycalculation - marchcalculation"
   ]
  },
  {
   "cell_type": "code",
   "execution_count": 40,
   "metadata": {},
   "outputs": [
    {
     "name": "stderr",
     "output_type": "stream",
     "text": "/opt/anaconda3/lib/python3.7/site-packages/xarray/core/nanops.py:140: RuntimeWarning: Mean of empty slice\n  return np.nanmean(a, axis=axis, dtype=dtype)\n"
    },
    {
     "data": {
      "text/html": "<pre>&lt;xarray.DataArray (time: 0)&gt;\narray([], dtype=float32)\nCoordinates:\n  * time     (time) datetime64[ns] </pre>",
      "text/plain": "<xarray.DataArray (time: 0)>\narray([], dtype=float32)\nCoordinates:\n  * time     (time) datetime64[ns] "
     },
     "execution_count": 40,
     "metadata": {},
     "output_type": "execute_result"
    }
   ],
   "source": [
    "NAT = maymean - marchmean - NATcalculation.mean()\n",
    "NATstd = 1.648686\n",
    "NAT = NAT / NATstd\n",
    "NAT"
   ]
  },
  {
   "cell_type": "code",
   "execution_count": 41,
   "metadata": {},
   "outputs": [
    {
     "data": {
      "text/plain": "array([ 889.3    ,  722.     ,  791.80005,  860.8    ,  750.3    ,\n        716.4    ,  884.89996,  777.49994,  897.     ,  889.3    ,\n        934.89996,  736.30005,  805.80005,  784.4    ,  898.     ,\n        780.6    ,  950.6    , 1004.2    ,  650.8    ,  884.5    ,\n        719.     ,  865.8    ,  869.     ,  823.     ,  862.6    ,\n        803.60004,  902.6    ,  853.     ,  767.7    ,  821.1    ,\n        804.4    ,  877.     ,  803.4    ,  975.8    ,  913.39996,\n        843.5    ,  908.19995,  841.89996,  908.19995,  789.4    ,\n        853.1    ,  728.30005,  957.69995,  868.2001 ,  920.3    ,\n        910.80005,  903.60004,  945.3    ,  873.89996,  903.69995,\n        876.9    ,  738.8    ,  792.9    ,  922.89996,  885.30005,\n        930.     ,  983.2    ,  788.5    ,  889.3    ,  944.1    ,\n        839.7    , 1020.2    ,  809.8    ,  857.9    ,  922.5    ,\n        709.39996,  739.9    ,  860.1    ,  754.6    ,  831.     ,\n        939.8    ,  886.8    ,  652.8    ,  913.4    ,  748.     ,\n        962.7    ,  856.80005,  883.2    ,  909.30005,  707.7    ,\n        882.8    ,  852.19995,  735.4    ,  955.60004,  836.7    ,\n        759.8    ,  743.     ,  697.1    ,  961.5    ], dtype=float32)"
     },
     "execution_count": 41,
     "metadata": {},
     "output_type": "execute_result"
    }
   ],
   "source": [
    "#precipiation\n",
    "\n",
    "junenumber = []\n",
    "for x in range(1068):\n",
    "    y = (x + 1) % 12\n",
    "    if (y == 6):\n",
    "        junenumber.append(x)\n",
    "#print precip.data[junenumber]\n",
    "\n",
    "junedata = precip.sel(time = precip['time.month']==6, int = junenumber)\n",
    "junePRECIP = junedata.data[junenumber]\n",
    "#print junePRECIP\n",
    "\n",
    "julynumber = []\n",
    "for x in range(1068):\n",
    "    y = (x + 1) % 12\n",
    "    if (y == 7):\n",
    "        julynumber.append(x)\n",
    "#print precip.data[julynumber]\n",
    "\n",
    "julydata = precip.sel(time = precip['time.month']==7, int = julynumber)\n",
    "julyPRECIP = julydata.data[julynumber]\n",
    "#print julyPRECIP\n",
    "\n",
    "augustnumber = []\n",
    "for x in range(1068):\n",
    "    y = (x + 1) % 12\n",
    "    if (y == 8):\n",
    "        augustnumber.append(x)\n",
    "#print precip.data[augustnumber]\n",
    "\n",
    "augustdata = precip.sel(time = precip['time.month']==8, int = augustnumber)\n",
    "augustPRECIP = augustdata.data[augustnumber]\n",
    "#print augustPRECIP\n",
    "\n",
    "septembernumber = []\n",
    "for x in range(1068):\n",
    "    y = (x + 1) % 12\n",
    "    if (y == 9):\n",
    "        septembernumber.append(x)\n",
    "#print precip.data[septembernumber]\n",
    "\n",
    "septemberdata = precip.sel(time = precip['time.month']==9, int = septembernumber)\n",
    "septemberPRECIP = septemberdata.data[septembernumber]\n",
    "#print septemberPRECIP\n",
    "\n",
    "#junePRECIP = precip.sel(time = precip['time.month']==6)\n",
    "#julyPRECIP = precip.sel(time = precip['time.month']==7)\n",
    "#augustPRECIP = precip.sel(time = precip['time.month']==8)\n",
    "#septemberPRECIP = precip.sel(time = precip['time.month']==9)\n",
    "\n",
    "\n",
    "#junePRECIP.time.data = septemberPRECIP.time.data\n",
    "#julyPRECIP.time.data = septemberPRECIP.time.data\n",
    "#augustPRECIP.time.data = septemberPRECIP.time.data\n",
    "\n",
    "rainfall = junePRECIP.data + julyPRECIP.data + augustPRECIP.data + septemberPRECIP.data\n",
    "rainfall\n"
   ]
  },
  {
   "cell_type": "code",
   "execution_count": 42,
   "metadata": {},
   "outputs": [
    {
     "data": {
      "text/html": "<pre>&lt;xarray.DataArray (time: 0)&gt;\narray([], dtype=float64)\nCoordinates:\n  * time     (time) datetime64[ns] </pre>",
      "text/plain": "<xarray.DataArray (time: 0)>\narray([], dtype=float64)\nCoordinates:\n  * time     (time) datetime64[ns] "
     },
     "execution_count": 42,
     "metadata": {},
     "output_type": "execute_result"
    }
   ],
   "source": [
    "AIRI = 0.47*EPT + 0.19*CPT + 0.23*PSH - 0.24*NAT\n",
    "AIRI"
   ]
  },
  {
   "cell_type": "code",
   "execution_count": 76,
   "metadata": {},
   "outputs": [
    {
     "ename": "ImportError",
     "evalue": "Plotting of arrays of cftime.datetime objects or arrays indexed by cftime.datetime objects requires the optional `nc-time-axis` (v1.2.0 or later) package.",
     "output_type": "error",
     "traceback": [
      "\u001b[0;31m---------------------------------------------------------------------------\u001b[0m",
      "\u001b[0;31mImportError\u001b[0m                               Traceback (most recent call last)",
      "\u001b[0;32m<ipython-input-76-af7930c5a8c2>\u001b[0m in \u001b[0;36m<module>\u001b[0;34m\u001b[0m\n\u001b[1;32m      1\u001b[0m \u001b[0mfinal\u001b[0m \u001b[0;34m=\u001b[0m \u001b[0mAIRI\u001b[0m \u001b[0;34m*\u001b[0m \u001b[0mrainfall\u001b[0m\u001b[0;34m.\u001b[0m\u001b[0mstd\u001b[0m\u001b[0;34m(\u001b[0m\u001b[0;34m)\u001b[0m \u001b[0;34m+\u001b[0m \u001b[0mrainfall\u001b[0m\u001b[0;34m.\u001b[0m\u001b[0mmean\u001b[0m\u001b[0;34m(\u001b[0m\u001b[0;34m)\u001b[0m\u001b[0;34m\u001b[0m\u001b[0;34m\u001b[0m\u001b[0m\n\u001b[1;32m      2\u001b[0m \u001b[0;31m#AIRIrainfall = final['foo']\u001b[0m\u001b[0;34m\u001b[0m\u001b[0;34m\u001b[0m\u001b[0;34m\u001b[0m\u001b[0m\n\u001b[0;32m----> 3\u001b[0;31m \u001b[0mfinal\u001b[0m\u001b[0;34m.\u001b[0m\u001b[0mplot\u001b[0m\u001b[0;34m(\u001b[0m\u001b[0;34m)\u001b[0m\u001b[0;34m\u001b[0m\u001b[0;34m\u001b[0m\u001b[0m\n\u001b[0m",
      "\u001b[0;32m/opt/anaconda3/lib/python3.7/site-packages/xarray/plot/plot.py\u001b[0m in \u001b[0;36m__call__\u001b[0;34m(self, **kwargs)\u001b[0m\n\u001b[1;32m    463\u001b[0m \u001b[0;34m\u001b[0m\u001b[0m\n\u001b[1;32m    464\u001b[0m     \u001b[0;32mdef\u001b[0m \u001b[0m__call__\u001b[0m\u001b[0;34m(\u001b[0m\u001b[0mself\u001b[0m\u001b[0;34m,\u001b[0m \u001b[0;34m**\u001b[0m\u001b[0mkwargs\u001b[0m\u001b[0;34m)\u001b[0m\u001b[0;34m:\u001b[0m\u001b[0;34m\u001b[0m\u001b[0;34m\u001b[0m\u001b[0m\n\u001b[0;32m--> 465\u001b[0;31m         \u001b[0;32mreturn\u001b[0m \u001b[0mplot\u001b[0m\u001b[0;34m(\u001b[0m\u001b[0mself\u001b[0m\u001b[0;34m.\u001b[0m\u001b[0m_da\u001b[0m\u001b[0;34m,\u001b[0m \u001b[0;34m**\u001b[0m\u001b[0mkwargs\u001b[0m\u001b[0;34m)\u001b[0m\u001b[0;34m\u001b[0m\u001b[0;34m\u001b[0m\u001b[0m\n\u001b[0m\u001b[1;32m    466\u001b[0m \u001b[0;34m\u001b[0m\u001b[0m\n\u001b[1;32m    467\u001b[0m     \u001b[0;34m@\u001b[0m\u001b[0mfunctools\u001b[0m\u001b[0;34m.\u001b[0m\u001b[0mwraps\u001b[0m\u001b[0;34m(\u001b[0m\u001b[0mhist\u001b[0m\u001b[0;34m)\u001b[0m\u001b[0;34m\u001b[0m\u001b[0;34m\u001b[0m\u001b[0m\n",
      "\u001b[0;32m/opt/anaconda3/lib/python3.7/site-packages/xarray/plot/plot.py\u001b[0m in \u001b[0;36mplot\u001b[0;34m(darray, row, col, col_wrap, ax, hue, rtol, subplot_kws, **kwargs)\u001b[0m\n\u001b[1;32m    200\u001b[0m     \u001b[0mkwargs\u001b[0m\u001b[0;34m[\u001b[0m\u001b[0;34m\"ax\"\u001b[0m\u001b[0;34m]\u001b[0m \u001b[0;34m=\u001b[0m \u001b[0max\u001b[0m\u001b[0;34m\u001b[0m\u001b[0;34m\u001b[0m\u001b[0m\n\u001b[1;32m    201\u001b[0m \u001b[0;34m\u001b[0m\u001b[0m\n\u001b[0;32m--> 202\u001b[0;31m     \u001b[0;32mreturn\u001b[0m \u001b[0mplotfunc\u001b[0m\u001b[0;34m(\u001b[0m\u001b[0mdarray\u001b[0m\u001b[0;34m,\u001b[0m \u001b[0;34m**\u001b[0m\u001b[0mkwargs\u001b[0m\u001b[0;34m)\u001b[0m\u001b[0;34m\u001b[0m\u001b[0;34m\u001b[0m\u001b[0m\n\u001b[0m\u001b[1;32m    203\u001b[0m \u001b[0;34m\u001b[0m\u001b[0m\n\u001b[1;32m    204\u001b[0m \u001b[0;34m\u001b[0m\u001b[0m\n",
      "\u001b[0;32m/opt/anaconda3/lib/python3.7/site-packages/xarray/plot/plot.py\u001b[0m in \u001b[0;36mline\u001b[0;34m(darray, row, col, figsize, aspect, size, ax, hue, x, y, xincrease, yincrease, xscale, yscale, xticks, yticks, xlim, ylim, add_legend, _labels, *args, **kwargs)\u001b[0m\n\u001b[1;32m    321\u001b[0m         \u001b[0myplt_val\u001b[0m \u001b[0;34m=\u001b[0m \u001b[0myplt\u001b[0m\u001b[0;34m.\u001b[0m\u001b[0mvalues\u001b[0m\u001b[0;34m\u001b[0m\u001b[0;34m\u001b[0m\u001b[0m\n\u001b[1;32m    322\u001b[0m \u001b[0;34m\u001b[0m\u001b[0m\n\u001b[0;32m--> 323\u001b[0;31m     \u001b[0m_ensure_plottable\u001b[0m\u001b[0;34m(\u001b[0m\u001b[0mxplt_val\u001b[0m\u001b[0;34m,\u001b[0m \u001b[0myplt_val\u001b[0m\u001b[0;34m)\u001b[0m\u001b[0;34m\u001b[0m\u001b[0;34m\u001b[0m\u001b[0m\n\u001b[0m\u001b[1;32m    324\u001b[0m \u001b[0;34m\u001b[0m\u001b[0m\n\u001b[1;32m    325\u001b[0m     \u001b[0mprimitive\u001b[0m \u001b[0;34m=\u001b[0m \u001b[0max\u001b[0m\u001b[0;34m.\u001b[0m\u001b[0mplot\u001b[0m\u001b[0;34m(\u001b[0m\u001b[0mxplt_val\u001b[0m\u001b[0;34m,\u001b[0m \u001b[0myplt_val\u001b[0m\u001b[0;34m,\u001b[0m \u001b[0;34m*\u001b[0m\u001b[0margs\u001b[0m\u001b[0;34m,\u001b[0m \u001b[0;34m**\u001b[0m\u001b[0mkwargs\u001b[0m\u001b[0;34m)\u001b[0m\u001b[0;34m\u001b[0m\u001b[0;34m\u001b[0m\u001b[0m\n",
      "\u001b[0;32m/opt/anaconda3/lib/python3.7/site-packages/xarray/plot/utils.py\u001b[0m in \u001b[0;36m_ensure_plottable\u001b[0;34m(*args)\u001b[0m\n\u001b[1;32m    520\u001b[0m         ):\n\u001b[1;32m    521\u001b[0m             raise ImportError(\n\u001b[0;32m--> 522\u001b[0;31m                 \u001b[0;34m\"Plotting of arrays of cftime.datetime \"\u001b[0m\u001b[0;34m\u001b[0m\u001b[0;34m\u001b[0m\u001b[0m\n\u001b[0m\u001b[1;32m    523\u001b[0m                 \u001b[0;34m\"objects or arrays indexed by \"\u001b[0m\u001b[0;34m\u001b[0m\u001b[0;34m\u001b[0m\u001b[0m\n\u001b[1;32m    524\u001b[0m                 \u001b[0;34m\"cftime.datetime objects requires the \"\u001b[0m\u001b[0;34m\u001b[0m\u001b[0;34m\u001b[0m\u001b[0m\n",
      "\u001b[0;31mImportError\u001b[0m: Plotting of arrays of cftime.datetime objects or arrays indexed by cftime.datetime objects requires the optional `nc-time-axis` (v1.2.0 or later) package."
     ]
    }
   ],
   "source": [
    "final = AIRI * rainfall.std() + rainfall.mean()\n",
    "#AIRIrainfall = final['foo']\n",
    "final.plot()"
   ]
  },
  {
   "cell_type": "code",
   "execution_count": 48,
   "metadata": {},
   "outputs": [
    {
     "data": {
      "text/plain": "array([[1920.7       ,  813.4715229 ],\n       [1920.75      ,  813.58616951],\n       [1920.8       ,  813.50953136],\n       ...,\n       [2015.9       ,  831.91944467],\n       [2015.95      ,  835.85110232],\n       [2016.        ,  838.34435786]])"
     },
     "execution_count": 48,
     "metadata": {},
     "output_type": "execute_result"
    }
   ],
   "source": [
    "#data = xr_extras.csv.to_csv('calculated.csv')\n",
    "    #xr.open_dataset('calculated.csv')\n",
    "data = pd.read_csv('/Users/home/All-IndiaRainfall/data/calculated_1900-2016.csv')\n",
    "# xr.open_dataset('calculated.csv')\n",
    "dataval = data.values\n",
    "dataval"
   ]
  },
  {
   "cell_type": "code",
   "execution_count": 49,
   "metadata": {},
   "outputs": [
    {
     "data": {
      "text/plain": "array([[1900.25      ,  837.00742662],\n       [1900.3       ,  827.07293161],\n       [1900.35      ,  817.82713826],\n       ...,\n       [2014.9       ,  727.47138274],\n       [2014.95      ,  727.57059845],\n       [2015.        ,  729.19400069]])"
     },
     "execution_count": 49,
     "metadata": {},
     "output_type": "execute_result"
    }
   ],
   "source": [
    "data1 = pd.read_csv('/Users/home/All-IndiaRainfall/data/observed_1900-2015.csv')\n",
    "dataval1 = data1.values\n",
    "dataval1"
   ]
  },
  {
   "cell_type": "code",
   "execution_count": 50,
   "metadata": {},
   "outputs": [
    {
     "data": {
      "text/plain": "[<matplotlib.lines.Line2D at 0x318441e10>]"
     },
     "execution_count": 50,
     "metadata": {},
     "output_type": "execute_result"
    },
    {
     "data": {
      "image/png": "[encoded data removed]",
      "image/svg+xml": "<?xml version=\"1.0\" encoding=\"utf-8\" standalone=\"no\"?>\n<!DOCTYPE svg PUBLIC \"-//W3C//DTD SVG 1.1//EN\"\n  \"http://www.w3.org/Graphics/SVG/1.1/DTD/svg11.dtd\">\n<!-- Created with matplotlib (https://matplotlib.org/) -->\n<svg height=\"248.518125pt\" version=\"1.1\" viewBox=\"0 0 385.569287 248.518125\" width=\"385.569287pt\" xmlns=\"http://www.w3.org/2000/svg\" xmlns:xlink=\"http://www.w3.org/1999/xlink\">\n <defs>\n  <style type=\"text/css\">\n*{stroke-linecap:butt;stroke-linejoin:round;}\n  </style>\n </defs>\n <g id=\"figure_1\">\n  <g id=\"patch_1\">\n   <path d=\"M 0 248.518125 \nL 385.569287 248.518125 \nL 385.569287 0 \nL 0 0 \nz\n\" style=\"fill:none;\"/>\n  </g>\n  <g id=\"axes_1\">\n   <g id=\"patch_2\">\n    <path d=\"M 33.2875 224.64 \nL 368.0875 224.64 \nL 368.0875 7.2 \nL 33.2875 7.2 \nz\n\" style=\"fill:#ffffff;\"/>\n   </g>\n   <g id=\"matplotlib.axis_1\">\n    <g id=\"xtick_1\">\n     <g id=\"line2d_1\">\n      <defs>\n       <path d=\"M 0 0 \nL 0 3.5 \n\" id=\"m5cf6c9e1d3\" style=\"stroke:#000000;stroke-width:0.8;\"/>\n      </defs>\n      <g>\n       <use style=\"stroke:#000000;stroke-width:0.8;\" x=\"46.270062\" xlink:href=\"#m5cf6c9e1d3\" y=\"224.64\"/>\n      </g>\n     </g>\n     <g id=\"text_1\">\n      <!-- 1920 -->\n      <defs>\n       <path d=\"M 12.40625 8.296875 \nL 28.515625 8.296875 \nL 28.515625 63.921875 \nL 10.984375 60.40625 \nL 10.984375 69.390625 \nL 28.421875 72.90625 \nL 38.28125 72.90625 \nL 38.28125 8.296875 \nL 54.390625 8.296875 \nL 54.390625 0 \nL 12.40625 0 \nz\n\" id=\"DejaVuSans-49\"/>\n       <path d=\"M 10.984375 1.515625 \nL 10.984375 10.5 \nQ 14.703125 8.734375 18.5 7.8125 \nQ 22.3125 6.890625 25.984375 6.890625 \nQ 35.75 6.890625 40.890625 13.453125 \nQ 46.046875 20.015625 46.78125 33.40625 \nQ 43.953125 29.203125 39.59375 26.953125 \nQ 35.25 24.703125 29.984375 24.703125 \nQ 19.046875 24.703125 12.671875 31.3125 \nQ 6.296875 37.9375 6.296875 49.421875 \nQ 6.296875 60.640625 12.9375 67.421875 \nQ 19.578125 74.21875 30.609375 74.21875 \nQ 43.265625 74.21875 49.921875 64.515625 \nQ 56.59375 54.828125 56.59375 36.375 \nQ 56.59375 19.140625 48.40625 8.859375 \nQ 40.234375 -1.421875 26.421875 -1.421875 \nQ 22.703125 -1.421875 18.890625 -0.6875 \nQ 15.09375 0.046875 10.984375 1.515625 \nz\nM 30.609375 32.421875 \nQ 37.25 32.421875 41.125 36.953125 \nQ 45.015625 41.5 45.015625 49.421875 \nQ 45.015625 57.28125 41.125 61.84375 \nQ 37.25 66.40625 30.609375 66.40625 \nQ 23.96875 66.40625 20.09375 61.84375 \nQ 16.21875 57.28125 16.21875 49.421875 \nQ 16.21875 41.5 20.09375 36.953125 \nQ 23.96875 32.421875 30.609375 32.421875 \nz\n\" id=\"DejaVuSans-57\"/>\n       <path d=\"M 19.1875 8.296875 \nL 53.609375 8.296875 \nL 53.609375 0 \nL 7.328125 0 \nL 7.328125 8.296875 \nQ 12.9375 14.109375 22.625 23.890625 \nQ 32.328125 33.6875 34.8125 36.53125 \nQ 39.546875 41.84375 41.421875 45.53125 \nQ 43.3125 49.21875 43.3125 52.78125 \nQ 43.3125 58.59375 39.234375 62.25 \nQ 35.15625 65.921875 28.609375 65.921875 \nQ 23.96875 65.921875 18.8125 64.3125 \nQ 13.671875 62.703125 7.8125 59.421875 \nL 7.8125 69.390625 \nQ 13.765625 71.78125 18.9375 73 \nQ 24.125 74.21875 28.421875 74.21875 \nQ 39.75 74.21875 46.484375 68.546875 \nQ 53.21875 62.890625 53.21875 53.421875 \nQ 53.21875 48.921875 51.53125 44.890625 \nQ 49.859375 40.875 45.40625 35.40625 \nQ 44.1875 33.984375 37.640625 27.21875 \nQ 31.109375 20.453125 19.1875 8.296875 \nz\n\" id=\"DejaVuSans-50\"/>\n       <path d=\"M 31.78125 66.40625 \nQ 24.171875 66.40625 20.328125 58.90625 \nQ 16.5 51.421875 16.5 36.375 \nQ 16.5 21.390625 20.328125 13.890625 \nQ 24.171875 6.390625 31.78125 6.390625 \nQ 39.453125 6.390625 43.28125 13.890625 \nQ 47.125 21.390625 47.125 36.375 \nQ 47.125 51.421875 43.28125 58.90625 \nQ 39.453125 66.40625 31.78125 66.40625 \nz\nM 31.78125 74.21875 \nQ 44.046875 74.21875 50.515625 64.515625 \nQ 56.984375 54.828125 56.984375 36.375 \nQ 56.984375 17.96875 50.515625 8.265625 \nQ 44.046875 -1.421875 31.78125 -1.421875 \nQ 19.53125 -1.421875 13.0625 8.265625 \nQ 6.59375 17.96875 6.59375 36.375 \nQ 6.59375 54.828125 13.0625 64.515625 \nQ 19.53125 74.21875 31.78125 74.21875 \nz\n\" id=\"DejaVuSans-48\"/>\n      </defs>\n      <g transform=\"translate(33.545062 239.238437)scale(0.1 -0.1)\">\n       <use xlink:href=\"#DejaVuSans-49\"/>\n       <use x=\"63.623047\" xlink:href=\"#DejaVuSans-57\"/>\n       <use x=\"127.246094\" xlink:href=\"#DejaVuSans-50\"/>\n       <use x=\"190.869141\" xlink:href=\"#DejaVuSans-48\"/>\n      </g>\n     </g>\n    </g>\n    <g id=\"xtick_2\">\n     <g id=\"line2d_2\">\n      <g>\n       <use style=\"stroke:#000000;stroke-width:0.8;\" x=\"110.144907\" xlink:href=\"#m5cf6c9e1d3\" y=\"224.64\"/>\n      </g>\n     </g>\n     <g id=\"text_2\">\n      <!-- 1940 -->\n      <defs>\n       <path d=\"M 37.796875 64.3125 \nL 12.890625 25.390625 \nL 37.796875 25.390625 \nz\nM 35.203125 72.90625 \nL 47.609375 72.90625 \nL 47.609375 25.390625 \nL 58.015625 25.390625 \nL 58.015625 17.1875 \nL 47.609375 17.1875 \nL 47.609375 0 \nL 37.796875 0 \nL 37.796875 17.1875 \nL 4.890625 17.1875 \nL 4.890625 26.703125 \nz\n\" id=\"DejaVuSans-52\"/>\n      </defs>\n      <g transform=\"translate(97.419907 239.238437)scale(0.1 -0.1)\">\n       <use xlink:href=\"#DejaVuSans-49\"/>\n       <use x=\"63.623047\" xlink:href=\"#DejaVuSans-57\"/>\n       <use x=\"127.246094\" xlink:href=\"#DejaVuSans-52\"/>\n       <use x=\"190.869141\" xlink:href=\"#DejaVuSans-48\"/>\n      </g>\n     </g>\n    </g>\n    <g id=\"xtick_3\">\n     <g id=\"line2d_3\">\n      <g>\n       <use style=\"stroke:#000000;stroke-width:0.8;\" x=\"174.019752\" xlink:href=\"#m5cf6c9e1d3\" y=\"224.64\"/>\n      </g>\n     </g>\n     <g id=\"text_3\">\n      <!-- 1960 -->\n      <defs>\n       <path d=\"M 33.015625 40.375 \nQ 26.375 40.375 22.484375 35.828125 \nQ 18.609375 31.296875 18.609375 23.390625 \nQ 18.609375 15.53125 22.484375 10.953125 \nQ 26.375 6.390625 33.015625 6.390625 \nQ 39.65625 6.390625 43.53125 10.953125 \nQ 47.40625 15.53125 47.40625 23.390625 \nQ 47.40625 31.296875 43.53125 35.828125 \nQ 39.65625 40.375 33.015625 40.375 \nz\nM 52.59375 71.296875 \nL 52.59375 62.3125 \nQ 48.875 64.0625 45.09375 64.984375 \nQ 41.3125 65.921875 37.59375 65.921875 \nQ 27.828125 65.921875 22.671875 59.328125 \nQ 17.53125 52.734375 16.796875 39.40625 \nQ 19.671875 43.65625 24.015625 45.921875 \nQ 28.375 48.1875 33.59375 48.1875 \nQ 44.578125 48.1875 50.953125 41.515625 \nQ 57.328125 34.859375 57.328125 23.390625 \nQ 57.328125 12.15625 50.6875 5.359375 \nQ 44.046875 -1.421875 33.015625 -1.421875 \nQ 20.359375 -1.421875 13.671875 8.265625 \nQ 6.984375 17.96875 6.984375 36.375 \nQ 6.984375 53.65625 15.1875 63.9375 \nQ 23.390625 74.21875 37.203125 74.21875 \nQ 40.921875 74.21875 44.703125 73.484375 \nQ 48.484375 72.75 52.59375 71.296875 \nz\n\" id=\"DejaVuSans-54\"/>\n      </defs>\n      <g transform=\"translate(161.294752 239.238437)scale(0.1 -0.1)\">\n       <use xlink:href=\"#DejaVuSans-49\"/>\n       <use x=\"63.623047\" xlink:href=\"#DejaVuSans-57\"/>\n       <use x=\"127.246094\" xlink:href=\"#DejaVuSans-54\"/>\n       <use x=\"190.869141\" xlink:href=\"#DejaVuSans-48\"/>\n      </g>\n     </g>\n    </g>\n    <g id=\"xtick_4\">\n     <g id=\"line2d_4\">\n      <g>\n       <use style=\"stroke:#000000;stroke-width:0.8;\" x=\"237.894597\" xlink:href=\"#m5cf6c9e1d3\" y=\"224.64\"/>\n      </g>\n     </g>\n     <g id=\"text_4\">\n      <!-- 1980 -->\n      <defs>\n       <path d=\"M 31.78125 34.625 \nQ 24.75 34.625 20.71875 30.859375 \nQ 16.703125 27.09375 16.703125 20.515625 \nQ 16.703125 13.921875 20.71875 10.15625 \nQ 24.75 6.390625 31.78125 6.390625 \nQ 38.8125 6.390625 42.859375 10.171875 \nQ 46.921875 13.96875 46.921875 20.515625 \nQ 46.921875 27.09375 42.890625 30.859375 \nQ 38.875 34.625 31.78125 34.625 \nz\nM 21.921875 38.8125 \nQ 15.578125 40.375 12.03125 44.71875 \nQ 8.5 49.078125 8.5 55.328125 \nQ 8.5 64.0625 14.71875 69.140625 \nQ 20.953125 74.21875 31.78125 74.21875 \nQ 42.671875 74.21875 48.875 69.140625 \nQ 55.078125 64.0625 55.078125 55.328125 \nQ 55.078125 49.078125 51.53125 44.71875 \nQ 48 40.375 41.703125 38.8125 \nQ 48.828125 37.15625 52.796875 32.3125 \nQ 56.78125 27.484375 56.78125 20.515625 \nQ 56.78125 9.90625 50.3125 4.234375 \nQ 43.84375 -1.421875 31.78125 -1.421875 \nQ 19.734375 -1.421875 13.25 4.234375 \nQ 6.78125 9.90625 6.78125 20.515625 \nQ 6.78125 27.484375 10.78125 32.3125 \nQ 14.796875 37.15625 21.921875 38.8125 \nz\nM 18.3125 54.390625 \nQ 18.3125 48.734375 21.84375 45.5625 \nQ 25.390625 42.390625 31.78125 42.390625 \nQ 38.140625 42.390625 41.71875 45.5625 \nQ 45.3125 48.734375 45.3125 54.390625 \nQ 45.3125 60.0625 41.71875 63.234375 \nQ 38.140625 66.40625 31.78125 66.40625 \nQ 25.390625 66.40625 21.84375 63.234375 \nQ 18.3125 60.0625 18.3125 54.390625 \nz\n\" id=\"DejaVuSans-56\"/>\n      </defs>\n      <g transform=\"translate(225.169597 239.238437)scale(0.1 -0.1)\">\n       <use xlink:href=\"#DejaVuSans-49\"/>\n       <use x=\"63.623047\" xlink:href=\"#DejaVuSans-57\"/>\n       <use x=\"127.246094\" xlink:href=\"#DejaVuSans-56\"/>\n       <use x=\"190.869141\" xlink:href=\"#DejaVuSans-48\"/>\n      </g>\n     </g>\n    </g>\n    <g id=\"xtick_5\">\n     <g id=\"line2d_5\">\n      <g>\n       <use style=\"stroke:#000000;stroke-width:0.8;\" x=\"301.769442\" xlink:href=\"#m5cf6c9e1d3\" y=\"224.64\"/>\n      </g>\n     </g>\n     <g id=\"text_5\">\n      <!-- 2000 -->\n      <g transform=\"translate(289.044442 239.238437)scale(0.1 -0.1)\">\n       <use xlink:href=\"#DejaVuSans-50\"/>\n       <use x=\"63.623047\" xlink:href=\"#DejaVuSans-48\"/>\n       <use x=\"127.246094\" xlink:href=\"#DejaVuSans-48\"/>\n       <use x=\"190.869141\" xlink:href=\"#DejaVuSans-48\"/>\n      </g>\n     </g>\n    </g>\n    <g id=\"xtick_6\">\n     <g id=\"line2d_6\">\n      <g>\n       <use style=\"stroke:#000000;stroke-width:0.8;\" x=\"365.644287\" xlink:href=\"#m5cf6c9e1d3\" y=\"224.64\"/>\n      </g>\n     </g>\n     <g id=\"text_6\">\n      <!-- 2020 -->\n      <g transform=\"translate(352.919287 239.238437)scale(0.1 -0.1)\">\n       <use xlink:href=\"#DejaVuSans-50\"/>\n       <use x=\"63.623047\" xlink:href=\"#DejaVuSans-48\"/>\n       <use x=\"127.246094\" xlink:href=\"#DejaVuSans-50\"/>\n       <use x=\"190.869141\" xlink:href=\"#DejaVuSans-48\"/>\n      </g>\n     </g>\n    </g>\n   </g>\n   <g id=\"matplotlib.axis_2\">\n    <g id=\"ytick_1\">\n     <g id=\"line2d_7\">\n      <defs>\n       <path d=\"M 0 0 \nL -3.5 0 \n\" id=\"m8e3a357ffc\" style=\"stroke:#000000;stroke-width:0.8;\"/>\n      </defs>\n      <g>\n       <use style=\"stroke:#000000;stroke-width:0.8;\" x=\"33.2875\" xlink:href=\"#m8e3a357ffc\" y=\"201.84844\"/>\n      </g>\n     </g>\n     <g id=\"text_7\">\n      <!-- 750 -->\n      <defs>\n       <path d=\"M 8.203125 72.90625 \nL 55.078125 72.90625 \nL 55.078125 68.703125 \nL 28.609375 0 \nL 18.3125 0 \nL 43.21875 64.59375 \nL 8.203125 64.59375 \nz\n\" id=\"DejaVuSans-55\"/>\n       <path d=\"M 10.796875 72.90625 \nL 49.515625 72.90625 \nL 49.515625 64.59375 \nL 19.828125 64.59375 \nL 19.828125 46.734375 \nQ 21.96875 47.46875 24.109375 47.828125 \nQ 26.265625 48.1875 28.421875 48.1875 \nQ 40.625 48.1875 47.75 41.5 \nQ 54.890625 34.8125 54.890625 23.390625 \nQ 54.890625 11.625 47.5625 5.09375 \nQ 40.234375 -1.421875 26.90625 -1.421875 \nQ 22.3125 -1.421875 17.546875 -0.640625 \nQ 12.796875 0.140625 7.71875 1.703125 \nL 7.71875 11.625 \nQ 12.109375 9.234375 16.796875 8.0625 \nQ 21.484375 6.890625 26.703125 6.890625 \nQ 35.15625 6.890625 40.078125 11.328125 \nQ 45.015625 15.765625 45.015625 23.390625 \nQ 45.015625 31 40.078125 35.4375 \nQ 35.15625 39.890625 26.703125 39.890625 \nQ 22.75 39.890625 18.8125 39.015625 \nQ 14.890625 38.140625 10.796875 36.28125 \nz\n\" id=\"DejaVuSans-53\"/>\n      </defs>\n      <g transform=\"translate(7.2 205.647658)scale(0.1 -0.1)\">\n       <use xlink:href=\"#DejaVuSans-55\"/>\n       <use x=\"63.623047\" xlink:href=\"#DejaVuSans-53\"/>\n       <use x=\"127.246094\" xlink:href=\"#DejaVuSans-48\"/>\n      </g>\n     </g>\n    </g>\n    <g id=\"ytick_2\">\n     <g id=\"line2d_8\">\n      <g>\n       <use style=\"stroke:#000000;stroke-width:0.8;\" x=\"33.2875\" xlink:href=\"#m8e3a357ffc\" y=\"160.395914\"/>\n      </g>\n     </g>\n     <g id=\"text_8\">\n      <!-- 800 -->\n      <g transform=\"translate(7.2 164.195133)scale(0.1 -0.1)\">\n       <use xlink:href=\"#DejaVuSans-56\"/>\n       <use x=\"63.623047\" xlink:href=\"#DejaVuSans-48\"/>\n       <use x=\"127.246094\" xlink:href=\"#DejaVuSans-48\"/>\n      </g>\n     </g>\n    </g>\n    <g id=\"ytick_3\">\n     <g id=\"line2d_9\">\n      <g>\n       <use style=\"stroke:#000000;stroke-width:0.8;\" x=\"33.2875\" xlink:href=\"#m8e3a357ffc\" y=\"118.943389\"/>\n      </g>\n     </g>\n     <g id=\"text_9\">\n      <!-- 850 -->\n      <g transform=\"translate(7.2 122.742608)scale(0.1 -0.1)\">\n       <use xlink:href=\"#DejaVuSans-56\"/>\n       <use x=\"63.623047\" xlink:href=\"#DejaVuSans-53\"/>\n       <use x=\"127.246094\" xlink:href=\"#DejaVuSans-48\"/>\n      </g>\n     </g>\n    </g>\n    <g id=\"ytick_4\">\n     <g id=\"line2d_10\">\n      <g>\n       <use style=\"stroke:#000000;stroke-width:0.8;\" x=\"33.2875\" xlink:href=\"#m8e3a357ffc\" y=\"77.490864\"/>\n      </g>\n     </g>\n     <g id=\"text_10\">\n      <!-- 900 -->\n      <g transform=\"translate(7.2 81.290082)scale(0.1 -0.1)\">\n       <use xlink:href=\"#DejaVuSans-57\"/>\n       <use x=\"63.623047\" xlink:href=\"#DejaVuSans-48\"/>\n       <use x=\"127.246094\" xlink:href=\"#DejaVuSans-48\"/>\n      </g>\n     </g>\n    </g>\n    <g id=\"ytick_5\">\n     <g id=\"line2d_11\">\n      <g>\n       <use style=\"stroke:#000000;stroke-width:0.8;\" x=\"33.2875\" xlink:href=\"#m8e3a357ffc\" y=\"36.038338\"/>\n      </g>\n     </g>\n     <g id=\"text_11\">\n      <!-- 950 -->\n      <g transform=\"translate(7.2 39.837557)scale(0.1 -0.1)\">\n       <use xlink:href=\"#DejaVuSans-57\"/>\n       <use x=\"63.623047\" xlink:href=\"#DejaVuSans-53\"/>\n       <use x=\"127.246094\" xlink:href=\"#DejaVuSans-48\"/>\n      </g>\n     </g>\n    </g>\n   </g>\n   <g id=\"line2d_12\">\n    <path clip-path=\"url(#p312ec83158)\" d=\"M 48.505682 149.227341 \nL 48.665369 149.132294 \nL 48.984743 149.199894 \nL 49.14443 148.749929 \nL 49.783179 144.574532 \nL 50.102553 140.590338 \nL 50.741301 129.834569 \nL 51.38005 120.316501 \nL 51.699424 114.786748 \nL 52.338173 108.714539 \nL 52.49786 108.024599 \nL 52.657547 107.834192 \nL 52.817234 108.277001 \nL 53.136608 110.365489 \nL 53.615669 115.707905 \nL 54.094731 121.701504 \nL 54.414105 123.682612 \nL 55.212541 132.503745 \nL 55.531915 133.695115 \nL 55.691602 133.165175 \nL 56.170663 128.653064 \nL 56.490037 123.945838 \nL 58.56597 83.41111 \nL 58.885344 80.404052 \nL 59.045031 79.838481 \nL 59.204718 79.979571 \nL 59.524093 81.586866 \nL 60.003154 85.293656 \nL 60.482215 90.057042 \nL 60.641902 90.757437 \nL 60.801589 92.062177 \nL 61.120964 96.24816 \nL 61.440338 97.716316 \nL 61.759712 99.59583 \nL 62.238773 100.894663 \nL 62.398461 100.625556 \nL 62.717835 99.375903 \nL 62.877522 99.101992 \nL 63.675958 95.020983 \nL 63.995332 93.944408 \nL 64.474393 90.593151 \nL 64.63408 90.424105 \nL 65.113142 89.296713 \nL 65.592203 92.037982 \nL 66.230951 98.301186 \nL 66.710013 106.59332 \nL 67.348761 114.206376 \nL 67.668135 119.724984 \nL 68.626258 126.971452 \nL 68.785945 126.990121 \nL 69.265006 125.397001 \nL 69.424694 125.069717 \nL 70.063442 118.678171 \nL 70.223129 118.328066 \nL 70.542503 115.712478 \nL 70.861878 113.673569 \nL 71.500626 111.254612 \nL 71.660313 111.171474 \nL 71.82 111.254744 \nL 72.139374 112.009667 \nL 72.458749 113.44002 \nL 72.93781 116.987926 \nL 73.416871 119.178389 \nL 73.576558 120.088416 \nL 73.895933 123.107995 \nL 74.694368 125.73765 \nL 75.013742 126.044637 \nL 75.17343 126.038506 \nL 75.492804 125.424577 \nL 75.652491 125.490131 \nL 75.812178 125.277297 \nL 76.131552 124.011377 \nL 76.610614 123.455801 \nL 76.770301 123.349029 \nL 77.568736 121.31855 \nL 77.728423 121.184493 \nL 77.888111 120.875418 \nL 78.367172 117.657932 \nL 78.686546 114.260232 \nL 80.443104 86.777011 \nL 80.762479 82.062691 \nL 81.081853 80.452187 \nL 81.24154 80.522621 \nL 81.401227 81.647982 \nL 81.720601 88.223127 \nL 82.838411 113.754338 \nL 83.317472 123.628683 \nL 83.796534 136.873547 \nL 84.275595 142.686218 \nL 84.435282 143.226953 \nL 85.233718 132.782065 \nL 86.511215 103.503701 \nL 86.830589 98.222882 \nL 87.30965 89.506794 \nL 87.629024 86.556672 \nL 87.788711 85.910842 \nL 87.948399 86.249931 \nL 88.587147 91.22088 \nL 88.906521 96.126825 \nL 89.225895 98.807439 \nL 89.864644 106.239405 \nL 90.184018 109.414154 \nL 90.503392 111.338678 \nL 91.142141 120.209994 \nL 91.461515 126.958379 \nL 93.697135 184.352593 \nL 93.856822 185.79054 \nL 94.016509 185.706982 \nL 94.335883 181.872218 \nL 94.655257 173.935029 \nL 96.73119 105.59244 \nL 97.210251 97.060946 \nL 97.529625 93.299469 \nL 97.689312 93.406292 \nL 97.849 93.929881 \nL 98.008687 94.013736 \nL 98.168374 94.496689 \nL 98.807122 99.617204 \nL 98.966809 99.783406 \nL 99.126496 100.282822 \nL 99.605558 104.218659 \nL 100.084619 105.176752 \nL 100.244306 105.057918 \nL 100.723368 101.991091 \nL 101.202429 96.997482 \nL 102.7993 70.576083 \nL 103.278361 64.590535 \nL 103.438049 63.995139 \nL 103.597736 64.746827 \nL 103.91711 70.737845 \nL 104.555858 90.289142 \nL 105.194607 112.429633 \nL 106.312417 147.787361 \nL 107.110852 158.88985 \nL 107.270539 158.718873 \nL 107.430226 159.019585 \nL 107.589913 159.775377 \nL 107.909288 159.561253 \nL 108.228662 160.536497 \nL 108.707723 160.954345 \nL 109.186785 161.725366 \nL 109.98522 162.338102 \nL 110.783656 162.156022 \nL 111.10303 161.78969 \nL 111.422404 161.76694 \nL 112.22084 161.774324 \nL 112.540214 161.496178 \nL 112.699901 161.576553 \nL 112.859588 161.176675 \nL 113.019275 159.873722 \nL 113.817711 147.094176 \nL 114.137085 137.116176 \nL 115.893643 69.296818 \nL 116.213018 61.700738 \nL 116.372705 60.65194 \nL 116.532392 61.005653 \nL 116.692079 62.620831 \nL 117.011453 69.517224 \nL 119.40676 147.442519 \nL 119.566447 148.611498 \nL 119.726134 148.055105 \nL 120.045508 143.37051 \nL 120.364882 133.509336 \nL 121.163318 104.915965 \nL 122.440815 65.405094 \nL 122.760189 61.484344 \nL 122.919876 61.21002 \nL 123.079563 62.359006 \nL 123.398938 67.438466 \nL 123.718312 76.111082 \nL 124.197373 90.512091 \nL 125.155496 116.437918 \nL 125.634557 128.063713 \nL 126.113618 133.534906 \nL 126.273306 133.725725 \nL 126.59268 131.67415 \nL 126.912054 127.926731 \nL 127.391115 120.157878 \nL 128.029864 112.94295 \nL 128.508925 105.105503 \nL 129.147674 97.915472 \nL 129.786422 83.549646 \nL 131.063919 49.237655 \nL 131.223606 46.310383 \nL 132.181729 17.787143 \nL 132.341416 17.083636 \nL 132.501103 18.741179 \nL 132.820477 25.163144 \nL 133.299539 44.258902 \nL 134.577035 87.901804 \nL 135.694845 124.891204 \nL 136.014219 127.656613 \nL 136.173907 127.414386 \nL 136.493281 126.409644 \nL 137.611091 121.329883 \nL 137.930465 119.278052 \nL 138.249839 118.52113 \nL 138.569213 117.612036 \nL 139.048275 114.485901 \nL 139.367649 110.856728 \nL 139.84671 103.724755 \nL 140.325771 95.518515 \nL 141.762955 74.668669 \nL 141.922643 74.662528 \nL 142.08233 76.476292 \nL 142.401704 84.1031 \nL 144.956698 163.483894 \nL 145.276072 166.974192 \nL 145.435759 166.539581 \nL 145.595446 165.046056 \nL 146.074508 154.47799 \nL 146.393882 146.495901 \nL 146.872943 134.827313 \nL 148.310127 103.660121 \nL 148.469814 102.325749 \nL 148.629501 102.271375 \nL 148.948876 103.789873 \nL 149.26825 107.446333 \nL 149.587624 111.416546 \nL 149.747311 112.434968 \nL 150.545747 122.147731 \nL 150.865121 126.710973 \nL 151.344182 128.959796 \nL 151.503869 128.940578 \nL 151.823244 127.038854 \nL 152.142618 122.701085 \nL 152.621679 113.118043 \nL 153.10074 102.894338 \nL 153.739489 89.364714 \nL 154.058863 83.614501 \nL 155.176673 70.580117 \nL 155.815421 67.346119 \nL 155.975109 66.441776 \nL 157.092918 55.83043 \nL 157.891354 52.670603 \nL 158.210728 51.929001 \nL 158.370415 51.921692 \nL 158.530102 51.500793 \nL 158.849477 49.278243 \nL 159.009164 48.690149 \nL 159.647912 44.46116 \nL 159.967286 42.855293 \nL 160.606035 38.535792 \nL 160.765722 37.910645 \nL 160.925409 37.828362 \nL 161.244783 40.969392 \nL 161.723845 48.216951 \nL 162.202906 61.477057 \nL 163.799777 105.22582 \nL 164.119151 110.541483 \nL 164.917587 119.607296 \nL 165.236961 121.357041 \nL 165.716022 126.427446 \nL 165.875709 127.299124 \nL 166.195084 130.58464 \nL 166.354771 131.23666 \nL 166.993519 137.700613 \nL 167.472581 139.682855 \nL 167.632268 139.375707 \nL 167.951642 137.945267 \nL 168.271016 135.278175 \nL 170.346949 113.605903 \nL 170.82601 111.481371 \nL 171.784133 108.455453 \nL 172.263194 106.051661 \nL 172.422881 105.781758 \nL 172.582568 105.186425 \nL 173.221317 101.621679 \nL 173.700378 100.743438 \nL 174.179439 97.475962 \nL 174.818188 90.490556 \nL 176.095685 65.413421 \nL 177.053807 54.251435 \nL 177.213494 53.810301 \nL 177.373182 54.245211 \nL 178.01193 59.974472 \nL 178.331304 64.85623 \nL 178.650678 72.377143 \nL 178.970053 74.134526 \nL 179.12974 75.405933 \nL 179.608801 85.489965 \nL 179.768488 86.377878 \nL 180.24755 90.314042 \nL 180.566924 91.924704 \nL 180.726611 92.008894 \nL 181.045985 91.624926 \nL 181.365359 91.61134 \nL 181.684734 91.01213 \nL 182.004108 90.99496 \nL 182.962231 89.957259 \nL 183.281605 89.932953 \nL 183.441292 89.979843 \nL 183.600979 89.858635 \nL 184.08004 88.578182 \nL 184.718789 85.305577 \nL 185.038163 82.407639 \nL 185.357537 80.785971 \nL 186.155973 75.307624 \nL 186.31566 75.066668 \nL 186.475347 75.160649 \nL 186.635034 76.042414 \nL 186.794721 78.361955 \nL 187.114095 85.533475 \nL 187.273783 86.596662 \nL 187.43347 89.671249 \nL 188.072218 109.898437 \nL 188.870654 133.34056 \nL 189.509402 150.603536 \nL 189.988463 157.269816 \nL 190.307838 159.976461 \nL 190.467525 160.186206 \nL 190.786899 160.03972 \nL 191.425647 160.372565 \nL 191.745022 160.387854 \nL 192.38377 160.928825 \nL 192.703144 161.006321 \nL 192.862831 160.776323 \nL 193.182206 159.171644 \nL 193.50158 157.004291 \nL 193.820954 153.162175 \nL 194.779077 138.536317 \nL 194.938764 137.678908 \nL 195.7372 123.292198 \nL 195.896887 122.177675 \nL 196.056574 121.859203 \nL 196.375948 119.658082 \nL 197.174384 128.261259 \nL 197.813132 139.759647 \nL 198.132506 144.063927 \nL 198.292193 146.176492 \nL 198.611568 153.053239 \nL 199.410003 160.477992 \nL 199.56969 160.220145 \nL 199.729377 159.454869 \nL 200.048752 155.778219 \nL 200.527813 147.903729 \nL 200.847187 141.30666 \nL 201.485936 131.428312 \nL 203.242494 102.047582 \nL 203.881242 85.18219 \nL 204.519991 67.462659 \nL 205.6378 39.278003 \nL 205.957175 36.930635 \nL 206.116862 37.075251 \nL 206.436236 40.598157 \nL 207.713733 61.315352 \nL 209.789665 100.205692 \nL 210.428414 119.667151 \nL 211.865598 160.040766 \nL 212.184972 164.434725 \nL 212.344659 164.744611 \nL 212.504346 163.795575 \nL 212.823721 158.345226 \nL 213.462469 142.139986 \nL 213.781843 134.398857 \nL 213.94153 133.303461 \nL 214.101217 130.435812 \nL 214.739966 108.488143 \nL 215.538401 97.004872 \nL 215.698089 96.650056 \nL 215.857776 97.200494 \nL 216.17715 99.594121 \nL 216.336837 99.578744 \nL 216.496524 100.4848 \nL 216.815898 106.875222 \nL 217.135273 108.143263 \nL 217.774021 114.204095 \nL 218.093395 117.176354 \nL 218.412769 118.789196 \nL 218.572457 118.902846 \nL 218.732144 118.435037 \nL 219.051518 116.60056 \nL 219.370892 112.800518 \nL 220.329015 98.095351 \nL 220.648389 92.722461 \nL 220.808076 91.426647 \nL 221.446825 80.705922 \nL 221.766199 79.690789 \nL 221.925886 79.867618 \nL 222.24526 82.322566 \nL 222.564634 86.726353 \nL 224.800254 129.447778 \nL 224.959941 130.314001 \nL 225.119628 130.486419 \nL 225.279315 130.36021 \nL 225.439002 129.117454 \nL 226.397125 108.32619 \nL 227.355248 89.642366 \nL 228.153683 75.958397 \nL 228.473058 73.374373 \nL 228.632745 73.204515 \nL 228.952119 74.332331 \nL 229.271493 75.929022 \nL 229.750554 79.314024 \nL 230.389303 81.790051 \nL 230.708677 85.175806 \nL 231.347426 87.45584 \nL 232.145861 97.627318 \nL 232.465235 103.622311 \nL 232.944297 115.130236 \nL 233.103984 116.648494 \nL 234.221794 139.707874 \nL 234.860542 145.573509 \nL 235.020229 145.826512 \nL 235.339603 145.075307 \nL 235.499291 144.472242 \nL 235.978352 141.084928 \nL 236.297726 140.173002 \nL 236.6171 138.347387 \nL 236.936475 135.893612 \nL 237.096162 135.641612 \nL 237.415536 134.213593 \nL 237.894597 132.340353 \nL 238.533346 129.080904 \nL 238.85272 125.198709 \nL 239.172094 120.734009 \nL 239.810843 114.95114 \nL 240.289904 108.981271 \nL 240.609278 106.266798 \nL 240.768965 104.900664 \nL 240.928652 104.628232 \nL 241.088339 105.283872 \nL 241.407714 109.177778 \nL 242.206149 124.232194 \nL 243.004585 142.581754 \nL 243.323959 147.979624 \nL 243.80302 157.361751 \nL 244.122395 160.712948 \nL 244.282082 161.275555 \nL 244.441769 161.186004 \nL 244.601456 160.483129 \nL 244.92083 156.648864 \nL 246.677388 120.81731 \nL 247.795198 104.337829 \nL 248.27426 98.740814 \nL 249.072695 85.418762 \nL 249.232382 84.181292 \nL 249.551756 78.207977 \nL 250.030818 69.679011 \nL 250.350192 65.885082 \nL 250.669566 63.933798 \nL 250.829253 63.630609 \nL 250.98894 63.954862 \nL 251.308315 65.820751 \nL 251.627689 69.131454 \nL 252.10675 75.648829 \nL 252.905186 84.84246 \nL 253.22456 88.436695 \nL 254.34237 98.366222 \nL 256.897364 140.674205 \nL 257.376425 143.829835 \nL 257.695799 144.452701 \nL 258.334548 146.920508 \nL 258.653922 148.030783 \nL 258.973296 148.706658 \nL 259.29267 150.139029 \nL 259.612045 151.346061 \nL 259.931419 151.558402 \nL 260.091106 150.582447 \nL 260.570167 142.615991 \nL 260.889541 134.666813 \nL 263.284848 55.355645 \nL 263.444535 52.45071 \nL 263.604222 51.59204 \nL 263.763909 52.126125 \nL 264.083284 55.555833 \nL 264.402658 61.554216 \nL 264.881719 72.826834 \nL 266.318903 98.463692 \nL 266.957652 105.335289 \nL 267.117339 105.568834 \nL 267.436713 104.384692 \nL 267.5964 104.301203 \nL 268.235149 101.017809 \nL 268.71421 99.578071 \nL 269.193271 96.880514 \nL 269.512645 96.087908 \nL 269.672333 96.350427 \nL 269.991707 99.319328 \nL 270.630455 106.917882 \nL 271.588578 126.780894 \nL 271.907952 136.38294 \nL 272.227326 143.055942 \nL 274.942007 192.889085 \nL 275.90013 212.256815 \nL 276.219504 214.174487 \nL 276.379191 213.97963 \nL 276.538878 212.800426 \nL 277.01794 204.517918 \nL 278.295437 176.74288 \nL 278.774498 165.27916 \nL 279.253559 157.606979 \nL 279.892308 150.644198 \nL 280.211682 148.384445 \nL 282.287614 127.376729 \nL 282.926363 125.077776 \nL 283.405424 123.956211 \nL 283.884486 120.66927 \nL 284.363547 119.542503 \nL 284.682921 117.497304 \nL 285.002295 115.821335 \nL 285.800731 113.951234 \nL 285.960418 113.920338 \nL 286.120105 113.565235 \nL 286.758854 111.053055 \nL 287.078228 108.397633 \nL 287.397602 107.106818 \nL 287.876663 104.377752 \nL 288.196038 102.190691 \nL 288.675099 100.579853 \nL 288.834786 101.730319 \nL 289.473535 114.1513 \nL 291.230093 186.543753 \nL 291.868841 211.492039 \nL 292.028528 214.756364 \nL 292.188215 214.414483 \nL 292.50759 204.467151 \nL 292.826964 186.848509 \nL 295.062583 33.315269 \nL 295.381958 20.753345 \nL 295.541645 18.829103 \nL 295.701332 19.94509 \nL 296.020706 29.355519 \nL 298.416013 121.872339 \nL 298.735387 128.025272 \nL 298.895074 128.846213 \nL 299.054761 128.379292 \nL 299.374136 125.884147 \nL 301.290381 102.101985 \nL 301.609755 99.959484 \nL 301.769442 99.476136 \nL 301.929129 99.400501 \nL 302.088816 99.921427 \nL 302.408191 102.61232 \nL 302.887252 107.894765 \nL 303.366313 113.35558 \nL 303.845375 118.01647 \nL 304.324436 124.608547 \nL 304.803497 128.637244 \nL 305.601933 141.328851 \nL 307.677865 194.172998 \nL 307.99724 198.73749 \nL 308.156927 198.3718 \nL 308.316614 196.193334 \nL 308.635988 187.366332 \nL 309.274736 159.717113 \nL 310.392546 107.446628 \nL 310.871608 86.234242 \nL 311.190982 75.731997 \nL 311.510356 69.850433 \nL 311.670043 70.273633 \nL 311.989417 75.432908 \nL 313.586289 110.98592 \nL 314.225037 124.313182 \nL 314.704098 129.331048 \nL 314.863785 130.215371 \nL 315.023473 130.460141 \nL 315.502534 130.024126 \nL 316.300969 127.824119 \nL 316.780031 126.710501 \nL 317.099405 125.859253 \nL 317.418779 125.465764 \nL 317.578466 125.362261 \nL 317.738153 125.428821 \nL 317.897841 125.703599 \nL 318.057528 125.597064 \nL 318.217215 125.014285 \nL 318.376902 124.903893 \nL 318.536589 125.145671 \nL 318.696276 124.868479 \nL 319.01565 123.277626 \nL 319.335025 120.559195 \nL 319.494712 120.354602 \nL 319.654399 120.365163 \nL 320.13346 117.975863 \nL 320.452834 117.329281 \nL 320.612521 117.229861 \nL 320.772209 116.437305 \nL 321.570644 105.992189 \nL 322.049705 94.43794 \nL 323.646577 57.193178 \nL 323.965951 53.431251 \nL 324.125638 53.34981 \nL 324.285325 54.605716 \nL 324.604699 60.540056 \nL 324.924073 68.79476 \nL 327.159693 149.713248 \nL 327.798442 160.281004 \nL 328.596877 166.851376 \nL 328.916251 172.573837 \nL 329.235626 173.947641 \nL 330.034061 182.42254 \nL 330.193748 183.043436 \nL 330.353435 182.49288 \nL 330.67281 177.461863 \nL 331.151871 163.990721 \nL 331.471245 149.82677 \nL 332.109994 121.758325 \nL 333.706865 60.018327 \nL 334.185926 53.666196 \nL 334.5053 54.712628 \nL 334.664987 55.401177 \nL 334.984362 58.068564 \nL 335.62311 60.443992 \nL 336.421546 64.770352 \nL 336.74092 65.851768 \nL 337.379668 71.173422 \nL 338.018417 79.193957 \nL 338.497478 86.485381 \nL 339.455601 100.245475 \nL 340.094349 129.647257 \nL 340.254036 131.529119 \nL 340.413723 132.027528 \nL 340.573411 130.86865 \nL 340.892785 108.120172 \nL 341.052472 107.409828 \nL 341.212159 109.26502 \nL 341.531533 107.566998 \nL 341.69122 107.819181 \nL 341.850907 107.598564 \nL 342.170282 106.800656 \nL 342.968717 105.797384 \nL 343.128404 106.151906 \nL 343.607466 109.870414 \nL 344.086527 115.167146 \nL 344.405901 119.484429 \nL 344.884963 132.871231 \nL 345.204337 135.143146 \nL 346.002772 152.464172 \nL 346.481834 156.778445 \nL 346.960895 162.178961 \nL 347.280269 164.512493 \nL 348.078705 174.784625 \nL 348.557766 180.350087 \nL 349.036827 186.670349 \nL 349.515889 190.507406 \nL 349.675576 190.353924 \nL 349.99495 187.746152 \nL 350.314324 184.601517 \nL 350.953073 171.20895 \nL 351.432134 157.130877 \nL 351.751508 150.612406 \nL 352.070883 141.824937 \nL 352.390257 137.769955 \nL 352.869318 128.606505 \nL 352.869318 128.606505 \n\" style=\"fill:none;stroke:#1f77b4;stroke-linecap:square;stroke-width:1.5;\"/>\n   </g>\n   <g id=\"patch_3\">\n    <path d=\"M 33.2875 224.64 \nL 33.2875 7.2 \n\" style=\"fill:none;stroke:#000000;stroke-linecap:square;stroke-linejoin:miter;stroke-width:0.8;\"/>\n   </g>\n   <g id=\"patch_4\">\n    <path d=\"M 368.0875 224.64 \nL 368.0875 7.2 \n\" style=\"fill:none;stroke:#000000;stroke-linecap:square;stroke-linejoin:miter;stroke-width:0.8;\"/>\n   </g>\n   <g id=\"patch_5\">\n    <path d=\"M 33.2875 224.64 \nL 368.0875 224.64 \n\" style=\"fill:none;stroke:#000000;stroke-linecap:square;stroke-linejoin:miter;stroke-width:0.8;\"/>\n   </g>\n   <g id=\"patch_6\">\n    <path d=\"M 33.2875 7.2 \nL 368.0875 7.2 \n\" style=\"fill:none;stroke:#000000;stroke-linecap:square;stroke-linejoin:miter;stroke-width:0.8;\"/>\n   </g>\n  </g>\n </g>\n <defs>\n  <clipPath id=\"p312ec83158\">\n   <rect height=\"217.44\" width=\"334.8\" x=\"33.2875\" y=\"7.2\"/>\n  </clipPath>\n </defs>\n</svg>\n",
      "text/plain": "<Figure size 432x288 with 1 Axes>"
     },
     "metadata": {
      "needs_background": "light"
     },
     "output_type": "display_data"
    }
   ],
   "source": [
    "#x = data.columns['1920.70']\n",
    "#y = data.columns['813.42']\n",
    "x = plt.plot(dataval[:,0],dataval[:,1])\n",
    "x"
   ]
  },
  {
   "cell_type": "code",
   "execution_count": 51,
   "metadata": {},
   "outputs": [
    {
     "ename": "ValueError",
     "evalue": "x and y must have same first dimension, but have shapes (118,) and (0,)",
     "output_type": "error",
     "traceback": [
      "\u001b[0;31m---------------------------------------------------------------------------\u001b[0m",
      "\u001b[0;31mValueError\u001b[0m                                Traceback (most recent call last)",
      "\u001b[0;32m<ipython-input-51-5dcf0da3b441>\u001b[0m in \u001b[0;36m<module>\u001b[0;34m\u001b[0m\n\u001b[0;32m----> 1\u001b[0;31m \u001b[0mplt\u001b[0m\u001b[0;34m.\u001b[0m\u001b[0mplot\u001b[0m\u001b[0;34m(\u001b[0m\u001b[0mnp\u001b[0m\u001b[0;34m.\u001b[0m\u001b[0marange\u001b[0m\u001b[0;34m(\u001b[0m\u001b[0;36m1900\u001b[0m\u001b[0;34m,\u001b[0m\u001b[0;36m2018\u001b[0m\u001b[0;34m,\u001b[0m\u001b[0;36m1\u001b[0m\u001b[0;34m)\u001b[0m\u001b[0;34m,\u001b[0m\u001b[0;34m(\u001b[0m\u001b[0mfinal\u001b[0m\u001b[0;34m.\u001b[0m\u001b[0mdata\u001b[0m\u001b[0;34m)\u001b[0m\u001b[0;34m)\u001b[0m\u001b[0;34m\u001b[0m\u001b[0;34m\u001b[0m\u001b[0m\n\u001b[0m\u001b[1;32m      2\u001b[0m \u001b[0mplt\u001b[0m\u001b[0;34m.\u001b[0m\u001b[0mplot\u001b[0m\u001b[0;34m(\u001b[0m\u001b[0mdataval\u001b[0m\u001b[0;34m[\u001b[0m\u001b[0;34m:\u001b[0m\u001b[0;34m,\u001b[0m\u001b[0;36m0\u001b[0m\u001b[0;34m]\u001b[0m\u001b[0;34m,\u001b[0m\u001b[0mdataval\u001b[0m\u001b[0;34m[\u001b[0m\u001b[0;34m:\u001b[0m\u001b[0;34m,\u001b[0m\u001b[0;36m1\u001b[0m\u001b[0;34m]\u001b[0m\u001b[0;34m)\u001b[0m\u001b[0;34m\u001b[0m\u001b[0;34m\u001b[0m\u001b[0m\n\u001b[1;32m      3\u001b[0m \u001b[0;31m#plt.plot(dataval1[:,0],dataval1[:,1])\u001b[0m\u001b[0;34m\u001b[0m\u001b[0;34m\u001b[0m\u001b[0;34m\u001b[0m\u001b[0m\n",
      "\u001b[0;32m/opt/anaconda3/lib/python3.7/site-packages/matplotlib/pyplot.py\u001b[0m in \u001b[0;36mplot\u001b[0;34m(scalex, scaley, data, *args, **kwargs)\u001b[0m\n\u001b[1;32m   2793\u001b[0m     return gca().plot(\n\u001b[1;32m   2794\u001b[0m         *args, scalex=scalex, scaley=scaley, **({\"data\": data} if data\n\u001b[0;32m-> 2795\u001b[0;31m         is not None else {}), **kwargs)\n\u001b[0m\u001b[1;32m   2796\u001b[0m \u001b[0;34m\u001b[0m\u001b[0m\n\u001b[1;32m   2797\u001b[0m \u001b[0;34m\u001b[0m\u001b[0m\n",
      "\u001b[0;32m/opt/anaconda3/lib/python3.7/site-packages/matplotlib/axes/_axes.py\u001b[0m in \u001b[0;36mplot\u001b[0;34m(self, scalex, scaley, data, *args, **kwargs)\u001b[0m\n\u001b[1;32m   1664\u001b[0m         \"\"\"\n\u001b[1;32m   1665\u001b[0m         \u001b[0mkwargs\u001b[0m \u001b[0;34m=\u001b[0m \u001b[0mcbook\u001b[0m\u001b[0;34m.\u001b[0m\u001b[0mnormalize_kwargs\u001b[0m\u001b[0;34m(\u001b[0m\u001b[0mkwargs\u001b[0m\u001b[0;34m,\u001b[0m \u001b[0mmlines\u001b[0m\u001b[0;34m.\u001b[0m\u001b[0mLine2D\u001b[0m\u001b[0;34m.\u001b[0m\u001b[0m_alias_map\u001b[0m\u001b[0;34m)\u001b[0m\u001b[0;34m\u001b[0m\u001b[0;34m\u001b[0m\u001b[0m\n\u001b[0;32m-> 1666\u001b[0;31m         \u001b[0mlines\u001b[0m \u001b[0;34m=\u001b[0m \u001b[0;34m[\u001b[0m\u001b[0;34m*\u001b[0m\u001b[0mself\u001b[0m\u001b[0;34m.\u001b[0m\u001b[0m_get_lines\u001b[0m\u001b[0;34m(\u001b[0m\u001b[0;34m*\u001b[0m\u001b[0margs\u001b[0m\u001b[0;34m,\u001b[0m \u001b[0mdata\u001b[0m\u001b[0;34m=\u001b[0m\u001b[0mdata\u001b[0m\u001b[0;34m,\u001b[0m \u001b[0;34m**\u001b[0m\u001b[0mkwargs\u001b[0m\u001b[0;34m)\u001b[0m\u001b[0;34m]\u001b[0m\u001b[0;34m\u001b[0m\u001b[0;34m\u001b[0m\u001b[0m\n\u001b[0m\u001b[1;32m   1667\u001b[0m         \u001b[0;32mfor\u001b[0m \u001b[0mline\u001b[0m \u001b[0;32min\u001b[0m \u001b[0mlines\u001b[0m\u001b[0;34m:\u001b[0m\u001b[0;34m\u001b[0m\u001b[0;34m\u001b[0m\u001b[0m\n\u001b[1;32m   1668\u001b[0m             \u001b[0mself\u001b[0m\u001b[0;34m.\u001b[0m\u001b[0madd_line\u001b[0m\u001b[0;34m(\u001b[0m\u001b[0mline\u001b[0m\u001b[0;34m)\u001b[0m\u001b[0;34m\u001b[0m\u001b[0;34m\u001b[0m\u001b[0m\n",
      "\u001b[0;32m/opt/anaconda3/lib/python3.7/site-packages/matplotlib/axes/_base.py\u001b[0m in \u001b[0;36m__call__\u001b[0;34m(self, *args, **kwargs)\u001b[0m\n\u001b[1;32m    223\u001b[0m                 \u001b[0mthis\u001b[0m \u001b[0;34m+=\u001b[0m \u001b[0margs\u001b[0m\u001b[0;34m[\u001b[0m\u001b[0;36m0\u001b[0m\u001b[0;34m]\u001b[0m\u001b[0;34m,\u001b[0m\u001b[0;34m\u001b[0m\u001b[0;34m\u001b[0m\u001b[0m\n\u001b[1;32m    224\u001b[0m                 \u001b[0margs\u001b[0m \u001b[0;34m=\u001b[0m \u001b[0margs\u001b[0m\u001b[0;34m[\u001b[0m\u001b[0;36m1\u001b[0m\u001b[0;34m:\u001b[0m\u001b[0;34m]\u001b[0m\u001b[0;34m\u001b[0m\u001b[0;34m\u001b[0m\u001b[0m\n\u001b[0;32m--> 225\u001b[0;31m             \u001b[0;32myield\u001b[0m \u001b[0;32mfrom\u001b[0m \u001b[0mself\u001b[0m\u001b[0;34m.\u001b[0m\u001b[0m_plot_args\u001b[0m\u001b[0;34m(\u001b[0m\u001b[0mthis\u001b[0m\u001b[0;34m,\u001b[0m \u001b[0mkwargs\u001b[0m\u001b[0;34m)\u001b[0m\u001b[0;34m\u001b[0m\u001b[0;34m\u001b[0m\u001b[0m\n\u001b[0m\u001b[1;32m    226\u001b[0m \u001b[0;34m\u001b[0m\u001b[0m\n\u001b[1;32m    227\u001b[0m     \u001b[0;32mdef\u001b[0m \u001b[0mget_next_color\u001b[0m\u001b[0;34m(\u001b[0m\u001b[0mself\u001b[0m\u001b[0;34m)\u001b[0m\u001b[0;34m:\u001b[0m\u001b[0;34m\u001b[0m\u001b[0;34m\u001b[0m\u001b[0m\n",
      "\u001b[0;32m/opt/anaconda3/lib/python3.7/site-packages/matplotlib/axes/_base.py\u001b[0m in \u001b[0;36m_plot_args\u001b[0;34m(self, tup, kwargs)\u001b[0m\n\u001b[1;32m    389\u001b[0m             \u001b[0mx\u001b[0m\u001b[0;34m,\u001b[0m \u001b[0my\u001b[0m \u001b[0;34m=\u001b[0m \u001b[0mindex_of\u001b[0m\u001b[0;34m(\u001b[0m\u001b[0mtup\u001b[0m\u001b[0;34m[\u001b[0m\u001b[0;34m-\u001b[0m\u001b[0;36m1\u001b[0m\u001b[0;34m]\u001b[0m\u001b[0;34m)\u001b[0m\u001b[0;34m\u001b[0m\u001b[0;34m\u001b[0m\u001b[0m\n\u001b[1;32m    390\u001b[0m \u001b[0;34m\u001b[0m\u001b[0m\n\u001b[0;32m--> 391\u001b[0;31m         \u001b[0mx\u001b[0m\u001b[0;34m,\u001b[0m \u001b[0my\u001b[0m \u001b[0;34m=\u001b[0m \u001b[0mself\u001b[0m\u001b[0;34m.\u001b[0m\u001b[0m_xy_from_xy\u001b[0m\u001b[0;34m(\u001b[0m\u001b[0mx\u001b[0m\u001b[0;34m,\u001b[0m \u001b[0my\u001b[0m\u001b[0;34m)\u001b[0m\u001b[0;34m\u001b[0m\u001b[0;34m\u001b[0m\u001b[0m\n\u001b[0m\u001b[1;32m    392\u001b[0m \u001b[0;34m\u001b[0m\u001b[0m\n\u001b[1;32m    393\u001b[0m         \u001b[0;32mif\u001b[0m \u001b[0mself\u001b[0m\u001b[0;34m.\u001b[0m\u001b[0mcommand\u001b[0m \u001b[0;34m==\u001b[0m \u001b[0;34m'plot'\u001b[0m\u001b[0;34m:\u001b[0m\u001b[0;34m\u001b[0m\u001b[0;34m\u001b[0m\u001b[0m\n",
      "\u001b[0;32m/opt/anaconda3/lib/python3.7/site-packages/matplotlib/axes/_base.py\u001b[0m in \u001b[0;36m_xy_from_xy\u001b[0;34m(self, x, y)\u001b[0m\n\u001b[1;32m    268\u001b[0m         \u001b[0;32mif\u001b[0m \u001b[0mx\u001b[0m\u001b[0;34m.\u001b[0m\u001b[0mshape\u001b[0m\u001b[0;34m[\u001b[0m\u001b[0;36m0\u001b[0m\u001b[0;34m]\u001b[0m \u001b[0;34m!=\u001b[0m \u001b[0my\u001b[0m\u001b[0;34m.\u001b[0m\u001b[0mshape\u001b[0m\u001b[0;34m[\u001b[0m\u001b[0;36m0\u001b[0m\u001b[0;34m]\u001b[0m\u001b[0;34m:\u001b[0m\u001b[0;34m\u001b[0m\u001b[0;34m\u001b[0m\u001b[0m\n\u001b[1;32m    269\u001b[0m             raise ValueError(\"x and y must have same first dimension, but \"\n\u001b[0;32m--> 270\u001b[0;31m                              \"have shapes {} and {}\".format(x.shape, y.shape))\n\u001b[0m\u001b[1;32m    271\u001b[0m         \u001b[0;32mif\u001b[0m \u001b[0mx\u001b[0m\u001b[0;34m.\u001b[0m\u001b[0mndim\u001b[0m \u001b[0;34m>\u001b[0m \u001b[0;36m2\u001b[0m \u001b[0;32mor\u001b[0m \u001b[0my\u001b[0m\u001b[0;34m.\u001b[0m\u001b[0mndim\u001b[0m \u001b[0;34m>\u001b[0m \u001b[0;36m2\u001b[0m\u001b[0;34m:\u001b[0m\u001b[0;34m\u001b[0m\u001b[0;34m\u001b[0m\u001b[0m\n\u001b[1;32m    272\u001b[0m             raise ValueError(\"x and y can be no greater than 2-D, but have \"\n",
      "\u001b[0;31mValueError\u001b[0m: x and y must have same first dimension, but have shapes (118,) and (0,)"
     ]
    }
   ],
   "source": [
    "plt.plot(np.arange(1900,2018,1),(final.data))\n",
    "plt.plot(dataval[:,0],dataval[:,1])\n",
    "''' from 2019 predictions\n",
    "plt.plot(dataval[:,0],dataval[:,1])\n",
    "plt.plot(dataval1[:,0],dataval1[:,1])\n",
    "plt.plot(2019,final,'o')\n",
    "'''"
   ]
  },
  {
   "cell_type": "code",
   "execution_count": null,
   "metadata": {},
   "outputs": [],
   "source": []
  },
  {
   "cell_type": "code",
   "execution_count": null,
   "metadata": {},
   "outputs": [],
   "source": []
  }
 ]
}