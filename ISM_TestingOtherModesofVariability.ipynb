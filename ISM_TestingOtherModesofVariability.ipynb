{
 "cells": [
  {
   "cell_type": "code",
   "execution_count": 5,
   "metadata": {},
   "outputs": [
    {
     "name": "stdout",
     "output_type": "stream",
     "text": [
      "Once deleted, variables cannot be recovered. Proceed (y/[n])? y\n"
     ]
    }
   ],
   "source": [
    "%reset"
   ]
  },
  {
   "cell_type": "code",
   "execution_count": 6,
   "metadata": {},
   "outputs": [
    {
     "name": "stdout",
     "output_type": "stream",
     "text": [
      "1.5.5\n",
      "python version:\n",
      "3.7.3\n"
     ]
    }
   ],
   "source": [
    "import numpy as np\n",
    "import matplotlib \n",
    "import matplotlib.pyplot as plt\n",
    "import mpl_toolkits\n",
    "#from mpl_toolkits.basemap import Basemap\n",
    "import pandas as pd\n",
    "import xarray as xr\n",
    "import Nio\n",
    "print (Nio.__version__)\n",
    "import seaborn as seabornInstance \n",
    "from sklearn.model_selection import train_test_split \n",
    "from sklearn.linear_model import LinearRegression\n",
    "from sklearn import metrics\n",
    "from scipy import signal\n",
    "%matplotlib inline\n",
    "\n",
    "print(\"python version:\")\n",
    "import platform\n",
    "print(platform.python_version())"
   ]
  },
  {
   "cell_type": "code",
   "execution_count": null,
   "metadata": {},
   "outputs": [],
   "source": []
  },
  {
   "cell_type": "code",
   "execution_count": 7,
   "metadata": {},
   "outputs": [
    {
     "data": {
      "text/plain": [
       "<xarray.Dataset>\n",
       "Dimensions:  (data: 1752, int: 1752, time: 1752)\n",
       "Coordinates:\n",
       "  * data     (data) float32 19.6 10.7 14.5 33.9 63.6 ... 168.7 52.1 8.0 7.0\n",
       "  * time     (time) datetime64[ns] 1874-05-31 1874-06-30 ... 2020-04-30\n",
       "Dimensions without coordinates: int\n",
       "Data variables:\n",
       "    foo      (int) int64 0 1 2 3 4 5 6 7 ... 1745 1746 1747 1748 1749 1750 1751"
      ]
     },
     "execution_count": 7,
     "metadata": {},
     "output_type": "execute_result"
    }
   ],
   "source": [
    "precipdatpALLIN = xr.open_dataset('pALLIN.nc', decode_times=False)\n",
    "precipdatpALLIN\n",
    "time = pd.date_range('1874-05-01', freq='M', periods=1752)\n",
    "precipALLIN = xr.Dataset({'data': ('data', precipdatpALLIN['precip']), 'time': time, 'foo': ('int', np.arange(1752))})\n",
    "precipALLIN"
   ]
  },
  {
   "cell_type": "code",
   "execution_count": 9,
   "metadata": {},
   "outputs": [],
   "source": [
    "#precipitation\n",
    "\n",
    "junenumber = []\n",
    "for x in range(1752):\n",
    "    y = (x + 1) % 12\n",
    "    if (y == 6):\n",
    "        junenumber.append(x)\n",
    "#print precipALLIN.data[junenumber]\n",
    "\n",
    "junedata = precipALLIN.sel(time = precipALLIN['time.month']==6, int = junenumber)\n",
    "juneprecipALLIN = junedata.data[junenumber]\n",
    "#print juneprecipALLIN\n",
    "\n",
    "julynumber = []\n",
    "for x in range(1752):\n",
    "    y = (x + 1) % 12\n",
    "    if (y == 7):\n",
    "        julynumber.append(x)\n",
    "#print precipALLIN.data[julynumber]\n",
    "\n",
    "julydata = precipALLIN.sel(time = precipALLIN['time.month']==7, int = julynumber)\n",
    "julyprecipALLIN = julydata.data[julynumber]\n",
    "#print julyprecipALLIN\n",
    "\n",
    "augustnumber = []\n",
    "for x in range(1752):\n",
    "    y = (x + 1) % 12\n",
    "    if (y == 8):\n",
    "        augustnumber.append(x)\n",
    "#print precipALLIN.data[augustnumber]\n",
    "\n",
    "augustdata = precipALLIN.sel(time = precipALLIN['time.month']==8, int = augustnumber)\n",
    "augustprecipALLIN = augustdata.data[augustnumber]\n",
    "#print augustprecipALLIN\n",
    "\n",
    "septembernumber = []\n",
    "for x in range(1752):\n",
    "    y = (x + 1) % 12\n",
    "    if (y == 9):\n",
    "        septembernumber.append(x)\n",
    "#print precipALLIN.data[septembernumber]\n",
    "\n",
    "septemberdata = precipALLIN.sel(time = precipALLIN['time.month']==9, int = septembernumber)\n",
    "septemberprecipALLIN = septemberdata.data[septembernumber]\n",
    "#print septemberprecipALLIN\n",
    "\n",
    "rainfallforAIRIfull = juneprecipALLIN.data + julyprecipALLIN.data + augustprecipALLIN.data + septemberprecipALLIN.data\n",
    "rainfallforAIRIfull\n"
   ]
  },
  {
   "cell_type": "code",
   "execution_count": 11,
   "metadata": {},
   "outputs": [],
   "source": [
    "rainfalldata = []\n",
    "for y in range(119):\n",
    "    rainfalldata.append(rainfallforAIRIfull[y+26])\n",
    "\n",
    "Ydata = ((rainfalldata - np.mean(rainfalldata))/np.std(rainfalldata)) "
   ]
  },
  {
   "cell_type": "code",
   "execution_count": null,
   "metadata": {},
   "outputs": [],
   "source": []
  }
 ],
 "metadata": {
  "kernelspec": {
   "display_name": "xarrayenv2",
   "language": "python",
   "name": "xarrayenv2"
  },
  "language_info": {
   "codemirror_mode": {
    "name": "ipython",
    "version": 3
   },
   "file_extension": ".py",
   "mimetype": "text/x-python",
   "name": "python",
   "nbconvert_exporter": "python",
   "pygments_lexer": "ipython3",
   "version": "3.7.3"
  }
 },
 "nbformat": 4,
 "nbformat_minor": 2
}
