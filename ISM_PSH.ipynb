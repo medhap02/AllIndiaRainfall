{
 "cells": [
  {
   "source": [
    "%reset"
   ],
   "cell_type": "code",
   "outputs": [],
   "metadata": {},
   "execution_count": 1
  },
  {
   "source": [
    "import numpy as np\n",
    "import matplotlib \n",
    "import matplotlib.pyplot as plt\n",
    "import mpl_toolkits\n",
    "#from mpl_toolkits.basemap import Basemap\n",
    "import pandas as pd\n",
    "import xarray as xr\n",
    "#import Nio\n",
    "#print Nio.__version__\n",
    "\n",
    "print(\"python version:\")\n",
    "import platform\n",
    "print(platform.python_version())"
   ],
   "cell_type": "code",
   "outputs": [
    {
     "output_type": "stream",
     "name": "stdout",
     "text": "python version:\n3.7.4\n"
    }
   ],
   "metadata": {},
   "execution_count": 2
  },
  {
   "source": [
    "slpdat = xr.open_dataset('/Users/home/All-IndiaRainfall/data/slp.mnmean.real.nc')\n",
    "slpdat"
   ],
   "cell_type": "code",
   "outputs": [
    {
     "output_type": "execute_result",
     "data": {
      "text/plain": "<xarray.Dataset>\nDimensions:    (lat: 37, lon: 72, nbnds: 2, time: 2029)\nCoordinates:\n  * lat        (lat) float32 90.0 85.0 80.0 75.0 ... -75.0 -80.0 -85.0 -90.0\n  * lon        (lon) float32 0.0 5.0 10.0 15.0 20.0 ... 340.0 345.0 350.0 355.0\n  * time       (time) datetime64[ns] 1850-01-01 1850-02-01 ... 2019-01-01\nDimensions without coordinates: nbnds\nData variables:\n    slp        (time, lat, lon) float32 ...\n    time_bnds  (time, nbnds) float64 ...\nAttributes:\n    title:        HadSLP2\n    history:      Fri Mar  8 10:06:25 2013: ncks -d time,0,1957 slp.mnmean.re...\n    comments:     adSLP2 was created using marine observations taken from ICO...\n    Conventions:  CF-1.0\n    platform:     Model\n    source:       Hadley Center\n    institution:  Hadley Center\n    References:   https://www.esrl.noaa.gov/psd/data/gridded/data.hadslp2.html\n    NCO:          20130308\n    source_url:   https://hadobs.metoffice.com/hadslp2/",
      "text/html": "<pre>&lt;xarray.Dataset&gt;\nDimensions:    (lat: 37, lon: 72, nbnds: 2, time: 2029)\nCoordinates:\n  * lat        (lat) float32 90.0 85.0 80.0 75.0 ... -75.0 -80.0 -85.0 -90.0\n  * lon        (lon) float32 0.0 5.0 10.0 15.0 20.0 ... 340.0 345.0 350.0 355.0\n  * time       (time) datetime64[ns] 1850-01-01 1850-02-01 ... 2019-01-01\nDimensions without coordinates: nbnds\nData variables:\n    slp        (time, lat, lon) float32 ...\n    time_bnds  (time, nbnds) float64 ...\nAttributes:\n    title:        HadSLP2\n    history:      Fri Mar  8 10:06:25 2013: ncks -d time,0,1957 slp.mnmean.re...\n    comments:     adSLP2 was created using marine observations taken from ICO...\n    Conventions:  CF-1.0\n    platform:     Model\n    source:       Hadley Center\n    institution:  Hadley Center\n    References:   https://www.esrl.noaa.gov/psd/data/gridded/data.hadslp2.html\n    NCO:          20130308\n    source_url:   https://hadobs.metoffice.com/hadslp2/</pre>"
     },
     "metadata": {},
     "execution_count": 3
    }
   ],
   "metadata": {},
   "execution_count": 3
  },
  {
   "cell_type": "code",
   "execution_count": 19,
   "metadata": {},
   "outputs": [
    {
     "data": {
      "text/html": "<pre>&lt;xarray.DataArray &#x27;slp&#x27; (time: 2029, lat: 37, lon: 72)&gt;\n[5405256 values with dtype=float32]\nCoordinates:\n  * lat      (lat) float32 90.0 85.0 80.0 75.0 70.0 ... -75.0 -80.0 -85.0 -90.0\n  * lon      (lon) float32 0.0 5.0 10.0 15.0 20.0 ... 340.0 345.0 350.0 355.0\n  * time     (time) datetime64[ns] 1850-01-01 1850-02-01 ... 2019-01-01\nAttributes:\n    long_name:             Monthly Mean Sea Level Pressure\n    unpacked_valid_range:  [ 850. 1400.]\n    actual_range:          [ 953.9066 1052.5088]\n    units:                 mb\n    precision:             1\n    var_desc:              Sea Level Pressure\n    dataset:               HadSLP2\n    level_desc:            Surface\n    statistic:             Mean\n    parent_stat:           Individual Observation\n    valid_range:           [-32765  32765]</pre>",
      "text/plain": "<xarray.DataArray 'slp' (time: 2029, lat: 37, lon: 72)>\n[5405256 values with dtype=float32]\nCoordinates:\n  * lat      (lat) float32 90.0 85.0 80.0 75.0 70.0 ... -75.0 -80.0 -85.0 -90.0\n  * lon      (lon) float32 0.0 5.0 10.0 15.0 20.0 ... 340.0 345.0 350.0 355.0\n  * time     (time) datetime64[ns] 1850-01-01 1850-02-01 ... 2019-01-01\nAttributes:\n    long_name:             Monthly Mean Sea Level Pressure\n    unpacked_valid_range:  [ 850. 1400.]\n    actual_range:          [ 953.9066 1052.5088]\n    units:                 mb\n    precision:             1\n    var_desc:              Sea Level Pressure\n    dataset:               HadSLP2\n    level_desc:            Surface\n    statistic:             Mean\n    parent_stat:           Individual Observation\n    valid_range:           [-32765  32765]"
     },
     "execution_count": 19,
     "metadata": {},
     "output_type": "execute_result"
    }
   ],
   "source": [
    "slp = slpdat['slp']\n",
    "slp"
   ]
  },
  {
   "cell_type": "code",
   "execution_count": 20,
   "metadata": {},
   "outputs": [],
   "source": [
    "latrange1 = slp.sel(lat = slice(-10, -40)).lat\n",
    "weights1 = np.cos(latrange1*np.pi/180)"
   ]
  },
  {
   "cell_type": "code",
   "execution_count": 21,
   "metadata": {},
   "outputs": [],
   "source": [
    "aprildata1 = slp.sel(lat = slice(-10, -40), lon = slice(210, 270), time = (slp['time.month']==4))\n",
    "aprilSLP1 = aprildata1.sel(time = slice('1900-04-01', '1988-04-01'))\n",
    "\n",
    "aprilmean1 = (aprilSLP1*weights1).mean({'lon', 'lat'})/weights1.mean()\n",
    "#aprilmean1"
   ]
  },
  {
   "cell_type": "code",
   "execution_count": 22,
   "metadata": {},
   "outputs": [],
   "source": [
    "maydata1 = slp.sel(lat = slice(-10, -40), lon = slice(210, 270), time = (slp['time.month']==5))\n",
    "maySLP1 = maydata1.sel(time = slice('1900-05-01', '1988-05-01'))\n",
    "\n",
    "maymean1 = (maySLP1*weights1).mean({'lon', 'lat'})/weights1.mean()\n",
    "#maymean1"
   ]
  },
  {
   "cell_type": "code",
   "execution_count": 23,
   "metadata": {},
   "outputs": [
    {
     "data": {
      "text/html": "<pre>&lt;xarray.DataArray ()&gt;\narray(1015.55053711)</pre>",
      "text/plain": "<xarray.DataArray ()>\narray(1015.55053711)"
     },
     "execution_count": 23,
     "metadata": {},
     "output_type": "execute_result"
    }
   ],
   "source": [
    "NP = (aprilmean1.mean() + maymean1.mean())/2\n",
    "NP"
   ]
  },
  {
   "cell_type": "code",
   "execution_count": 24,
   "metadata": {},
   "outputs": [],
   "source": [
    "latrange2 = slp.sel(lat = slice(30, 10)).lat\n",
    "weights2 = np.cos(latrange2*np.pi/180)"
   ]
  },
  {
   "cell_type": "code",
   "execution_count": 25,
   "metadata": {},
   "outputs": [],
   "source": [
    "aprildata2 = slp.sel(lat = slice(30, 10), lon = slice(180, 230), time = (slp['time.month']==4))\n",
    "aprilSLP2 = aprildata2.sel(time = slice('1900-04-01', '1988-04-01'))\n",
    "\n",
    "aprilmean2 = (aprilSLP2*weights2).mean({'lon', 'lat'})/weights2.mean()\n",
    "#aprilmean2"
   ]
  },
  {
   "cell_type": "code",
   "execution_count": 26,
   "metadata": {},
   "outputs": [],
   "source": [
    "maydata2 = slp.sel(lat = slice(30, 10), lon = slice(180, 230), time = (slp['time.month']==5))\n",
    "maySLP2 = maydata2.sel(time = slice('1900-05-01', '1988-05-01'))\n",
    "\n",
    "maymean2 = (maySLP2*weights2).mean({'lon', 'lat'})/weights2.mean()\n",
    "#maymean2"
   ]
  },
  {
   "cell_type": "code",
   "execution_count": 27,
   "metadata": {},
   "outputs": [],
   "source": [
    "SP = (aprilmean2.mean() + maymean2.mean())/2\n",
    "#SP"
   ]
  },
  {
   "cell_type": "code",
   "execution_count": 28,
   "metadata": {},
   "outputs": [
    {
     "data": {
      "text/html": "<pre>&lt;xarray.DataArray ()&gt;\narray(1016.25146484)</pre>",
      "text/plain": "<xarray.DataArray ()>\narray(1016.25146484)"
     },
     "execution_count": 28,
     "metadata": {},
     "output_type": "execute_result"
    }
   ],
   "source": [
    "PSH = (NP + SP)/2\n",
    "PSH"
   ]
  },
  {
   "cell_type": "code",
   "execution_count": 29,
   "metadata": {},
   "outputs": [],
   "source": [
    "#mega-ENSOpredictor\n",
    "#note: lat & lon go by scale of 5 degrees"
   ]
  },
  {
   "cell_type": "code",
   "execution_count": null,
   "metadata": {},
   "outputs": [],
   "source": [
    "# Copyright (c) 2020 Medha Palavalli."
   ]
  }
 ],
 "metadata": {
  "language_info": {
   "name": "python",
   "codemirror_mode": {
    "name": "ipython",
    "version": 3
   },
   "version": "3.7.4-final"
  },
  "orig_nbformat": 2,
  "file_extension": ".py",
  "mimetype": "text/x-python",
  "name": "python",
  "npconvert_exporter": "python",
  "pygments_lexer": "ipython3",
  "version": 3,
  "kernelspec": {
   "name": "python37464bitbaseconda35f0cee268cb44ceaf0469b41a6f34d7",
   "display_name": "Python 3.7.4 64-bit ('base': conda)"
  }
 },
 "nbformat": 4,
 "nbformat_minor": 2
}