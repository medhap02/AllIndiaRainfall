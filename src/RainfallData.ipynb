{
 "cells": [
  {
   "cell_type": "code",
   "execution_count": 1,
   "metadata": {},
   "outputs": [
    {
     "name": "stdout",
     "output_type": "stream",
     "text": [
      "Once deleted, variables cannot be recovered. Proceed (y/[n])? y\n"
     ]
    }
   ],
   "source": [
    "%reset"
   ]
  },
  {
   "cell_type": "code",
   "execution_count": 2,
   "metadata": {},
   "outputs": [],
   "source": [
    "import numpy as np\n",
    "import scipy as sp\n",
    "import sklearn as sk\n",
    "import cartopy as cp\n",
    "import xarray as xr\n",
    "import pandas as pd\n",
    "import cftime\n",
    "import dateutil\n",
    "import dask\n",
    "#Use the 2 lines below if the notebook has a dark theme (to make labelling visible):\n",
    "from jupyterthemes import jtplot\n",
    "jtplot.style(theme='grade3', context='notebook', ticks=True, grid=False)\n",
    "import matplotlib.pyplot as plt\n",
    "#The following code resets the default plot size so you don't have to fiddle with figsize every time\"\n",
    "fig_size = plt.rcParams[\"figure.figsize\"]\n",
    "fig_size[0] = 16\n",
    "fig_size[1] = 8\n",
    "plt.rcParams[\"figure.figsize\"] = fig_size"
   ]
  },
  {
   "cell_type": "code",
   "execution_count": 3,
   "metadata": {},
   "outputs": [
    {
     "name": "stdout",
     "output_type": "stream",
     "text": [
      "env: HDF5_USE_FILE_LOCKING=FALSE\n"
     ]
    }
   ],
   "source": [
    "#Need the following line to avoid hdf5 issues that prevent opening thee file\n",
    "# https://stackoverflow.com/questions/49317927/errno-101-netcdf-hdf-error-when-opening-netcdf-file\n",
    "%env HDF5_USE_FILE_LOCKING=FALSE"
   ]
  },
  {
   "cell_type": "code",
   "execution_count": 8,
   "metadata": {},
   "outputs": [
    {
     "data": {
      "text/plain": [
       "<xarray.Dataset>\n",
       "Dimensions:    (latitude: 2000, longitude: 7200, time: 473)\n",
       "Coordinates:\n",
       "  * latitude   (latitude) float32 -49.975 -49.925 -49.875 ... 49.924995 49.975\n",
       "  * longitude  (longitude) float32 -179.975 -179.925 ... 179.92499 179.975\n",
       "  * time       (time) datetime64[ns] 1981-01-01 1981-02-01 ... 2020-05-01\n",
       "Data variables:\n",
       "    precip     (time, latitude, longitude) float32 ...\n",
       "Attributes:\n",
       "    Conventions:       CF-1.6\n",
       "    title:             CHIRPS Version 2.0\n",
       "    history:           created by Climate Hazards Group\n",
       "    version:           Version 2.0\n",
       "    date_created:      2020-06-17\n",
       "    creator_name:      Pete Peterson\n",
       "    creator_email:     pete@geog.ucsb.edu\n",
       "    institution:       Climate Hazards Group.  University of California at Sa...\n",
       "    documentation:     http://pubs.usgs.gov/ds/832/\n",
       "    reference:         Funk, C.C., Peterson, P.J., Landsfeld, M.F., Pedreros,...\n",
       "    comments:           time variable denotes the first day of the given month.\n",
       "    acknowledgements:  The Climate Hazards Group InfraRed Precipitation with ...\n",
       "    ftp_url:           ftp://chg-ftpout.geog.ucsb.edu/pub/org/chg/products/CH...\n",
       "    website:           http://chg.geog.ucsb.edu/data/chirps/index.html\n",
       "    faq:               http://chg-wiki.geog.ucsb.edu/wiki/CHIRPS_FAQ"
      ]
     },
     "execution_count": 8,
     "metadata": {},
     "output_type": "execute_result"
    }
   ],
   "source": [
    "dataset1 = xr.open_dataset('/global/scratch/medhap02/ISMData/chirps-v2.0.monthly.nc')\n",
    "dataset1"
   ]
  },
  {
   "cell_type": "code",
   "execution_count": 9,
   "metadata": {},
   "outputs": [
    {
     "data": {
      "text/plain": [
       "<xarray.Dataset>\n",
       "Dimensions:    (LAT: 72, LONN71_72: 144, TIME: 504, bnds: 2)\n",
       "Coordinates:\n",
       "  * LONN71_72  (LONN71_72) float64 -178.8 -176.2 -173.8 ... 173.8 176.2 178.8\n",
       "  * LAT        (LAT) float64 -88.75 -86.25 -83.75 -81.25 ... 83.75 86.25 88.75\n",
       "  * TIME       (TIME) datetime64[ns] 1979-01-01 1979-02-01 ... 2020-12-01\n",
       "Dimensions without coordinates: bnds\n",
       "Data variables:\n",
       "    TIME_bnds  (TIME, bnds) datetime64[ns] ...\n",
       "    PRECIP     (TIME, LAT, LONN71_72) float32 ...\n",
       "Attributes:\n",
       "    history:      FERRET V6.5  14-Jul-20\n",
       "    Conventions:  CF-1.0"
      ]
     },
     "execution_count": 9,
     "metadata": {},
     "output_type": "execute_result"
    }
   ],
   "source": [
    "dataset2 = xr.open_dataset('/global/scratch/medhap02/ISMData/GPCP_monthlyv2p3_79_20.nc')\n",
    "dataset2"
   ]
  },
  {
   "cell_type": "code",
   "execution_count": 12,
   "metadata": {},
   "outputs": [
    {
     "data": {
      "text/plain": [
       "<xarray.Dataset>\n",
       "Dimensions:  (lat: 360, lon: 720, time: 1380)\n",
       "Coordinates:\n",
       "  * lat      (lat) float32 89.75 89.25 88.75 88.25 ... -88.75 -89.25 -89.75\n",
       "  * lon      (lon) float32 0.25 0.75 1.25 1.75 ... 358.25 358.75 359.25 359.75\n",
       "  * time     (time) datetime64[ns] 1900-01-01 1900-02-01 ... 2014-12-01\n",
       "Data variables:\n",
       "    precip   (time, lat, lon) float32 ...\n",
       "Attributes:\n",
       "    Conventions:    CF-1.0\n",
       "    Source:         http://climate.geog.udel.edu/~climate/html_pages/Global2_...\n",
       "    version:        4.01\n",
       "    history:        created 2/2016 by CAS NOAA/ESRL PSD\n",
       "    title:          Terrestrial Air Temperature and Precipitation: V4.01\n",
       "    dataset_title:  Terrestrial Air Temperature and Precipitation: 1900-2014 ...\n",
       "    source:         http://climate.geog.udel.edu/~climate/\n",
       "    References:     https://www.esrl.noaa.gov/psd/data/gridded/data.UDel_AirT..."
      ]
     },
     "execution_count": 12,
     "metadata": {},
     "output_type": "execute_result"
    }
   ],
   "source": [
    "dataset3 = xr.open_dataset('/global/scratch/medhap02/ISMData/GHCN_monthyv4p01.nc')\n",
    "dataset3"
   ]
  },
  {
   "cell_type": "code",
   "execution_count": null,
   "metadata": {},
   "outputs": [],
   "source": []
  }
 ],
 "metadata": {
  "kernelspec": {
   "display_name": "xarrayenv2",
   "language": "python",
   "name": "xarrayenv2"
  },
  "language_info": {
   "codemirror_mode": {
    "name": "ipython",
    "version": 3
   },
   "file_extension": ".py",
   "mimetype": "text/x-python",
   "name": "python",
   "nbconvert_exporter": "python",
   "pygments_lexer": "ipython3",
   "version": "3.7.3"
  }
 },
 "nbformat": 4,
 "nbformat_minor": 2
}
