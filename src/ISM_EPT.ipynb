{
 "cells": [
  {
   "source": [
    "%reset"
   ],
   "cell_type": "code",
   "outputs": [],
   "metadata": {},
   "execution_count": 1
  },
  {
   "source": [
    "import numpy as np\n",
    "import matplotlib \n",
    "import matplotlib.pyplot as plt\n",
    "import mpl_toolkits\n",
    "#from mpl_toolkits.basemap import Basemap\n",
    "import pandas as pd\n",
    "import xarray as xr\n",
    "#import Nio\n",
    "#print Nio.__version__\n",
    "import pickle\n",
    "\n",
    "print(\"python version:\")\n",
    "import platform\n",
    "print(platform.python_version())"
   ],
   "cell_type": "code",
   "outputs": [
    {
     "output_type": "stream",
     "name": "stdout",
     "text": "python version:\n3.7.4\n"
    }
   ],
   "metadata": {},
   "execution_count": 2
  },
  {
   "source": [
    "sstdat = xr.open_dataset('http://apdrc.soest.hawaii.edu/dods/public_data/NOAA_SST/ERSST/monthly_v5')\n",
    "sstdat"
   ],
   "cell_type": "code",
   "outputs": [
    {
     "output_type": "execute_result",
     "data": {
      "text/plain": "<xarray.Dataset>\nDimensions:  (lat: 89, lon: 180, time: 2004)\nCoordinates:\n  * time     (time) datetime64[ns] 1854-01-01 1854-02-01 ... 2020-12-01\n  * lat      (lat) float64 -88.0 -86.0 -84.0 -82.0 -80.0 ... 82.0 84.0 86.0 88.0\n  * lon      (lon) float64 0.0 2.0 4.0 6.0 8.0 ... 350.0 352.0 354.0 356.0 358.0\nData variables:\n    sst      (time, lat, lon) float32 ...\n    ssta     (time, lat, lon) float32 ...\nAttributes:\n    Documentation:  https://www.ncdc.noaa.gov/data-access/marineocean-data/ex...\n    title:          NOAA Extended Reconstructed Sea Surface Temperature (SST) V5\n    Conventions:    COARDS\\nGrADS\n    dataType:       Grid\n    documentation:  http://apdrc.soest.hawaii.edu/datadoc/ersst.php\n    history:        Wed Dec 11 09:57:13 HST 2019 : imported by GrADS Data Ser...",
      "text/html": "<pre>&lt;xarray.Dataset&gt;\nDimensions:  (lat: 89, lon: 180, time: 2004)\nCoordinates:\n  * time     (time) datetime64[ns] 1854-01-01 1854-02-01 ... 2020-12-01\n  * lat      (lat) float64 -88.0 -86.0 -84.0 -82.0 -80.0 ... 82.0 84.0 86.0 88.0\n  * lon      (lon) float64 0.0 2.0 4.0 6.0 8.0 ... 350.0 352.0 354.0 356.0 358.0\nData variables:\n    sst      (time, lat, lon) float32 ...\n    ssta     (time, lat, lon) float32 ...\nAttributes:\n    Documentation:  https://www.ncdc.noaa.gov/data-access/marineocean-data/ex...\n    title:          NOAA Extended Reconstructed Sea Surface Temperature (SST) V5\n    Conventions:    COARDS\\nGrADS\n    dataType:       Grid\n    documentation:  http://apdrc.soest.hawaii.edu/datadoc/ersst.php\n    history:        Wed Dec 11 09:57:13 HST 2019 : imported by GrADS Data Ser...</pre>"
     },
     "metadata": {},
     "execution_count": 16
    }
   ],
   "metadata": {},
   "execution_count": 16
  },
  {
   "source": [
    "sst = sstdat['sst']\n",
    "sst"
   ],
   "cell_type": "code",
   "outputs": [
    {
     "output_type": "execute_result",
     "data": {
      "text/plain": "<xarray.DataArray 'sst' (time: 2004, lat: 89, lon: 180)>\n[32104080 values with dtype=float32]\nCoordinates:\n  * time     (time) datetime64[ns] 1854-01-01 1854-02-01 ... 2020-12-01\n  * lat      (lat) float64 -88.0 -86.0 -84.0 -82.0 -80.0 ... 82.0 84.0 86.0 88.0\n  * lon      (lon) float64 0.0 2.0 4.0 6.0 8.0 ... 350.0 352.0 354.0 356.0 358.0\nAttributes:\n    long_name:  extended reconstructed sea surface temperature [degree c] ",
      "text/html": "<pre>&lt;xarray.DataArray &#x27;sst&#x27; (time: 2004, lat: 89, lon: 180)&gt;\n[32104080 values with dtype=float32]\nCoordinates:\n  * time     (time) datetime64[ns] 1854-01-01 1854-02-01 ... 2020-12-01\n  * lat      (lat) float64 -88.0 -86.0 -84.0 -82.0 -80.0 ... 82.0 84.0 86.0 88.0\n  * lon      (lon) float64 0.0 2.0 4.0 6.0 8.0 ... 350.0 352.0 354.0 356.0 358.0\nAttributes:\n    long_name:  extended reconstructed sea surface temperature [degree c] </pre>"
     },
     "metadata": {},
     "execution_count": 17
    }
   ],
   "metadata": {},
   "execution_count": 17
  },
  {
   "source": [
    "latrange1 = sst.sel(lat = slice(-20, 5)).lat\n",
    "weights1 = np.cos(latrange1*np.pi/180)"
   ],
   "cell_type": "code",
   "outputs": [],
   "metadata": {},
   "execution_count": 18
  },
  {
   "source": [
    "marchdata1 = sst.sel(lat = slice(-20, 5), lon = slice(150, 170), time = (sst['time.month']==3))\n",
    "marchSST1 = marchdata1.sel(time = slice('1900-04-01', '1988-04-01'))\n",
    "\n",
    "marchmean1 = (marchSST1*weights1).mean({'lon', 'lat'})/weights1.mean()\n",
    "#marchmean1"
   ],
   "cell_type": "code",
   "outputs": [],
   "metadata": {},
   "execution_count": 19
  },
  {
   "source": [
    "maydata1 = sst.sel(lat = slice(-20, 5), lon = slice(150, 170), time = (sst['time.month']==5))\n",
    "maySST1 = maydata1.sel(time = slice('1900-05-01', '1988-05-01'))\n",
    "\n",
    "maymean1 = (maySST1*weights1).mean({'lon', 'lat'})/weights1.mean()\n",
    "#maymean1"
   ],
   "cell_type": "code",
   "outputs": [],
   "metadata": {},
   "execution_count": 0
  },
  {
   "source": [
    "DSST1 = (maymean1.mean() - marchmean1.mean())\n",
    "DSST1"
   ],
   "cell_type": "code",
   "outputs": [],
   "metadata": {},
   "execution_count": 0
  },
  {
   "source": [
    "latrange2 = sst.sel(lat = slice(-10, 10)).lat\n",
    "weights2 = np.cos(latrange2*np.pi/180)"
   ],
   "cell_type": "code",
   "outputs": [],
   "metadata": {},
   "execution_count": 0
  },
  {
   "source": [
    "marchdata2 = sst.sel(lat = slice(-10, 10), lon = slice(250, 280), time = (sst['time.month']==3))\n",
    "marchSST2 = marchdata2.sel(time = slice('1900-04-01', '1988-04-01'))\n",
    "\n",
    "marchmean2 = (marchSST2*weights2).mean({'lon', 'lat'})/weights2.mean()\n",
    "#marchmean2"
   ],
   "cell_type": "code",
   "outputs": [],
   "metadata": {},
   "execution_count": 0
  },
  {
   "source": [
    "maydata2 = sst.sel(lat = slice(-10, 10), lon = slice(250, 280), time = (sst['time.month']==5))\n",
    "maySST2 = maydata2.sel(time = slice('1900-05-01', '1988-05-01'))\n",
    "\n",
    "maymean2 = (maySST2*weights2).mean({'lon', 'lat'})/weights2.mean()\n",
    "#maymean2\n",
    ""
   ],
   "cell_type": "code",
   "outputs": [],
   "metadata": {},
   "execution_count": 0
  },
  {
   "source": [
    "DSST2 = (maymean2.mean() - marchmean2.mean())\n",
    "DSST2"
   ],
   "cell_type": "code",
   "outputs": [],
   "metadata": {},
   "execution_count": 0
  },
  {
   "source": [
    "EPT = DSST1 - DSST2\n",
    "EPT"
   ],
   "cell_type": "code",
   "outputs": [],
   "metadata": {},
   "execution_count": 0
  },
  {
   "source": [
    "#EP-ENSOpredictor"
   ],
   "cell_type": "code",
   "outputs": [],
   "metadata": {},
   "execution_count": 0
  },
  {
   "cell_type": "code",
   "execution_count": null,
   "metadata": {},
   "outputs": [],
   "source": [
    "# Copyright (c) 2020 Medha Palavalli."
   ]
  }
 ],
 "metadata": {
  "language_info": {
   "name": "python",
   "codemirror_mode": {
    "name": "ipython",
    "version": 3
   },
   "version": "3.7.4-final"
  },
  "orig_nbformat": 2,
  "file_extension": ".py",
  "mimetype": "text/x-python",
  "name": "python",
  "npconvert_exporter": "python",
  "pygments_lexer": "ipython3",
  "version": 3,
  "kernelspec": {
   "name": "python37464bitbaseconda35f0cee268cb44ceaf0469b41a6f34d7",
   "display_name": "Python 3.7.4 64-bit ('base': conda)"
  }
 },
 "nbformat": 4,
 "nbformat_minor": 2
}