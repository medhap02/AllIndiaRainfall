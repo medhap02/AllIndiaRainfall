{
 "cells": [
  {
   "cell_type": "code",
   "execution_count": 1,
   "metadata": {},
   "outputs": [
    {
     "name": "stdout",
     "output_type": "stream",
     "text": [
      "Once deleted, variables cannot be recovered. Proceed (y/[n])? y\n"
     ]
    }
   ],
   "source": [
    "%reset"
   ]
  },
  {
   "cell_type": "code",
   "execution_count": 2,
   "metadata": {},
   "outputs": [],
   "source": [
    "import numpy as np\n",
    "import scipy as sp\n",
    "import sklearn as sk\n",
    "import cartopy as cp\n",
    "import xarray as xr\n",
    "import pandas as pd\n",
    "import cftime\n",
    "import dateutil\n",
    "import dask\n",
    "#Use the 2 lines below if the notebook has a dark theme (to make labelling visible):\n",
    "from jupyterthemes import jtplot\n",
    "jtplot.style(theme='grade3', context='notebook', ticks=True, grid=False)\n",
    "import matplotlib.pyplot as plt\n",
    "#The following code resets the default plot size so you don't have to fiddle with figsize every time\"\n",
    "fig_size = plt.rcParams[\"figure.figsize\"]\n",
    "fig_size[0] = 16\n",
    "fig_size[1] = 8\n",
    "plt.rcParams[\"figure.figsize\"] = fig_size"
   ]
  },
  {
   "cell_type": "code",
   "execution_count": 3,
   "metadata": {},
   "outputs": [
    {
     "name": "stdout",
     "output_type": "stream",
     "text": [
      "env: HDF5_USE_FILE_LOCKING=FALSE\n"
     ]
    }
   ],
   "source": [
    "#Need the following line to avoid hdf5 issues that prevent opening thee file\n",
    "# https://stackoverflow.com/questions/49317927/errno-101-netcdf-hdf-error-when-opening-netcdf-file\n",
    "%env HDF5_USE_FILE_LOCKING=FALSE"
   ]
  },
  {
   "cell_type": "code",
   "execution_count": 4,
   "metadata": {},
   "outputs": [],
   "source": [
    "def covariance(x, y, dims=None):\n",
    "    return xr.dot(x - x.mean(dims), y - y.mean(dims), dims=dims) / x.count(dims)\n",
    "\n",
    "def correlation(x, y, dims=None):\n",
    "    return covariance(x, y, dims) / (x.std(dims) * y.std(dims))"
   ]
  },
  {
   "cell_type": "markdown",
   "metadata": {},
   "source": [
    "# Load and Manipulate Data"
   ]
  },
  {
   "cell_type": "code",
   "execution_count": 5,
   "metadata": {},
   "outputs": [],
   "source": [
    "#Load AIRI data \n",
    "from netCDF4 import Dataset\n",
    "from datetime import datetime, timedelta\n",
    "from netCDF4 import num2date, date2num\n",
    "dataset_file = \"pALLIN.nc\"\n",
    "airi_dat = xr.open_dataset(dataset_file, decode_times=False)\n",
    "units, reference_date = airi_dat.time.attrs['units'].split('since')\n",
    "airi_dat['time'] = pd.date_range(start=reference_date, periods=airi_dat.sizes['time'], freq='MS')\n",
    "#This file's calendar isn't recognized when using xr.open_dataset. The above workaround is from: \n",
    "#https://stackoverflow.com/questions/55648630/how-to-decode-the-time-variable-while-using-xarray-to-load-a-netcdf-file\n",
    "# \"M\" means \"month end frequency\" (see https://pandas.pydata.org/pandas-docs/stable/user_guide/timeseries.html#offset-aliases)"
   ]
  },
  {
   "cell_type": "code",
   "execution_count": 6,
   "metadata": {},
   "outputs": [],
   "source": [
    "precip = airi_dat['precip']"
   ]
  },
  {
   "cell_type": "code",
   "execution_count": 7,
   "metadata": {},
   "outputs": [],
   "source": [
    "#Load SST data\n",
    "dataset_url = \"https://psl.noaa.gov/thredds/dodsC/Datasets/noaa.ersst.v5/sst.mnmean.nc\"\n",
    "sst_dat = xr.open_dataset(dataset_url)\n",
    "sst = sst_dat['sst']"
   ]
  },
  {
   "cell_type": "code",
   "execution_count": 8,
   "metadata": {},
   "outputs": [
    {
     "name": "stderr",
     "output_type": "stream",
     "text": [
      "/global/home/users/medhap02/.conda/envs/xarrayenv2/lib/python3.7/site-packages/xarray/core/nanops.py:160: RuntimeWarning: Mean of empty slice\n",
      "  return np.nanmean(a, axis=axis, dtype=dtype)\n"
     ]
    },
    {
     "data": {
      "text/plain": [
       "<xarray.DataArray 'sst' (time: 1752, lat: 89, lon: 180)>\n",
       "array([[[1.788139e-06, 1.788139e-06, ..., 1.788139e-06, 1.788139e-06],\n",
       "        [1.788139e-06, 1.788139e-06, ..., 1.788139e-06, 1.788139e-06],\n",
       "        ...,\n",
       "        [         nan,          nan, ...,          nan,          nan],\n",
       "        [         nan,          nan, ...,          nan,          nan]],\n",
       "\n",
       "       [[1.788139e-06, 1.788139e-06, ..., 1.788139e-06, 1.788139e-06],\n",
       "        [1.788139e-06, 1.788139e-06, ..., 1.788139e-06, 1.788139e-06],\n",
       "        ...,\n",
       "        [         nan,          nan, ...,          nan,          nan],\n",
       "        [         nan,          nan, ...,          nan,          nan]],\n",
       "\n",
       "       ...,\n",
       "\n",
       "       [[3.152323e-02, 2.609873e-02, ..., 2.140296e-02, 3.102016e-02],\n",
       "        [2.697122e-02, 1.542413e-02, ..., 1.046002e-02, 2.427316e-02],\n",
       "        ...,\n",
       "        [         nan,          nan, ...,          nan,          nan],\n",
       "        [         nan,          nan, ...,          nan,          nan]],\n",
       "\n",
       "       [[1.788139e-06, 1.788139e-06, ..., 1.788139e-06, 1.788139e-06],\n",
       "        [1.788139e-06, 1.788139e-06, ..., 1.788139e-06, 1.788139e-06],\n",
       "        ...,\n",
       "        [         nan,          nan, ...,          nan,          nan],\n",
       "        [         nan,          nan, ...,          nan,          nan]]],\n",
       "      dtype=float32)\n",
       "Coordinates:\n",
       "  * lat      (lat) float32 88.0 86.0 84.0 82.0 80.0 ... -82.0 -84.0 -86.0 -88.0\n",
       "  * lon      (lon) float32 0.0 2.0 4.0 6.0 8.0 ... 350.0 352.0 354.0 356.0 358.0\n",
       "  * time     (time) datetime64[ns] 1871-02-01 1871-03-01 ... 2017-01-01\n",
       "    month    (time) int64 2 3 4 5 6 7 8 9 10 11 12 ... 3 4 5 6 7 8 9 10 11 12 1"
      ]
     },
     "execution_count": 8,
     "metadata": {},
     "output_type": "execute_result"
    }
   ],
   "source": [
    "#Slice SST data to the same duration as precip and calculate monthly anomalies\n",
    "sst_subset = sst.sel(time=slice('1871-01-30','2017-01-01'))\n",
    "sst_clim = sst_subset.groupby('time.month').mean('time')\n",
    "sst_anomfull = sst_subset.groupby(\"time.month\")-sst_clim\n",
    "sst_anomfull"
   ]
  },
  {
   "cell_type": "code",
   "execution_count": 9,
   "metadata": {},
   "outputs": [
    {
     "name": "stdout",
     "output_type": "stream",
     "text": [
      "<xarray.Dataset>\n",
      "Dimensions:  (lat: 89, lon: 180, time: 1056)\n",
      "Coordinates:\n",
      "  * time     (time) datetime64[ns] 1900-01-01 1900-02-01 ... 2015-12-01\n",
      "  * lat      (lat) float32 88.0 86.0 84.0 82.0 80.0 ... -82.0 -84.0 -86.0 -88.0\n",
      "  * lon      (lon) float32 0.0 2.0 4.0 6.0 8.0 ... 350.0 352.0 354.0 356.0 358.0\n",
      "Data variables:\n",
      "    sst      (time, lat, lon) float32 -1.8 -1.8 -1.8 -1.8 ... nan nan nan nan\n"
     ]
    }
   ],
   "source": [
    "sst_subset1 = sst.sel(time=slice('1900-01-01','1901-12-31'))\n",
    "sst_subset2 = sst.sel(time=slice('1903-01-01','1906-12-31'))\n",
    "sst_subset3 = sst.sel(time=slice('1908-01-01','1911-12-31'))\n",
    "sst_subset4 = sst.sel(time=slice('1913-01-01','1913-12-31'))\n",
    "sst_subset5 = sst.sel(time=slice('1915-01-01','1918-12-31'))\n",
    "sst_subset6 = sst.sel(time=slice('1920-01-01','1921-12-31'))\n",
    "sst_subset7 = sst.sel(time=slice('1923-01-01','1927-12-31'))\n",
    "sst_subset8 = sst.sel(time=slice('1929-01-01','1931-12-31'))\n",
    "sst_subset9 = sst.sel(time=slice('1934-01-01','1939-12-31'))\n",
    "sst_subset10 = sst.sel(time=slice('1941-01-01','1948-12-31'))\n",
    "sst_subset11 = sst.sel(time=slice('1951-01-01','1955-12-31'))\n",
    "sst_subset12 = sst.sel(time=slice('1957-01-01','1958-12-31'))\n",
    "sst_subset13 = sst.sel(time=slice('1960-01-01','1962-12-31'))\n",
    "sst_subset13 = sst.sel(time=slice('1964-01-01','1965-12-31'))\n",
    "sst_subset14 = sst.sel(time=slice('1967-01-01','1971-12-31'))\n",
    "sst_subset15 = sst.sel(time=slice('1973-01-01','1976-12-31'))\n",
    "sst_subset16 = sst.sel(time=slice('1978-01-01','1979-12-31'))\n",
    "sst_subset17 = sst.sel(time=slice('1981-01-01','1982-12-31'))\n",
    "sst_subset18 = sst.sel(time=slice('1984-01-01','1991-12-31'))\n",
    "sst_subset19 = sst.sel(time=slice('1993-01-01','1998-12-31'))\n",
    "sst_subset20 = sst.sel(time=slice('2000-01-01','2002-12-31'))\n",
    "sst_subset21 = sst.sel(time=slice('2004-01-01','2006-12-31'))\n",
    "sst_subset22 = sst.sel(time=slice('2008-01-01','2010-12-31'))\n",
    "sst_subset23 = sst.sel(time=slice('2012-01-01','2015-12-31'))\n",
    "\n",
    "sst_anomtemp = xr.merge([sst_subset1, sst_subset2, sst_subset3, sst_subset4, sst_subset5, \n",
    "                   sst_subset6, sst_subset7, sst_subset8, sst_subset9, sst_subset10, \n",
    "                   sst_subset11, sst_subset12, sst_subset13, sst_subset14, sst_subset15, \n",
    "                   sst_subset16, sst_subset17, sst_subset18, sst_subset19, sst_subset20, \n",
    "                   sst_subset21, sst_subset22, sst_subset23])\n",
    "#sst_anom = xr.Dataset.to_array(sst_anomtemp).drop('variable')\n",
    "print(sst_anomtemp)\n",
    "sst_anom = sst_anomtemp['sst']\n",
    "#1902, 1907, 1912, 1914, 1919, 1922, 1928, 1932, 1933, 1940\n",
    "#1949, 1950, 1956, 1959, 1963, 1966, 1972, 1977, 1980, 1983\n",
    "#1992, 1999, 2003, 2007, 2011"
   ]
  },
  {
   "cell_type": "code",
   "execution_count": 10,
   "metadata": {},
   "outputs": [],
   "source": [
    "#Load SLP data\n",
    "dataset_url = \"/global/scratch/medhap02/ISMData/prmsl.mon.mean.nc\"\n",
    "slp_dat = xr.open_dataset(dataset_url)\n",
    "slp = slp_dat['prmsl']"
   ]
  },
  {
   "cell_type": "code",
   "execution_count": 11,
   "metadata": {},
   "outputs": [
    {
     "data": {
      "text/plain": [
       "<xarray.DataArray 'prmsl' (time: 1740, lat: 181, lon: 360)>\n",
       "array([[[  114.765625,   114.765625, ...,   114.765625,   114.765625],\n",
       "        [   94.78125 ,    94.46875 , ...,    95.359375,    95.03125 ],\n",
       "        ...,\n",
       "        [  293.65625 ,   293.95312 , ...,   293.20312 ,   293.4297  ],\n",
       "        [  288.66406 ,   288.66406 , ...,   288.66406 ,   288.66406 ]],\n",
       "\n",
       "       [[   75.84375 ,    75.84375 , ...,    75.84375 ,    75.84375 ],\n",
       "        [   67.66406 ,    68.02344 , ...,    66.85156 ,    67.24219 ],\n",
       "        ...,\n",
       "        [  587.2969  ,   587.52344 , ...,   586.9219  ,   587.0781  ],\n",
       "        [  581.14844 ,   581.14844 , ...,   581.14844 ,   581.14844 ]],\n",
       "\n",
       "       ...,\n",
       "\n",
       "       [[ -876.5703  ,  -876.5703  , ...,  -876.5703  ,  -876.5703  ],\n",
       "        [ -937.10156 ,  -936.8594  , ...,  -937.625   ,  -937.3906  ],\n",
       "        ...,\n",
       "        [-1008.4375  , -1008.8906  , ..., -1007.5625  , -1007.9922  ],\n",
       "        [-1047.0938  , -1047.0938  , ..., -1047.0938  , -1047.0938  ]],\n",
       "\n",
       "       [[ -525.5     ,  -525.5     , ...,  -525.5     ,  -525.5     ],\n",
       "        [ -584.5703  ,  -584.8828  , ...,  -583.8906  ,  -584.2578  ],\n",
       "        ...,\n",
       "        [ -427.9922  ,  -428.3203  , ...,  -427.28125 ,  -427.6172  ],\n",
       "        [ -411.48438 ,  -411.48438 , ...,  -411.48438 ,  -411.48438 ]]],\n",
       "      dtype=float32)\n",
       "Coordinates:\n",
       "  * lat      (lat) float32 -90.0 -89.0 -88.0 -87.0 -86.0 ... 87.0 88.0 89.0 90.0\n",
       "  * lon      (lon) float32 0.0 1.0 2.0 3.0 4.0 ... 355.0 356.0 357.0 358.0 359.0\n",
       "  * time     (time) datetime64[ns] 1871-01-01 1871-02-01 ... 2015-12-01\n",
       "    month    (time) int64 1 2 3 4 5 6 7 8 9 10 11 ... 2 3 4 5 6 7 8 9 10 11 12"
      ]
     },
     "execution_count": 11,
     "metadata": {},
     "output_type": "execute_result"
    }
   ],
   "source": [
    "#Slice SLP data to the same duration as precip and calculate monthly anomalies\n",
    "slp_subset = slp.sel(time=slice('1871-01-01','2015-12-31'))\n",
    "slp_clim = slp_subset.groupby('time.month').mean('time')\n",
    "slp_anomfull = slp_subset.groupby(\"time.month\")-slp_clim\n",
    "slp_anomfull"
   ]
  },
  {
   "cell_type": "code",
   "execution_count": 12,
   "metadata": {},
   "outputs": [
    {
     "name": "stdout",
     "output_type": "stream",
     "text": [
      "<xarray.Dataset>\n",
      "Dimensions:  (lat: 181, lon: 360, time: 1056)\n",
      "Coordinates:\n",
      "  * time     (time) datetime64[ns] 1900-01-01 1900-02-01 ... 2015-12-01\n",
      "  * lat      (lat) float32 -90.0 -89.0 -88.0 -87.0 -86.0 ... 87.0 88.0 89.0 90.0\n",
      "  * lon      (lon) float32 0.0 1.0 2.0 3.0 4.0 ... 355.0 356.0 357.0 358.0 359.0\n",
      "Data variables:\n",
      "    prmsl    (time, lat, lon) float32 100621.44 100621.44 ... 101141.016\n"
     ]
    }
   ],
   "source": [
    "slp_subset1 = slp.sel(time=slice('1900-01-01','1901-12-31'))\n",
    "slp_subset2 = slp.sel(time=slice('1903-01-01','1906-12-31'))\n",
    "slp_subset3 = slp.sel(time=slice('1908-01-01','1911-12-31'))\n",
    "slp_subset4 = slp.sel(time=slice('1913-01-01','1913-12-31'))\n",
    "slp_subset5 = slp.sel(time=slice('1915-01-01','1918-12-31'))\n",
    "slp_subset6 = slp.sel(time=slice('1920-01-01','1921-12-31'))\n",
    "slp_subset7 = slp.sel(time=slice('1923-01-01','1927-12-31'))\n",
    "slp_subset8 = slp.sel(time=slice('1929-01-01','1931-12-31'))\n",
    "slp_subset9 = slp.sel(time=slice('1934-01-01','1939-12-31'))\n",
    "slp_subset10 = slp.sel(time=slice('1941-01-01','1948-12-31'))\n",
    "slp_subset11 = slp.sel(time=slice('1951-01-01','1955-12-31'))\n",
    "slp_subset12 = slp.sel(time=slice('1957-01-01','1958-12-31'))\n",
    "slp_subset13 = slp.sel(time=slice('1960-01-01','1962-12-31'))\n",
    "slp_subset13 = slp.sel(time=slice('1964-01-01','1965-12-31'))\n",
    "slp_subset14 = slp.sel(time=slice('1967-01-01','1971-12-31'))\n",
    "slp_subset15 = slp.sel(time=slice('1973-01-01','1976-12-31'))\n",
    "slp_subset16 = slp.sel(time=slice('1978-01-01','1979-12-31'))\n",
    "slp_subset17 = slp.sel(time=slice('1981-01-01','1982-12-31'))\n",
    "slp_subset18 = slp.sel(time=slice('1984-01-01','1991-12-31'))\n",
    "slp_subset19 = slp.sel(time=slice('1993-01-01','1998-12-31'))\n",
    "slp_subset20 = slp.sel(time=slice('2000-01-01','2002-12-31'))\n",
    "slp_subset21 = slp.sel(time=slice('2004-01-01','2006-12-31'))\n",
    "slp_subset22 = slp.sel(time=slice('2008-01-01','2010-12-31'))\n",
    "slp_subset23 = slp.sel(time=slice('2012-01-01','2015-12-31'))\n",
    "\n",
    "slp_anomtemp = xr.merge([slp_subset1, slp_subset2, slp_subset3, slp_subset4, slp_subset5, \n",
    "                   slp_subset6, slp_subset7, slp_subset8, slp_subset9, slp_subset10, \n",
    "                   slp_subset11, slp_subset12, slp_subset13, slp_subset14, slp_subset15, \n",
    "                   slp_subset16, slp_subset17, slp_subset18, slp_subset19, slp_subset20, \n",
    "                   slp_subset21, slp_subset22, slp_subset23])\n",
    "#slp_anom = xr.Dataset.to_array(slp_anomtemp).drop('variable')\n",
    "print(slp_anomtemp)\n",
    "slp_anom = slp_anomtemp['prmsl']\n",
    "#1902, 1907, 1912, 1914, 1919, 1922, 1928, 1932, 1933, 1940\n",
    "#1949, 1950, 1956, 1959, 1963, 1966, 1972, 1977, 1980, 1983\n",
    "#1992, 1999, 2003, 2007, 2011"
   ]
  },
  {
   "cell_type": "code",
   "execution_count": 13,
   "metadata": {},
   "outputs": [
    {
     "name": "stdout",
     "output_type": "stream",
     "text": [
      "<xarray.Dataset>\n",
      "Dimensions:    (bnds: 2, lat: 181, lon: 360, time: 2160)\n",
      "Coordinates:\n",
      "  * lon        (lon) float64 0.0 1.0 2.0 3.0 4.0 ... 356.0 357.0 358.0 359.0\n",
      "  * lat        (lat) float64 -90.0 -89.0 -88.0 -87.0 ... 87.0 88.0 89.0 90.0\n",
      "  * time       (time) datetime64[ns] 1836-01-01 1836-02-01 ... 2015-12-01\n",
      "Dimensions without coordinates: bnds\n",
      "Data variables:\n",
      "    TIME_bnds  (time, bnds) datetime64[ns] ...\n",
      "    MSE        (time, lat, lon) float64 ...\n",
      "    DMSEDT     (time, lat, lon) float64 ...\n",
      "Attributes:\n",
      "    history:      PyFerret V7.43 (optimized) 14-May-20\n",
      "    Conventions:  CF-1.6\n"
     ]
    }
   ],
   "source": [
    "#Load MSE data\n",
    "dataset_url = \"MSE_20thcentury.nc\"\n",
    "mse_dat1 = xr.open_dataset('/global/scratch/medhap02/ISMData/MSE_20thcentury.nc')\n",
    "mse_dat = mse_dat1.rename({'LON':'lon', 'LAT':'lat','TIME':'time'})\n",
    "mse = mse_dat['MSE']\n",
    "print(mse_dat)"
   ]
  },
  {
   "cell_type": "code",
   "execution_count": 14,
   "metadata": {},
   "outputs": [
    {
     "data": {
      "text/plain": [
       "<xarray.DataArray 'MSE' (time: 1739, lat: 181, lon: 360)>\n",
       "array([[[ -437.976186,  -437.976186, ...,  -437.976186,  -437.976186],\n",
       "        [ -357.903304,  -357.881208, ...,  -348.426553,  -351.846723],\n",
       "        ...,\n",
       "        [-4136.464814, -4142.140899, ..., -4125.058225, -4129.258011],\n",
       "        [-3946.385781, -3946.385781, ..., -3946.385781, -3946.385781]],\n",
       "\n",
       "       [[ -685.706864,  -685.706864, ...,  -685.706864,  -685.706864],\n",
       "        [ -523.262003,  -522.176401, ...,  -528.206152,  -525.088336],\n",
       "        ...,\n",
       "        [-2774.219152, -2771.776149, ..., -2769.221152, -2770.293549],\n",
       "        [-2662.830975, -2662.830975, ..., -2662.830975, -2662.830975]],\n",
       "\n",
       "       ...,\n",
       "\n",
       "       [[ 2257.7285  ,  2257.7285  , ...,  2257.7285  ,  2257.7285  ],\n",
       "        [ 2691.46434 ,  2695.995047, ...,  2682.928563,  2688.836707],\n",
       "        ...,\n",
       "        [ 3071.988646,  3092.121979, ...,  3027.33813 ,  3049.99822 ],\n",
       "        [ 3156.791382,  3156.791382, ...,  3156.791382,  3156.791382]],\n",
       "\n",
       "       [[  864.856915,   864.856915, ...,   864.856915,   864.856915],\n",
       "        [ 1076.67495 ,  1078.353851, ...,  1078.268214,  1077.544245],\n",
       "        ...,\n",
       "        [ 1590.79321 ,  1591.258558, ...,  1593.079849,  1591.898461],\n",
       "        [ 1634.137736,  1634.137736, ...,  1634.137736,  1634.137736]]])\n",
       "Coordinates:\n",
       "  * lon      (lon) float64 0.0 1.0 2.0 3.0 4.0 ... 355.0 356.0 357.0 358.0 359.0\n",
       "  * lat      (lat) float64 -90.0 -89.0 -88.0 -87.0 -86.0 ... 87.0 88.0 89.0 90.0\n",
       "  * time     (time) datetime64[ns] 1871-02-01 1871-03-01 ... 2015-12-01\n",
       "    month    (time) int64 2 3 4 5 6 7 8 9 10 11 12 ... 2 3 4 5 6 7 8 9 10 11 12"
      ]
     },
     "execution_count": 14,
     "metadata": {},
     "output_type": "execute_result"
    }
   ],
   "source": [
    "#Slice MSE data to the same duration as precip and calculate monthly anomalies\n",
    "mse_subset = mse.sel(time=slice('1871-01-30','2017-01-01'))\n",
    "mse_clim = mse_subset.groupby('time.month').mean('time')\n",
    "mse_anomfull = mse_subset.groupby(\"time.month\")-mse_clim\n",
    "mse_anomfull"
   ]
  },
  {
   "cell_type": "code",
   "execution_count": 15,
   "metadata": {},
   "outputs": [
    {
     "name": "stdout",
     "output_type": "stream",
     "text": [
      "<xarray.Dataset>\n",
      "Dimensions:  (lat: 181, lon: 360, time: 1056)\n",
      "Coordinates:\n",
      "  * time     (time) datetime64[ns] 1900-01-01 1900-02-01 ... 2015-12-01\n",
      "  * lon      (lon) float64 0.0 1.0 2.0 3.0 4.0 ... 355.0 356.0 357.0 358.0 359.0\n",
      "  * lat      (lat) float64 -90.0 -89.0 -88.0 -87.0 -86.0 ... 87.0 88.0 89.0 90.0\n",
      "Data variables:\n",
      "    MSE      (time, lat, lon) float64 2.491e+05 2.491e+05 ... 2.498e+05\n"
     ]
    }
   ],
   "source": [
    "mse_subset1 = mse.sel(time=slice('1900-01-01','1901-12-31'))\n",
    "mse_subset2 = mse.sel(time=slice('1903-01-01','1906-12-31'))\n",
    "mse_subset3 = mse.sel(time=slice('1908-01-01','1911-12-31'))\n",
    "mse_subset4 = mse.sel(time=slice('1913-01-01','1913-12-31'))\n",
    "mse_subset5 = mse.sel(time=slice('1915-01-01','1918-12-31'))\n",
    "mse_subset6 = mse.sel(time=slice('1920-01-01','1921-12-31'))\n",
    "mse_subset7 = mse.sel(time=slice('1923-01-01','1927-12-31'))\n",
    "mse_subset8 = mse.sel(time=slice('1929-01-01','1931-12-31'))\n",
    "mse_subset9 = mse.sel(time=slice('1934-01-01','1939-12-31'))\n",
    "mse_subset10 = mse.sel(time=slice('1941-01-01','1948-12-31'))\n",
    "mse_subset11 = mse.sel(time=slice('1951-01-01','1955-12-31'))\n",
    "mse_subset12 = mse.sel(time=slice('1957-01-01','1958-12-31'))\n",
    "mse_subset13 = mse.sel(time=slice('1960-01-01','1962-12-31'))\n",
    "mse_subset13 = mse.sel(time=slice('1964-01-01','1965-12-31'))\n",
    "mse_subset14 = mse.sel(time=slice('1967-01-01','1971-12-31'))\n",
    "mse_subset15 = mse.sel(time=slice('1973-01-01','1976-12-31'))\n",
    "mse_subset16 = mse.sel(time=slice('1978-01-01','1979-12-31'))\n",
    "mse_subset17 = mse.sel(time=slice('1981-01-01','1982-12-31'))\n",
    "mse_subset18 = mse.sel(time=slice('1984-01-01','1991-12-31'))\n",
    "mse_subset19 = mse.sel(time=slice('1993-01-01','1998-12-31'))\n",
    "mse_subset20 = mse.sel(time=slice('2000-01-01','2002-12-31'))\n",
    "mse_subset21 = mse.sel(time=slice('2004-01-01','2006-12-31'))\n",
    "mse_subset22 = mse.sel(time=slice('2008-01-01','2010-12-31'))\n",
    "mse_subset23 = mse.sel(time=slice('2012-01-01','2015-12-31'))\n",
    "\n",
    "mse_anomtemp = xr.merge([mse_subset1, mse_subset2, mse_subset3, mse_subset4, mse_subset5, \n",
    "                   mse_subset6, mse_subset7, mse_subset8, mse_subset9, mse_subset10, \n",
    "                   mse_subset11, mse_subset12, mse_subset13, mse_subset14, mse_subset15, \n",
    "                   mse_subset16, mse_subset17, mse_subset18, mse_subset19, mse_subset20, \n",
    "                   mse_subset21, mse_subset22, mse_subset23])\n",
    "#mse_anom = xr.Dataset.to_array(mse_anomtemp).drop('variable')\n",
    "print(mse_anomtemp)\n",
    "mse_anom = mse_anomtemp['MSE']\n",
    "#1902, 1907, 1912, 1914, 1919, 1922, 1928, 1932, 1933, 1940\n",
    "#1949, 1950, 1956, 1959, 1963, 1966, 1972, 1977, 1980, 1983\n",
    "#1992, 1999, 2003, 2007, 2011"
   ]
  },
  {
   "cell_type": "code",
   "execution_count": 16,
   "metadata": {},
   "outputs": [],
   "source": [
    "#Get precip anomalies\n",
    "precip_clim = precip.groupby(\"time.month\").mean(\"time\")\n",
    "precip_anomfull = precip.groupby(\"time.month\") - precip_clim"
   ]
  },
  {
   "cell_type": "code",
   "execution_count": 17,
   "metadata": {},
   "outputs": [
    {
     "name": "stdout",
     "output_type": "stream",
     "text": [
      "<xarray.DataArray 'precip' (time: 1056)>\n",
      "array([  2.6,  15.3,   6.7, ..., 125.9,  36.6,  44.3], dtype=float32)\n",
      "Coordinates:\n",
      "  * time     (time) datetime64[ns] 1900-01-01 1900-02-01 ... 2015-12-01\n",
      "Attributes:\n",
      "    long_name:  ALL-INDIA  RAINFALL\n",
      "    units:      mm/mo\n"
     ]
    }
   ],
   "source": [
    "precip_subset1 = precip.sel(time=slice('1900-01-01','1901-12-31'))\n",
    "precip_subset2 = precip.sel(time=slice('1903-01-01','1906-12-31'))\n",
    "precip_subset3 = precip.sel(time=slice('1908-01-01','1911-12-31'))\n",
    "precip_subset4 = precip.sel(time=slice('1913-01-01','1913-12-31'))\n",
    "precip_subset5 = precip.sel(time=slice('1915-01-01','1918-12-31'))\n",
    "precip_subset6 = precip.sel(time=slice('1920-01-01','1921-12-31'))\n",
    "precip_subset7 = precip.sel(time=slice('1923-01-01','1927-12-31'))\n",
    "precip_subset8 = precip.sel(time=slice('1929-01-01','1931-12-31'))\n",
    "precip_subset9 = precip.sel(time=slice('1934-01-01','1939-12-31'))\n",
    "precip_subset10 = precip.sel(time=slice('1941-01-01','1948-12-31'))\n",
    "precip_subset11 = precip.sel(time=slice('1951-01-01','1955-12-31'))\n",
    "precip_subset12 = precip.sel(time=slice('1957-01-01','1958-12-31'))\n",
    "precip_subset13 = precip.sel(time=slice('1960-01-01','1962-12-31'))\n",
    "precip_subset13 = precip.sel(time=slice('1964-01-01','1965-12-31'))\n",
    "precip_subset14 = precip.sel(time=slice('1967-01-01','1971-12-31'))\n",
    "precip_subset15 = precip.sel(time=slice('1973-01-01','1976-12-31'))\n",
    "precip_subset16 = precip.sel(time=slice('1978-01-01','1979-12-31'))\n",
    "precip_subset17 = precip.sel(time=slice('1981-01-01','1982-12-31'))\n",
    "precip_subset18 = precip.sel(time=slice('1984-01-01','1991-12-31'))\n",
    "precip_subset19 = precip.sel(time=slice('1993-01-01','1998-12-31'))\n",
    "precip_subset20 = precip.sel(time=slice('2000-01-01','2002-12-31'))\n",
    "precip_subset21 = precip.sel(time=slice('2004-01-01','2006-12-31'))\n",
    "precip_subset22 = precip.sel(time=slice('2008-01-01','2010-12-31'))\n",
    "precip_subset23 = precip.sel(time=slice('2012-01-01','2015-12-31'))\n",
    "\n",
    "precip_anom = xr.merge([precip_subset1, precip_subset2, precip_subset3, precip_subset4, precip_subset5, \n",
    "                   precip_subset6, precip_subset7, precip_subset8, precip_subset9, precip_subset10, \n",
    "                   precip_subset11, precip_subset12, precip_subset13, precip_subset14, precip_subset15, \n",
    "                   precip_subset16, precip_subset17, precip_subset18, precip_subset19, precip_subset20, \n",
    "                   precip_subset21, precip_subset22, precip_subset23])\n",
    "precip_anomtemp = xr.Dataset.to_array(precip_anom)\n",
    "precip_anom = precip_anom['precip']\n",
    "print(precip_anom)\n",
    "#1902, 1907, 1912, 1914, 1919, 1922, 1928, 1932, 1933, 1940\n",
    "#1949, 1950, 1956, 1959, 1963, 1966, 1972, 1977, 1980, 1983\n",
    "#1992, 1999, 2003, 2007, 2011"
   ]
  },
  {
   "cell_type": "code",
   "execution_count": 39,
   "metadata": {},
   "outputs": [],
   "source": [
    "precip_full = precip_anom.sel(time=slice('1900-01-01','2015-12-31'))\n",
    "#precip_full = precip\n",
    "junes = np.arange(5,1056,12)\n",
    "julys = np.arange(6,1056,12)\n",
    "augusts = np.arange(7,1056, 12)\n",
    "septembers = np.arange(8,1056,12)\n",
    "precip_june = precip_full[junes]\n",
    "precip_july = precip_full[julys]\n",
    "precip_august = precip_full[augusts]\n",
    "precip_september = precip_full[septembers]\n",
    "\n",
    "precip_july.time.data = precip_june.time.data\n",
    "precip_august.time.data = precip_june.time.data\n",
    "precip_september.time.data = precip_june.time.data\n",
    "\n",
    "precip_jjas = (precip_june + precip_july + precip_august + precip_september)"
   ]
  },
  {
   "cell_type": "markdown",
   "metadata": {},
   "source": [
    "# Building Predictors"
   ]
  },
  {
   "cell_type": "code",
   "execution_count": 19,
   "metadata": {},
   "outputs": [
    {
     "name": "stdout",
     "output_type": "stream",
     "text": [
      "EPT mean <xarray.DataArray ()>\n",
      "array(0.38594, dtype=float32)\n",
      "EPT std <xarray.DataArray ()>\n",
      "array(0.514143, dtype=float32)\n"
     ]
    }
   ],
   "source": [
    "#EP-ENSOpredictor\n",
    "#(30n-30s, 155-175e)\n",
    "#(10n-10s, 115-80w)\n",
    "\n",
    "#DSST1\n",
    "latrange1 = sst_anom.sel(lat = slice(30, -30)).lat\n",
    "weights1 = np.cos(latrange1*np.pi/180)\n",
    "\n",
    "marchdata1 = sst_anom.sel(lat = slice(30, -30), lon = slice(155, 175), time = (sst_anom['time.month']==3))\n",
    "marchSST1 = marchdata1.sel(time = slice('1900-03-01', '2015-03-01'))\n",
    "marchmean1 = (marchSST1*weights1).mean({'lon', 'lat'})/weights1.mean()\n",
    "\n",
    "maydata1 = sst_anom.sel(lat = slice(30, -30), lon = slice(155, 175), time = (sst_anom['time.month']==5))\n",
    "maySST1 = maydata1.sel(time = slice('1900-05-01', '2015-05-01'))\n",
    "maymean1 = (maySST1*weights1).mean({'lon', 'lat'})/weights1.mean()\n",
    "\n",
    "marchmean1.time.data = maymean1.time.data\n",
    "DSST1 = maymean1 - marchmean1\n",
    "\n",
    "#DSST2\n",
    "latrange2 = sst_anom.sel(lat = slice(10, -10)).lat\n",
    "weights2 = np.cos(latrange2*np.pi/180)\n",
    "\n",
    "marchdata2 = sst_anom.sel(lat = slice(10, -10), lon = slice(245, 280), time = (sst_anom['time.month']==3))\n",
    "marchSST2 = marchdata2.sel(time = slice('1900-03-01', '2015-03-01'))\n",
    "marchmean2 = (marchSST2*weights2).mean({'lon', 'lat'})/weights2.mean()\n",
    "\n",
    "maydata2 = sst_anom.sel(lat = slice(10, -10), lon = slice(245, 280), time = (sst_anom['time.month']==5))\n",
    "maySST2 = maydata2.sel(time = slice('1900-05-01', '2015-05-01'))\n",
    "maymean2 = (maySST2*weights2).mean({'lon', 'lat'})/weights2.mean()\n",
    "\n",
    "marchmean2.time.data = maymean2.time.data\n",
    "DSST2 = (maymean2 - marchmean2)\n",
    "\n",
    "EPTinitial = DSST1 - DSST2\n",
    "#print(EPTinitial)\n",
    "EPTstd = EPTinitial.std()\n",
    "EPTmean = EPTinitial.mean()\n",
    "EPTnew = (EPTinitial - EPTmean)/EPTstd\n",
    "\n",
    "print(\"EPT mean\", EPTmean)\n",
    "print(\"EPT std\", EPTstd)"
   ]
  },
  {
   "cell_type": "code",
   "execution_count": 20,
   "metadata": {},
   "outputs": [
    {
     "name": "stdout",
     "output_type": "stream",
     "text": [
      "<xarray.DataArray (time: 88)>\n",
      "array([ 0.297423, -0.319606,  1.03259 , -1.616898, -1.797163,  2.540114,\n",
      "        0.537671, -0.358132,  0.364637, -1.525631,  0.067596, -0.423591,\n",
      "        0.660097, -0.958779, -1.479856,  0.65865 , -0.907395, -1.074264,\n",
      "        0.143606,  0.427614,  0.388416, -0.384664, -0.247863, -0.445271,\n",
      "        1.342014,  0.534774, -1.597307, -0.094772,  0.492779,  0.998171,\n",
      "       -1.623253, -0.399897,  1.684273, -0.727576,  0.310092, -0.771358,\n",
      "       -0.036978,  1.894467,  2.467266, -0.761717,  1.339035, -0.109727,\n",
      "        1.562741,  0.76633 , -0.531304, -0.200226,  1.793725, -1.759004,\n",
      "       -0.599626, -0.049606, -0.800343,  0.201344,  0.418065,  1.535971,\n",
      "       -0.70679 ,  0.690213, -0.882978,  0.714634, -1.410138,  0.445903,\n",
      "       -0.928174,  1.313386,  0.335727,  0.20978 , -0.186815,  0.850827,\n",
      "        0.324241, -0.71011 ,  0.043717, -0.693231, -0.347596,  0.804689,\n",
      "        1.352869, -2.195127,  0.671979, -0.450052,  0.690443, -0.160227,\n",
      "        0.852756, -0.390975,  0.274445, -0.539484, -1.488144,  0.362311,\n",
      "       -0.60489 ,  1.264762, -0.613757, -1.751844], dtype=float32)\n",
      "Coordinates:\n",
      "  * time     (time) datetime64[ns] 1900-05-01 1901-05-01 ... 2015-05-01\n"
     ]
    }
   ],
   "source": [
    "print(EPTnew)"
   ]
  },
  {
   "cell_type": "code",
   "execution_count": 21,
   "metadata": {},
   "outputs": [
    {
     "name": "stdout",
     "output_type": "stream",
     "text": [
      "CPT mean <xarray.DataArray ()>\n",
      "array(-0.931681, dtype=float32)\n",
      "CPT std <xarray.DataArray ()>\n",
      "array(0.152151, dtype=float32)\n"
     ]
    }
   ],
   "source": [
    "#CP-ENSOpredictor\n",
    "#(55-5s, 175e-155w)\n",
    "\n",
    "#DSST\n",
    "latrange1 = sst_anom.sel(lat = slice(-5, -55)).lat\n",
    "weights1 = np.cos(latrange1*np.pi/180)\n",
    "\n",
    "aprildata1 = sst_anom.sel(lat = slice(-5, -55), lon = slice(175, 205), time = (sst_anom['time.month']==4))\n",
    "aprilSST1 = aprildata1.sel(time = slice('1900-04-01', '2015-04-01'))\n",
    "aprilmean1 = (aprilSST1*weights1).mean({'lon', 'lat'})/weights1.mean()\n",
    "\n",
    "maydata1 = sst_anom.sel(lat = slice(-5, -55), lon = slice(175, 205), time = (sst_anom['time.month']==5))\n",
    "maySST1 = maydata1.sel(time = slice('1900-05-01', '2015-05-01'))\n",
    "maymean1 = (maySST1*weights1).mean({'lon', 'lat'})/weights1.mean() \n",
    "\n",
    "aprilmean1.time.data = maymean1.time.data\n",
    "\n",
    "CPTinitial = maymean1 - aprilmean1\n",
    "#print(CPTinitial)\n",
    "CPTstd = CPTinitial.std()\n",
    "CPTmean = CPTinitial.mean()\n",
    "CPTnew = (CPTinitial - CPTmean)/CPTstd\n",
    "\n",
    "print(\"CPT mean\", CPTmean)\n",
    "print(\"CPT std\", CPTstd)"
   ]
  },
  {
   "cell_type": "code",
   "execution_count": 22,
   "metadata": {},
   "outputs": [
    {
     "name": "stdout",
     "output_type": "stream",
     "text": [
      "<xarray.DataArray (time: 88)>\n",
      "array([ 0.413212, -1.412973,  0.188631, -2.425864, -3.147307, -1.376669,\n",
      "       -0.267   ,  0.612144, -0.192148, -0.676913,  0.821795, -1.016348,\n",
      "        0.295775,  3.117062,  0.4919  , -0.238895,  0.157554,  0.023144,\n",
      "       -0.499818,  0.831222,  0.626034,  0.885578,  0.130664, -0.307103,\n",
      "        1.194075,  0.66477 , -0.931255, -1.636125, -0.591355, -0.53384 ,\n",
      "        1.510144,  0.551395,  1.524786,  0.120498,  0.776967, -1.789853,\n",
      "        1.148018,  0.173274, -0.014264, -0.104359, -0.744043,  0.688927,\n",
      "       -0.173432,  1.248255,  1.372411, -0.897232,  1.586312, -0.776799,\n",
      "       -0.34713 ,  1.005522, -0.708115,  0.772655,  0.725795, -0.292223,\n",
      "       -0.484073,  0.277423, -0.823859,  1.761326, -0.940907, -0.196147,\n",
      "       -0.882477, -0.715737,  0.158356, -1.344439, -1.41469 , -0.159442,\n",
      "        0.913345,  1.914352, -0.691279,  0.222578, -0.113774, -0.125858,\n",
      "       -1.123543, -1.491937,  0.978093,  0.060576,  0.453452, -1.429345,\n",
      "        0.762175,  0.085761,  0.938104, -0.149576,  0.747708, -0.091059,\n",
      "       -0.089956,  0.901135,  0.399598, -0.863322], dtype=float32)\n",
      "Coordinates:\n",
      "  * time     (time) datetime64[ns] 1900-05-01 1901-05-01 ... 2015-05-01\n"
     ]
    }
   ],
   "source": [
    "print(CPTnew)"
   ]
  },
  {
   "cell_type": "code",
   "execution_count": 23,
   "metadata": {},
   "outputs": [
    {
     "name": "stdout",
     "output_type": "stream",
     "text": [
      "PSH mean <xarray.DataArray ()>\n",
      "array(806.662506)\n",
      "PSH std <xarray.DataArray ()>\n",
      "array(118.435818)\n"
     ]
    }
   ],
   "source": [
    "#mega-ENSOpredictor\n",
    "#(20-45s, 145-80w)\n",
    "#(15-35n, 170-125w)\n",
    "#(0-20n, 40-120e)\n",
    "\n",
    "#NPcalculation\n",
    "latrange1 = slp_anom.sel(lat = slice(-45, -20)).lat\n",
    "weights1 = np.cos(latrange1*np.pi/180)\n",
    "\n",
    "marchdata1 = slp_anom.sel(lat = slice(-45, -20), lon = slice(215, 260), time = (slp_anom['time.month']==3))\n",
    "marchSLP1 = marchdata1.sel(time=slice('1900-03-01','2015-03-01'))\n",
    "marchmean1 = ((marchSLP1*weights1).mean({'lon', 'lat'})/weights1.mean())\n",
    "\n",
    "aprildata1 = slp_anom.sel(lat = slice(-45, -20), lon = slice(215, 260), time = (slp_anom['time.month']==4))\n",
    "aprilSLP1 = aprildata1.sel(time=slice('1900-04-01','2015-04-01'))\n",
    "aprilmean1 = ((aprilSLP1*weights1).mean({'lon', 'lat'})/weights1.mean())\n",
    "\n",
    "maydata1 = slp_anom.sel(lat = slice(-45, -20), lon = slice(215, 260), time = (slp_anom['time.month']==5))\n",
    "maySLP1 = maydata1.sel(time = slice('1900-05-01', '2015-05-01'))\n",
    "maymean1 = ((maySLP1*weights1).mean({'lon', 'lat'})/weights1.mean())\n",
    "\n",
    "marchmean1.time.data = maymean1.time.data\n",
    "aprilmean1.time.data = maymean1.time.data\n",
    "NP = ((marchmean1 + aprilmean1 + maymean1)/3)\n",
    "\n",
    "#SPcalculation\n",
    "latrange2 = slp_anom.sel(lat = slice(15, 35)).lat\n",
    "weights2 = np.cos(latrange2*np.pi/180)\n",
    "\n",
    "marchdata2 = slp_anom.sel(lat = slice(15, 35), lon = slice(190, 235), time = (slp_anom['time.month']==3))\n",
    "marchSLP2 = marchdata2.sel(time = slice('1900-03-01', '2015-03-01'))\n",
    "marchmean2 = ((marchSLP2*weights2).mean({'lon', 'lat'})/weights2.mean())\n",
    "\n",
    "aprildata2 = slp_anom.sel(lat = slice(15, 35), lon = slice(190, 235), time = (slp_anom['time.month']==4))\n",
    "aprilSLP2 = aprildata2.sel(time = slice('1900-04-01', '2015-04-01'))\n",
    "aprilmean2 = ((aprilSLP2*weights2).mean({'lon', 'lat'})/weights2.mean())\n",
    "\n",
    "maydata2 = slp_anom.sel(lat = slice(15, 35), lon = slice(190, 235), time = (slp_anom['time.month']==5))\n",
    "maySLP2 = maydata2.sel(time = slice('1900-05-01', '2015-05-01'))\n",
    "maymean2 = ((maySLP2*weights2).mean({'lon', 'lat'})/weights2.mean())\n",
    "\n",
    "marchmean2.time.data = maymean2.time.data\n",
    "aprilmean2.time.data = maymean2.time.data\n",
    "SP = ((marchmean2 + aprilmean2 + maymean2)/3)\n",
    "\n",
    "NParea = (25*weights1.mean() * 45)\n",
    "SParea = (20*weights2.mean() * 45)\n",
    "Pacific = ((NP * NParea) + (SP * SParea))/(NParea + SParea)\n",
    "\n",
    "#EQindia\n",
    "latrange3 = slp_anom.sel(lat = slice(0, 20)).lat\n",
    "weights3 = np.cos(latrange3*np.pi/180)\n",
    "\n",
    "marchdata3 = slp_anom.sel(lat = slice(0, 20), lon = slice(40, 120), time = (slp_anom['time.month']==3))\n",
    "marchSLP3 = marchdata3.sel(time = slice('1900-03-01', '2015-03-01'))\n",
    "marchmean3 = (marchSLP3*weights3).mean({'lon', 'lat'})/weights3.mean()\n",
    "\n",
    "aprildata3 = slp_anom.sel(lat = slice(0, 20), lon = slice(40, 120), time = (slp_anom['time.month']==4))\n",
    "aprilSLP3 = aprildata3.sel(time = slice('1900-04-01', '2015-04-01'))\n",
    "aprilmean3 = (aprilSLP3*weights3).mean({'lon', 'lat'})/weights3.mean()\n",
    "\n",
    "maydata3 = slp_anom.sel(lat = slice(0, 20), lon = slice(40, 120), time = (slp_anom['time.month']==5))\n",
    "maySLP3 = maydata3.sel(time = slice('1900-05-01', '2015-05-01'))\n",
    "maymean3 = (maySLP3*weights3).mean({'lon', 'lat'})/weights3.mean()\n",
    "\n",
    "marchmean3.time.data = maymean3.time.data\n",
    "aprilmean3.time.data = maymean3.time.data\n",
    "\n",
    "EQindia = (marchmean3 + aprilmean3 + maymean3)/3\n",
    "\n",
    "PSHinitial = Pacific - EQindia\n",
    "#print(PSHinitial)\n",
    "PSHstd = PSHinitial.std()\n",
    "PSHmean = PSHinitial.mean()\n",
    "PSHnew = (PSHinitial - PSHmean)/PSHstd\n",
    "\n",
    "print(\"PSH mean\", PSHmean)\n",
    "print(\"PSH std\", PSHstd)"
   ]
  },
  {
   "cell_type": "code",
   "execution_count": 24,
   "metadata": {},
   "outputs": [
    {
     "name": "stdout",
     "output_type": "stream",
     "text": [
      "<xarray.DataArray (time: 88)>\n",
      "array([-1.120936,  0.084815, -0.936051, -0.072081, -2.295272, -1.093602,\n",
      "       -2.722672, -0.054485, -0.156543, -1.526871, -0.036358, -2.388351,\n",
      "       -2.130207,  1.509135, -0.295697, -0.842464, -0.155549, -0.19014 ,\n",
      "        0.158405,  0.254746, -1.251211,  0.934322, -0.076269, -0.334965,\n",
      "       -0.639747,  0.327402,  0.012038,  0.217334,  0.866001,  1.934473,\n",
      "        0.306936,  0.44092 ,  1.279294, -0.274582,  0.949663,  1.621284,\n",
      "        1.022908, -0.119712, -0.71569 , -1.186169,  0.127937, -0.34366 ,\n",
      "       -0.352981,  1.428532, -0.687533, -1.08381 ,  1.393096, -0.2988  ,\n",
      "        0.730698, -0.115094,  0.143903,  0.887793,  0.92996 ,  0.739813,\n",
      "        0.606468,  1.416269,  0.546857,  0.287985, -0.999366, -0.394416,\n",
      "       -0.547019,  1.286164,  1.302187, -0.220999, -1.264557,  1.266606,\n",
      "        0.408609,  0.401245, -0.292299, -1.523887, -0.077162, -0.843652,\n",
      "        0.31517 , -2.118587,  0.137206,  2.203193,  1.114833, -0.077185,\n",
      "        0.237612, -0.786734,  0.451637,  1.258995,  0.085555,  1.224528,\n",
      "        0.85504 ,  0.193333, -0.005299, -1.252232])\n",
      "Coordinates:\n",
      "  * time     (time) datetime64[ns] 1900-05-01 1901-05-01 ... 2015-05-01\n"
     ]
    }
   ],
   "source": [
    "print(PSHnew)"
   ]
  },
  {
   "cell_type": "code",
   "execution_count": 25,
   "metadata": {},
   "outputs": [
    {
     "name": "stdout",
     "output_type": "stream",
     "text": [
      "MSE mean <xarray.DataArray ()>\n",
      "array(13267.877327)\n",
      "MSE std <xarray.DataArray ()>\n",
      "array(1370.256777)\n"
     ]
    }
   ],
   "source": [
    "#MSE\n",
    "#(0-25n, 45-70e)\n",
    "#(20-40n, 70-90e)\n",
    "#(45-70n, 95e-150w)\n",
    "\n",
    "#MSEleft\n",
    "latrange1 = mse_anom.sel(lat = slice(0, 25)).lat\n",
    "weights1 = np.cos(latrange1*np.pi/180)\n",
    "\n",
    "marchdata1 = mse_anom.sel(lat = slice(0, 25), lon = slice(45, 70), time = (mse_anom['time.month']==3))\n",
    "marchMSE1 = marchdata1.sel(time = slice('1900-03-01', '2015-03-01'))\n",
    "marchmean1 = (marchMSE1*weights1).mean({'lon', 'lat'})/weights1.mean()\n",
    "\n",
    "maydata1 = mse_anom.sel(lat = slice(0, 25), lon = slice(45, 70), time = (mse_anom['time.month']==5))\n",
    "mayMSE1 = maydata1.sel(time = slice('1900-05-01', '2015-05-01'))\n",
    "maymean1 = (mayMSE1*weights1).mean({'lon', 'lat'})/weights1.mean()\n",
    "\n",
    "marchmean1.time.data = maymean1.time.data\n",
    "MSEleft = maymean1 - marchmean1\n",
    "\n",
    "#MSEright\n",
    "latrange2 = mse_anom.sel(lat = slice(20, 40)).lat\n",
    "weights2 = np.cos(latrange2*np.pi/180)\n",
    "\n",
    "marchdata2 = mse_anom.sel(lat = slice(20, 40), lon = slice(70, 90), time = (mse_anom['time.month']==3))\n",
    "marchMSE2 = marchdata2.sel(time = slice('1900-03-01', '2015-03-01'))\n",
    "marchmean2 = ((marchMSE2*weights2).mean({'lon', 'lat'})/weights2.mean())\n",
    "\n",
    "maydata2 = mse_anom.sel(lat = slice(20, 40), lon = slice(70, 90), time = (mse_anom['time.month']==5))\n",
    "mayMSE2 = maydata2.sel(time = slice('1900-05-01', '2015-05-01'))\n",
    "maymean2 = ((mayMSE2*weights2).mean({'lon', 'lat'})/weights2.mean())\n",
    "\n",
    "marchmean2.time.data = maymean2.time.data\n",
    "MSEright = maymean2 - marchmean2\n",
    "\n",
    "#MSERussia\n",
    "latrange3 = mse_anom.sel(lat = slice(45, 70)).lat\n",
    "weights3 = np.cos(latrange3*np.pi/180)\n",
    "\n",
    "marchdata3 = mse_anom.sel(lat = slice(45, 70), lon = slice(95, 210), time = (mse_anom['time.month']==3))\n",
    "marchMSE3 = marchdata3.sel(time = slice('1900-03-01', '2015-03-01'))\n",
    "marchmean3 = (marchMSE3*weights3).mean({'lon', 'lat'})/weights3.mean()\n",
    "\n",
    "maydata3 = mse_anom.sel(lat = slice(45, 70), lon = slice(95, 210), time = (mse_anom['time.month']==5))\n",
    "mayMSE3 = maydata3.sel(time = slice('1900-05-01', '2015-05-01'))\n",
    "maymean3 = (mayMSE3*weights3).mean({'lon', 'lat'})/weights3.mean()\n",
    "\n",
    "marchmean3.time.data = maymean3.time.data\n",
    "MSErussia = maymean3 - marchmean3\n",
    "\n",
    "Leftarea = (25*weights1.mean() * 25)\n",
    "Rightarea = (20*weights2.mean() * 20)\n",
    "Russiaarea = (25*weights2.mean() * 15)\n",
    "MSEinitial = ((MSEleft * Leftarea) + (MSEright * Rightarea) + (MSErussia * Russiaarea))/(Leftarea + Rightarea + Russiaarea)\n",
    "#print(MSEinitial)\n",
    "MSEstd = MSEinitial.std()\n",
    "MSEmean = MSEinitial.mean()\n",
    "MSEnew = (MSEinitial - MSEmean)/MSEstd\n",
    "\n",
    "print(\"MSE mean\", MSEmean)\n",
    "print(\"MSE std\", MSEstd)"
   ]
  },
  {
   "cell_type": "code",
   "execution_count": 26,
   "metadata": {},
   "outputs": [
    {
     "name": "stdout",
     "output_type": "stream",
     "text": [
      "<xarray.DataArray (time: 88)>\n",
      "array([-1.246368e+00, -7.325898e-01, -1.444614e-01, -1.446603e+00,\n",
      "       -9.845979e-02,  1.033595e-01,  2.258152e-01, -7.907559e-04,\n",
      "       -3.919780e-01, -1.098968e+00,  2.915593e-01,  2.563477e-01,\n",
      "       -1.453624e+00, -1.479712e+00, -1.504591e-01, -1.764262e+00,\n",
      "       -2.432535e-01, -1.378350e+00, -5.222729e-01,  4.098937e-01,\n",
      "       -8.464924e-01,  1.497652e+00,  1.930288e-01, -6.872415e-01,\n",
      "       -8.467378e-01,  6.587007e-01, -9.095951e-01,  1.098199e+00,\n",
      "        1.337829e+00,  1.021600e+00, -4.728730e-01,  2.426730e-02,\n",
      "       -4.039122e-01, -1.621664e+00, -1.778630e-01,  1.189668e+00,\n",
      "        1.715331e+00,  1.257968e-01,  2.179566e-01, -2.083191e-01,\n",
      "       -1.827680e-01, -8.147489e-01, -8.316997e-01, -8.543665e-01,\n",
      "        3.245640e-01, -5.403659e-01, -5.716350e-01, -2.140544e-01,\n",
      "       -8.750809e-01, -2.013457e+00, -1.648156e-01,  7.740328e-01,\n",
      "        1.760908e+00,  1.473913e+00, -7.868873e-02,  8.494273e-01,\n",
      "        3.659954e-01,  9.182117e-01, -5.657184e-01, -3.069613e-01,\n",
      "       -8.617516e-01,  5.173720e-01, -2.255668e-02,  6.356538e-01,\n",
      "       -1.146882e+00,  5.944640e-01, -5.697084e-01,  1.242466e+00,\n",
      "       -2.249002e-01,  5.026411e-01,  2.933262e-01, -1.794453e-02,\n",
      "       -1.439153e+00, -1.408856e+00, -2.517624e-01,  3.500087e+00,\n",
      "        1.868701e+00,  3.034266e-01,  5.608907e-01, -1.373228e+00,\n",
      "        1.029700e+00,  9.045832e-01,  4.344841e-01,  1.354733e+00,\n",
      "        2.770814e+00,  7.034410e-01, -1.879616e-01, -2.049263e-01])\n",
      "Coordinates:\n",
      "  * time     (time) datetime64[ns] 1900-05-01 1901-05-01 ... 2015-05-01\n"
     ]
    }
   ],
   "source": [
    "print(MSEnew)"
   ]
  },
  {
   "cell_type": "markdown",
   "metadata": {},
   "source": [
    "# Cross Validation"
   ]
  },
  {
   "cell_type": "code",
   "execution_count": 27,
   "metadata": {},
   "outputs": [],
   "source": [
    "from sklearn.linear_model import LinearRegression\n",
    "from sklearn.model_selection import cross_validate"
   ]
  },
  {
   "cell_type": "code",
   "execution_count": 40,
   "metadata": {},
   "outputs": [],
   "source": [
    "Ydata = (precip_jjas - precip_jjas.mean())/precip_jjas.std()\n",
    "Xtrain = []\n",
    "for x in range(88):\n",
    "    Xtrain.append(float(EPTnew[x]))\n",
    "    Xtrain.append(float(CPTnew[x]))\n",
    "    Xtrain.append(float(PSHnew[x]))\n",
    "    Xtrain.append(float(MSEnew[x]))\n",
    "Xtrainarray = np.array([Xtrain])\n",
    "Xdata = Xtrainarray.reshape(-1,4)"
   ]
  },
  {
   "cell_type": "code",
   "execution_count": 41,
   "metadata": {},
   "outputs": [
    {
     "name": "stdout",
     "output_type": "stream",
     "text": [
      "EPT new 0.47599396\n",
      "CPT new 0.43166497\n",
      "PSH new 0.3855547834927873\n",
      "MSE new 0.30083745881750784\n"
     ]
    }
   ],
   "source": [
    "EPTfit = np.array(EPTnew).reshape(-1, 1)\n",
    "CPTfit = np.array(CPTnew).reshape(-1, 1)\n",
    "PSHfit = np.array(PSHnew).reshape(-1, 1)\n",
    "MSEfit = np.array(MSEnew).reshape(-1, 1)\n",
    "\n",
    "lnregressor = LinearRegression()\n",
    "lnregressor.fit(EPTfit, Ydata)\n",
    "print(\"EPT new\", lnregressor.coef_[0])\n",
    "lnregressor.fit(CPTfit, Ydata)\n",
    "print(\"CPT new\", lnregressor.coef_[0])\n",
    "lnregressor.fit(PSHfit, Ydata)\n",
    "print(\"PSH new\", lnregressor.coef_[0])\n",
    "lnregressor.fit(MSEfit, Ydata)\n",
    "print(\"MSE new\", lnregressor.coef_[0])"
   ]
  },
  {
   "cell_type": "code",
   "execution_count": 42,
   "metadata": {},
   "outputs": [
    {
     "name": "stderr",
     "output_type": "stream",
     "text": [
      "/global/home/users/medhap02/.conda/envs/xarrayenv2/lib/python3.7/site-packages/sklearn/metrics/regression.py:543: UndefinedMetricWarning: R^2 score is not well-defined with less than two samples.\n",
      "  warnings.warn(msg, UndefinedMetricWarning)\n",
      "/global/home/users/medhap02/.conda/envs/xarrayenv2/lib/python3.7/site-packages/sklearn/metrics/regression.py:543: UndefinedMetricWarning: R^2 score is not well-defined with less than two samples.\n",
      "  warnings.warn(msg, UndefinedMetricWarning)\n",
      "/global/home/users/medhap02/.conda/envs/xarrayenv2/lib/python3.7/site-packages/sklearn/metrics/regression.py:543: UndefinedMetricWarning: R^2 score is not well-defined with less than two samples.\n",
      "  warnings.warn(msg, UndefinedMetricWarning)\n",
      "/global/home/users/medhap02/.conda/envs/xarrayenv2/lib/python3.7/site-packages/sklearn/metrics/regression.py:543: UndefinedMetricWarning: R^2 score is not well-defined with less than two samples.\n",
      "  warnings.warn(msg, UndefinedMetricWarning)\n",
      "/global/home/users/medhap02/.conda/envs/xarrayenv2/lib/python3.7/site-packages/sklearn/metrics/regression.py:543: UndefinedMetricWarning: R^2 score is not well-defined with less than two samples.\n",
      "  warnings.warn(msg, UndefinedMetricWarning)\n",
      "/global/home/users/medhap02/.conda/envs/xarrayenv2/lib/python3.7/site-packages/sklearn/metrics/regression.py:543: UndefinedMetricWarning: R^2 score is not well-defined with less than two samples.\n",
      "  warnings.warn(msg, UndefinedMetricWarning)\n",
      "/global/home/users/medhap02/.conda/envs/xarrayenv2/lib/python3.7/site-packages/sklearn/metrics/regression.py:543: UndefinedMetricWarning: R^2 score is not well-defined with less than two samples.\n",
      "  warnings.warn(msg, UndefinedMetricWarning)\n",
      "/global/home/users/medhap02/.conda/envs/xarrayenv2/lib/python3.7/site-packages/sklearn/metrics/regression.py:543: UndefinedMetricWarning: R^2 score is not well-defined with less than two samples.\n",
      "  warnings.warn(msg, UndefinedMetricWarning)\n",
      "/global/home/users/medhap02/.conda/envs/xarrayenv2/lib/python3.7/site-packages/sklearn/metrics/regression.py:543: UndefinedMetricWarning: R^2 score is not well-defined with less than two samples.\n",
      "  warnings.warn(msg, UndefinedMetricWarning)\n",
      "/global/home/users/medhap02/.conda/envs/xarrayenv2/lib/python3.7/site-packages/sklearn/metrics/regression.py:543: UndefinedMetricWarning: R^2 score is not well-defined with less than two samples.\n",
      "  warnings.warn(msg, UndefinedMetricWarning)\n",
      "/global/home/users/medhap02/.conda/envs/xarrayenv2/lib/python3.7/site-packages/sklearn/metrics/regression.py:543: UndefinedMetricWarning: R^2 score is not well-defined with less than two samples.\n",
      "  warnings.warn(msg, UndefinedMetricWarning)\n",
      "/global/home/users/medhap02/.conda/envs/xarrayenv2/lib/python3.7/site-packages/sklearn/metrics/regression.py:543: UndefinedMetricWarning: R^2 score is not well-defined with less than two samples.\n",
      "  warnings.warn(msg, UndefinedMetricWarning)\n",
      "/global/home/users/medhap02/.conda/envs/xarrayenv2/lib/python3.7/site-packages/sklearn/metrics/regression.py:543: UndefinedMetricWarning: R^2 score is not well-defined with less than two samples.\n",
      "  warnings.warn(msg, UndefinedMetricWarning)\n",
      "/global/home/users/medhap02/.conda/envs/xarrayenv2/lib/python3.7/site-packages/sklearn/metrics/regression.py:543: UndefinedMetricWarning: R^2 score is not well-defined with less than two samples.\n",
      "  warnings.warn(msg, UndefinedMetricWarning)\n",
      "/global/home/users/medhap02/.conda/envs/xarrayenv2/lib/python3.7/site-packages/sklearn/metrics/regression.py:543: UndefinedMetricWarning: R^2 score is not well-defined with less than two samples.\n",
      "  warnings.warn(msg, UndefinedMetricWarning)\n",
      "/global/home/users/medhap02/.conda/envs/xarrayenv2/lib/python3.7/site-packages/sklearn/metrics/regression.py:543: UndefinedMetricWarning: R^2 score is not well-defined with less than two samples.\n",
      "  warnings.warn(msg, UndefinedMetricWarning)\n",
      "/global/home/users/medhap02/.conda/envs/xarrayenv2/lib/python3.7/site-packages/sklearn/metrics/regression.py:543: UndefinedMetricWarning: R^2 score is not well-defined with less than two samples.\n",
      "  warnings.warn(msg, UndefinedMetricWarning)\n",
      "/global/home/users/medhap02/.conda/envs/xarrayenv2/lib/python3.7/site-packages/sklearn/metrics/regression.py:543: UndefinedMetricWarning: R^2 score is not well-defined with less than two samples.\n",
      "  warnings.warn(msg, UndefinedMetricWarning)\n",
      "/global/home/users/medhap02/.conda/envs/xarrayenv2/lib/python3.7/site-packages/sklearn/metrics/regression.py:543: UndefinedMetricWarning: R^2 score is not well-defined with less than two samples.\n",
      "  warnings.warn(msg, UndefinedMetricWarning)\n",
      "/global/home/users/medhap02/.conda/envs/xarrayenv2/lib/python3.7/site-packages/sklearn/metrics/regression.py:543: UndefinedMetricWarning: R^2 score is not well-defined with less than two samples.\n",
      "  warnings.warn(msg, UndefinedMetricWarning)\n",
      "/global/home/users/medhap02/.conda/envs/xarrayenv2/lib/python3.7/site-packages/sklearn/metrics/regression.py:543: UndefinedMetricWarning: R^2 score is not well-defined with less than two samples.\n",
      "  warnings.warn(msg, UndefinedMetricWarning)\n",
      "/global/home/users/medhap02/.conda/envs/xarrayenv2/lib/python3.7/site-packages/sklearn/metrics/regression.py:543: UndefinedMetricWarning: R^2 score is not well-defined with less than two samples.\n",
      "  warnings.warn(msg, UndefinedMetricWarning)\n",
      "/global/home/users/medhap02/.conda/envs/xarrayenv2/lib/python3.7/site-packages/sklearn/metrics/regression.py:543: UndefinedMetricWarning: R^2 score is not well-defined with less than two samples.\n",
      "  warnings.warn(msg, UndefinedMetricWarning)\n",
      "/global/home/users/medhap02/.conda/envs/xarrayenv2/lib/python3.7/site-packages/sklearn/metrics/regression.py:543: UndefinedMetricWarning: R^2 score is not well-defined with less than two samples.\n",
      "  warnings.warn(msg, UndefinedMetricWarning)\n",
      "/global/home/users/medhap02/.conda/envs/xarrayenv2/lib/python3.7/site-packages/sklearn/metrics/regression.py:543: UndefinedMetricWarning: R^2 score is not well-defined with less than two samples.\n",
      "  warnings.warn(msg, UndefinedMetricWarning)\n",
      "/global/home/users/medhap02/.conda/envs/xarrayenv2/lib/python3.7/site-packages/sklearn/metrics/regression.py:543: UndefinedMetricWarning: R^2 score is not well-defined with less than two samples.\n",
      "  warnings.warn(msg, UndefinedMetricWarning)\n",
      "/global/home/users/medhap02/.conda/envs/xarrayenv2/lib/python3.7/site-packages/sklearn/metrics/regression.py:543: UndefinedMetricWarning: R^2 score is not well-defined with less than two samples.\n",
      "  warnings.warn(msg, UndefinedMetricWarning)\n",
      "/global/home/users/medhap02/.conda/envs/xarrayenv2/lib/python3.7/site-packages/sklearn/metrics/regression.py:543: UndefinedMetricWarning: R^2 score is not well-defined with less than two samples.\n",
      "  warnings.warn(msg, UndefinedMetricWarning)\n",
      "/global/home/users/medhap02/.conda/envs/xarrayenv2/lib/python3.7/site-packages/sklearn/metrics/regression.py:543: UndefinedMetricWarning: R^2 score is not well-defined with less than two samples.\n",
      "  warnings.warn(msg, UndefinedMetricWarning)\n",
      "/global/home/users/medhap02/.conda/envs/xarrayenv2/lib/python3.7/site-packages/sklearn/metrics/regression.py:543: UndefinedMetricWarning: R^2 score is not well-defined with less than two samples.\n",
      "  warnings.warn(msg, UndefinedMetricWarning)\n",
      "/global/home/users/medhap02/.conda/envs/xarrayenv2/lib/python3.7/site-packages/sklearn/metrics/regression.py:543: UndefinedMetricWarning: R^2 score is not well-defined with less than two samples.\n",
      "  warnings.warn(msg, UndefinedMetricWarning)\n",
      "/global/home/users/medhap02/.conda/envs/xarrayenv2/lib/python3.7/site-packages/sklearn/metrics/regression.py:543: UndefinedMetricWarning: R^2 score is not well-defined with less than two samples.\n",
      "  warnings.warn(msg, UndefinedMetricWarning)\n",
      "/global/home/users/medhap02/.conda/envs/xarrayenv2/lib/python3.7/site-packages/sklearn/metrics/regression.py:543: UndefinedMetricWarning: R^2 score is not well-defined with less than two samples.\n",
      "  warnings.warn(msg, UndefinedMetricWarning)\n",
      "/global/home/users/medhap02/.conda/envs/xarrayenv2/lib/python3.7/site-packages/sklearn/metrics/regression.py:543: UndefinedMetricWarning: R^2 score is not well-defined with less than two samples.\n",
      "  warnings.warn(msg, UndefinedMetricWarning)\n",
      "/global/home/users/medhap02/.conda/envs/xarrayenv2/lib/python3.7/site-packages/sklearn/metrics/regression.py:543: UndefinedMetricWarning: R^2 score is not well-defined with less than two samples.\n",
      "  warnings.warn(msg, UndefinedMetricWarning)\n",
      "/global/home/users/medhap02/.conda/envs/xarrayenv2/lib/python3.7/site-packages/sklearn/metrics/regression.py:543: UndefinedMetricWarning: R^2 score is not well-defined with less than two samples.\n",
      "  warnings.warn(msg, UndefinedMetricWarning)\n",
      "/global/home/users/medhap02/.conda/envs/xarrayenv2/lib/python3.7/site-packages/sklearn/metrics/regression.py:543: UndefinedMetricWarning: R^2 score is not well-defined with less than two samples.\n",
      "  warnings.warn(msg, UndefinedMetricWarning)\n",
      "/global/home/users/medhap02/.conda/envs/xarrayenv2/lib/python3.7/site-packages/sklearn/metrics/regression.py:543: UndefinedMetricWarning: R^2 score is not well-defined with less than two samples.\n",
      "  warnings.warn(msg, UndefinedMetricWarning)\n",
      "/global/home/users/medhap02/.conda/envs/xarrayenv2/lib/python3.7/site-packages/sklearn/metrics/regression.py:543: UndefinedMetricWarning: R^2 score is not well-defined with less than two samples.\n",
      "  warnings.warn(msg, UndefinedMetricWarning)\n",
      "/global/home/users/medhap02/.conda/envs/xarrayenv2/lib/python3.7/site-packages/sklearn/metrics/regression.py:543: UndefinedMetricWarning: R^2 score is not well-defined with less than two samples.\n",
      "  warnings.warn(msg, UndefinedMetricWarning)\n",
      "/global/home/users/medhap02/.conda/envs/xarrayenv2/lib/python3.7/site-packages/sklearn/metrics/regression.py:543: UndefinedMetricWarning: R^2 score is not well-defined with less than two samples.\n",
      "  warnings.warn(msg, UndefinedMetricWarning)\n",
      "/global/home/users/medhap02/.conda/envs/xarrayenv2/lib/python3.7/site-packages/sklearn/metrics/regression.py:543: UndefinedMetricWarning: R^2 score is not well-defined with less than two samples.\n",
      "  warnings.warn(msg, UndefinedMetricWarning)\n",
      "/global/home/users/medhap02/.conda/envs/xarrayenv2/lib/python3.7/site-packages/sklearn/metrics/regression.py:543: UndefinedMetricWarning: R^2 score is not well-defined with less than two samples.\n",
      "  warnings.warn(msg, UndefinedMetricWarning)\n",
      "/global/home/users/medhap02/.conda/envs/xarrayenv2/lib/python3.7/site-packages/sklearn/metrics/regression.py:543: UndefinedMetricWarning: R^2 score is not well-defined with less than two samples.\n",
      "  warnings.warn(msg, UndefinedMetricWarning)\n",
      "/global/home/users/medhap02/.conda/envs/xarrayenv2/lib/python3.7/site-packages/sklearn/metrics/regression.py:543: UndefinedMetricWarning: R^2 score is not well-defined with less than two samples.\n",
      "  warnings.warn(msg, UndefinedMetricWarning)\n",
      "/global/home/users/medhap02/.conda/envs/xarrayenv2/lib/python3.7/site-packages/sklearn/metrics/regression.py:543: UndefinedMetricWarning: R^2 score is not well-defined with less than two samples.\n",
      "  warnings.warn(msg, UndefinedMetricWarning)\n",
      "/global/home/users/medhap02/.conda/envs/xarrayenv2/lib/python3.7/site-packages/sklearn/metrics/regression.py:543: UndefinedMetricWarning: R^2 score is not well-defined with less than two samples.\n",
      "  warnings.warn(msg, UndefinedMetricWarning)\n",
      "/global/home/users/medhap02/.conda/envs/xarrayenv2/lib/python3.7/site-packages/sklearn/metrics/regression.py:543: UndefinedMetricWarning: R^2 score is not well-defined with less than two samples.\n",
      "  warnings.warn(msg, UndefinedMetricWarning)\n",
      "/global/home/users/medhap02/.conda/envs/xarrayenv2/lib/python3.7/site-packages/sklearn/metrics/regression.py:543: UndefinedMetricWarning: R^2 score is not well-defined with less than two samples.\n",
      "  warnings.warn(msg, UndefinedMetricWarning)\n",
      "/global/home/users/medhap02/.conda/envs/xarrayenv2/lib/python3.7/site-packages/sklearn/metrics/regression.py:543: UndefinedMetricWarning: R^2 score is not well-defined with less than two samples.\n",
      "  warnings.warn(msg, UndefinedMetricWarning)\n",
      "/global/home/users/medhap02/.conda/envs/xarrayenv2/lib/python3.7/site-packages/sklearn/metrics/regression.py:543: UndefinedMetricWarning: R^2 score is not well-defined with less than two samples.\n",
      "  warnings.warn(msg, UndefinedMetricWarning)\n",
      "/global/home/users/medhap02/.conda/envs/xarrayenv2/lib/python3.7/site-packages/sklearn/metrics/regression.py:543: UndefinedMetricWarning: R^2 score is not well-defined with less than two samples.\n",
      "  warnings.warn(msg, UndefinedMetricWarning)\n",
      "/global/home/users/medhap02/.conda/envs/xarrayenv2/lib/python3.7/site-packages/sklearn/metrics/regression.py:543: UndefinedMetricWarning: R^2 score is not well-defined with less than two samples.\n",
      "  warnings.warn(msg, UndefinedMetricWarning)\n",
      "/global/home/users/medhap02/.conda/envs/xarrayenv2/lib/python3.7/site-packages/sklearn/metrics/regression.py:543: UndefinedMetricWarning: R^2 score is not well-defined with less than two samples.\n",
      "  warnings.warn(msg, UndefinedMetricWarning)\n",
      "/global/home/users/medhap02/.conda/envs/xarrayenv2/lib/python3.7/site-packages/sklearn/metrics/regression.py:543: UndefinedMetricWarning: R^2 score is not well-defined with less than two samples.\n",
      "  warnings.warn(msg, UndefinedMetricWarning)\n"
     ]
    },
    {
     "name": "stdout",
     "output_type": "stream",
     "text": [
      "Linear Regression [0.35726092 0.28980298 0.13676787 0.16154875]\n",
      "Cross Validation [0.3559422  0.28966499 0.13580059 0.16203297]\n"
     ]
    },
    {
     "name": "stderr",
     "output_type": "stream",
     "text": [
      "/global/home/users/medhap02/.conda/envs/xarrayenv2/lib/python3.7/site-packages/sklearn/metrics/regression.py:543: UndefinedMetricWarning: R^2 score is not well-defined with less than two samples.\n",
      "  warnings.warn(msg, UndefinedMetricWarning)\n",
      "/global/home/users/medhap02/.conda/envs/xarrayenv2/lib/python3.7/site-packages/sklearn/metrics/regression.py:543: UndefinedMetricWarning: R^2 score is not well-defined with less than two samples.\n",
      "  warnings.warn(msg, UndefinedMetricWarning)\n",
      "/global/home/users/medhap02/.conda/envs/xarrayenv2/lib/python3.7/site-packages/sklearn/metrics/regression.py:543: UndefinedMetricWarning: R^2 score is not well-defined with less than two samples.\n",
      "  warnings.warn(msg, UndefinedMetricWarning)\n",
      "/global/home/users/medhap02/.conda/envs/xarrayenv2/lib/python3.7/site-packages/sklearn/metrics/regression.py:543: UndefinedMetricWarning: R^2 score is not well-defined with less than two samples.\n",
      "  warnings.warn(msg, UndefinedMetricWarning)\n",
      "/global/home/users/medhap02/.conda/envs/xarrayenv2/lib/python3.7/site-packages/sklearn/metrics/regression.py:543: UndefinedMetricWarning: R^2 score is not well-defined with less than two samples.\n",
      "  warnings.warn(msg, UndefinedMetricWarning)\n",
      "/global/home/users/medhap02/.conda/envs/xarrayenv2/lib/python3.7/site-packages/sklearn/metrics/regression.py:543: UndefinedMetricWarning: R^2 score is not well-defined with less than two samples.\n",
      "  warnings.warn(msg, UndefinedMetricWarning)\n",
      "/global/home/users/medhap02/.conda/envs/xarrayenv2/lib/python3.7/site-packages/sklearn/metrics/regression.py:543: UndefinedMetricWarning: R^2 score is not well-defined with less than two samples.\n",
      "  warnings.warn(msg, UndefinedMetricWarning)\n",
      "/global/home/users/medhap02/.conda/envs/xarrayenv2/lib/python3.7/site-packages/sklearn/metrics/regression.py:543: UndefinedMetricWarning: R^2 score is not well-defined with less than two samples.\n",
      "  warnings.warn(msg, UndefinedMetricWarning)\n",
      "/global/home/users/medhap02/.conda/envs/xarrayenv2/lib/python3.7/site-packages/sklearn/metrics/regression.py:543: UndefinedMetricWarning: R^2 score is not well-defined with less than two samples.\n",
      "  warnings.warn(msg, UndefinedMetricWarning)\n",
      "/global/home/users/medhap02/.conda/envs/xarrayenv2/lib/python3.7/site-packages/sklearn/metrics/regression.py:543: UndefinedMetricWarning: R^2 score is not well-defined with less than two samples.\n",
      "  warnings.warn(msg, UndefinedMetricWarning)\n",
      "/global/home/users/medhap02/.conda/envs/xarrayenv2/lib/python3.7/site-packages/sklearn/metrics/regression.py:543: UndefinedMetricWarning: R^2 score is not well-defined with less than two samples.\n",
      "  warnings.warn(msg, UndefinedMetricWarning)\n",
      "/global/home/users/medhap02/.conda/envs/xarrayenv2/lib/python3.7/site-packages/sklearn/metrics/regression.py:543: UndefinedMetricWarning: R^2 score is not well-defined with less than two samples.\n",
      "  warnings.warn(msg, UndefinedMetricWarning)\n",
      "/global/home/users/medhap02/.conda/envs/xarrayenv2/lib/python3.7/site-packages/sklearn/metrics/regression.py:543: UndefinedMetricWarning: R^2 score is not well-defined with less than two samples.\n",
      "  warnings.warn(msg, UndefinedMetricWarning)\n",
      "/global/home/users/medhap02/.conda/envs/xarrayenv2/lib/python3.7/site-packages/sklearn/metrics/regression.py:543: UndefinedMetricWarning: R^2 score is not well-defined with less than two samples.\n",
      "  warnings.warn(msg, UndefinedMetricWarning)\n",
      "/global/home/users/medhap02/.conda/envs/xarrayenv2/lib/python3.7/site-packages/sklearn/metrics/regression.py:543: UndefinedMetricWarning: R^2 score is not well-defined with less than two samples.\n",
      "  warnings.warn(msg, UndefinedMetricWarning)\n",
      "/global/home/users/medhap02/.conda/envs/xarrayenv2/lib/python3.7/site-packages/sklearn/metrics/regression.py:543: UndefinedMetricWarning: R^2 score is not well-defined with less than two samples.\n",
      "  warnings.warn(msg, UndefinedMetricWarning)\n",
      "/global/home/users/medhap02/.conda/envs/xarrayenv2/lib/python3.7/site-packages/sklearn/metrics/regression.py:543: UndefinedMetricWarning: R^2 score is not well-defined with less than two samples.\n",
      "  warnings.warn(msg, UndefinedMetricWarning)\n",
      "/global/home/users/medhap02/.conda/envs/xarrayenv2/lib/python3.7/site-packages/sklearn/metrics/regression.py:543: UndefinedMetricWarning: R^2 score is not well-defined with less than two samples.\n",
      "  warnings.warn(msg, UndefinedMetricWarning)\n",
      "/global/home/users/medhap02/.conda/envs/xarrayenv2/lib/python3.7/site-packages/sklearn/metrics/regression.py:543: UndefinedMetricWarning: R^2 score is not well-defined with less than two samples.\n",
      "  warnings.warn(msg, UndefinedMetricWarning)\n",
      "/global/home/users/medhap02/.conda/envs/xarrayenv2/lib/python3.7/site-packages/sklearn/metrics/regression.py:543: UndefinedMetricWarning: R^2 score is not well-defined with less than two samples.\n",
      "  warnings.warn(msg, UndefinedMetricWarning)\n",
      "/global/home/users/medhap02/.conda/envs/xarrayenv2/lib/python3.7/site-packages/sklearn/metrics/regression.py:543: UndefinedMetricWarning: R^2 score is not well-defined with less than two samples.\n",
      "  warnings.warn(msg, UndefinedMetricWarning)\n",
      "/global/home/users/medhap02/.conda/envs/xarrayenv2/lib/python3.7/site-packages/sklearn/metrics/regression.py:543: UndefinedMetricWarning: R^2 score is not well-defined with less than two samples.\n",
      "  warnings.warn(msg, UndefinedMetricWarning)\n",
      "/global/home/users/medhap02/.conda/envs/xarrayenv2/lib/python3.7/site-packages/sklearn/metrics/regression.py:543: UndefinedMetricWarning: R^2 score is not well-defined with less than two samples.\n",
      "  warnings.warn(msg, UndefinedMetricWarning)\n",
      "/global/home/users/medhap02/.conda/envs/xarrayenv2/lib/python3.7/site-packages/sklearn/metrics/regression.py:543: UndefinedMetricWarning: R^2 score is not well-defined with less than two samples.\n",
      "  warnings.warn(msg, UndefinedMetricWarning)\n",
      "/global/home/users/medhap02/.conda/envs/xarrayenv2/lib/python3.7/site-packages/sklearn/metrics/regression.py:543: UndefinedMetricWarning: R^2 score is not well-defined with less than two samples.\n",
      "  warnings.warn(msg, UndefinedMetricWarning)\n",
      "/global/home/users/medhap02/.conda/envs/xarrayenv2/lib/python3.7/site-packages/sklearn/metrics/regression.py:543: UndefinedMetricWarning: R^2 score is not well-defined with less than two samples.\n",
      "  warnings.warn(msg, UndefinedMetricWarning)\n",
      "/global/home/users/medhap02/.conda/envs/xarrayenv2/lib/python3.7/site-packages/sklearn/metrics/regression.py:543: UndefinedMetricWarning: R^2 score is not well-defined with less than two samples.\n",
      "  warnings.warn(msg, UndefinedMetricWarning)\n",
      "/global/home/users/medhap02/.conda/envs/xarrayenv2/lib/python3.7/site-packages/sklearn/metrics/regression.py:543: UndefinedMetricWarning: R^2 score is not well-defined with less than two samples.\n",
      "  warnings.warn(msg, UndefinedMetricWarning)\n",
      "/global/home/users/medhap02/.conda/envs/xarrayenv2/lib/python3.7/site-packages/sklearn/metrics/regression.py:543: UndefinedMetricWarning: R^2 score is not well-defined with less than two samples.\n",
      "  warnings.warn(msg, UndefinedMetricWarning)\n",
      "/global/home/users/medhap02/.conda/envs/xarrayenv2/lib/python3.7/site-packages/sklearn/metrics/regression.py:543: UndefinedMetricWarning: R^2 score is not well-defined with less than two samples.\n",
      "  warnings.warn(msg, UndefinedMetricWarning)\n",
      "/global/home/users/medhap02/.conda/envs/xarrayenv2/lib/python3.7/site-packages/sklearn/metrics/regression.py:543: UndefinedMetricWarning: R^2 score is not well-defined with less than two samples.\n",
      "  warnings.warn(msg, UndefinedMetricWarning)\n"
     ]
    }
   ],
   "source": [
    "#simple linear regression\n",
    "regressor = LinearRegression()\n",
    "regressor.fit(Xdata, Ydata)\n",
    "\n",
    "#crossvalidation\n",
    "lmodel = LinearRegression()\n",
    "cv_results = cross_validate(lmodel, Xdata, Ydata, cv=87, return_estimator=True) \n",
    "\n",
    "EPTcoef = []\n",
    "CPTcoef = []\n",
    "PSHcoef = []\n",
    "MSEcoef = []\n",
    "\n",
    "for model in cv_results['estimator']:\n",
    "    EPTcoef.append(model.coef_[0])\n",
    "    CPTcoef.append(model.coef_[1])\n",
    "    PSHcoef.append(model.coef_[2])\n",
    "    MSEcoef.append(model.coef_[3])\n",
    "\n",
    "print(\"Linear Regression\", regressor.coef_)\n",
    "print(\"Cross Validation\", model.coef_) # the last model"
   ]
  },
  {
   "cell_type": "code",
   "execution_count": 43,
   "metadata": {},
   "outputs": [
    {
     "name": "stderr",
     "output_type": "stream",
     "text": [
      "/global/home/users/medhap02/.conda/envs/xarrayenv2/lib/python3.7/site-packages/ipykernel_launcher.py:29: FutureWarning: from_items is deprecated. Please use DataFrame.from_dict(dict(items), ...) instead. DataFrame.from_dict(OrderedDict(items)) may be used to preserve the key order.\n"
     ]
    },
    {
     "data": {
      "text/html": [
       "<div>\n",
       "<style scoped>\n",
       "    .dataframe tbody tr th:only-of-type {\n",
       "        vertical-align: middle;\n",
       "    }\n",
       "\n",
       "    .dataframe tbody tr th {\n",
       "        vertical-align: top;\n",
       "    }\n",
       "\n",
       "    .dataframe thead th {\n",
       "        text-align: right;\n",
       "    }\n",
       "</style>\n",
       "<table border=\"1\" class=\"dataframe\">\n",
       "  <thead>\n",
       "    <tr style=\"text-align: right;\">\n",
       "      <th></th>\n",
       "      <th>Standard Deviation</th>\n",
       "      <th>Mean</th>\n",
       "    </tr>\n",
       "  </thead>\n",
       "  <tbody>\n",
       "    <tr>\n",
       "      <th>EPT new</th>\n",
       "      <td>0.009551</td>\n",
       "      <td>0.357306</td>\n",
       "    </tr>\n",
       "    <tr>\n",
       "      <th>CPT new</th>\n",
       "      <td>0.010980</td>\n",
       "      <td>0.289782</td>\n",
       "    </tr>\n",
       "    <tr>\n",
       "      <th>PSH new</th>\n",
       "      <td>0.011570</td>\n",
       "      <td>0.136764</td>\n",
       "    </tr>\n",
       "    <tr>\n",
       "      <th>MSE new</th>\n",
       "      <td>0.011590</td>\n",
       "      <td>0.161672</td>\n",
       "    </tr>\n",
       "  </tbody>\n",
       "</table>\n",
       "</div>"
      ],
      "text/plain": [
       "         Standard Deviation      Mean\n",
       "EPT new            0.009551  0.357306\n",
       "CPT new            0.010980  0.289782\n",
       "PSH new            0.011570  0.136764\n",
       "MSE new            0.011590  0.161672"
      ]
     },
     "execution_count": 43,
     "metadata": {},
     "output_type": "execute_result"
    }
   ],
   "source": [
    "EPTregressionstd = np.std(EPTcoef)\n",
    "CPTregressionstd = np.std(CPTcoef)\n",
    "PSHregressionstd = np.std(PSHcoef)\n",
    "MSEregressionstd = np.std(MSEcoef)\n",
    "\n",
    "EPTregressionmean = np.mean(EPTcoef)\n",
    "CPTregressionmean = np.mean(CPTcoef)\n",
    "PSHregressionmean = np.mean(PSHcoef)\n",
    "MSEregressionmean = np.mean(MSEcoef)\n",
    "\n",
    "EPTmodel = []\n",
    "CPTmodel = []\n",
    "PSHmodel = []\n",
    "MSEmodel = []\n",
    "\n",
    "EPTmodel.append(EPTregressionstd)\n",
    "EPTmodel.append(EPTregressionmean)\n",
    "\n",
    "CPTmodel.append(CPTregressionstd)\n",
    "CPTmodel.append(CPTregressionmean)\n",
    "\n",
    "PSHmodel.append(PSHregressionstd)\n",
    "PSHmodel.append(PSHregressionmean)\n",
    "\n",
    "MSEmodel.append(MSEregressionstd)\n",
    "MSEmodel.append(MSEregressionmean)\n",
    "\n",
    "#mean might not mean anything since data has been standardized\n",
    "pd.DataFrame.from_items([('EPT new', EPTmodel), ('CPT new', CPTmodel), ('PSH new', PSHmodel), ('MSE new', MSEmodel)], orient='index', columns=['Standard Deviation', 'Mean'])"
   ]
  },
  {
   "cell_type": "code",
   "execution_count": 44,
   "metadata": {},
   "outputs": [
    {
     "data": {
      "image/png": "[encoded data removed]",
      "text/plain": [
       "<Figure size 1008x576 with 1 Axes>"
      ]
     },
     "metadata": {
      "needs_background": "light"
     },
     "output_type": "display_data"
    },
    {
     "name": "stderr",
     "output_type": "stream",
     "text": [
      "/global/home/users/medhap02/.conda/envs/xarrayenv2/lib/python3.7/site-packages/ipykernel_launcher.py:18: FutureWarning: from_items is deprecated. Please use DataFrame.from_dict(dict(items), ...) instead. DataFrame.from_dict(OrderedDict(items)) may be used to preserve the key order.\n"
     ]
    },
    {
     "data": {
      "text/html": [
       "<div>\n",
       "<style scoped>\n",
       "    .dataframe tbody tr th:only-of-type {\n",
       "        vertical-align: middle;\n",
       "    }\n",
       "\n",
       "    .dataframe tbody tr th {\n",
       "        vertical-align: top;\n",
       "    }\n",
       "\n",
       "    .dataframe thead th {\n",
       "        text-align: right;\n",
       "    }\n",
       "</style>\n",
       "<table border=\"1\" class=\"dataframe\">\n",
       "  <thead>\n",
       "    <tr style=\"text-align: right;\">\n",
       "      <th></th>\n",
       "      <th>Standard Deviation</th>\n",
       "      <th>Mean</th>\n",
       "    </tr>\n",
       "  </thead>\n",
       "  <tbody>\n",
       "    <tr>\n",
       "      <th>EPT new</th>\n",
       "      <td>0.009551</td>\n",
       "      <td>0.357306</td>\n",
       "    </tr>\n",
       "    <tr>\n",
       "      <th>CPT new</th>\n",
       "      <td>0.010980</td>\n",
       "      <td>0.289782</td>\n",
       "    </tr>\n",
       "    <tr>\n",
       "      <th>PSH new</th>\n",
       "      <td>0.011570</td>\n",
       "      <td>0.136764</td>\n",
       "    </tr>\n",
       "    <tr>\n",
       "      <th>MSE new</th>\n",
       "      <td>0.011590</td>\n",
       "      <td>0.161672</td>\n",
       "    </tr>\n",
       "  </tbody>\n",
       "</table>\n",
       "</div>"
      ],
      "text/plain": [
       "         Standard Deviation      Mean\n",
       "EPT new            0.009551  0.357306\n",
       "CPT new            0.010980  0.289782\n",
       "PSH new            0.011570  0.136764\n",
       "MSE new            0.011590  0.161672"
      ]
     },
     "execution_count": 44,
     "metadata": {},
     "output_type": "execute_result"
    }
   ],
   "source": [
    "predictors = ['EPT', 'CPT', 'PSH', 'MSE']\n",
    "x_pos = np.arange(len(predictors))\n",
    "CTEs = [EPTregressionmean, CPTregressionmean, PSHregressionmean, MSEregressionmean]\n",
    "error = [EPTregressionstd, CPTregressionstd, PSHregressionstd, MSEregressionstd]\n",
    "\n",
    "\n",
    "fig, ax = plt.subplots(figsize=(14,8))\n",
    "ax.bar(x_pos, CTEs, yerr=error, align='center', alpha=0.5, ecolor='black', capsize=10)\n",
    "ax.set_ylabel('Coefficient of Predictors', fontsize = 'large')\n",
    "ax.set_xticks(x_pos)\n",
    "ax.set_xticklabels(predictors)\n",
    "ax.set_title('Coefficent of Predictors Generated From Cross Validation, 1900-2015',fontsize = 'xx-large')\n",
    "\n",
    "# Save the figure and show\n",
    "plt.tight_layout()\n",
    "#plt.savefig('bar_plot_with_error_bars.png')\n",
    "plt.show()\n",
    "pd.DataFrame.from_items([('EPT new', EPTmodel), ('CPT new', CPTmodel), ('PSH new', PSHmodel), ('MSE new', MSEmodel)], orient='index', columns=['Standard Deviation', 'Mean'])"
   ]
  },
  {
   "cell_type": "markdown",
   "metadata": {},
   "source": [
    "# Model"
   ]
  },
  {
   "cell_type": "code",
   "execution_count": 45,
   "metadata": {},
   "outputs": [
    {
     "data": {
      "text/plain": [
       "<xarray.DataArray (time: 88)>\n",
       "array([-1.294683e-01, -6.309214e-01,  2.716958e-01, -1.524958e+00,\n",
       "       -1.884709e+00,  3.745076e-01, -2.219056e-01,  4.207624e-02,\n",
       "       -1.049459e-02, -1.128169e+00,  3.047041e-01, -7.316387e-01,\n",
       "       -2.058961e-01,  5.287019e-01, -4.505425e-01, -2.353695e-01,\n",
       "       -3.389668e-01, -6.261425e-01, -1.565867e-01,  4.950156e-01,\n",
       "        1.166686e-02,  4.901143e-01, -2.977269e-02, -4.052447e-01,\n",
       "        6.005638e-01,  5.352612e-01, -9.860075e-01, -3.006271e-01,\n",
       "        3.397997e-01,  6.320553e-01, -1.761149e-01,  8.147889e-02,\n",
       "        1.153303e+00, -5.251276e-01,  4.373133e-01, -3.795903e-01,\n",
       "        7.377461e-01,  7.305528e-01,  8.139367e-01, -4.984500e-01,\n",
       "        2.501819e-01, -1.845428e-02,  3.245093e-01,  6.928753e-01,\n",
       "        1.667112e-01, -5.676993e-01,  1.198640e+00, -9.288486e-01,\n",
       "       -3.563919e-01, -6.805595e-02, -4.980612e-01,  5.429707e-01,\n",
       "        7.724013e-01,  8.037254e-01, -3.223665e-01,  6.584946e-01,\n",
       "       -4.199316e-01,  9.541132e-01, -1.004842e+00, -1.458135e-03,\n",
       "       -8.018218e-01,  5.213338e-01,  3.405231e-01, -2.422967e-01,\n",
       "       -8.359925e-01,  5.273351e-01,  3.443109e-01,  5.579029e-01,\n",
       "       -2.613430e-01, -3.102805e-01, -1.201387e-01,  1.322875e-01,\n",
       "       -3.281807e-02, -1.734803e+00,  5.015554e-01,  7.257498e-01,\n",
       "        8.334509e-01, -4.331304e-01,  6.488816e-01, -4.449528e-01,\n",
       "        5.987127e-01,  8.305200e-02, -2.323245e-01,  4.901651e-01,\n",
       "        3.239793e-01,  8.532931e-01, -1.344036e-01, -1.080526e+00])\n",
       "Coordinates:\n",
       "  * time     (time) datetime64[ns] 1900-05-01 1901-05-01 ... 2015-05-01"
      ]
     },
     "execution_count": 45,
     "metadata": {},
     "output_type": "execute_result"
    }
   ],
   "source": [
    "AIRI = 0.357*EPTnew + 0.290*CPTnew + 0.137*PSHnew + 0.162*MSEnew\n",
    "AIRI"
   ]
  },
  {
   "cell_type": "code",
   "execution_count": 46,
   "metadata": {},
   "outputs": [
    {
     "name": "stdout",
     "output_type": "stream",
     "text": [
      "<xarray.DataArray (time: 88)>\n",
      "array([713.619369, 681.393066, 739.400519, 623.937054, 600.817366, 746.007805,\n",
      "       707.678808, 724.643823, 721.265315, 649.437033, 741.521822, 674.920384,\n",
      "       708.707674, 755.917227, 692.985269, 706.813539, 700.155771, 681.700185,\n",
      "       711.87658 , 753.752349, 722.689539, 753.437364, 720.026391, 695.896366,\n",
      "       760.535492, 756.338767, 658.573159, 702.619705, 743.777269, 762.559325,\n",
      "       710.62159 , 727.176067, 796.057713, 688.191993, 750.044066, 697.545072,\n",
      "       769.351627, 768.889349, 774.248084, 689.906452, 738.017908, 720.753778,\n",
      "       742.794623, 766.467971, 732.653596, 685.456088, 798.971339, 662.246522,\n",
      "       699.035935, 717.566086, 689.93144 , 756.834225, 771.578778, 773.591844,\n",
      "       701.222602, 764.258467, 694.9525  , 783.256641, 657.362747, 721.84605 ,\n",
      "       670.410005, 755.44371 , 743.823762, 706.36836 , 668.214001, 755.829392,\n",
      "       744.06719 , 757.793857, 705.144333, 701.999321, 714.218944, 730.441327,\n",
      "       719.830677, 610.451182, 754.172636, 768.580681, 775.502179, 694.104269,\n",
      "       763.640677, 693.344491, 760.416534, 727.277165, 707.00923 , 753.440628,\n",
      "       742.760558, 776.777358, 713.3022  , 652.498864])\n",
      "Coordinates:\n",
      "  * time     (time) datetime64[ns] 1900-05-01 1901-05-01 ... 2015-05-01\n"
     ]
    }
   ],
   "source": [
    "precip_jjas.time.data = EPTnew.time.data\n",
    "rainfallmean = precip_jjas.mean()\n",
    "rainfallstd = precip_jjas.std()\n",
    "\n",
    "final = (AIRI * rainfallstd) + rainfallmean\n",
    "print(final)"
   ]
  },
  {
   "cell_type": "code",
   "execution_count": 47,
   "metadata": {},
   "outputs": [
    {
     "name": "stdout",
     "output_type": "stream",
     "text": [
      "<xarray.DataArray (time: 88)>\n",
      "array([690.57453 , 660.88798 , 732.683094, 575.461795, 520.858359, 736.130566,\n",
      "       667.768053, 726.635315, 716.270435, 597.43996 , 751.556606, 626.504285,\n",
      "       669.339461, 788.023247, 680.176089, 680.386883, 690.050354, 658.409456,\n",
      "       706.273767, 772.318687, 703.764276, 786.931531, 719.843007, 678.217905,\n",
      "       763.808077, 777.583973, 630.029061, 700.258117, 767.926316, 805.338846,\n",
      "       712.780562, 736.447863, 839.608382, 664.893984, 773.093867, 711.933174,\n",
      "       811.239479, 784.045126, 783.32249 , 662.3355  , 741.796962, 713.431228,\n",
      "       739.984756, 798.898229, 733.046089, 653.57938 , 844.23631 , 635.124877,\n",
      "       695.196632, 706.538172, 678.230534, 786.533178, 811.984048, 807.577955,\n",
      "       700.447126, 802.275601, 692.758547, 817.560121, 617.037077, 714.383915,\n",
      "       638.866567, 784.075072, 768.451167, 697.831982, 623.406467, 786.405296,\n",
      "       756.31046 , 787.398424, 692.480956, 678.878023, 711.930221, 721.734443,\n",
      "       712.024326, 533.70241 , 768.140959, 832.242596, 819.408943, 681.320732,\n",
      "       785.875582, 666.30577 , 787.484097, 750.048347, 707.797773, 787.054092,\n",
      "       775.786594, 803.969595, 710.530637, 609.466465])\n",
      "Coordinates:\n",
      "  * time     (time) datetime64[ns] 1900-05-01 1901-05-01 ... 2015-05-01\n"
     ]
    }
   ],
   "source": [
    "AIRI2 = 0.475*EPTnew + 0.432*CPTnew + 0.386*PSHnew + 0.301*MSEnew\n",
    "AIRI2\n",
    "\n",
    "final2 = (AIRI2 * rainfallstd) + rainfallmean\n",
    "print(final2)"
   ]
  },
  {
   "cell_type": "code",
   "execution_count": 48,
   "metadata": {},
   "outputs": [
    {
     "name": "stdout",
     "output_type": "stream",
     "text": [
      "multiple linear regression\n",
      "correlation between final and precipitation 0.6296688799504186\n",
      "\n",
      "multiple linear regression\n",
      "correlation between final and precipitation 0.6194283251916524\n"
     ]
    }
   ],
   "source": [
    "finalcorrelation = correlation(final, precip_jjas, dims='time')\n",
    "print(\"multiple linear regression\")\n",
    "print(\"correlation between final and precipitation\", finalcorrelation.data)\n",
    "print()\n",
    "finalcorrelation2 = correlation(final2, precip_jjas, dims='time')\n",
    "print(\"multiple linear regression\")\n",
    "print(\"correlation between final and precipitation\", finalcorrelation2.data)"
   ]
  },
  {
   "cell_type": "code",
   "execution_count": 49,
   "metadata": {},
   "outputs": [
    {
     "data": {
      "text/plain": [
       "<matplotlib.legend.Legend at 0x2b482d436a90>"
      ]
     },
     "execution_count": 49,
     "metadata": {},
     "output_type": "execute_result"
    },
    {
     "data": {
      "image/png": "[encoded data removed]",
      "text/plain": [
       "<Figure size 432x288 with 1 Axes>"
      ]
     },
     "metadata": {
      "needs_background": "light"
     },
     "output_type": "display_data"
    }
   ],
   "source": [
    "final.plot(label = 'AIRI prediction', color = 'blue')\n",
    "precip_jjas.plot(label = 'Observed Rainfall', color = 'orchid')\n",
    "#plt.hlines(precip_jjas.sel(time.year = ('1900-01-01','2015-12-31')).mean(), 1900, 2015, linestyles='dashed',colors='blue')\n",
    "plt.xlabel('year', fontsize = 'large')\n",
    "plt.ylabel('mm of rainfall', fontsize = 'large')\n",
    "plt.legend(loc='lower right')"
   ]
  },
  {
   "cell_type": "code",
   "execution_count": 38,
   "metadata": {},
   "outputs": [],
   "source": [
    "# Copyright (c) 2020 Medha Palavalli."
   ]
  },
  {
   "cell_type": "code",
   "execution_count": null,
   "metadata": {},
   "outputs": [],
   "source": []
  },
  {
   "cell_type": "code",
   "execution_count": null,
   "metadata": {},
   "outputs": [],
   "source": []
  },
  {
   "cell_type": "code",
   "execution_count": null,
   "metadata": {},
   "outputs": [],
   "source": []
  }
 ],
 "metadata": {
  "kernelspec": {
   "display_name": "xarrayenv2",
   "language": "python",
   "name": "xarrayenv2"
  },
  "language_info": {
   "codemirror_mode": {
    "name": "ipython",
    "version": 3
   },
   "file_extension": ".py",
   "mimetype": "text/x-python",
   "name": "python",
   "nbconvert_exporter": "python",
   "pygments_lexer": "ipython3",
   "version": "3.7.3"
  }
 },
 "nbformat": 4,
 "nbformat_minor": 2
}
