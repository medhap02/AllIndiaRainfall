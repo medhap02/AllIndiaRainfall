{
 "cells": [
  {
   "cell_type": "code",
   "execution_count": 1,
   "metadata": {},
   "outputs": [
    {
     "name": "stdout",
     "output_type": "stream",
     "text": [
      "Once deleted, variables cannot be recovered. Proceed (y/[n])? y\n"
     ]
    }
   ],
   "source": [
    "%reset"
   ]
  },
  {
   "cell_type": "code",
   "execution_count": 48,
   "metadata": {},
   "outputs": [],
   "source": [
    "import numpy as np\n",
    "import scipy as sp\n",
    "import sklearn as sk\n",
    "import cartopy as cp\n",
    "import xarray as xr\n",
    "import pandas as pd\n",
    "import cftime\n",
    "import dateutil\n",
    "import dask\n",
    "#Use the 2 lines below if the notebook has a dark theme (to make labelling visible):\n",
    "from jupyterthemes import jtplot\n",
    "jtplot.style(theme='chesterish', context='notebook', ticks=True, grid=False)\n",
    "import matplotlib.pyplot as plt\n",
    "#The following code resets the default plot size so you don't have to fiddle with figsize every time\"\n",
    "fig_size = plt.rcParams[\"figure.figsize\"]\n",
    "fig_size[0] = 16\n",
    "fig_size[1] = 8\n",
    "plt.rcParams[\"figure.figsize\"] = fig_size"
   ]
  },
  {
   "cell_type": "code",
   "execution_count": 3,
   "metadata": {},
   "outputs": [
    {
     "name": "stdout",
     "output_type": "stream",
     "text": [
      "env: HDF5_USE_FILE_LOCKING=FALSE\n"
     ]
    }
   ],
   "source": [
    "#Need the following line to avoid hdf5 issues that prevent opening thee file\n",
    "# https://stackoverflow.com/questions/49317927/errno-101-netcdf-hdf-error-when-opening-netcdf-file\n",
    "%env HDF5_USE_FILE_LOCKING=FALSE"
   ]
  },
  {
   "cell_type": "code",
   "execution_count": 4,
   "metadata": {},
   "outputs": [],
   "source": [
    "#Load AIRI data \n",
    "from netCDF4 import Dataset\n",
    "from datetime import datetime, timedelta\n",
    "from netCDF4 import num2date, date2num\n",
    "dataset_file = \"pALLIN.nc\"\n",
    "airi_dat = xr.open_dataset(dataset_file, decode_times=False)\n",
    "units, reference_date = airi_dat.time.attrs['units'].split('since')\n",
    "airi_dat['time'] = pd.date_range(start=reference_date, periods=airi_dat.sizes['time'], freq='MS')\n",
    "#This file's calendar isn't recognized when using xr.open_dataset. The above workaround is from: \n",
    "#https://stackoverflow.com/questions/55648630/how-to-decode-the-time-variable-while-using-xarray-to-load-a-netcdf-file\n",
    "# \"M\" means \"month end frequency\" (see https://pandas.pydata.org/pandas-docs/stable/user_guide/timeseries.html#offset-aliases)"
   ]
  },
  {
   "cell_type": "code",
   "execution_count": 5,
   "metadata": {},
   "outputs": [
    {
     "data": {
      "text/plain": [
       "<xarray.Dataset>\n",
       "Dimensions:  (time: 1752)\n",
       "Coordinates:\n",
       "  * time     (time) datetime64[ns] 1871-02-01 1871-03-01 ... 2017-01-01\n",
       "Data variables:\n",
       "    precip   (time) float32 ...\n",
       "Attributes:\n",
       "    title:        \n",
       "    description:  All-India Rainfall\n",
       "    scripturl01:  https://climexp.knmi.nl/getindices.cgi?STATION=All-India_Ra...\n",
       "    comment:      \n",
       "    institution:  KNMI Climate Explorer\n",
       "    scripturl02:  https://climexp.knmi.nl/dat2nc.cgi?id=$id&station=All-India...\n",
       "    history:       2020-04-02  2:43:20 bin/dat2nc data/pALLIN.dat p All-India...\n",
       "    Conventions:  CF-1.0"
      ]
     },
     "execution_count": 5,
     "metadata": {},
     "output_type": "execute_result"
    }
   ],
   "source": [
    "airi_dat"
   ]
  },
  {
   "cell_type": "code",
   "execution_count": 6,
   "metadata": {},
   "outputs": [],
   "source": [
    "precip = airi_dat['precip']"
   ]
  },
  {
   "cell_type": "code",
   "execution_count": 7,
   "metadata": {},
   "outputs": [],
   "source": [
    "#Load SST data\n",
    "dataset_url = \"https://psl.noaa.gov/thredds/dodsC/Datasets/noaa.ersst.v5/sst.mnmean.nc\"\n",
    "sst_dat = xr.open_dataset(dataset_url)\n",
    "sst = sst_dat['sst']"
   ]
  },
  {
   "cell_type": "code",
   "execution_count": 8,
   "metadata": {},
   "outputs": [
    {
     "name": "stderr",
     "output_type": "stream",
     "text": [
      "/global/home/users/medhap02/.conda/envs/xarrayenv2/lib/python3.7/site-packages/xarray/core/nanops.py:160: RuntimeWarning: Mean of empty slice\n",
      "  return np.nanmean(a, axis=axis, dtype=dtype)\n"
     ]
    },
    {
     "data": {
      "text/plain": [
       "<xarray.DataArray 'sst' (time: 1752, lat: 89, lon: 180)>\n",
       "array([[[1.788139e-06, 1.788139e-06, ..., 1.788139e-06, 1.788139e-06],\n",
       "        [1.788139e-06, 1.788139e-06, ..., 1.788139e-06, 1.788139e-06],\n",
       "        ...,\n",
       "        [         nan,          nan, ...,          nan,          nan],\n",
       "        [         nan,          nan, ...,          nan,          nan]],\n",
       "\n",
       "       [[1.788139e-06, 1.788139e-06, ..., 1.788139e-06, 1.788139e-06],\n",
       "        [1.788139e-06, 1.788139e-06, ..., 1.788139e-06, 1.788139e-06],\n",
       "        ...,\n",
       "        [         nan,          nan, ...,          nan,          nan],\n",
       "        [         nan,          nan, ...,          nan,          nan]],\n",
       "\n",
       "       ...,\n",
       "\n",
       "       [[3.152323e-02, 2.609873e-02, ..., 2.140296e-02, 3.102016e-02],\n",
       "        [2.697122e-02, 1.542413e-02, ..., 1.046002e-02, 2.427316e-02],\n",
       "        ...,\n",
       "        [         nan,          nan, ...,          nan,          nan],\n",
       "        [         nan,          nan, ...,          nan,          nan]],\n",
       "\n",
       "       [[1.788139e-06, 1.788139e-06, ..., 1.788139e-06, 1.788139e-06],\n",
       "        [1.788139e-06, 1.788139e-06, ..., 1.788139e-06, 1.788139e-06],\n",
       "        ...,\n",
       "        [         nan,          nan, ...,          nan,          nan],\n",
       "        [         nan,          nan, ...,          nan,          nan]]],\n",
       "      dtype=float32)\n",
       "Coordinates:\n",
       "  * lat      (lat) float32 88.0 86.0 84.0 82.0 80.0 ... -82.0 -84.0 -86.0 -88.0\n",
       "  * lon      (lon) float32 0.0 2.0 4.0 6.0 8.0 ... 350.0 352.0 354.0 356.0 358.0\n",
       "  * time     (time) datetime64[ns] 1871-02-01 1871-03-01 ... 2017-01-01\n",
       "    month    (time) int64 2 3 4 5 6 7 8 9 10 11 12 ... 3 4 5 6 7 8 9 10 11 12 1"
      ]
     },
     "execution_count": 8,
     "metadata": {},
     "output_type": "execute_result"
    }
   ],
   "source": [
    "#Slice SST data to the same duration as precip and calculate monthly anomalies\n",
    "sst_subset = sst.sel(time=slice('1871-01-30','2017-01-01'))\n",
    "sst_clim = sst_subset.groupby('time.month').mean('time')\n",
    "sst_anomfull = sst_subset.groupby(\"time.month\")-sst_clim\n",
    "sst_anomfull"
   ]
  },
  {
   "cell_type": "code",
   "execution_count": 9,
   "metadata": {},
   "outputs": [
    {
     "name": "stdout",
     "output_type": "stream",
     "text": [
      "<xarray.Dataset>\n",
      "Dimensions:  (lat: 89, lon: 180, time: 1056)\n",
      "Coordinates:\n",
      "  * time     (time) datetime64[ns] 1900-01-01 1900-02-01 ... 2015-12-01\n",
      "  * lat      (lat) float32 88.0 86.0 84.0 82.0 80.0 ... -82.0 -84.0 -86.0 -88.0\n",
      "  * lon      (lon) float32 0.0 2.0 4.0 6.0 8.0 ... 350.0 352.0 354.0 356.0 358.0\n",
      "    month    (time) float64 1.0 2.0 3.0 4.0 5.0 6.0 ... 8.0 9.0 10.0 11.0 12.0\n",
      "Data variables:\n",
      "    sst      (time, lat, lon) float32 1.7881393e-06 1.7881393e-06 ... nan nan\n"
     ]
    }
   ],
   "source": [
    "sst_subset1 = sst_anomfull.sel(time=slice('1900-01-01','1901-12-31'))\n",
    "sst_subset2 = sst_anomfull.sel(time=slice('1903-01-01','1906-12-31'))\n",
    "sst_subset3 = sst_anomfull.sel(time=slice('1908-01-01','1911-12-31'))\n",
    "sst_subset4 = sst_anomfull.sel(time=slice('1913-01-01','1913-12-31'))\n",
    "sst_subset5 = sst_anomfull.sel(time=slice('1915-01-01','1918-12-31'))\n",
    "sst_subset6 = sst_anomfull.sel(time=slice('1920-01-01','1921-12-31'))\n",
    "sst_subset7 = sst_anomfull.sel(time=slice('1923-01-01','1927-12-31'))\n",
    "sst_subset8 = sst_anomfull.sel(time=slice('1929-01-01','1931-12-31'))\n",
    "sst_subset9 = sst_anomfull.sel(time=slice('1934-01-01','1939-12-31'))\n",
    "sst_subset10 = sst_anomfull.sel(time=slice('1941-01-01','1948-12-31'))\n",
    "sst_subset11 = sst_anomfull.sel(time=slice('1951-01-01','1955-12-31'))\n",
    "sst_subset12 = sst_anomfull.sel(time=slice('1957-01-01','1958-12-31'))\n",
    "sst_subset13 = sst_anomfull.sel(time=slice('1960-01-01','1962-12-31'))\n",
    "sst_subset13 = sst_anomfull.sel(time=slice('1964-01-01','1965-12-31'))\n",
    "sst_subset14 = sst_anomfull.sel(time=slice('1967-01-01','1971-12-31'))\n",
    "sst_subset15 = sst_anomfull.sel(time=slice('1973-01-01','1976-12-31'))\n",
    "sst_subset16 = sst_anomfull.sel(time=slice('1978-01-01','1979-12-31'))\n",
    "sst_subset17 = sst_anomfull.sel(time=slice('1981-01-01','1982-12-31'))\n",
    "sst_subset18 = sst_anomfull.sel(time=slice('1984-01-01','1991-12-31'))\n",
    "sst_subset19 = sst_anomfull.sel(time=slice('1993-01-01','1998-12-31'))\n",
    "sst_subset20 = sst_anomfull.sel(time=slice('2000-01-01','2002-12-31'))\n",
    "sst_subset21 = sst_anomfull.sel(time=slice('2004-01-01','2006-12-31'))\n",
    "sst_subset22 = sst_anomfull.sel(time=slice('2008-01-01','2010-12-31'))\n",
    "sst_subset23 = sst_anomfull.sel(time=slice('2012-01-01','2015-12-31'))\n",
    "\n",
    "sst_anomtemp = xr.merge([sst_subset1, sst_subset2, sst_subset3, sst_subset4, sst_subset5, \n",
    "                   sst_subset6, sst_subset7, sst_subset8, sst_subset9, sst_subset10, \n",
    "                   sst_subset11, sst_subset12, sst_subset13, sst_subset14, sst_subset15, \n",
    "                   sst_subset16, sst_subset17, sst_subset18, sst_subset19, sst_subset20, \n",
    "                   sst_subset21, sst_subset22, sst_subset23])\n",
    "#sst_anom = xr.Dataset.to_array(sst_anomtemp).drop('variable')\n",
    "print(sst_anomtemp)\n",
    "sst_anom = sst_anomtemp['sst']\n",
    "#1902, 1907, 1912, 1914, 1919, 1922, 1928, 1932, 1933, 1940\n",
    "#1949, 1950, 1956, 1959, 1963, 1966, 1972, 1977, 1980, 1983\n",
    "#1992, 1999, 2003, 2007, 2011"
   ]
  },
  {
   "cell_type": "code",
   "execution_count": 10,
   "metadata": {},
   "outputs": [],
   "source": [
    "#Load SLP data\n",
    "dataset_url = \"/global/scratch/medhap02/ISMData/prmsl.mon.mean.nc\"\n",
    "slp_dat = xr.open_dataset(dataset_url)\n",
    "slp = slp_dat['prmsl']"
   ]
  },
  {
   "cell_type": "code",
   "execution_count": 11,
   "metadata": {},
   "outputs": [
    {
     "data": {
      "text/plain": [
       "<xarray.DataArray 'prmsl' (time: 1740, lat: 181, lon: 360)>\n",
       "array([[[  114.765625,   114.765625, ...,   114.765625,   114.765625],\n",
       "        [   94.78125 ,    94.46875 , ...,    95.359375,    95.03125 ],\n",
       "        ...,\n",
       "        [  293.65625 ,   293.95312 , ...,   293.20312 ,   293.4297  ],\n",
       "        [  288.66406 ,   288.66406 , ...,   288.66406 ,   288.66406 ]],\n",
       "\n",
       "       [[   75.84375 ,    75.84375 , ...,    75.84375 ,    75.84375 ],\n",
       "        [   67.66406 ,    68.02344 , ...,    66.85156 ,    67.24219 ],\n",
       "        ...,\n",
       "        [  587.2969  ,   587.52344 , ...,   586.9219  ,   587.0781  ],\n",
       "        [  581.14844 ,   581.14844 , ...,   581.14844 ,   581.14844 ]],\n",
       "\n",
       "       ...,\n",
       "\n",
       "       [[ -876.5703  ,  -876.5703  , ...,  -876.5703  ,  -876.5703  ],\n",
       "        [ -937.10156 ,  -936.8594  , ...,  -937.625   ,  -937.3906  ],\n",
       "        ...,\n",
       "        [-1008.4375  , -1008.8906  , ..., -1007.5625  , -1007.9922  ],\n",
       "        [-1047.0938  , -1047.0938  , ..., -1047.0938  , -1047.0938  ]],\n",
       "\n",
       "       [[ -525.5     ,  -525.5     , ...,  -525.5     ,  -525.5     ],\n",
       "        [ -584.5703  ,  -584.8828  , ...,  -583.8906  ,  -584.2578  ],\n",
       "        ...,\n",
       "        [ -427.9922  ,  -428.3203  , ...,  -427.28125 ,  -427.6172  ],\n",
       "        [ -411.48438 ,  -411.48438 , ...,  -411.48438 ,  -411.48438 ]]],\n",
       "      dtype=float32)\n",
       "Coordinates:\n",
       "  * lat      (lat) float32 -90.0 -89.0 -88.0 -87.0 -86.0 ... 87.0 88.0 89.0 90.0\n",
       "  * lon      (lon) float32 0.0 1.0 2.0 3.0 4.0 ... 355.0 356.0 357.0 358.0 359.0\n",
       "  * time     (time) datetime64[ns] 1871-01-01 1871-02-01 ... 2015-12-01\n",
       "    month    (time) int64 1 2 3 4 5 6 7 8 9 10 11 ... 2 3 4 5 6 7 8 9 10 11 12"
      ]
     },
     "execution_count": 11,
     "metadata": {},
     "output_type": "execute_result"
    }
   ],
   "source": [
    "#Slice SLP data to the same duration as precip and calculate monthly anomalies\n",
    "slp_subset = slp.sel(time=slice('1871-01-01','2015-12-31'))\n",
    "slp_clim = slp_subset.groupby('time.month').mean('time')\n",
    "slp_anomfull = slp_subset.groupby(\"time.month\")-slp_clim\n",
    "slp_anomfull"
   ]
  },
  {
   "cell_type": "code",
   "execution_count": 12,
   "metadata": {},
   "outputs": [
    {
     "name": "stdout",
     "output_type": "stream",
     "text": [
      "<xarray.Dataset>\n",
      "Dimensions:  (lat: 181, lon: 360, time: 1056)\n",
      "Coordinates:\n",
      "  * time     (time) datetime64[ns] 1900-01-01 1900-02-01 ... 2015-12-01\n",
      "  * lat      (lat) float32 -90.0 -89.0 -88.0 -87.0 -86.0 ... 87.0 88.0 89.0 90.0\n",
      "  * lon      (lon) float32 0.0 1.0 2.0 3.0 4.0 ... 355.0 356.0 357.0 358.0 359.0\n",
      "    month    (time) float64 1.0 2.0 3.0 4.0 5.0 6.0 ... 8.0 9.0 10.0 11.0 12.0\n",
      "Data variables:\n",
      "    prmsl    (time, lat, lon) float32 24.570312 24.570312 ... -411.48438\n"
     ]
    }
   ],
   "source": [
    "slp_subset1 = slp_anomfull.sel(time=slice('1900-01-01','1901-12-31'))\n",
    "slp_subset2 = slp_anomfull.sel(time=slice('1903-01-01','1906-12-31'))\n",
    "slp_subset3 = slp_anomfull.sel(time=slice('1908-01-01','1911-12-31'))\n",
    "slp_subset4 = slp_anomfull.sel(time=slice('1913-01-01','1913-12-31'))\n",
    "slp_subset5 = slp_anomfull.sel(time=slice('1915-01-01','1918-12-31'))\n",
    "slp_subset6 = slp_anomfull.sel(time=slice('1920-01-01','1921-12-31'))\n",
    "slp_subset7 = slp_anomfull.sel(time=slice('1923-01-01','1927-12-31'))\n",
    "slp_subset8 = slp_anomfull.sel(time=slice('1929-01-01','1931-12-31'))\n",
    "slp_subset9 = slp_anomfull.sel(time=slice('1934-01-01','1939-12-31'))\n",
    "slp_subset10 = slp_anomfull.sel(time=slice('1941-01-01','1948-12-31'))\n",
    "slp_subset11 = slp_anomfull.sel(time=slice('1951-01-01','1955-12-31'))\n",
    "slp_subset12 = slp_anomfull.sel(time=slice('1957-01-01','1958-12-31'))\n",
    "slp_subset13 = slp_anomfull.sel(time=slice('1960-01-01','1962-12-31'))\n",
    "slp_subset13 = slp_anomfull.sel(time=slice('1964-01-01','1965-12-31'))\n",
    "slp_subset14 = slp_anomfull.sel(time=slice('1967-01-01','1971-12-31'))\n",
    "slp_subset15 = slp_anomfull.sel(time=slice('1973-01-01','1976-12-31'))\n",
    "slp_subset16 = slp_anomfull.sel(time=slice('1978-01-01','1979-12-31'))\n",
    "slp_subset17 = slp_anomfull.sel(time=slice('1981-01-01','1982-12-31'))\n",
    "slp_subset18 = slp_anomfull.sel(time=slice('1984-01-01','1991-12-31'))\n",
    "slp_subset19 = slp_anomfull.sel(time=slice('1993-01-01','1998-12-31'))\n",
    "slp_subset20 = slp_anomfull.sel(time=slice('2000-01-01','2002-12-31'))\n",
    "slp_subset21 = slp_anomfull.sel(time=slice('2004-01-01','2006-12-31'))\n",
    "slp_subset22 = slp_anomfull.sel(time=slice('2008-01-01','2010-12-31'))\n",
    "slp_subset23 = slp_anomfull.sel(time=slice('2012-01-01','2015-12-31'))\n",
    "\n",
    "slp_anomtemp = xr.merge([slp_subset1, slp_subset2, slp_subset3, slp_subset4, slp_subset5, \n",
    "                   slp_subset6, slp_subset7, slp_subset8, slp_subset9, slp_subset10, \n",
    "                   slp_subset11, slp_subset12, slp_subset13, slp_subset14, slp_subset15, \n",
    "                   slp_subset16, slp_subset17, slp_subset18, slp_subset19, slp_subset20, \n",
    "                   slp_subset21, slp_subset22, slp_subset23])\n",
    "#slp_anom = xr.Dataset.to_array(slp_anomtemp).drop('variable')\n",
    "print(slp_anomtemp)\n",
    "slp_anom = slp_anomtemp['prmsl']\n",
    "#1902, 1907, 1912, 1914, 1919, 1922, 1928, 1932, 1933, 1940\n",
    "#1949, 1950, 1956, 1959, 1963, 1966, 1972, 1977, 1980, 1983\n",
    "#1992, 1999, 2003, 2007, 2011"
   ]
  },
  {
   "cell_type": "code",
   "execution_count": 13,
   "metadata": {},
   "outputs": [
    {
     "name": "stdout",
     "output_type": "stream",
     "text": [
      "<xarray.Dataset>\n",
      "Dimensions:    (bnds: 2, lat: 181, lon: 360, time: 2160)\n",
      "Coordinates:\n",
      "  * lon        (lon) float64 0.0 1.0 2.0 3.0 4.0 ... 356.0 357.0 358.0 359.0\n",
      "  * lat        (lat) float64 -90.0 -89.0 -88.0 -87.0 ... 87.0 88.0 89.0 90.0\n",
      "  * time       (time) datetime64[ns] 1836-01-01 1836-02-01 ... 2015-12-01\n",
      "Dimensions without coordinates: bnds\n",
      "Data variables:\n",
      "    TIME_bnds  (time, bnds) datetime64[ns] ...\n",
      "    MSE        (time, lat, lon) float64 ...\n",
      "    DMSEDT     (time, lat, lon) float64 ...\n",
      "Attributes:\n",
      "    history:      PyFerret V7.43 (optimized) 14-May-20\n",
      "    Conventions:  CF-1.6\n"
     ]
    }
   ],
   "source": [
    "#Load MSE data\n",
    "dataset_url = \"MSE_20thcentury.nc\"\n",
    "mse_dat1 = xr.open_dataset('/global/scratch/medhap02/ISMData/MSE_20thcentury.nc')\n",
    "mse_dat = mse_dat1.rename({'LON':'lon', 'LAT':'lat','TIME':'time'})\n",
    "mse = mse_dat['MSE']\n",
    "print(mse_dat)"
   ]
  },
  {
   "cell_type": "code",
   "execution_count": 14,
   "metadata": {},
   "outputs": [
    {
     "data": {
      "text/plain": [
       "<xarray.DataArray 'MSE' (time: 1739, lat: 181, lon: 360)>\n",
       "array([[[ -437.976186,  -437.976186, ...,  -437.976186,  -437.976186],\n",
       "        [ -357.903304,  -357.881208, ...,  -348.426553,  -351.846723],\n",
       "        ...,\n",
       "        [-4136.464814, -4142.140899, ..., -4125.058225, -4129.258011],\n",
       "        [-3946.385781, -3946.385781, ..., -3946.385781, -3946.385781]],\n",
       "\n",
       "       [[ -685.706864,  -685.706864, ...,  -685.706864,  -685.706864],\n",
       "        [ -523.262003,  -522.176401, ...,  -528.206152,  -525.088336],\n",
       "        ...,\n",
       "        [-2774.219152, -2771.776149, ..., -2769.221152, -2770.293549],\n",
       "        [-2662.830975, -2662.830975, ..., -2662.830975, -2662.830975]],\n",
       "\n",
       "       ...,\n",
       "\n",
       "       [[ 2257.7285  ,  2257.7285  , ...,  2257.7285  ,  2257.7285  ],\n",
       "        [ 2691.46434 ,  2695.995047, ...,  2682.928563,  2688.836707],\n",
       "        ...,\n",
       "        [ 3071.988646,  3092.121979, ...,  3027.33813 ,  3049.99822 ],\n",
       "        [ 3156.791382,  3156.791382, ...,  3156.791382,  3156.791382]],\n",
       "\n",
       "       [[  864.856915,   864.856915, ...,   864.856915,   864.856915],\n",
       "        [ 1076.67495 ,  1078.353851, ...,  1078.268214,  1077.544245],\n",
       "        ...,\n",
       "        [ 1590.79321 ,  1591.258558, ...,  1593.079849,  1591.898461],\n",
       "        [ 1634.137736,  1634.137736, ...,  1634.137736,  1634.137736]]])\n",
       "Coordinates:\n",
       "  * lon      (lon) float64 0.0 1.0 2.0 3.0 4.0 ... 355.0 356.0 357.0 358.0 359.0\n",
       "  * lat      (lat) float64 -90.0 -89.0 -88.0 -87.0 -86.0 ... 87.0 88.0 89.0 90.0\n",
       "  * time     (time) datetime64[ns] 1871-02-01 1871-03-01 ... 2015-12-01\n",
       "    month    (time) int64 2 3 4 5 6 7 8 9 10 11 12 ... 2 3 4 5 6 7 8 9 10 11 12"
      ]
     },
     "execution_count": 14,
     "metadata": {},
     "output_type": "execute_result"
    }
   ],
   "source": [
    "#Slice MSE data to the same duration as precip and calculate monthly anomalies\n",
    "mse_subset = mse.sel(time=slice('1871-01-30','2017-01-01'))\n",
    "mse_clim = mse_subset.groupby('time.month').mean('time')\n",
    "mse_anomfull = mse_subset.groupby(\"time.month\")-mse_clim\n",
    "mse_anomfull"
   ]
  },
  {
   "cell_type": "code",
   "execution_count": 15,
   "metadata": {},
   "outputs": [
    {
     "name": "stdout",
     "output_type": "stream",
     "text": [
      "<xarray.Dataset>\n",
      "Dimensions:  (lat: 181, lon: 360, time: 1056)\n",
      "Coordinates:\n",
      "  * time     (time) datetime64[ns] 1900-01-01 1900-02-01 ... 2015-12-01\n",
      "  * lon      (lon) float64 0.0 1.0 2.0 3.0 4.0 ... 355.0 356.0 357.0 358.0 359.0\n",
      "  * lat      (lat) float64 -90.0 -89.0 -88.0 -87.0 -86.0 ... 87.0 88.0 89.0 90.0\n",
      "    month    (time) float64 1.0 2.0 3.0 4.0 5.0 6.0 ... 8.0 9.0 10.0 11.0 12.0\n",
      "Data variables:\n",
      "    MSE      (time, lat, lon) float64 -436.0 -436.0 ... 1.634e+03 1.634e+03\n"
     ]
    }
   ],
   "source": [
    "mse_subset1 = mse_anomfull.sel(time=slice('1900-01-01','1901-12-31'))\n",
    "mse_subset2 = mse_anomfull.sel(time=slice('1903-01-01','1906-12-31'))\n",
    "mse_subset3 = mse_anomfull.sel(time=slice('1908-01-01','1911-12-31'))\n",
    "mse_subset4 = mse_anomfull.sel(time=slice('1913-01-01','1913-12-31'))\n",
    "mse_subset5 = mse_anomfull.sel(time=slice('1915-01-01','1918-12-31'))\n",
    "mse_subset6 = mse_anomfull.sel(time=slice('1920-01-01','1921-12-31'))\n",
    "mse_subset7 = mse_anomfull.sel(time=slice('1923-01-01','1927-12-31'))\n",
    "mse_subset8 = mse_anomfull.sel(time=slice('1929-01-01','1931-12-31'))\n",
    "mse_subset9 = mse_anomfull.sel(time=slice('1934-01-01','1939-12-31'))\n",
    "mse_subset10 = mse_anomfull.sel(time=slice('1941-01-01','1948-12-31'))\n",
    "mse_subset11 = mse_anomfull.sel(time=slice('1951-01-01','1955-12-31'))\n",
    "mse_subset12 = mse_anomfull.sel(time=slice('1957-01-01','1958-12-31'))\n",
    "mse_subset13 = mse_anomfull.sel(time=slice('1960-01-01','1962-12-31'))\n",
    "mse_subset13 = mse_anomfull.sel(time=slice('1964-01-01','1965-12-31'))\n",
    "mse_subset14 = mse_anomfull.sel(time=slice('1967-01-01','1971-12-31'))\n",
    "mse_subset15 = mse_anomfull.sel(time=slice('1973-01-01','1976-12-31'))\n",
    "mse_subset16 = mse_anomfull.sel(time=slice('1978-01-01','1979-12-31'))\n",
    "mse_subset17 = mse_anomfull.sel(time=slice('1981-01-01','1982-12-31'))\n",
    "mse_subset18 = mse_anomfull.sel(time=slice('1984-01-01','1991-12-31'))\n",
    "mse_subset19 = mse_anomfull.sel(time=slice('1993-01-01','1998-12-31'))\n",
    "mse_subset20 = mse_anomfull.sel(time=slice('2000-01-01','2002-12-31'))\n",
    "mse_subset21 = mse_anomfull.sel(time=slice('2004-01-01','2006-12-31'))\n",
    "mse_subset22 = mse_anomfull.sel(time=slice('2008-01-01','2010-12-31'))\n",
    "mse_subset23 = mse_anomfull.sel(time=slice('2012-01-01','2015-12-31'))\n",
    "\n",
    "mse_anomtemp = xr.merge([mse_subset1, mse_subset2, mse_subset3, mse_subset4, mse_subset5, \n",
    "                   mse_subset6, mse_subset7, mse_subset8, mse_subset9, mse_subset10, \n",
    "                   mse_subset11, mse_subset12, mse_subset13, mse_subset14, mse_subset15, \n",
    "                   mse_subset16, mse_subset17, mse_subset18, mse_subset19, mse_subset20, \n",
    "                   mse_subset21, mse_subset22, mse_subset23])\n",
    "#mse_anom = xr.Dataset.to_array(mse_anomtemp).drop('variable')\n",
    "print(mse_anomtemp)\n",
    "mse_anom = mse_anomtemp['MSE']\n",
    "#1902, 1907, 1912, 1914, 1919, 1922, 1928, 1932, 1933, 1940\n",
    "#1949, 1950, 1956, 1959, 1963, 1966, 1972, 1977, 1980, 1983\n",
    "#1992, 1999, 2003, 2007, 2011"
   ]
  },
  {
   "cell_type": "code",
   "execution_count": 16,
   "metadata": {},
   "outputs": [],
   "source": [
    "#Get precip anomalies\n",
    "precip_clim = precip.groupby(\"time.month\").mean(\"time\")\n",
    "precip_anomfull = precip.groupby(\"time.month\") - precip_clim"
   ]
  },
  {
   "cell_type": "code",
   "execution_count": 17,
   "metadata": {},
   "outputs": [
    {
     "name": "stdout",
     "output_type": "stream",
     "text": [
      "<xarray.DataArray 'precip' (time: 1056)>\n",
      "array([ -9.166439,   4.535616,  -5.745206, ..., -44.439735, -40.930824,\n",
      "        13.444523], dtype=float32)\n",
      "Coordinates:\n",
      "  * time     (time) datetime64[ns] 1900-01-01 1900-02-01 ... 2015-12-01\n",
      "    month    (time) float64 1.0 2.0 3.0 4.0 5.0 6.0 ... 8.0 9.0 10.0 11.0 12.0\n"
     ]
    }
   ],
   "source": [
    "precip_subset1 = precip_anomfull.sel(time=slice('1900-01-01','1901-12-31'))\n",
    "precip_subset2 = precip_anomfull.sel(time=slice('1903-01-01','1906-12-31'))\n",
    "precip_subset3 = precip_anomfull.sel(time=slice('1908-01-01','1911-12-31'))\n",
    "precip_subset4 = precip_anomfull.sel(time=slice('1913-01-01','1913-12-31'))\n",
    "precip_subset5 = precip_anomfull.sel(time=slice('1915-01-01','1918-12-31'))\n",
    "precip_subset6 = precip_anomfull.sel(time=slice('1920-01-01','1921-12-31'))\n",
    "precip_subset7 = precip_anomfull.sel(time=slice('1923-01-01','1927-12-31'))\n",
    "precip_subset8 = precip_anomfull.sel(time=slice('1929-01-01','1931-12-31'))\n",
    "precip_subset9 = precip_anomfull.sel(time=slice('1934-01-01','1939-12-31'))\n",
    "precip_subset10 = precip_anomfull.sel(time=slice('1941-01-01','1948-12-31'))\n",
    "precip_subset11 = precip_anomfull.sel(time=slice('1951-01-01','1955-12-31'))\n",
    "precip_subset12 = precip_anomfull.sel(time=slice('1957-01-01','1958-12-31'))\n",
    "precip_subset13 = precip_anomfull.sel(time=slice('1960-01-01','1962-12-31'))\n",
    "precip_subset13 = precip_anomfull.sel(time=slice('1964-01-01','1965-12-31'))\n",
    "precip_subset14 = precip_anomfull.sel(time=slice('1967-01-01','1971-12-31'))\n",
    "precip_subset15 = precip_anomfull.sel(time=slice('1973-01-01','1976-12-31'))\n",
    "precip_subset16 = precip_anomfull.sel(time=slice('1978-01-01','1979-12-31'))\n",
    "precip_subset17 = precip_anomfull.sel(time=slice('1981-01-01','1982-12-31'))\n",
    "precip_subset18 = precip_anomfull.sel(time=slice('1984-01-01','1991-12-31'))\n",
    "precip_subset19 = precip_anomfull.sel(time=slice('1993-01-01','1998-12-31'))\n",
    "precip_subset20 = precip_anomfull.sel(time=slice('2000-01-01','2002-12-31'))\n",
    "precip_subset21 = precip_anomfull.sel(time=slice('2004-01-01','2006-12-31'))\n",
    "precip_subset22 = precip_anomfull.sel(time=slice('2008-01-01','2010-12-31'))\n",
    "precip_subset23 = precip_anomfull.sel(time=slice('2012-01-01','2015-12-31'))\n",
    "\n",
    "precip_anom = xr.merge([precip_subset1, precip_subset2, precip_subset3, precip_subset4, precip_subset5, \n",
    "                   precip_subset6, precip_subset7, precip_subset8, precip_subset9, precip_subset10, \n",
    "                   precip_subset11, precip_subset12, precip_subset13, precip_subset14, precip_subset15, \n",
    "                   precip_subset16, precip_subset17, precip_subset18, precip_subset19, precip_subset20, \n",
    "                   precip_subset21, precip_subset22, precip_subset23])\n",
    "precip_anomtemp = xr.Dataset.to_array(precip_anom)\n",
    "precip_anom = precip_anom['precip']\n",
    "print(precip_anom)\n",
    "#1902, 1907, 1912, 1914, 1919, 1922, 1928, 1932, 1933, 1940\n",
    "#1949, 1950, 1956, 1959, 1963, 1966, 1972, 1977, 1980, 1983\n",
    "#1992, 1999, 2003, 2007, 2011"
   ]
  },
  {
   "cell_type": "code",
   "execution_count": 18,
   "metadata": {},
   "outputs": [],
   "source": [
    "junes = np.arange(5,1056,12)\n",
    "julys = np.arange(6,1056,12) #1752 instead of 1068\n",
    "augusts = np.arange(7,1056, 12)\n",
    "septembers = np.arange(8,1056,12)\n",
    "precipa_june = precip_anom[junes]\n",
    "precipa_july = precip_anom[julys]\n",
    "precipa_august = precip_anom[augusts]\n",
    "precipa_september = precip_anom[septembers]\n",
    "\n",
    "precipa_july.time.data = precipa_june.time.data\n",
    "precipa_august.time.data = precipa_june.time.data\n",
    "precipa_september.time.data = precipa_june.time.data\n",
    "\n",
    "precipa_jjas = (precipa_june + precipa_july + precipa_august + precipa_september)"
   ]
  },
  {
   "cell_type": "code",
   "execution_count": 19,
   "metadata": {},
   "outputs": [],
   "source": [
    "def covariance(x, y, dims=None):\n",
    "    return xr.dot(x - x.mean(dims), y - y.mean(dims), dims=dims) / x.count(dims)\n",
    "\n",
    "def correlation(x, y, dims=None):\n",
    "    return covariance(x, y, dims) / (x.std(dims) * y.std(dims))"
   ]
  },
  {
   "cell_type": "markdown",
   "metadata": {},
   "source": [
    "# EPT"
   ]
  },
  {
   "cell_type": "code",
   "execution_count": 20,
   "metadata": {},
   "outputs": [
    {
     "name": "stdout",
     "output_type": "stream",
     "text": [
      "<xarray.DataArray (time: 88)>\n",
      "array([-1.001022e+00,  4.092521e-01, -8.242461e-02, -3.950637e-01,\n",
      "       -1.991887e+00, -5.299378e-01,  1.560524e+00,  9.171774e-01,\n",
      "        1.861798e+00,  7.184782e-01,  5.132719e-01, -1.393943e+00,\n",
      "        6.510655e-01, -8.583212e-01, -1.542083e+00, -5.391475e-01,\n",
      "        7.739933e-01, -1.586646e-01,  2.022947e+00, -1.050585e+00,\n",
      "       -9.153548e-01, -3.219801e-01, -3.372386e-01, -2.678311e-01,\n",
      "       -1.133814e+00, -3.801206e-01,  2.781658e-01, -1.719525e-01,\n",
      "       -6.795717e-01,  1.400972e+00, -8.641061e-01, -2.277115e+00,\n",
      "        3.372310e-01,  6.574911e-01,  1.270842e-02,  3.108336e-01,\n",
      "        1.808633e+00,  6.328033e-01, -1.012164e+00, -1.072956e-01,\n",
      "       -6.848660e-01, -1.839094e+00,  1.232946e+00,  4.221162e-01,\n",
      "       -1.384519e+00, -1.189353e+00,  1.413989e+00, -1.641494e+00,\n",
      "        4.898613e-01,  1.438546e+00, -1.031586e+00,  9.106532e-01,\n",
      "        8.513597e-01,  5.350164e-01,  3.352629e-01,  4.771452e-01,\n",
      "       -1.099682e-02,  7.402413e-01, -2.898074e-02,  5.349081e-01,\n",
      "       -1.517074e-02,  4.618538e-02,  1.032259e+00,  1.107482e+00,\n",
      "       -1.993838e+00,  8.391818e-01,  8.212456e-01,  3.590105e-01,\n",
      "       -2.347805e-03, -2.042291e+00,  6.236740e-01,  1.143536e+00,\n",
      "        1.095853e+00, -8.193700e-01, -2.848685e+00, -7.865539e-02,\n",
      "        3.195175e-01,  1.681927e-01,  9.318367e-01,  6.360353e-01,\n",
      "        7.019784e-01, -4.267737e-01,  3.707018e-01,  6.974803e-02,\n",
      "       -6.191818e-01,  7.154179e-01, -1.123229e-01, -4.500980e-01],\n",
      "      dtype=float32)\n",
      "Coordinates:\n",
      "  * time     (time) datetime64[ns] 1900-05-01 1901-05-01 ... 2015-05-01\n",
      "    month    (time) float64 3.0 3.0 3.0 3.0 3.0 3.0 ... 3.0 3.0 3.0 3.0 3.0 3.0\n"
     ]
    }
   ],
   "source": [
    "#EPT original\n",
    "\n",
    "#DSST1\n",
    "latrange1 = sst_anom.sel(lat = slice(5, -20)).lat\n",
    "weights1 = np.cos(latrange1*np.pi/180)\n",
    "\n",
    "marchdata1 = sst_anom.sel(lat = slice(5, -20), lon = slice(150, 170), time = (sst_anom['time.month']==3))\n",
    "marchSST1 = marchdata1.sel(time = slice('1900-03-01', '2015-03-01'))\n",
    "marchmean1 = (marchSST1*weights1).mean({'lon', 'lat'})/weights1.mean() \n",
    "\n",
    "aprildata1 = sst_anom.sel(lat = slice(5, -20), lon = slice(150, 170), time = (sst_anom['time.month']==4))\n",
    "aprilSST1 = aprildata1.sel(time = slice('1900-04-01', '2015-04-01'))\n",
    "aprilmean1 = (aprilSST1*weights1).mean({'lon', 'lat'})/weights1.mean() \n",
    "\n",
    "maydata1 = sst_anom.sel(lat = slice(5, -20), lon = slice(150, 170), time = (sst_anom['time.month']==5))\n",
    "maySST1 = maydata1.sel(time = slice('1900-05-01', '2015-05-01'))\n",
    "maymean1 = (maySST1*weights1).mean({'lon', 'lat'})/weights1.mean()\n",
    "\n",
    "marchmean1.time.data = maymean1.time.data\n",
    "aprilmean1.time.data = maymean1.time.data\n",
    "DSST1mean = (maymean1 + aprilmean1 + marchmean1)/3\n",
    "\n",
    "#DSST2\n",
    "latrange2 = sst_anom.sel(lat = slice(10, -10)).lat\n",
    "weights2 = np.cos(latrange2*np.pi/180)\n",
    "\n",
    "marchdata2 = sst_anom.sel(lat = slice(10, -10), lon = slice(250, 280), time = (sst_anom['time.month']==3))\n",
    "marchSST2 = marchdata2.sel(time = slice('1900-03-01', '2015-03-01'))\n",
    "marchmean2 = (marchSST2*weights2).mean({'lon', 'lat'})/weights2.mean()\n",
    "\n",
    "aprildata2 = sst_anom.sel(lat = slice(10, -10), lon = slice(250, 280), time = (sst_anom['time.month']==4))\n",
    "aprilSST2 = aprildata2.sel(time = slice('1900-04-01', '2015-04-01'))\n",
    "aprilmean2 = (aprilSST2*weights2).mean({'lon', 'lat'})/weights2.mean() \n",
    "\n",
    "maydata2 = sst_anom.sel(lat = slice(10, -10), lon = slice(250, 280), time = (sst_anom['time.month']==5))\n",
    "maySST2 = maydata2.sel(time = slice('1900-05-01', '2015-05-01'))\n",
    "maymean2 = (maySST2*weights2).mean({'lon', 'lat'})/weights2.mean()\n",
    "\n",
    "marchmean2.time.data = maymean2.time.data\n",
    "aprilmean2.time.data = maymean2.time.data\n",
    "DSST2mean = (maymean2 + aprilmean2 + marchmean2)/3\n",
    "\n",
    "EPToriginalmean = DSST1mean - DSST2mean\n",
    "#print(EPToriginalmean)\n",
    "EPTstd = EPToriginalmean.std()\n",
    "EPTmean = EPToriginalmean.mean()\n",
    "EPToriginalmean = (EPToriginalmean - EPTmean)/EPTstd\n",
    "print(EPToriginalmean)"
   ]
  },
  {
   "cell_type": "code",
   "execution_count": 21,
   "metadata": {},
   "outputs": [
    {
     "name": "stdout",
     "output_type": "stream",
     "text": [
      "<xarray.DataArray (time: 88)>\n",
      "array([-0.087031, -0.349395,  0.952161, -2.207361, -1.112206,  2.42138 ,\n",
      "        1.067863, -0.055572,  0.374956, -1.817191,  0.379771, -0.832366,\n",
      "        0.601817, -0.670612, -0.832157,  1.29451 , -0.546239, -0.765166,\n",
      "        0.272546,  0.120034,  0.200123, -0.150773, -0.787937, -0.841457,\n",
      "        1.517263,  0.159261, -1.528789, -0.047607,  0.57149 ,  0.927541,\n",
      "       -1.434518, -0.188932,  2.12384 , -0.464264,  0.123852, -0.708544,\n",
      "       -0.061771,  1.765358,  2.167504, -0.49596 ,  1.277148, -0.428457,\n",
      "        1.862247,  0.526277, -1.026932, -0.470538,  2.056401, -1.692724,\n",
      "       -0.349625, -0.254107, -0.779232,  0.113341, -0.013173,  1.063192,\n",
      "       -0.792651,  0.983634, -0.862947,  0.71936 , -1.147233,  0.432044,\n",
      "       -0.780704,  0.746544,  0.637105,  0.563633, -0.09354 ,  0.789095,\n",
      "        0.220932, -0.381595, -0.322652, -1.073292, -0.43058 ,  1.040161,\n",
      "        0.635711, -2.153529,  0.793171, -0.580328,  0.267886,  0.76092 ,\n",
      "        0.679785, -1.010461,  0.466469, -0.6782  , -1.470103,  0.712371,\n",
      "       -0.257424,  1.196229, -0.54419 , -2.004861], dtype=float32)\n",
      "Coordinates:\n",
      "  * time     (time) datetime64[ns] 1900-05-01 1901-05-01 ... 2015-05-01\n"
     ]
    }
   ],
   "source": [
    "DSST1 = (maymean1 - marchmean1)\n",
    "DSST2 = (maymean2 - marchmean2)\n",
    "\n",
    "EPToriginal = DSST1 - DSST2\n",
    "#print(EPToriginal)\n",
    "EPTstd = EPToriginal.std()\n",
    "EPTmean = EPToriginal.mean()\n",
    "EPToriginal = (EPToriginal - EPTmean)/EPTstd\n",
    "print(EPToriginal)"
   ]
  },
  {
   "cell_type": "code",
   "execution_count": 22,
   "metadata": {},
   "outputs": [
    {
     "name": "stdout",
     "output_type": "stream",
     "text": [
      "<xarray.DataArray (time: 88)>\n",
      "array([-0.888001, -0.057559, -0.370438, -0.15643 , -2.201896, -0.563602,\n",
      "        1.252027,  1.106936,  2.248853,  0.894599,  0.19236 , -1.413928,\n",
      "        0.509297,  0.779701, -1.029422, -0.830011,  1.640681, -0.518481,\n",
      "        1.065817, -0.269817, -1.111544,  0.436092, -0.579961, -0.95516 ,\n",
      "       -1.281333,  0.067708,  0.110412, -0.20583 , -0.354714,  1.526518,\n",
      "       -0.185601, -1.992376, -0.237889,  0.347097, -0.873963,  0.741908,\n",
      "        1.876983,  0.225029, -0.650541, -0.22599 , -0.532977, -1.069108,\n",
      "        1.532371,  0.914321, -1.282468, -1.398432,  1.476093, -1.260397,\n",
      "        0.017599,  1.029187, -1.138011,  0.630115,  1.063163,  0.173571,\n",
      "        0.203714,  0.735229, -0.055681,  0.653979, -0.488523,  0.522099,\n",
      "       -0.539723,  0.232611,  1.227213,  0.592545, -1.790455,  0.946746,\n",
      "        1.145454, -0.108602, -0.684147, -2.0876  ,  0.465493,  0.189678,\n",
      "        1.007091, -1.173376, -3.285725,  0.793597,  0.757441, -0.064809,\n",
      "        0.625832,  0.009189,  0.658696,  0.195321,  0.501293, -0.019832,\n",
      "        0.092699,  1.331183, -0.023942, -0.787251], dtype=float32)\n",
      "Coordinates:\n",
      "  * time     (time) datetime64[ns] 1900-05-01 1901-05-01 ... 2015-05-01\n",
      "    month    (time) float64 3.0 3.0 3.0 3.0 3.0 3.0 ... 3.0 3.0 3.0 3.0 3.0 3.0\n"
     ]
    }
   ],
   "source": [
    "#EPT new\n",
    "#(10s-10n, 130-80w)\n",
    "#(10s-20n, 120-155e)\n",
    "\n",
    "#DSST!\n",
    "latrange1 = sst_anom.sel(lat = slice(20, -10)).lat\n",
    "weights1 = np.cos(latrange1*np.pi/180)\n",
    "\n",
    "marchdata1 = sst_anom.sel(lat = slice(20, -10), lon = slice(120, 155), time = (sst_anom['time.month']==3))\n",
    "marchSST1 = marchdata1.sel(time = slice('1900-03-01', '2015-03-01'))\n",
    "marchmean1 = (marchSST1*weights1).mean({'lon', 'lat'})/weights1.mean()\n",
    "\n",
    "aprildata1 = sst_anom.sel(lat = slice(20, -10), lon = slice(120, 155), time = (sst_anom['time.month']==4))\n",
    "aprilSST1 = aprildata1.sel(time = slice('1900-04-01', '2015-04-01'))\n",
    "aprilmean1 = (aprilSST1*weights1).mean({'lon', 'lat'})/weights1.mean() \n",
    "\n",
    "maydata1 = sst_anom.sel(lat = slice(20, -10), lon = slice(120, 155), time = (sst_anom['time.month']==5))\n",
    "maySST1 = maydata1.sel(time = slice('1900-05-01', '2015-05-01'))\n",
    "maymean1 = (maySST1*weights1).mean({'lon', 'lat'})/weights1.mean()\n",
    "\n",
    "marchmean1.time.data = maymean1.time.data\n",
    "aprilmean1.time.data = maymean1.time.data\n",
    "DSST1new = (maymean1 + aprilmean1 + marchmean1)/3\n",
    "\n",
    "#DSST2\n",
    "latrange2 = sst_anom.sel(lat = slice(10, -10)).lat\n",
    "weights2 = np.cos(latrange2*np.pi/180)\n",
    "\n",
    "marchdata2 = sst_anom.sel(lat = slice(10, -10), lon = slice(230, 280), time = (sst_anom['time.month']==3))\n",
    "marchSST2 = marchdata2.sel(time = slice('1900-03-01', '2015-03-01'))\n",
    "marchmean2 = (marchSST2*weights2).mean({'lon', 'lat'})/weights2.mean() \n",
    "\n",
    "aprildata2 = sst_anom.sel(lat = slice(10, -10), lon = slice(230, 280), time = (sst_anom['time.month']==4))\n",
    "aprilSST2 = aprildata2.sel(time = slice('1900-04-01', '2015-04-01'))\n",
    "aprilmean2 = (aprilSST2*weights2).mean({'lon', 'lat'})/weights2.mean() \n",
    "\n",
    "maydata2 = sst_anom.sel(lat = slice(10, -10), lon = slice(230, 280), time = (sst_anom['time.month']==5))\n",
    "maySST2 = maydata2.sel(time = slice('1900-05-01', '2015-05-01'))\n",
    "maymean2 = (maySST2*weights2).mean({'lon', 'lat'})/weights2.mean()\n",
    "\n",
    "marchmean2.time.data = maymean2.time.data\n",
    "aprilmean2.time.data = maymean2.time.data\n",
    "DSST2new = (maymean2 + aprilmean2 + marchmean2)/3\n",
    "\n",
    "EPT = DSST1new - DSST2new\n",
    "#print(EPT)\n",
    "EPTstd = EPT.std()\n",
    "EPTmean = EPT.mean()\n",
    "EPT = (EPT - EPTmean)/EPTstd\n",
    "print(EPT)"
   ]
  },
  {
   "cell_type": "code",
   "execution_count": 23,
   "metadata": {},
   "outputs": [
    {
     "name": "stdout",
     "output_type": "stream",
     "text": [
      "EPT Original 0.4090731070587664\n",
      "DSST1 0.12665884513888592\n",
      "DSST2 -0.4011344478256808\n",
      "\n",
      "EPT Original Mean 0.31994607004780984\n",
      "DSST1 0.012677069713211699\n",
      "DSST2 -0.32672332406453375\n",
      "\n",
      "New EPT 0.37135127455627887\n",
      "DSST1 New 0.10499425764968058\n",
      "DSST2 New -0.3028914065363354\n"
     ]
    }
   ],
   "source": [
    "precipa_jjas.time.data = EPT.time.data\n",
    "\n",
    "eptoriginal_subtraction = correlation(EPToriginal, precipa_jjas, dims='time')\n",
    "print(\"EPT Original\", eptoriginal_subtraction.data)\n",
    "ept_australia = correlation(DSST1, precipa_jjas, dims='time')\n",
    "print(\"DSST1\", ept_australia.data)\n",
    "ept_pacific = correlation(DSST2, precipa_jjas, dims='time')\n",
    "print(\"DSST2\", ept_pacific.data)\n",
    "\n",
    "print()\n",
    "eptoriginalmean_subtraction = correlation(EPToriginalmean, precipa_jjas, dims='time')\n",
    "print(\"EPT Original Mean\", eptoriginalmean_subtraction.data)\n",
    "ept_australiamean = correlation(DSST1mean, precipa_jjas, dims='time')\n",
    "print(\"DSST1\", ept_australiamean.data)\n",
    "ept_pacificmean = correlation(DSST2mean, precipa_jjas, dims='time')\n",
    "print(\"DSST2\", ept_pacificmean.data)\n",
    "\n",
    "print()\n",
    "ept_subtraction = correlation(EPT, precipa_jjas, dims='time')\n",
    "print(\"New EPT\", ept_subtraction.data)\n",
    "ept_australianew = correlation(DSST1new, precipa_jjas, dims='time')\n",
    "print(\"DSST1 New\", ept_australianew.data)\n",
    "ept_pacificnew = correlation(DSST2new, precipa_jjas, dims='time')\n",
    "print(\"DSST2 New\", ept_pacificnew.data)"
   ]
  },
  {
   "cell_type": "code",
   "execution_count": 24,
   "metadata": {},
   "outputs": [
    {
     "name": "stdout",
     "output_type": "stream",
     "text": [
      "<xarray.DataArray (time: 88)>\n",
      "array([-0.242387,  0.103962,  1.105272, -1.921574, -1.252081,  2.200343,\n",
      "        0.892598, -0.028597, -0.071392, -1.110855,  0.159152, -0.709362,\n",
      "        0.142171, -0.434778, -0.93819 ,  0.982258, -0.567862, -0.762391,\n",
      "        0.070329,  0.011184,  0.782289, -0.361988, -0.671714, -0.347716,\n",
      "        1.86347 ,  0.089992, -1.715279, -0.427303,  0.708425,  0.951792,\n",
      "       -1.409149, -0.382236,  2.020727, -0.56246 ,  0.206876, -1.088679,\n",
      "        0.434741,  1.988286,  1.050712, -1.219764,  1.267545,  0.165083,\n",
      "        1.63704 ,  0.789833, -0.630401, -0.302186,  2.029173, -1.504999,\n",
      "       -0.917855, -0.091049, -0.674457,  0.083251, -0.032784,  1.109594,\n",
      "       -0.638176,  0.885612, -1.013227,  0.851637, -1.25826 ,  0.269931,\n",
      "       -0.880097,  1.087752,  0.524102,  0.415527,  0.106748,  1.326408,\n",
      "        0.356325, -0.4231  , -0.455717, -0.585169, -0.568597,  0.862429,\n",
      "        0.803748, -2.520692,  1.035093, -0.293649,  0.402712,  0.366893,\n",
      "        0.951969, -0.540636,  0.379698, -0.967221, -1.999443,  0.544345,\n",
      "       -0.556106,  1.500542, -0.312027, -2.125971], dtype=float32)\n",
      "Coordinates:\n",
      "  * time     (time) datetime64[ns] 1900-05-01 1901-05-01 ... 2015-05-01\n"
     ]
    }
   ],
   "source": [
    "#EPT original\n",
    "\n",
    "#DSST1\n",
    "latrange1 = sst_anom.sel(lat = slice(-5, -30)).lat\n",
    "weights1 = np.cos(latrange1*np.pi/180)\n",
    "\n",
    "marchdata1 = sst_anom.sel(lat = slice(-5, -30), lon = slice(155, 175), time = (sst_anom['time.month']==3))\n",
    "marchSST1 = marchdata1.sel(time = slice('1900-03-01', '2015-03-01'))\n",
    "marchmean1 = (marchSST1*weights1).mean({'lon', 'lat'})/weights1.mean() \n",
    "\n",
    "aprildata1 = sst_anom.sel(lat = slice(-5, -30), lon = slice(155, 175), time = (sst_anom['time.month']==4))\n",
    "aprilSST1 = aprildata1.sel(time = slice('1900-04-01', '2015-04-01'))\n",
    "aprilmean1 = (aprilSST1*weights1).mean({'lon', 'lat'})/weights1.mean() \n",
    "\n",
    "maydata1 = sst_anom.sel(lat = slice(-5, -30), lon = slice(155, 175), time = (sst_anom['time.month']==5))\n",
    "maySST1 = maydata1.sel(time = slice('1900-05-01', '2015-05-01'))\n",
    "maymean1 = (maySST1*weights1).mean({'lon', 'lat'})/weights1.mean()\n",
    "\n",
    "marchmean1.time.data = maymean1.time.data\n",
    "aprilmean1.time.data = maymean1.time.data\n",
    "DSST1maymar = maymean1-marchmean1\n",
    "\n",
    "#DSST2\n",
    "latrange2 = sst_anom.sel(lat = slice(10, -10)).lat\n",
    "weights2 = np.cos(latrange2*np.pi/180)\n",
    "\n",
    "marchdata2 = sst_anom.sel(lat = slice(10, -10), lon = slice(245, 280), time = (sst_anom['time.month']==3))\n",
    "marchSST2 = marchdata2.sel(time = slice('1900-03-01', '2015-03-01'))\n",
    "marchmean2 = (marchSST2*weights2).mean({'lon', 'lat'})/weights2.mean()\n",
    "\n",
    "aprildata2 = sst_anom.sel(lat = slice(10, -10), lon = slice(245, 280), time = (sst_anom['time.month']==4))\n",
    "aprilSST2 = aprildata2.sel(time = slice('1900-04-01', '2015-04-01'))\n",
    "aprilmean2 = (aprilSST2*weights2).mean({'lon', 'lat'})/weights2.mean() \n",
    "\n",
    "maydata2 = sst_anom.sel(lat = slice(10, -10), lon = slice(245, 280), time = (sst_anom['time.month']==5))\n",
    "maySST2 = maydata2.sel(time = slice('1900-05-01', '2015-05-01'))\n",
    "maymean2 = (maySST2*weights2).mean({'lon', 'lat'})/weights2.mean()\n",
    "\n",
    "marchmean2.time.data = maymean2.time.data\n",
    "aprilmean2.time.data = maymean2.time.data\n",
    "DSST2maymar = maymean2-marchmean2\n",
    "\n",
    "EPTmaymar = DSST1maymar - DSST2maymar\n",
    "#print(EPToriginalmean)\n",
    "EPTstd = EPTmaymar.std()\n",
    "EPTmean = EPTmaymar.mean()\n",
    "EPTmaymar = (EPTmaymar - EPTmean)/EPTstd\n",
    "print(EPTmaymar)"
   ]
  },
  {
   "cell_type": "code",
   "execution_count": 25,
   "metadata": {},
   "outputs": [
    {
     "name": "stdout",
     "output_type": "stream",
     "text": [
      "EPT Original 0.4090731070587664\n",
      "DSST1 0.12665884513888592\n",
      "DSST2 -0.4011344478256808\n",
      "\n",
      "EPT May minus March expanded 0.41737542021748547\n",
      "DSST1 may-march expanded 0.14523444562087368\n",
      "DSST2 may-march expanded -0.39627878581555925\n"
     ]
    }
   ],
   "source": [
    "eptoriginal_subtraction = correlation(EPToriginal, precipa_jjas, dims='time')\n",
    "print(\"EPT Original\", eptoriginal_subtraction.data)\n",
    "ept_australia = correlation(DSST1, precipa_jjas, dims='time')\n",
    "print(\"DSST1\", ept_australia.data)\n",
    "ept_pacific = correlation(DSST2, precipa_jjas, dims='time')\n",
    "print(\"DSST2\", ept_pacific.data)\n",
    "\n",
    "print()\n",
    "eptmaymar_subtraction = correlation(EPTmaymar, precipa_jjas, dims='time')\n",
    "print(\"EPT May minus March expanded\", eptmaymar_subtraction.data)\n",
    "ept_australia = correlation(DSST1maymar, precipa_jjas, dims='time')\n",
    "print(\"DSST1 may-march expanded\", ept_australia.data)\n",
    "ept_pacific = correlation(DSST2maymar, precipa_jjas, dims='time')\n",
    "print(\"DSST2 may-march expanded\", ept_pacific.data)"
   ]
  },
  {
   "cell_type": "markdown",
   "metadata": {},
   "source": [
    "# CPT"
   ]
  },
  {
   "cell_type": "code",
   "execution_count": 26,
   "metadata": {},
   "outputs": [
    {
     "name": "stdout",
     "output_type": "stream",
     "text": [
      "<xarray.DataArray (time: 88)>\n",
      "array([ 1.034446, -1.644795,  0.260865, -1.523214, -2.058889,  0.279677,\n",
      "        0.520603,  1.476613, -2.861686, -0.120737,  1.58951 , -0.388673,\n",
      "       -0.027112,  2.047418,  0.3757  , -2.200316,  0.330586,  0.319994,\n",
      "        0.059772, -0.089702,  0.473585,  0.404069, -0.20933 , -0.375415,\n",
      "        0.049273, -0.243741,  0.289054, -0.338636, -0.127177,  0.813011,\n",
      "        1.631568, -0.410525,  0.048517,  1.325921,  0.397832, -1.561584,\n",
      "       -0.733634,  0.632544, -1.80833 , -2.158612,  0.166518, -0.548333,\n",
      "        0.10629 ,  0.632596,  0.460435,  0.484698,  1.546964, -1.403212,\n",
      "       -0.420896,  0.689404, -0.674952,  2.048375,  0.677564, -0.983772,\n",
      "       -0.169912,  0.553684, -0.01093 ,  1.495744,  0.917114, -0.158445,\n",
      "       -0.07368 , -1.074418, -0.567051, -0.620656, -1.619773, -0.047012,\n",
      "        0.628906,  2.138351, -0.738455, -0.077431, -0.415636,  0.498731,\n",
      "       -1.319567, -0.649522,  2.0164  , -1.059239, -0.481311, -0.565523,\n",
      "        0.49364 ,  0.092773,  1.283855,  0.018563, -0.634944,  0.618393,\n",
      "        0.482863,  0.099684,  0.387322,  0.297353], dtype=float32)\n",
      "Coordinates:\n",
      "  * time     (time) datetime64[ns] 1900-05-01 1901-05-01 ... 2015-05-01\n"
     ]
    }
   ],
   "source": [
    "#CP-ENSOpredictor\n",
    "\n",
    "#DSST1\n",
    "latrange1 = sst_anom.sel(lat = slice(-10, -25)).lat\n",
    "weights1 = np.cos(latrange1*np.pi/180)\n",
    "\n",
    "aprildata1 = sst_anom.sel(lat = slice(-10, -25), lon = slice(170, 200), time = (sst_anom['time.month']==4))\n",
    "aprilSST1 = aprildata1.sel(time = slice('1900-04-01', '2015-04-01'))\n",
    "aprilmean1 = (aprilSST1*weights1).mean({'lon', 'lat'})/weights1.mean()\n",
    "\n",
    "maydata1 = sst_anom.sel(lat = slice(-10, -25), lon = slice(170, 200), time = (sst_anom['time.month']==5))\n",
    "maySST1 = maydata1.sel(time = slice('1900-05-01', '2015-05-01'))\n",
    "maymean1 = (maySST1*weights1).mean({'lon', 'lat'})/weights1.mean()\n",
    "\n",
    "aprilmean1.time.data = maymean1.time.data\n",
    "DSST1 = maymean1 - aprilmean1\n",
    "\n",
    "#DSST2\n",
    "latrange2 = sst_anom.sel(lat = slice(20, 5)).lat\n",
    "weights2 = np.cos(latrange2*np.pi/180)\n",
    "\n",
    "aprildata2 = sst_anom.sel(lat = slice(20, 5), lon = slice(180, 210), time = (sst_anom['time.month']==4))\n",
    "aprilSST2 = aprildata2.sel(time = slice('1900-04-01', '2015-04-01'))\n",
    "aprilmean2 = (aprilSST2*weights2).mean({'lon', 'lat'})/weights2.mean()\n",
    "                          \n",
    "maydata2 = sst_anom.sel(lat = slice(20, 5), lon = slice(180, 210), time = (sst_anom['time.month']==5))\n",
    "maySST2 = maydata2.sel(time = slice('1900-05-01', '2015-05-01'))\n",
    "maymean2 = (maySST2*weights2).mean({'lon', 'lat'})/weights2.mean()\n",
    "                          \n",
    "aprilmean2.time.data = maymean2.time.data\n",
    "DSST2 = maymean2 - aprilmean2\n",
    "\n",
    "CPToriginal = DSST1 - DSST2\n",
    "#print(CPToriginal)\n",
    "CPTstd = CPToriginal.std()\n",
    "CPTmean = CPToriginal.mean()\n",
    "CPToriginal = (CPToriginal - CPTmean)/CPTstd\n",
    "print(CPToriginal)"
   ]
  },
  {
   "cell_type": "code",
   "execution_count": 27,
   "metadata": {},
   "outputs": [
    {
     "name": "stdout",
     "output_type": "stream",
     "text": [
      "<xarray.DataArray (time: 88)>\n",
      "array([ 0.413217, -1.412964,  0.18862 , -2.425838, -3.147323, -1.376669,\n",
      "       -0.267006,  0.612157, -0.192166, -0.676915,  0.821784, -1.016349,\n",
      "        0.295765,  3.117042,  0.491891, -0.238895,  0.157547,  0.023138,\n",
      "       -0.499815,  0.83123 ,  0.626021,  0.885561,  0.130674, -0.307108,\n",
      "        1.194109,  0.664761, -0.931261, -1.636097, -0.591374, -0.533841,\n",
      "        1.510118,  0.551406,  1.524788,  0.120483,  0.776971, -1.789856,\n",
      "        1.148034,  0.173274, -0.014265, -0.10438 , -0.744044,  0.688941,\n",
      "       -0.173456,  1.24826 ,  1.372423, -0.897227,  1.586309, -0.7768  ,\n",
      "       -0.347138,  1.005534, -0.708128,  0.772665,  0.725804, -0.292203,\n",
      "       -0.484095,  0.277428, -0.823857,  1.761318, -0.940902, -0.196139,\n",
      "       -0.882469, -0.715752,  0.15835 , -1.34445 , -1.414678, -0.159447,\n",
      "        0.913335,  1.914355, -0.691284,  0.222586, -0.113775, -0.125853,\n",
      "       -1.123544, -1.491947,  0.978121,  0.060592,  0.453439, -1.429334,\n",
      "        0.762192,  0.085753,  0.938102, -0.149568,  0.747719, -0.091073,\n",
      "       -0.089962,  0.901137,  0.39961 , -0.863321], dtype=float32)\n",
      "Coordinates:\n",
      "  * time     (time) datetime64[ns] 1900-05-01 1901-05-01 ... 2015-05-01\n"
     ]
    }
   ],
   "source": [
    "#(55-5s, 175e-155w)\n",
    "latrange1 = sst_anom.sel(lat = slice(-5, -55)).lat\n",
    "weights1 = np.cos(latrange1*np.pi/180)\n",
    "\n",
    "aprildata1 = sst_anom.sel(lat = slice(-5, -55), lon = slice(175, 205), time = (sst_anom['time.month']==4))\n",
    "aprilSST1 = aprildata1.sel(time = slice('1900-04-01', '2015-04-01'))\n",
    "aprilmean1 = (aprilSST1*weights1).mean({'lon', 'lat'})/weights1.mean()\n",
    "\n",
    "maydata1 = sst_anom.sel(lat = slice(-5, -55), lon = slice(175, 205), time = (sst_anom['time.month']==5))\n",
    "maySST1 = maydata1.sel(time = slice('1900-05-01', '2015-05-01'))\n",
    "maymean1 = (maySST1*weights1).mean({'lon', 'lat'})/weights1.mean()\n",
    "\n",
    "aprilmean1.time.data = maymean1.time.data\n",
    "DSST1new = maymean1 - aprilmean1\n",
    "\n",
    "CPT = DSST1new\n",
    "CPTstd = CPT.std()\n",
    "CPTmean = CPT.mean()\n",
    "CPT = (CPT - CPTmean)/CPTstd\n",
    "print(CPT)"
   ]
  },
  {
   "cell_type": "code",
   "execution_count": 28,
   "metadata": {},
   "outputs": [
    {
     "name": "stdout",
     "output_type": "stream",
     "text": [
      "CPT Original 0.30216343741904705\n",
      "DSST1 0.3371017431515418\n",
      "DSST2 -0.06835848663702536\n",
      "\n",
      "CPT New 0.4316652726687996\n",
      "DSST 0.4316652410638617\n"
     ]
    }
   ],
   "source": [
    "cptoriginal_subtraction = correlation(CPToriginal, precipa_jjas, dims='time')\n",
    "print(\"CPT Original\", cptoriginal_subtraction.data)\n",
    "cpt_southpacific = correlation(DSST1, precipa_jjas, dims='time')\n",
    "print(\"DSST1\", cpt_southpacific.data)\n",
    "cpt_northpacific = correlation(DSST2, precipa_jjas, dims='time')\n",
    "print(\"DSST2\", cpt_northpacific.data)\n",
    "\n",
    "print()\n",
    "cptnew = correlation(CPT, precipa_jjas, dims='time')\n",
    "print(\"CPT New\", cptnew.data)\n",
    "cpt_pacific = correlation(DSST1new, precipa_jjas, dims='time')\n",
    "print(\"DSST\", cpt_pacific.data)"
   ]
  },
  {
   "cell_type": "markdown",
   "metadata": {},
   "source": [
    "# PSH 1 (atlantic)"
   ]
  },
  {
   "cell_type": "code",
   "execution_count": 29,
   "metadata": {},
   "outputs": [
    {
     "name": "stdout",
     "output_type": "stream",
     "text": [
      "<xarray.DataArray (time: 88)>\n",
      "array([-2.005250e-01, -5.051098e-01, -6.125665e-01, -1.837063e+00,\n",
      "       -1.866761e+00, -1.292742e+00, -2.470020e+00, -2.482490e-01,\n",
      "       -1.102492e+00, -1.361715e+00, -1.361769e+00, -2.118574e+00,\n",
      "       -1.986200e+00,  3.538084e-01, -5.215671e-01, -2.002871e+00,\n",
      "       -1.004603e+00, -3.375509e-01, -5.135708e-01, -1.850341e-01,\n",
      "       -2.298567e-01, -1.507822e-01, -3.283794e-01, -9.261173e-01,\n",
      "       -6.347694e-01,  3.103731e-02, -8.884090e-01,  8.430255e-02,\n",
      "        1.217063e-01,  1.566132e+00, -6.575921e-01,  8.822005e-01,\n",
      "        5.166321e-01, -2.775873e-01,  7.746392e-01,  5.110298e-01,\n",
      "        2.223698e-01, -1.147085e-01, -7.284263e-01, -1.242188e+00,\n",
      "       -1.917778e-01, -1.029086e-01, -2.842865e-01,  1.487120e+00,\n",
      "       -6.584970e-01, -7.160102e-01,  6.213269e-01, -1.220243e-03,\n",
      "        3.113251e-01, -5.122090e-01, -1.128113e-01,  7.545597e-01,\n",
      "        5.855645e-01,  1.186979e-01,  7.520196e-01,  7.556060e-01,\n",
      "        6.702035e-01,  1.321372e-01, -7.461835e-01, -8.363931e-02,\n",
      "       -7.490619e-01,  1.597201e+00,  8.229752e-01, -4.450362e-01,\n",
      "        9.970955e-01,  1.348896e+00,  4.264215e-01,  9.116986e-01,\n",
      "       -3.555033e-01,  2.061047e-01,  2.901944e-01,  4.962616e-01,\n",
      "        1.781248e+00, -1.290604e+00,  1.559809e+00,  2.256885e+00,\n",
      "        1.734993e+00, -7.825418e-02,  1.220032e+00,  5.916153e-01,\n",
      "        1.110648e-01,  2.831745e-02, -3.201934e-01,  2.499099e+00,\n",
      "        1.020521e+00,  1.213964e+00,  1.569952e+00,  4.192281e-01])\n",
      "Coordinates:\n",
      "  * time     (time) datetime64[ns] 1900-05-01 1901-05-01 ... 2015-05-01\n"
     ]
    }
   ],
   "source": [
    "#mega-ENSOpredictor\n",
    "\n",
    "#NPcalculation\n",
    "latrange1 = slp_anom.sel(lat = slice(-40, -10)).lat\n",
    "weights1 = np.cos(latrange1*np.pi/180)\n",
    "\n",
    "marchdata1 = slp_anom.sel(lat = slice(-40, -10), lon = slice(200, 270), time = (slp_anom['time.month']==3))\n",
    "marchSLP1 = marchdata1.sel(time=slice('1900-03-01','2015-03-01'))\n",
    "marchmean1 = ((marchSLP1*weights1).mean({'lon', 'lat'})/weights1.mean())\n",
    "\n",
    "aprildata1 = slp_anom.sel(lat = slice(-40, -10), lon = slice(200, 270), time = (slp_anom['time.month']==4))\n",
    "aprilSLP1 = aprildata1.sel(time=slice('1900-04-01','2015-04-01'))\n",
    "aprilmean1 = ((aprilSLP1*weights1).mean({'lon', 'lat'})/weights1.mean())\n",
    "\n",
    "maydata1 = slp_anom.sel(lat = slice(-40, -10), lon = slice(200, 270), time = (slp_anom['time.month']==5))\n",
    "maySLP1 = maydata1.sel(time = slice('1900-05-01', '2015-05-01'))\n",
    "maymean1 = ((maySLP1*weights1).mean({'lon', 'lat'})/weights1.mean())\n",
    "\n",
    "marchmean1.time.data = maymean1.time.data\n",
    "aprilmean1.time.data = maymean1.time.data\n",
    "NP = ((aprilmean1 + maymean1)/2)\n",
    "\n",
    "#SPcalculation\n",
    "latrange2 = slp_anom.sel(lat = slice(10, 30)).lat\n",
    "weights2 = np.cos(latrange2*np.pi/180)\n",
    "\n",
    "marchdata2 = slp_anom.sel(lat = slice(10, 30), lon = slice(180, 230), time = (slp_anom['time.month']==3))\n",
    "marchSLP2 = marchdata2.sel(time = slice('1900-03-01', '2015-03-01'))\n",
    "marchmean2 = ((marchSLP2*weights2).mean({'lon', 'lat'})/weights2.mean())\n",
    "\n",
    "aprildata2 = slp_anom.sel(lat = slice(10, 30), lon = slice(180, 230), time = (slp_anom['time.month']==4))\n",
    "aprilSLP2 = aprildata2.sel(time = slice('1900-04-01', '2015-04-01'))\n",
    "aprilmean2 = ((aprilSLP2*weights2).mean({'lon', 'lat'})/weights2.mean())\n",
    "\n",
    "maydata2 = slp_anom.sel(lat = slice(10, 30), lon = slice(180, 230), time = (slp_anom['time.month']==5))\n",
    "maySLP2 = maydata2.sel(time = slice('1900-05-01', '2015-05-01'))\n",
    "maymean2 = ((maySLP2*weights2).mean({'lon', 'lat'})/weights2.mean())\n",
    "\n",
    "marchmean2.time.data = maymean2.time.data\n",
    "aprilmean2.time.data = maymean2.time.data\n",
    "SP = ((aprilmean2 + maymean2)/2)\n",
    "\n",
    "NParea = (30*weights1.mean() * 70)\n",
    "SParea = (20*weights2.mean() * 50)\n",
    "PSHoriginal = ((NP * NParea) + (SP * SParea))/(NParea + SParea)\n",
    "#print(PSHoriginal)\n",
    "PSHstd = PSHoriginal.std()\n",
    "PSHmean = PSHoriginal.mean()\n",
    "PSHoriginal = (PSHoriginal - PSHmean)/PSHstd\n",
    "print(PSHoriginal)"
   ]
  },
  {
   "cell_type": "code",
   "execution_count": 30,
   "metadata": {},
   "outputs": [
    {
     "name": "stdout",
     "output_type": "stream",
     "text": [
      "<xarray.DataArray (time: 88)>\n",
      "array([-0.736038, -0.579256, -1.229166, -1.526877, -2.30199 , -1.22176 ,\n",
      "       -3.097507, -0.471268, -0.879755, -1.640331, -0.945716, -2.040885,\n",
      "       -2.392938,  0.397272, -0.814185, -1.659703, -0.786277, -0.604991,\n",
      "       -0.408257, -0.772575, -0.652349,  0.418274, -0.235783, -0.863732,\n",
      "       -0.44869 , -0.212985, -0.771149,  0.12583 , -0.021782,  1.389858,\n",
      "       -0.663709,  0.601001,  0.656033, -0.674627,  0.339868,  0.892814,\n",
      "        0.268546,  0.011395, -0.657875, -1.395524,  0.029102,  0.008865,\n",
      "       -0.519794,  1.114014, -0.391357, -0.618622,  1.063568, -0.111219,\n",
      "        0.365565,  0.358988,  0.090006,  0.633639,  0.762995,  0.616905,\n",
      "        0.981822,  1.17353 ,  0.691215,  0.514326, -0.220572,  0.200373,\n",
      "       -0.406786,  1.260126,  0.732288,  0.155362,  0.214526,  1.253657,\n",
      "        0.659776,  0.959788, -0.417253, -0.019799,  0.105757,  0.218778,\n",
      "        1.546617, -1.188243,  1.216346,  2.419632,  1.465026, -0.068721,\n",
      "        0.692366,  0.707363,  0.542628,  0.931019,  0.039298,  2.245572,\n",
      "        0.945875,  1.119313,  1.284969,  0.248157])\n",
      "Coordinates:\n",
      "  * time     (time) datetime64[ns] 1900-05-01 1901-05-01 ... 2015-05-01\n",
      "    month    (time) float64 5.0 5.0 5.0 5.0 5.0 5.0 ... 5.0 5.0 5.0 5.0 5.0 5.0\n"
     ]
    }
   ],
   "source": [
    "NPmam = ((marchmean1 + aprilmean1 + maymean1)/3)\n",
    "SPmam = ((marchmean2 + aprilmean2 + maymean2)/3)\n",
    "\n",
    "PSHmam = ((NPmam * NParea) + (SPmam * SParea))/(NParea + SParea)\n",
    "PSHstd = PSHmam.std()\n",
    "PSHmean = PSHmam.mean()\n",
    "PSHmam = (PSHmam - PSHmean)/PSHstd\n",
    "print(PSHmam)"
   ]
  },
  {
   "cell_type": "code",
   "execution_count": 31,
   "metadata": {},
   "outputs": [
    {
     "name": "stdout",
     "output_type": "stream",
     "text": [
      "PSH Original 0.2482824012783793\n",
      "NP 0.212805324180741\n",
      "SP 0.21882287006708628\n",
      "\n",
      "PSH MAM 0.26066186350067266\n",
      "NP MAM 0.23816789300643842\n",
      "SP MAM 0.20010652961195954\n"
     ]
    }
   ],
   "source": [
    "pshoriginal_subtraction = correlation(PSHoriginal, precipa_jjas, dims='time')\n",
    "print(\"PSH Original\", pshoriginal_subtraction.data)\n",
    "psh_northpacific = correlation(NP, precipa_jjas, dims='time')\n",
    "print(\"NP\", psh_northpacific.data)\n",
    "psh_southpacific = correlation(SP, precipa_jjas, dims='time')\n",
    "print(\"SP\", psh_southpacific.data)\n",
    "\n",
    "print()\n",
    "pshmam_subtraction = correlation(PSHmam, precipa_jjas, dims='time')\n",
    "print(\"PSH MAM\", pshmam_subtraction.data)\n",
    "pshmam_northpacific = correlation(NPmam, precipa_jjas, dims='time')\n",
    "print(\"NP MAM\", pshmam_northpacific.data)\n",
    "pshmam_southpacific = correlation(SPmam, precipa_jjas, dims='time')\n",
    "print(\"SP MAM\", pshmam_southpacific.data)"
   ]
  },
  {
   "cell_type": "code",
   "execution_count": 32,
   "metadata": {},
   "outputs": [
    {
     "name": "stdout",
     "output_type": "stream",
     "text": [
      "<xarray.DataArray (time: 88)>\n",
      "array([-0.902535, -0.282291, -1.389914, -1.154822, -2.359761, -1.257436,\n",
      "       -2.921318, -0.212033, -0.582589, -1.791609, -0.307659, -2.247592,\n",
      "       -2.278836,  1.127595, -0.401634, -1.077592, -0.441922, -0.220142,\n",
      "       -0.06447 ,  0.030711, -1.080378,  0.742471, -0.0899  , -0.466494,\n",
      "       -0.640331, -0.216585, -0.746988, -0.078206,  0.306269,  1.509091,\n",
      "       -0.265143,  0.50079 ,  0.72985 , -0.519662,  0.776813,  1.325778,\n",
      "        0.90113 , -0.132807, -0.308627, -1.460135, -0.006665,  0.193215,\n",
      "       -0.727898,  1.456406, -0.359135, -1.061705,  1.611989, -0.307875,\n",
      "        0.63176 ,  0.024314,  0.403216,  0.883149,  0.894942,  0.72649 ,\n",
      "        0.751295,  1.315084,  0.982877, -0.017042, -0.902132, -0.251349,\n",
      "       -0.279669,  1.347609,  1.126274, -0.33236 , -0.555139,  1.25201 ,\n",
      "        0.255315,  0.69157 , -0.031849, -0.942801,  0.25477 , -0.654321,\n",
      "        0.335695, -1.488298,  1.056863,  2.257704,  1.340768, -0.114244,\n",
      "        0.555478,  0.01776 ,  0.464829,  0.999952, -0.15671 ,  2.203891,\n",
      "        1.016007,  0.46488 ,  0.9353  , -0.313307])\n",
      "Coordinates:\n",
      "  * time     (time) datetime64[ns] 1900-05-01 1901-05-01 ... 2015-05-01\n",
      "    month    (time) float64 5.0 5.0 5.0 5.0 5.0 5.0 ... 5.0 5.0 5.0 5.0 5.0 5.0\n"
     ]
    }
   ],
   "source": [
    "#(20-45s, 145-80w)\n",
    "#(15-35n, 170-125w)\n",
    "\n",
    "#mega-ENSOpredictor\n",
    "# shifted boxes\n",
    "\n",
    "#NPcalculation\n",
    "latrange1 = slp_anom.sel(lat = slice(-45, -20)).lat\n",
    "weights1 = np.cos(latrange1*np.pi/180)\n",
    "\n",
    "marchdata1 = slp_anom.sel(lat = slice(-45, -20), lon = slice(215, 260), time = (slp_anom['time.month']==3))\n",
    "marchSLP1 = marchdata1.sel(time=slice('1900-03-01','2015-03-01'))\n",
    "marchmean1 = ((marchSLP1*weights1).mean({'lon', 'lat'})/weights1.mean())\n",
    "\n",
    "aprildata1 = slp_anom.sel(lat = slice(-45, -20), lon = slice(215, 260), time = (slp_anom['time.month']==4))\n",
    "aprilSLP1 = aprildata1.sel(time=slice('1900-04-01','2015-04-01'))\n",
    "aprilmean1 = ((aprilSLP1*weights1).mean({'lon', 'lat'})/weights1.mean())\n",
    "\n",
    "maydata1 = slp_anom.sel(lat = slice(-45, -20), lon = slice(215, 260), time = (slp_anom['time.month']==5))\n",
    "maySLP1 = maydata1.sel(time = slice('1900-05-01', '2015-05-01'))\n",
    "maymean1 = ((maySLP1*weights1).mean({'lon', 'lat'})/weights1.mean())\n",
    "\n",
    "marchmean1.time.data = maymean1.time.data\n",
    "aprilmean1.time.data = maymean1.time.data\n",
    "NPshifted = ((marchmean1 + aprilmean1 + maymean1)/3)\n",
    "\n",
    "#SPcalculation\n",
    "latrange2 = slp_anom.sel(lat = slice(15, 35)).lat\n",
    "weights2 = np.cos(latrange2*np.pi/180)\n",
    "\n",
    "marchdata2 = slp_anom.sel(lat = slice(15, 35), lon = slice(190, 235), time = (slp_anom['time.month']==3))\n",
    "marchSLP2 = marchdata2.sel(time = slice('1900-03-01', '2015-03-01'))\n",
    "marchmean2 = ((marchSLP2*weights2).mean({'lon', 'lat'})/weights2.mean())\n",
    "\n",
    "aprildata2 = slp_anom.sel(lat = slice(15, 35), lon = slice(190, 235), time = (slp_anom['time.month']==4))\n",
    "aprilSLP2 = aprildata2.sel(time = slice('1900-04-01', '2015-04-01'))\n",
    "aprilmean2 = ((aprilSLP2*weights2).mean({'lon', 'lat'})/weights2.mean())\n",
    "\n",
    "maydata2 = slp_anom.sel(lat = slice(15, 35), lon = slice(190, 235), time = (slp_anom['time.month']==5))\n",
    "maySLP2 = maydata2.sel(time = slice('1900-05-01', '2015-05-01'))\n",
    "maymean2 = ((maySLP2*weights2).mean({'lon', 'lat'})/weights2.mean())\n",
    "\n",
    "marchmean2.time.data = maymean2.time.data\n",
    "aprilmean2.time.data = maymean2.time.data\n",
    "SPshifted = ((marchmean2 + aprilmean2 + maymean2)/3)\n",
    "\n",
    "NParea = (25*weights1.mean() * 45)\n",
    "SParea = (20*weights2.mean() * 45)\n",
    "PSHshiftedmam = ((NPshifted * NParea) + (SPshifted * SParea))/(NParea + SParea)\n",
    "#print(PSHshiftedmam)\n",
    "PSHstd = PSHshiftedmam.std()\n",
    "PSHmean = PSHshiftedmam.mean()\n",
    "PSHshiftedmam = (PSHshiftedmam - PSHmean)/PSHstd\n",
    "print(PSHshiftedmam)"
   ]
  },
  {
   "cell_type": "code",
   "execution_count": 33,
   "metadata": {},
   "outputs": [
    {
     "name": "stdout",
     "output_type": "stream",
     "text": [
      "PSH MAM 0.26066186350067266\n",
      "NP MAM 0.23816789300643842\n",
      "SP MAM 0.20010652961195954\n",
      "\n",
      "PSH Shifted MAM 0.3428463951928606\n",
      "NP Shifted MAM 0.29148893785806046\n",
      "SP ShiftedMAM 0.2713030787610338\n"
     ]
    }
   ],
   "source": [
    "pshmam_subtraction = correlation(PSHmam, precipa_jjas, dims='time')\n",
    "print(\"PSH MAM\", pshmam_subtraction.data)\n",
    "pshmam_northpacific = correlation(NPmam, precipa_jjas, dims='time')\n",
    "print(\"NP MAM\", pshmam_northpacific.data)\n",
    "pshmam_southpacific = correlation(SPmam, precipa_jjas, dims='time')\n",
    "print(\"SP MAM\", pshmam_southpacific.data)\n",
    "\n",
    "print()\n",
    "pshshiftedmam_subtraction = correlation(PSHshiftedmam, precipa_jjas, dims='time')\n",
    "print(\"PSH Shifted MAM\", pshshiftedmam_subtraction.data)\n",
    "pshshiftedmam_northpacific = correlation(NPshifted, precipa_jjas, dims='time')\n",
    "print(\"NP Shifted MAM\", pshshiftedmam_northpacific.data)\n",
    "pshshiftedmam_southpacific = correlation(SPshifted, precipa_jjas, dims='time')\n",
    "print(\"SP ShiftedMAM\", pshshiftedmam_southpacific.data)"
   ]
  },
  {
   "cell_type": "markdown",
   "metadata": {},
   "source": [
    "# PSH 2 (indian ocean) - new"
   ]
  },
  {
   "cell_type": "code",
   "execution_count": 49,
   "metadata": {},
   "outputs": [
    {
     "name": "stdout",
     "output_type": "stream",
     "text": [
      "<xarray.DataArray (time: 88)>\n",
      "array([ 1.092603, -0.711478, -0.228295, -1.896805,  1.320214,  0.390509,\n",
      "        1.347078, -0.248413, -0.666305,  0.480633, -0.463781,  1.746628,\n",
      "        1.066002, -1.628349, -0.004954,  0.105552, -0.416454,  0.065233,\n",
      "       -0.499024, -0.561141,  1.089015, -0.928578,  0.023199, -0.026388,\n",
      "        0.399222, -1.18022 , -1.368869, -0.665814, -1.54572 , -1.972929,\n",
      "       -1.21794 , -0.168421, -1.785789, -0.267791, -0.904053, -1.54405 ,\n",
      "       -0.858347,  0.051353,  1.177769,  0.2506  , -0.321308,  1.177917,\n",
      "       -0.451455, -0.843719,  1.018969,  0.717663, -0.479099,  0.170804,\n",
      "       -0.634659,  0.321884,  0.374824, -0.563791, -0.644544, -0.486667,\n",
      "       -0.11967 , -1.067465,  0.439815, -0.72703 ,  0.799642,  0.503383,\n",
      "        0.821566, -0.694143, -1.129788, -0.061518,  2.063507, -0.818476,\n",
      "       -0.530709,  0.269661,  0.649878,  1.99545 ,  0.643364,  0.867467,\n",
      "       -0.160328,  2.455642,  1.563235, -1.280461, -0.292405, -0.018248,\n",
      "        0.421276,  1.934794, -0.258792, -1.252065, -0.487912,  0.990399,\n",
      "       -0.246289,  0.366072,  1.690288,  2.467341], dtype=float32)\n",
      "Coordinates:\n",
      "  * time     (time) datetime64[ns] 1900-05-01 1901-05-01 ... 2015-05-01\n",
      "    month    (time) float64 5.0 5.0 5.0 5.0 5.0 5.0 ... 5.0 5.0 5.0 5.0 5.0 5.0\n"
     ]
    }
   ],
   "source": [
    "#(0-20n, 40-120e)\n",
    "\n",
    "latrange1 = slp_anom.sel(lat = slice(0, 20)).lat\n",
    "weights1 = np.cos(latrange1*np.pi/180)\n",
    "\n",
    "marchdata1 = slp_anom.sel(lat = slice(0, 20), lon = slice(40, 120), time = (slp_anom['time.month']==3))\n",
    "marchSLP1 = marchdata1.sel(time = slice('1900-03-01', '2015-03-01'))\n",
    "marchmean1 = (marchSLP1*weights1).mean({'lon', 'lat'})/weights1.mean()\n",
    "\n",
    "aprildata1 = slp_anom.sel(lat = slice(0, 20), lon = slice(40, 120), time = (slp_anom['time.month']==4))\n",
    "aprilSLP1 = aprildata1.sel(time = slice('1900-04-01', '2015-04-01'))\n",
    "aprilmean1 = (aprilSLP1*weights1).mean({'lon', 'lat'})/weights1.mean()\n",
    "\n",
    "maydata1 = slp_anom.sel(lat = slice(0, 20), lon = slice(40, 120), time = (slp_anom['time.month']==5))\n",
    "maySLP1 = maydata1.sel(time = slice('1900-05-01', '2015-05-01'))\n",
    "maymean1 = (maySLP1*weights1).mean({'lon', 'lat'})/weights1.mean()\n",
    "\n",
    "marchmean1.time.data = maymean1.time.data\n",
    "aprilmean1.time.data = maymean1.time.data\n",
    "\n",
    "EQindia = (marchmean1 + aprilmean1 + maymean1)/3\n",
    "\n",
    "PSHindia = EQindia\n",
    "PSHstd = PSHindia.std()\n",
    "PSHmean = PSHindia.mean()\n",
    "\n",
    "PSHindia = (PSHindia - PSHmean)/PSHstd\n",
    "print(PSHindia)"
   ]
  },
  {
   "cell_type": "code",
   "execution_count": 50,
   "metadata": {},
   "outputs": [
    {
     "name": "stdout",
     "output_type": "stream",
     "text": [
      "PSH Equitorial Indian Ocean -0.3177957531813885\n",
      "EQ india -0.3177957677051461\n"
     ]
    }
   ],
   "source": [
    "pshnew_india = correlation(PSHindia, precipa_jjas, dims='time')\n",
    "print(\"PSH Equatorial Indian Ocean\", pshnew_india.data)\n",
    "psh_eqindia = correlation(EQindia, precipa_jjas, dims='time')\n",
    "print(\"EQ india\", psh_eqindia.data)"
   ]
  },
  {
   "cell_type": "markdown",
   "metadata": {},
   "source": [
    "# PSH new (original boxes on MAM minus equitorial indian ocean)"
   ]
  },
  {
   "cell_type": "code",
   "execution_count": 51,
   "metadata": {},
   "outputs": [
    {
     "name": "stdout",
     "output_type": "stream",
     "text": [
      "<xarray.DataArray (time: 88)>\n",
      "array([-0.960713, -0.124592, -0.598474, -0.190303, -2.151003, -1.091097,\n",
      "       -2.857396, -0.237193, -0.401898, -1.802752, -0.437883, -2.390737,\n",
      "       -2.337457,  1.054636, -0.81876 , -1.248331, -0.409383, -0.548716,\n",
      "       -0.151719, -0.35134 , -1.031082,  0.768355, -0.116022, -0.612239,\n",
      "       -0.624693,  0.356933,  0.034859,  0.359385,  0.683271,  1.896767,\n",
      "        0.071883,  0.484943,  1.321814, -0.504303,  0.56235 ,  1.420539,\n",
      "        0.636867, -0.057265, -1.213026, -1.159768,  0.37577 , -0.510621,\n",
      "       -0.323791,  1.163838, -0.788144, -0.819406,  1.038622, -0.200738,\n",
      "        0.377763, -0.010316, -0.015159,  0.859771,  0.946697,  0.965315,\n",
      "        0.736057,  1.454499,  0.347872,  0.716171, -0.472924,  0.059061,\n",
      "       -0.771503,  1.36072 ,  1.129488,  0.084805, -0.845315,  1.479648,\n",
      "        0.615896,  0.497792, -0.356442, -0.870746, -0.071678, -0.375274,\n",
      "        1.063851, -2.143701,  0.419819,  2.470272,  1.232098, -0.085056,\n",
      "        0.301093, -0.455917,  0.601136,  1.490972,  0.315506,  1.28099 ,\n",
      "        0.954877,  0.607535, -0.004215, -1.051445])\n",
      "Coordinates:\n",
      "  * time     (time) datetime64[ns] 1900-05-01 1901-05-01 ... 2015-05-01\n",
      "    month    (time) float64 5.0 5.0 5.0 5.0 5.0 5.0 ... 5.0 5.0 5.0 5.0 5.0 5.0\n"
     ]
    }
   ],
   "source": [
    "PSHtempmam = ((NPmam * NParea) + (SPmam * SParea))/(NParea + SParea)\n",
    "PSHnew = PSHtempmam - EQindia\n",
    "\n",
    "PSHnewstd = PSHnew.std()\n",
    "PSHnewmean = PSHnew.mean()\n",
    "PSHnew = (PSHnew - PSHnewmean)/PSHnewstd\n",
    "print(PSHnew)"
   ]
  },
  {
   "cell_type": "code",
   "execution_count": 52,
   "metadata": {},
   "outputs": [
    {
     "name": "stdout",
     "output_type": "stream",
     "text": [
      "<xarray.DataArray (time: 88)>\n",
      "array([-1.120807,  0.084838, -0.936084, -0.07203 , -2.295266, -1.09368 ,\n",
      "       -2.722701, -0.054504, -0.156472, -1.526965, -0.036367, -2.388385,\n",
      "       -2.130179,  1.50914 , -0.295717, -0.842546, -0.155473, -0.190177,\n",
      "        0.158499,  0.254744, -1.251174,  0.93433 , -0.076241, -0.334943,\n",
      "       -0.63977 ,  0.327329,  0.012084,  0.217266,  0.866063,  1.934424,\n",
      "        0.306923,  0.440904,  1.279344, -0.274565,  0.949652,  1.621221,\n",
      "        1.022924, -0.11969 , -0.7157  , -1.186119,  0.127887, -0.343703,\n",
      "       -0.353022,  1.42855 , -0.687498, -1.083813,  1.393163, -0.298864,\n",
      "        0.730745, -0.11504 ,  0.143986,  0.887824,  0.92995 ,  0.739796,\n",
      "        0.60647 ,  1.416272,  0.546871,  0.287919, -0.999398, -0.394444,\n",
      "       -0.546977,  1.286055,  1.302056, -0.220975, -1.264624,  1.266578,\n",
      "        0.408681,  0.401241, -0.292271, -1.523896, -0.077083, -0.843714,\n",
      "        0.315159, -2.118562,  0.137302,  2.203169,  1.114905, -0.077155,\n",
      "        0.237667, -0.786676,  0.451601,  1.258952,  0.08552 ,  1.224501,\n",
      "        0.855068,  0.193321, -0.005347, -1.252278])\n",
      "Coordinates:\n",
      "  * time     (time) datetime64[ns] 1900-05-01 1901-05-01 ... 2015-05-01\n",
      "    month    (time) float64 5.0 5.0 5.0 5.0 5.0 5.0 ... 5.0 5.0 5.0 5.0 5.0 5.0\n"
     ]
    }
   ],
   "source": [
    "PSHtempshifted = ((NPshifted * NParea) + (SPshifted * SParea))/(NParea + SParea)\n",
    "PSHnewshifted = PSHtempshifted - EQindia\n",
    "\n",
    "PSHnewstd = PSHnewshifted.std()\n",
    "PSHnewmean = PSHnewshifted.mean()\n",
    "PSHnewshifted = (PSHnewshifted - PSHnewmean)/PSHnewstd\n",
    "print(PSHnewshifted)"
   ]
  },
  {
   "cell_type": "code",
   "execution_count": 53,
   "metadata": {},
   "outputs": [
    {
     "name": "stdout",
     "output_type": "stream",
     "text": [
      "PSH Original Boxes MAM minues Equitorial Indian Ocean 0.3621316278881882\n",
      "PSH Original Boxes MAM 0.2623759664902603\n",
      "EQ india -0.3177957677051461\n",
      "\n",
      "PSH Shifted Boxes MAM minues Equitorial Indian Ocean 0.38555761475186673\n",
      "PSH Shifted Boxes MAM 0.3428463951928607\n",
      "EQ india -0.3177957677051461\n"
     ]
    }
   ],
   "source": [
    "pshnew = correlation(PSHnew, precipa_jjas, dims='time')\n",
    "print(\"PSH Original Boxes MAM minues Equitorial Indian Ocean\", pshnew.data)\n",
    "psh_originalMAM = correlation(PSHtempmam, precipa_jjas, dims='time')\n",
    "print(\"PSH Original Boxes MAM\", psh_originalMAM.data)\n",
    "psh_eqindia = correlation(EQindia, precipa_jjas, dims='time')\n",
    "print(\"EQ india\", psh_eqindia.data)\n",
    "\n",
    "print()\n",
    "pshnewshifted = correlation(PSHnewshifted, precipa_jjas, dims='time')\n",
    "print(\"PSH Shifted Boxes MAM minues Equitorial Indian Ocean\", pshnewshifted.data)\n",
    "psh_shiftedMAM = correlation(PSHtempshifted, precipa_jjas, dims='time')\n",
    "print(\"PSH Shifted Boxes MAM\", psh_shiftedMAM.data)\n",
    "psh_eqindia = correlation(EQindia, precipa_jjas, dims='time')\n",
    "print(\"EQ india\", psh_eqindia.data)"
   ]
  },
  {
   "cell_type": "markdown",
   "metadata": {},
   "source": [
    "# NAT"
   ]
  },
  {
   "cell_type": "code",
   "execution_count": 54,
   "metadata": {},
   "outputs": [
    {
     "name": "stdout",
     "output_type": "stream",
     "text": [
      "<xarray.DataArray (time: 88)>\n",
      "array([-1.068893,  0.755654, -0.12527 ,  0.599036, -1.890579, -0.034174,\n",
      "        0.13958 , -0.239572,  0.238692,  0.437342,  0.731064, -0.502504,\n",
      "       -1.75183 , -0.134084,  1.291167,  0.963258, -0.115369,  0.992072,\n",
      "       -1.714047, -0.177566, -0.864392,  0.914149, -0.850064, -0.146981,\n",
      "        1.098344, -0.23197 ,  0.951411, -2.40728 , -0.407965, -0.562247,\n",
      "        0.41978 ,  1.46196 ,  1.423092, -0.093212, -0.260565, -0.936379,\n",
      "        0.20943 , -0.958688,  0.570385,  0.110958,  0.948243,  0.556542,\n",
      "       -1.239539, -0.332461, -1.195328,  0.850039,  1.538866, -0.598748,\n",
      "        0.187332,  2.317948, -1.085157, -2.437565, -1.39872 ,  0.21747 ,\n",
      "       -0.744242,  0.601322, -1.121179,  0.136418,  0.589953,  0.822986,\n",
      "        0.286184, -0.687328, -1.442452,  0.29634 ,  0.310177, -0.831618,\n",
      "        0.78558 ,  0.481044, -0.659407,  0.256803, -2.025287,  0.561287,\n",
      "        0.551788, -0.220278,  0.124549,  0.427256,  0.631208,  3.402901,\n",
      "        0.657332, -1.230018,  1.425591,  1.283391, -0.308128, -0.802365,\n",
      "       -0.334189,  0.667994, -0.066114,  0.009839], dtype=float32)\n",
      "Coordinates:\n",
      "  * time     (time) datetime64[ns] 1900-05-01 1901-05-01 ... 2015-05-01\n"
     ]
    }
   ],
   "source": [
    "#AnomalousAsianLowpredictor\n",
    "\n",
    "latrange = slp_anom.sel(lat = slice(40, 60)).lat\n",
    "weights = np.cos(latrange*np.pi/180)\n",
    "\n",
    "marchdata = slp_anom.sel(lat = slice(40, 60), lon = slice(95, 125), time = (slp_anom['time.month']==3))\n",
    "marchSLP = marchdata.sel(time = slice('1900-03-01', '2015-03-01'))\n",
    "marchmean = ((marchSLP*weights).mean({'lon', 'lat'})/weights.mean())\n",
    "\n",
    "maydata = slp_anom.sel(lat = slice(40, 60), lon = slice(95, 125), time = (slp_anom['time.month']==5))\n",
    "maySLP = maydata.sel(time = slice('1900-05-01', '2015-05-01'))\n",
    "maymean = ((maySLP*weights).mean({'lon', 'lat'})/weights.mean())\n",
    "\n",
    "marchmean.time.data = maymean.time.data\n",
    "\n",
    "NATprimary = maymean - marchmean\n",
    "NAT = maymean - marchmean\n",
    "#print(NAT)\n",
    "NATstd = NAT.std()\n",
    "NATmean = NAT.mean()\n",
    "NAT = (NAT - NATmean)/NATstd\n",
    "print(NAT)"
   ]
  },
  {
   "cell_type": "code",
   "execution_count": 55,
   "metadata": {},
   "outputs": [
    {
     "name": "stdout",
     "output_type": "stream",
     "text": [
      "NAT -0.1763771605102689\n",
      "Non standardized NAT -0.17637715963724143\n"
     ]
    }
   ],
   "source": [
    "nat = correlation(NAT, precipa_jjas, dims='time')\n",
    "print(\"NAT\", nat.data)\n",
    "nattemp = correlation(NATprimary, precipa_jjas, dims='time')\n",
    "print(\"Non standardized NAT\", nattemp.data)"
   ]
  },
  {
   "cell_type": "markdown",
   "metadata": {},
   "source": [
    "# MSE"
   ]
  },
  {
   "cell_type": "code",
   "execution_count": 82,
   "metadata": {},
   "outputs": [
    {
     "name": "stdout",
     "output_type": "stream",
     "text": [
      "<xarray.DataArray (time: 88)>\n",
      "array([ 0.993994,  0.235377,  0.021828, -0.411704,  0.16878 ,  0.635613,\n",
      "        0.481103, -0.190353, -0.124217, -0.89765 , -0.927574,  0.250367,\n",
      "       -0.10318 , -2.484676, -2.285177, -0.647515, -1.170872, -1.512008,\n",
      "        0.365364, -1.195545, -0.305746, -0.408075, -0.204861,  0.020871,\n",
      "        1.203196, -0.453631, -0.21258 ,  0.715034,  0.746178,  0.852107,\n",
      "        0.359235,  1.685123,  0.909815,  0.081116,  0.717251,  0.833786,\n",
      "        1.344242,  1.636527,  0.357348, -0.406704, -0.033583,  0.656075,\n",
      "        0.216265, -0.818782, -1.236335,  0.775538,  0.414713, -2.146874,\n",
      "       -1.81011 , -1.112925,  1.118688,  1.026895, -0.939798,  0.705002,\n",
      "       -1.407612, -1.06164 , -1.560438, -0.501271, -1.805641, -0.062008,\n",
      "       -1.010407, -0.168499,  0.369368, -0.774004, -1.085955,  0.689969,\n",
      "       -0.94746 , -0.096352,  0.375038, -1.301612,  0.685708, -0.218328,\n",
      "        0.246983, -1.00132 ,  1.065713,  0.688177,  0.94501 ,  1.003526,\n",
      "        1.44716 ,  0.473174,  1.03796 ,  0.548147, -0.071034,  3.179141,\n",
      "        0.413539,  0.924857, -0.017757,  1.51091 ])\n",
      "Coordinates:\n",
      "  * time     (time) datetime64[ns] 1900-05-01 1901-05-01 ... 2015-05-01\n",
      "    month    (time) float64 5.0 5.0 5.0 5.0 5.0 5.0 ... 5.0 5.0 5.0 5.0 5.0 5.0\n"
     ]
    }
   ],
   "source": [
    "#(10-25n, 75-105e)\n",
    "\n",
    "latrange = mse_anom.sel(lat = slice(10, 25)).lat\n",
    "weights1 = np.cos(latrange*np.pi/180)\n",
    "\n",
    "marchdata1 = mse_anom.sel(lat = slice(10, 25), lon = slice(75, 105), time = (mse_anom['time.month']==3))\n",
    "marchMSE1 = marchdata1.sel(time = slice('1900-03-01', '2015-03-01'))\n",
    "marchmean1 = (marchMSE1*weights1).mean({'lon', 'lat'})/weights1.mean()\n",
    "\n",
    "aprildata1 = mse_anom.sel(lat = slice(10, 25), lon = slice(75, 105), time = (mse_anom['time.month']==4))\n",
    "aprilMSE1 = aprildata1.sel(time = slice('1900-04-01', '2015-04-01'))\n",
    "aprilmean1 = (aprilMSE1*weights1).mean({'lon', 'lat'})/weights1.mean()\n",
    "\n",
    "maydata1 = mse_anom.sel(lat = slice(10, 25), lon = slice(75, 105), time = (mse_anom['time.month']==5))\n",
    "mayMSE1 = maydata1.sel(time = slice('1900-05-01', '2015-05-01'))\n",
    "maymean1 = (mayMSE1*weights1).mean({'lon', 'lat'})/weights1.mean()\n",
    "\n",
    "marchmean1.time.data = maymean1.time.data\n",
    "aprilmean1.time.data = maymean1.time.data\n",
    "\n",
    "MSEmamtemp = (marchmean1 + aprilmean1 + maymean1)/3\n",
    "\n",
    "MSEmam = MSEmamtemp\n",
    "MSEstd = MSEmam.std()\n",
    "MSEmean = MSEmam.mean()\n",
    "MSEmam = (MSEmam - MSEmean)/MSEstd\n",
    "print(MSEmam)"
   ]
  },
  {
   "cell_type": "code",
   "execution_count": 103,
   "metadata": {},
   "outputs": [
    {
     "name": "stdout",
     "output_type": "stream",
     "text": [
      "<xarray.DataArray (time: 88)>\n",
      "array([-2.647006e+03, -1.013236e+03,  8.101954e+02, -3.222935e+03,\n",
      "        7.322458e+01,  1.131456e+03,  1.544752e+02, -1.154712e+03,\n",
      "       -8.484942e+02, -1.534955e+03,  2.393376e+03,  5.662075e+02,\n",
      "       -2.871494e+03, -2.614784e+03,  5.872434e+02, -2.851581e+03,\n",
      "        4.808616e+01, -1.847049e+03, -1.583995e+03,  4.709688e+02,\n",
      "       -1.687558e+03,  3.244488e+03, -1.288485e+02, -1.123727e+03,\n",
      "       -2.268284e+00,  1.146851e+03, -1.190345e+03,  2.126930e+03,\n",
      "        3.431485e+03,  2.727517e+03, -1.370561e+01, -6.192057e+02,\n",
      "       -7.614042e+02, -3.614260e+03, -4.283686e+02,  1.711689e+03,\n",
      "        3.488325e+03, -3.060151e+02,  7.234818e+02, -2.466981e+02,\n",
      "       -2.333719e+01, -1.396792e+03, -1.284900e+03, -2.659559e+03,\n",
      "       -4.002049e+02, -1.285508e+03, -1.548387e+03, -2.950638e+02,\n",
      "       -2.707877e+03, -2.727257e+03, -1.137461e+03,  9.921157e+02,\n",
      "        3.032853e+03,  2.901646e+03, -5.390575e+02,  1.612388e+03,\n",
      "        1.638529e+02,  2.780652e+03, -1.628626e+03, -8.491797e+02,\n",
      "       -1.680628e+03,  4.944045e+01, -7.049171e+02,  1.494702e+03,\n",
      "       -2.120911e+03,  6.468604e+02, -1.054463e+03,  3.094876e+03,\n",
      "       -1.087258e+03,  1.768769e+03, -2.427669e+02, -1.620805e+02,\n",
      "       -2.685426e+03, -3.041980e+03,  2.040900e+02,  7.067343e+03,\n",
      "        3.245039e+03,  1.181241e+03,  6.579875e+02, -2.989441e+03,\n",
      "        2.942752e+03,  1.806030e+03,  2.068234e+02,  1.407635e+03,\n",
      "        4.032943e+03,  5.858665e+02, -1.558282e+01,  1.120176e+02])\n",
      "Coordinates:\n",
      "  * time     (time) datetime64[ns] 1900-05-01 1901-05-01 ... 2015-05-01\n",
      "<xarray.DataArray (time: 88)>\n",
      "array([-1.349654e+00, -5.174949e-01,  4.112679e-01, -1.643003e+00,\n",
      "        3.589257e-02,  5.749018e-01,  7.727747e-02, -5.895556e-01,\n",
      "       -4.335840e-01, -7.832320e-01,  1.217659e+00,  2.869929e-01,\n",
      "       -1.463997e+00, -1.333242e+00,  2.977076e-01, -1.453854e+00,\n",
      "        2.308834e-02, -9.421966e-01, -8.082104e-01,  2.384832e-01,\n",
      "       -8.609603e-01,  1.651172e+00, -6.703314e-02, -5.737734e-01,\n",
      "       -2.559647e-03,  5.827433e-01, -6.077054e-01,  1.081945e+00,\n",
      "        1.746419e+00,  1.387854e+00, -8.385237e-03, -3.167961e-01,\n",
      "       -3.892248e-01, -1.842324e+00, -2.195934e-01,  8.704429e-01,\n",
      "        1.775371e+00, -1.572728e-01,  3.671004e-01, -1.270597e-01,\n",
      "       -1.329107e-02, -7.128587e-01, -6.558668e-01, -1.356048e+00,\n",
      "       -2.052482e-01, -6.561764e-01, -7.900735e-01, -1.516948e-01,\n",
      "       -1.380659e+00, -1.390530e+00, -5.807690e-01,  5.039289e-01,\n",
      "        1.543376e+00,  1.476546e+00, -2.759727e-01,  8.198640e-01,\n",
      "        8.205403e-02,  1.414918e+00, -8.309434e-01, -4.339331e-01,\n",
      "       -8.574305e-01,  2.377815e-02, -3.604531e-01,  7.599209e-01,\n",
      "       -1.081688e+00,  3.280734e-01, -5.384940e-01,  1.574968e+00,\n",
      "       -5.551980e-01,  8.995166e-01, -1.250574e-01, -8.395983e-02,\n",
      "       -1.369223e+00, -1.550834e+00,  1.025488e-01,  3.598340e+00,\n",
      "        1.651453e+00,  6.002599e-01,  3.337410e-01, -1.524073e+00,\n",
      "        1.497484e+00,  9.184952e-01,  1.039410e-01,  7.155731e-01,\n",
      "        2.052771e+00,  2.970062e-01, -9.341394e-03,  5.565178e-02])\n",
      "Coordinates:\n",
      "  * time     (time) datetime64[ns] 1900-05-01 1901-05-01 ... 2015-05-01\n"
     ]
    }
   ],
   "source": [
    "#(0-25n, 45-70e)\n",
    "#(20-40n, 70-90e)\n",
    "\n",
    "latrange = mse_anom.sel(lat = slice(0, 25)).lat\n",
    "weights = np.cos(latrange*np.pi/180)\n",
    "\n",
    "marchdata1 = mse_anom.sel(lat = slice(0, 25), lon = slice(45, 70), time = (mse_anom['time.month']==3))\n",
    "marchMSE1 = marchdata1.sel(time = slice('1900-03-01', '2015-03-01'))\n",
    "marchmean1 = (marchMSE1*weights1).mean({'lon', 'lat'})/weights1.mean()\n",
    "\n",
    "aprildata1 = mse_anom.sel(lat = slice(0, 25), lon = slice(45, 70), time = (mse_anom['time.month']==4))\n",
    "aprilMSE1 = aprildata1.sel(time = slice('1900-04-01', '2015-04-01'))\n",
    "aprilmean1 = (aprilMSE1*weights1).mean({'lon', 'lat'})/weights1.mean()\n",
    "\n",
    "maydata1 = mse_anom.sel(lat = slice(0, 25), lon = slice(45, 70), time = (mse_anom['time.month']==5))\n",
    "mayMSE1 = maydata1.sel(time = slice('1900-05-01', '2015-05-01'))\n",
    "maymean1 = (mayMSE1*weights1).mean({'lon', 'lat'})/weights1.mean()\n",
    "\n",
    "marchmean1.time.data = maymean1.time.data\n",
    "aprilmean1.time.data = maymean1.time.data\n",
    "\n",
    "MSEleft = maymean1 - marchmean1\n",
    "\n",
    "latrange2 = mse_anom.sel(lat = slice(20, 40)).lat\n",
    "weights2 = np.cos(latrange2*np.pi/180)\n",
    "\n",
    "marchdata2 = mse_anom.sel(lat = slice(20, 40), lon = slice(70, 90), time = (mse_anom['time.month']==3))\n",
    "marchMSE2 = marchdata2.sel(time = slice('1900-03-01', '2015-03-01'))\n",
    "marchmean2 = ((marchMSE2*weights2).mean({'lon', 'lat'})/weights2.mean())\n",
    "\n",
    "aprildata2 = mse_anom.sel(lat = slice(20, 40), lon = slice(70, 90), time = (mse_anom['time.month']==4))\n",
    "aprilMSE2 = aprildata2.sel(time = slice('1900-04-01', '2015-04-01'))\n",
    "aprilmean2 = ((aprilMSE2*weights2).mean({'lon', 'lat'})/weights2.mean())\n",
    "\n",
    "maydata2 = mse_anom.sel(lat = slice(20, 40), lon = slice(70, 90), time = (mse_anom['time.month']==5))\n",
    "mayMSE2 = maydata2.sel(time = slice('1900-05-01', '2015-05-01'))\n",
    "maymean2 = ((mayMSE2*weights2).mean({'lon', 'lat'})/weights2.mean())\n",
    "\n",
    "marchmean2.time.data = maymean2.time.data\n",
    "aprilmean2.time.data = maymean2.time.data\n",
    "\n",
    "MSEright = maymean2 - marchmean2\n",
    "\n",
    "MSEmay_mar = (MSEright + MSEleft)/2\n",
    "print(MSEmay_mar)\n",
    "MSEstd = MSEmay_mar.std()\n",
    "MSEmean = MSEmay_mar.mean()\n",
    "MSEmay_mar = (MSEmay_mar - MSEmean)/MSEstd\n",
    "print(MSEmay_mar)"
   ]
  },
  {
   "cell_type": "code",
   "execution_count": 113,
   "metadata": {},
   "outputs": [
    {
     "name": "stdout",
     "output_type": "stream",
     "text": [
      "MSE mam 0.22927216846113285\n",
      "Non standardized MSE MAM 0.22927216846113282\n",
      "\n",
      "MSE May - March 2 boxes 0.254622579395633\n",
      "MSE Right 0.22666062753844934\n",
      "MSE Left 0.2502908854459291\n"
     ]
    }
   ],
   "source": [
    "msemam = correlation(MSEmam, precipa_jjas, dims='time')\n",
    "print(\"MSE mam\", msemam.data)\n",
    "msemamtemp = correlation(MSEmamtemp, precipa_jjas, dims='time')\n",
    "print(\"Non standardized MSE MAM\", msemamtemp.data)\n",
    "\n",
    "print()\n",
    "msemay_mar = correlation(MSEmay_mar, precipa_jjas, dims='time')\n",
    "print(\"MSE May - March 2 boxes\", msemay_mar.data)\n",
    "mseeast = correlation(MSEright, precipa_jjas, dims='time')\n",
    "print(\"MSE Right\", mseeast.data)\n",
    "msewest = correlation(MSEleft, precipa_jjas, dims='time')\n",
    "print(\"MSE Left\", msewest.data)"
   ]
  },
  {
   "cell_type": "code",
   "execution_count": 105,
   "metadata": {},
   "outputs": [
    {
     "name": "stdout",
     "output_type": "stream",
     "text": [
      "Correlation between EQ india and MSE MAM box 0.020356523869417494\n",
      "Correlation between EQ india and 2 MSE May - March boxes -0.2743759998265158\n"
     ]
    }
   ],
   "source": [
    "# correlation between Equitorial India PSH and MSE\n",
    "eqmsemam_correlation = correlation(PSHindia, MSEmam, dims='time')\n",
    "print(\"Correlation between EQ india and MSE MAM box\", eqmsemam_correlation.data)\n",
    "\n",
    "eqmsemay_mar_correlation = correlation(PSHindia, MSEmay_mar, dims='time')\n",
    "print(\"Correlation between EQ india and 2 MSE May - March boxes\", eqmsemay_mar_correlation.data)"
   ]
  },
  {
   "cell_type": "code",
   "execution_count": 108,
   "metadata": {},
   "outputs": [
    {
     "name": "stdout",
     "output_type": "stream",
     "text": [
      "<xarray.DataArray (time: 88)>\n",
      "array([ 0.703373, -0.420024, -0.735947, -0.128984,  0.070085, -0.557442,\n",
      "        1.453159,  1.853357,  0.762672, -1.040786, -1.595467,  0.254367,\n",
      "       -0.080102,  0.322635, -0.798798,  0.156482, -0.555605, -1.770474,\n",
      "        0.466213,  0.484568, -0.360855,  1.193541,  0.649579, -1.334648,\n",
      "       -2.218624,  0.348202, -0.561232,  0.678378,  0.992252, -0.525963,\n",
      "       -0.981872,  0.68941 , -0.255552, -0.942193, -0.521181,  1.832442,\n",
      "        0.982721,  0.628098, -1.017553,  0.41852 , -0.521885, -0.210203,\n",
      "       -0.885643,  0.988456,  1.393629, -0.243851,  0.252325, -1.782069,\n",
      "        0.671555, -1.918719,  0.53454 ,  1.117873,  0.796476,  0.325502,\n",
      "        0.145092, -0.622136,  0.608512, -0.988359,  0.456163,  0.555907,\n",
      "       -0.074356,  1.502024,  0.995766, -0.017734, -0.579755,  0.883712,\n",
      "       -1.977925, -1.521291,  0.927713, -1.087153,  0.939036, -0.160292,\n",
      "       -0.10923 , -0.21564 , -1.361189,  0.09094 ,  0.424206, -1.227248,\n",
      "       -0.059124, -0.422256, -0.494859, -1.350032,  0.52287 ,  2.889323,\n",
      "        2.528131,  1.024078, -0.284822, -0.994814])\n",
      "Coordinates:\n",
      "  * time     (time) datetime64[ns] 1900-05-01 1901-05-01 ... 2015-05-01\n"
     ]
    }
   ],
   "source": [
    "#(45-70n, 95e-150w)\n",
    "\n",
    "latrange = mse_anom.sel(lat = slice(45, 70)).lat\n",
    "weights1 = np.cos(latrange*np.pi/180)\n",
    "\n",
    "marchdata1 = mse_anom.sel(lat = slice(45, 70), lon = slice(95, 210), time = (mse_anom['time.month']==3))\n",
    "marchMSE1 = marchdata1.sel(time = slice('1900-03-01', '2015-03-01'))\n",
    "marchmean1 = (marchMSE1*weights1).mean({'lon', 'lat'})/weights1.mean()\n",
    "\n",
    "maydata1 = mse_anom.sel(lat = slice(45, 70), lon = slice(95, 210), time = (mse_anom['time.month']==5))\n",
    "mayMSE1 = maydata1.sel(time = slice('1900-05-01', '2015-05-01'))\n",
    "maymean1 = (mayMSE1*weights1).mean({'lon', 'lat'})/weights1.mean()\n",
    "\n",
    "marchmean1.time.data = maymean1.time.data\n",
    "\n",
    "MSErussiainitial = maymean1 - marchmean1\n",
    "\n",
    "MSErussia = MSErussiainitial\n",
    "MSEstd = MSErussia.std()\n",
    "MSEmean = MSErussia.mean()\n",
    "MSErussia = (MSErussia - MSEmean)/MSEstd\n",
    "print(MSErussia)"
   ]
  },
  {
   "cell_type": "code",
   "execution_count": 114,
   "metadata": {},
   "outputs": [
    {
     "name": "stdout",
     "output_type": "stream",
     "text": [
      "MSE may - march Russia 0.21993841313698684\n",
      "Non standardized MSE May-March Russia 0.21993841313698673\n",
      "\n",
      "Correlation between MSE MAM boxe and May-March Russia 0.25047331284577473\n",
      "Correlation between MSE May-March 2 boxes and Russia 0.13679661877947294\n"
     ]
    }
   ],
   "source": [
    "mserussia = correlation(MSErussia, precipa_jjas, dims='time')\n",
    "print(\"MSE may - march Russia\", mserussia.data)\n",
    "mserussiainitial = correlation(MSErussiainitial, precipa_jjas, dims='time')\n",
    "print(\"Non standardized MSE May-March Russia\", mserussiainitial.data)\n",
    "\n",
    "print()\n",
    "msecorrmamrussia = correlation(MSEmam, MSErussia, dims='time')\n",
    "print(\"Correlation between MSE MAM box and May-March Russia\", msecorrmamrussia.data)\n",
    "\n",
    "# the 2 boxes have a -.27 correlation w/ EQ india so might not want to use\n",
    "msecorrmay_mar2boxesrussia = correlation(MSEmay_mar, MSErussia, dims='time')\n",
    "print(\"Correlation between MSE May-March 2 boxes and Russia\", msecorrmay_mar2boxesrussia.data)"
   ]
  },
  {
   "cell_type": "code",
   "execution_count": 119,
   "metadata": {},
   "outputs": [
    {
     "name": "stdout",
     "output_type": "stream",
     "text": [
      "MAM box and May-March Russia mean 0.2294314750608228\n",
      "\n",
      "Following Values Aren't Standardized\n",
      "MAM Box 0.22927216846113282\n",
      "Russia Box 0.21993841313698673\n"
     ]
    }
   ],
   "source": [
    "MSEmamrussia = (MSEmamtemp + MSErussia)/2 #bin wang never mixes up the months when doing combine predictors\n",
    "MSEstd = MSEmamrussia.std()\n",
    "MSEmean = MSEmamrussia.mean()\n",
    "MSEmamrussia = (MSEmamrussia - MSEmean)/MSEstd\n",
    "\n",
    "msemamnrussia = correlation(MSEmamrussia, precipa_jjas, dims='time')\n",
    "print(\"MAM box and May-March Russia mean\", msemamnrussia.data)\n",
    "print()\n",
    "print(\"Following Values Aren't Standardized\")\n",
    "print(\"MAM Box\", msemamtemp.data)\n",
    "print(\"Russia Box\", mserussiainitial.data)"
   ]
  },
  {
   "cell_type": "code",
   "execution_count": 117,
   "metadata": {},
   "outputs": [
    {
     "name": "stdout",
     "output_type": "stream",
     "text": [
      "All 3 boxes in May-March mean 0.30239876423524864\n",
      "\n",
      "Following Values Aren't Standardized\n",
      "Left Box 0.2502908854459291\n",
      "Right Box 0.22666062753844934\n",
      "Russia Box 0.21993841313698673\n"
     ]
    }
   ],
   "source": [
    "MSEmay_marmean = (MSEright + MSEleft + MSErussiainitial)/3\n",
    "MSEstd = MSEmay_marmean.std()\n",
    "MSEmean = MSEmay_marmean.mean()\n",
    "MSEmay_marmean = (MSEmay_marmean - MSEmean)/MSEstd\n",
    "\n",
    "msemay_mar3boxes = correlation(MSEmay_marmean, precipa_jjas, dims='time')\n",
    "print(\"All 3 boxes in May-March mean\", msemay_mar3boxes.data)\n",
    "print()\n",
    "print(\"Following Values Aren't Standardized\")\n",
    "print(\"Left Box\", msewest.data)\n",
    "print(\"Right Box\", mseeast.data)\n",
    "print(\"Russia Box\", mserussiainitial.data)"
   ]
  },
  {
   "cell_type": "markdown",
   "metadata": {},
   "source": [
    "# all possible predictor boxes"
   ]
  },
  {
   "cell_type": "code",
   "execution_count": 120,
   "metadata": {},
   "outputs": [
    {
     "name": "stderr",
     "output_type": "stream",
     "text": [
      "/global/home/users/medhap02/.conda/envs/xarrayenv2/lib/python3.7/site-packages/xarray/core/nanops.py:160: RuntimeWarning: Mean of empty slice\n",
      "  return np.nanmean(a, axis=axis, dtype=dtype)\n",
      "/global/home/users/medhap02/.conda/envs/xarrayenv2/lib/python3.7/site-packages/numpy/lib/nanfunctions.py:1666: RuntimeWarning: Degrees of freedom <= 0 for slice.\n",
      "  keepdims=keepdims)\n"
     ]
    },
    {
     "data": {
      "text/plain": [
       "<matplotlib.patches.Rectangle at 0x2b5db1536978>"
      ]
     },
     "execution_count": 120,
     "metadata": {},
     "output_type": "execute_result"
    },
    {
     "data": {
      "image/png": "[encoded data removed]",
      "text/plain": [
       "<Figure size 1152x576 with 2 Axes>"
      ]
     },
     "metadata": {},
     "output_type": "display_data"
    }
   ],
   "source": [
    "# run this cell last\n",
    "\n",
    "from cartopy import config\n",
    "import cartopy.crs as ccrs\n",
    "\n",
    "from matplotlib import pyplot\n",
    "import matplotlib.patches as mpatches\n",
    "\n",
    "# contour plot with all boxes\n",
    "ax = plt.axes(projection=ccrs.PlateCarree())\n",
    "random = sst_anom.sel(time = (sst_anom['time.month']==5))\n",
    "random_plot = correlation(random, precipa_jjas, dims='time')\n",
    "random_plot.plot.contourf(cmap='coolwarm', extend='both')\n",
    "ax.coastlines(color = 'black')\n",
    "\n",
    "# EPT original boxes\n",
    "ax.add_patch(mpatches.Rectangle(xy=[150,-20], width=20, height=25, facecolor=None, edgecolor='darkblue', fill = False, linewidth = 2, transform=ccrs.Geodetic()))\n",
    "#(20s-5n, 150-170e)\n",
    "ax.add_patch(mpatches.Rectangle(xy=[-110,-10], width=30, height=20, facecolor=None, edgecolor='darkblue', fill = False, linewidth = 2, transform=ccrs.Geodetic()))\n",
    "#(10s-10n, 110-80w)\n",
    "\n",
    "'''\n",
    "# new EPT boxes\n",
    "ax.add_patch(mpatches.Rectangle(xy=[-130,-10], width=50, height=20, facecolor=None, edgecolor='aqua', fill = False, linewidth = 2, transform=ccrs.Geodetic()))\n",
    "#(10s-10n, 130-80w)\n",
    "ax.add_patch(mpatches.Rectangle(xy=[120,-10], width=35, height=30, facecolor=None, edgecolor='aqua', fill = False, linewidth = 2, transform=ccrs.Geodetic()))\n",
    "#(10s-20n, 120-155e)\n",
    "'''\n",
    "\n",
    "#new EPT boxes\n",
    "ax.add_patch(mpatches.Rectangle(xy=[-115,-10], width=35, height=20, facecolor=None, edgecolor='aqua', fill = False, linewidth = 2, transform=ccrs.Geodetic()))\n",
    "#(10n-10s, 115-80w)\n",
    "ax.add_patch(mpatches.Rectangle(xy=[155,-30], width=20, height=25, facecolor=None, edgecolor='aqua', fill = False, linewidth = 2, transform=ccrs.Geodetic()))\n",
    "#(5-30s, 155-175e)\n",
    "\n",
    "# CPT original boxes\n",
    "ax.add_patch(mpatches.Rectangle(xy=[170,-25], width=30, height=15, facecolor=None, edgecolor='darkorchid', fill = False, linewidth = 2, transform=ccrs.Geodetic()))\n",
    "#(25-10s, 170e-155w)\n",
    "ax.add_patch(mpatches.Rectangle(xy=[-180,5], width=30, height=15, facecolor=None, edgecolor='darkorchid', fill = False, linewidth = 2, transform=ccrs.Geodetic()))\n",
    "#(5-20n, 180-150w)\n",
    "\n",
    "# new CPT boxes\n",
    "ax.add_patch(mpatches.Rectangle(xy=[175,-55], width=30, height=50, facecolor=None, edgecolor='orchid', fill = False, linewidth = 2, transform=ccrs.Geodetic()))\n",
    "#(55-5s, 175e-155w)\n",
    "\n",
    "# PSH original boxes\n",
    "ax.add_patch(mpatches.Rectangle(xy=[-160,-40], width=70, height=30, facecolor=None, edgecolor='lime', fill = False, linewidth = 2, transform=ccrs.Geodetic()))\n",
    "#(40-10s, 160-90w)\n",
    "ax.add_patch(mpatches.Rectangle(xy=[-180,10], width=50, height=30, facecolor=None, edgecolor='lime', fill = False, linewidth = 2, transform=ccrs.Geodetic()))\n",
    "#(10-40n, 180-130w)\n",
    "\n",
    "#PSH shifted\n",
    "ax.add_patch(mpatches.Rectangle(xy=[-145,-45], width=65, height=25, facecolor=None, edgecolor='green', fill = False, linewidth = 2, transform=ccrs.Geodetic()))\n",
    "#(20-45s, 145-80w)\n",
    "ax.add_patch(mpatches.Rectangle(xy=[-170,15], width=45, height=20, facecolor=None, edgecolor='green', fill = False, linewidth = 2, transform=ccrs.Geodetic()))\n",
    "#(15-35n, 170-125w)\n",
    "\n",
    "# PSH india\n",
    "ax.add_patch(mpatches.Rectangle(xy=[40,0], width=80, height=20, facecolor=None, edgecolor='forestgreen', fill = False, linewidth = 2, transform=ccrs.Geodetic()))\n",
    "#(0-20n, 40-120e)\n",
    "\n",
    "# NAT\n",
    "ax.add_patch(mpatches.Rectangle(xy=[95,45], width=30, height=15, facecolor=None, edgecolor='orange', fill = False, linewidth = 2, transform=ccrs.Geodetic()))\n",
    "\n",
    "#MSE 1\n",
    "ax.add_patch(mpatches.Rectangle(xy=[75,10], width=30, height=15, facecolor=None, edgecolor='darkgray', fill = False, linewidth = 2, transform=ccrs.Geodetic()))\n",
    "#(10-25n, 75-105e)\n",
    "\n",
    "# MSE 2\n",
    "ax.add_patch(mpatches.Rectangle(xy=[45,0], width=25, height=25, facecolor=None, edgecolor='slategray', fill = False, linewidth = 2, transform=ccrs.Geodetic()))\n",
    "#(0-25n, 45-70e)\n",
    "ax.add_patch(mpatches.Rectangle(xy=[70,20], width=20, height=20, facecolor=None, edgecolor='slategray', fill = False, linewidth = 2, transform=ccrs.Geodetic()))\n",
    "#(20-40n, 70-90e)\n",
    "\n",
    "#MSE Russia\n",
    "ax.add_patch(mpatches.Rectangle(xy=[95,45], width=115, height=25, facecolor=None, edgecolor='black', fill = False, linewidth = 2, transform=ccrs.Geodetic()))\n",
    "#(45-70n, 95e-150w)"
   ]
  },
  {
   "cell_type": "code",
   "execution_count": 121,
   "metadata": {},
   "outputs": [
    {
     "data": {
      "text/plain": [
       "<matplotlib.patches.Rectangle at 0x2b5db16e0a90>"
      ]
     },
     "execution_count": 121,
     "metadata": {},
     "output_type": "execute_result"
    },
    {
     "data": {
      "image/png": "[encoded data removed]",
      "text/plain": [
       "<Figure size 1152x576 with 2 Axes>"
      ]
     },
     "metadata": {},
     "output_type": "display_data"
    }
   ],
   "source": [
    "ax = plt.axes(projection=ccrs.PlateCarree())\n",
    "random_plot.plot.contourf(cmap='coolwarm', extend='both')\n",
    "ax.coastlines(color = 'black')\n",
    "\n",
    "#new EPT boxes\n",
    "ax.add_patch(mpatches.Rectangle(xy=[-115,-10], width=35, height=20, facecolor=None, edgecolor='aqua', fill = False, linewidth = 2, transform=ccrs.Geodetic()))\n",
    "#(10n-10s, 115-80w)\n",
    "ax.add_patch(mpatches.Rectangle(xy=[155,-30], width=20, height=25, facecolor=None, edgecolor='aqua', fill = False, linewidth = 2, transform=ccrs.Geodetic()))\n",
    "#(5-30s, 155-175e)\n",
    "\n",
    "# new CPT boxes\n",
    "ax.add_patch(mpatches.Rectangle(xy=[175,-55], width=30, height=50, facecolor=None, edgecolor='orchid', fill = False, linewidth = 2, transform=ccrs.Geodetic()))\n",
    "#(55-5s, 175e-155w)\n",
    "\n",
    "#PSH shifted new boxes\n",
    "ax.add_patch(mpatches.Rectangle(xy=[-145,-45], width=65, height=25, facecolor=None, edgecolor='lime', fill = False, linewidth = 2, transform=ccrs.Geodetic()))\n",
    "#(20-45s, 145-80w)\n",
    "ax.add_patch(mpatches.Rectangle(xy=[-170,15], width=45, height=20, facecolor=None, edgecolor='lime', fill = False, linewidth = 2, transform=ccrs.Geodetic()))\n",
    "#(15-35n, 170-125w)\n",
    "\n",
    "# PSH india\n",
    "ax.add_patch(mpatches.Rectangle(xy=[40,0], width=80, height=20, facecolor=None, edgecolor='forestgreen', fill = False, linewidth = 2, transform=ccrs.Geodetic()))\n",
    "#(0-20n, 40-120e)\n",
    "\n",
    "#MSE 1\n",
    "ax.add_patch(mpatches.Rectangle(xy=[75,10], width=30, height=15, facecolor=None, edgecolor='darkgray', fill = False, linewidth = 2, transform=ccrs.Geodetic()))\n",
    "#(10-25n, 75-105e)\n",
    "\n",
    "# MSE 2\n",
    "ax.add_patch(mpatches.Rectangle(xy=[45,0], width=25, height=25, facecolor=None, edgecolor='slategray', fill = False, linewidth = 2, transform=ccrs.Geodetic()))\n",
    "#(0-25n, 45-70e)\n",
    "ax.add_patch(mpatches.Rectangle(xy=[70,20], width=20, height=20, facecolor=None, edgecolor='slategray', fill = False, linewidth = 2, transform=ccrs.Geodetic()))\n",
    "#(20-40n, 70-90e)\n",
    "\n",
    "# MSE Russia\n",
    "ax.add_patch(mpatches.Rectangle(xy=[95,45], width=115, height=25, facecolor=None, edgecolor='black', fill = False, linewidth = 2, transform=ccrs.Geodetic()))\n",
    "#(45-70n, 95e-150w)"
   ]
  },
  {
   "cell_type": "code",
   "execution_count": null,
   "metadata": {},
   "outputs": [],
   "source": []
  },
  {
   "cell_type": "code",
   "execution_count": 47,
   "metadata": {},
   "outputs": [],
   "source": [
    "# Copyright (c) 2020 Medha Palavalli."
   ]
  }
 ],
 "metadata": {
  "kernelspec": {
   "display_name": "xarrayenv2",
   "language": "python",
   "name": "xarrayenv2"
  },
  "language_info": {
   "codemirror_mode": {
    "name": "ipython",
    "version": 3
   },
   "file_extension": ".py",
   "mimetype": "text/x-python",
   "name": "python",
   "nbconvert_exporter": "python",
   "pygments_lexer": "ipython3",
   "version": "3.7.3"
  }
 },
 "nbformat": 4,
 "nbformat_minor": 2
}
