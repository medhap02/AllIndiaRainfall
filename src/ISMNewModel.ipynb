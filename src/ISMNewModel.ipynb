{
 "cells": [
  {
   "cell_type": "code",
   "execution_count": 1,
   "metadata": {
    "scrolled": true
   },
   "outputs": [
    {
     "name": "stdout",
     "output_type": "stream",
     "text": [
      "Once deleted, variables cannot be recovered. Proceed (y/[n])? y\n"
     ]
    }
   ],
   "source": [
    "%reset"
   ]
  },
  {
   "cell_type": "code",
   "execution_count": 2,
   "metadata": {},
   "outputs": [],
   "source": [
    "import numpy as np\n",
    "import scipy as sp\n",
    "import sklearn as sk\n",
    "import cartopy as cp\n",
    "import xarray as xr\n",
    "import pandas as pd\n",
    "import cftime\n",
    "import dateutil\n",
    "import dask\n",
    "import matplotlib.pyplot as plt\n",
    "#Use the 2 lines below if the notebook has a dark theme (to make labelling visible):"
   ]
  },
  {
   "cell_type": "code",
   "execution_count": 3,
   "metadata": {},
   "outputs": [],
   "source": [
    "def covariance(x, y, dims=None):\n",
    "    return xr.dot(x - x.mean(dims), y - y.mean(dims), dims=dims) / x.count(dims)\n",
    "\n",
    "def correlation(x, y, dims=None):\n",
    "    return covariance(x, y, dims) / (x.std(dims) * y.std(dims))"
   ]
  },
  {
   "cell_type": "markdown",
   "metadata": {},
   "source": [
    "# Load Data"
   ]
  },
  {
   "cell_type": "code",
   "execution_count": 4,
   "metadata": {},
   "outputs": [
    {
     "name": "stdout",
     "output_type": "stream",
     "text": [
      "<xarray.DataArray 'SSTK_GDS0_SFC_S123' (time: 497, lat: 721, lon: 1440)>\n",
      "[516005280 values with dtype=float32]\n",
      "Coordinates:\n",
      "  * time     (time) datetime64[ns] 1979-01-01 1979-02-01 ... 2020-05-01\n",
      "  * lat      (lat) float32 90.0 89.75 89.5 89.25 ... -89.25 -89.5 -89.75 -90.0\n",
      "  * lon      (lon) float32 0.0 0.25 0.5 0.75 1.0 ... 359.0 359.25 359.5 359.75\n",
      "Attributes:\n",
      "    center:                          European Center for Medium-Range Weather...\n",
      "    long_name:                       Sea surface temperature\n",
      "    units:                           K\n",
      "    level_indicator:                 [1]\n",
      "    gds_grid_type:                   [0]\n",
      "    parameter_table_version:         [128]\n",
      "    parameter_number:                [34]\n",
      "    forecast_time:                   [0]\n",
      "    forecast_time_units:             hours\n",
      "    statistical_process_descriptor:  average of N uninitialized analyses\n",
      "    statistical_process_duration:    instantaneous (beginning at reference ti...\n",
      "    N:                               [744 672 744 720 744 720 744 744 720 744...\n",
      "<xarray.DataArray 'MSL_GDS0_SFC_S123' (time: 497, lat: 721, lon: 1440)>\n",
      "[516005280 values with dtype=float32]\n",
      "Coordinates:\n",
      "  * time     (time) datetime64[ns] 1979-01-01 1979-02-01 ... 2020-05-01\n",
      "  * lat      (lat) float32 90.0 89.75 89.5 89.25 ... -89.25 -89.5 -89.75 -90.0\n",
      "  * lon      (lon) float32 0.0 0.25 0.5 0.75 1.0 ... 359.0 359.25 359.5 359.75\n",
      "Attributes:\n",
      "    center:                          European Center for Medium-Range Weather...\n",
      "    long_name:                       Mean sea level pressure\n",
      "    units:                           Pa\n",
      "    level_indicator:                 [1]\n",
      "    gds_grid_type:                   [0]\n",
      "    parameter_table_version:         [128]\n",
      "    parameter_number:                [151]\n",
      "    forecast_time:                   [0]\n",
      "    forecast_time_units:             hours\n",
      "    statistical_process_descriptor:  average of N uninitialized analyses\n",
      "    statistical_process_duration:    instantaneous (beginning at reference ti...\n",
      "    N:                               [744 672 744 720 744 720 744 744 720 744...\n"
     ]
    }
   ],
   "source": [
    "dat = xr.open_dataset('/global/scratch/medhap02/ISMData/ERA5_MSLP_SST_Td_tas_Jan1979toMay2020.grib',engine='pynio')\n",
    "\n",
    "sst = dat['SSTK_GDS0_SFC_S123']\n",
    "sst = sst.rename({'g0_lon_2':'lon', 'g0_lat_1':'lat', 'initial_time0_hours':'time'})\n",
    "\n",
    "slp = dat['MSL_GDS0_SFC_S123']\n",
    "slp = slp.rename({'g0_lon_2':'lon', 'g0_lat_1':'lat', 'initial_time0_hours':'time'})\n",
    "\n",
    "print(sst)\n",
    "print(slp)"
   ]
  },
  {
   "cell_type": "code",
   "execution_count": 5,
   "metadata": {},
   "outputs": [
    {
     "name": "stdout",
     "output_type": "stream",
     "text": [
      "<xarray.DataArray '__xarray_dataarray_variable__' (time: 498, lat: 721, lon: 1440)>\n",
      "[517043520 values with dtype=float32]\n",
      "Coordinates:\n",
      "  * time     (time) datetime64[ns] 1979-01-01 1979-02-01 ... 2020-06-01\n",
      "  * lat      (lat) float32 90.0 89.75 89.5 89.25 ... -89.25 -89.5 -89.75 -90.0\n",
      "  * lon      (lon) float32 0.0 0.25 0.5 0.75 1.0 ... 359.0 359.25 359.5 359.75\n"
     ]
    }
   ],
   "source": [
    "msedat = xr.open_dataset('/global/scratch/medhap02/ISMData/MSE.ERA5.2meter.mon.mean.jan1979june2020.nc')\n",
    "mse = msedat['__xarray_dataarray_variable__']\n",
    "mse = mse.rename({'g0_lon_2':'lon', 'g0_lat_1':'lat', 'initial_time0_hours':'time'})\n",
    "\n",
    "print(mse)"
   ]
  },
  {
   "cell_type": "code",
   "execution_count": 24,
   "metadata": {},
   "outputs": [
    {
     "name": "stdout",
     "output_type": "stream",
     "text": [
      "<xarray.DataArray 'precip' (year: 146)>\n",
      "array([728.80005, 769.5    , 634.5    , 836.6    , 769.8    , 658.19995,\n",
      "       523.1    , 830.19995, 823.9    , 685.7    , 771.1    , 794.     ,\n",
      "       723.30005, 732.6    , 767.5    , 806.49994, 803.69995, 739.69995,\n",
      "       806.1    , 778.69995, 629.7    , 832.2    , 823.9    , 805.7    ,\n",
      "       726.30005, 792.39996, 736.5    , 722.89996, 579.6    , 692.69995,\n",
      "       635.5    , 622.4    , 721.3    , 692.7    , 589.2    , 743.9    ,\n",
      "       703.6    , 778.7    , 780.4    , 767.8    , 601.     , 720.5    ,\n",
      "       737.5    , 778.6    , 662.69995, 795.10004, 807.80005, 633.3    ,\n",
      "       782.6    , 642.4    , 699.5    , 711.2    , 690.8    , 676.3    ,\n",
      "       766.8    , 744.5    , 746.39996, 676.6    , 736.8    , 685.2    ,\n",
      "       730.3    , 695.4    , 870.8    , 775.3    , 687.2    , 802.4    ,\n",
      "       720.1    , 813.1    , 665.6    , 809.2    , 653.2    , 819.6    ,\n",
      "       740.60004, 820.6    , 738.7    , 819.10004, 749.1    , 755.89996,\n",
      "       751.2    , 737.4    , 664.     , 739.7    , 779.69995, 689.     ,\n",
      "       773.4    , 890.2    , 716.9    , 735.30005, 787.     , 729.5    ,\n",
      "       844.4    , 659.7    , 742.19995, 764.1    , 601.3    , 653.5    ,\n",
      "       724.5    , 651.4    , 715.8    , 790.5    , 797.69995, 568.4    ,\n",
      "       776.2    , 668.3    , 775.5    , 745.4    , 810.30005, 799.5    ,\n",
      "       608.7    , 790.9    , 712.2    , 664.8    , 759.80005, 733.2    ,\n",
      "       656.19995, 673.     , 604.4    , 806.2    , 743.4    , 826.4    ,\n",
      "       740.2    , 713.69995, 688.69995, 847.80005, 728.5    , 736.3    ,\n",
      "       728.     , 689.5    , 711.7    , 740.4    , 739.     , 574.2    ,\n",
      "       708.3    , 700.5    , 670.5    , 815.6    , 777.2    , 754.9    ,\n",
      "       603.5    , 748.5    , 755.69995, 647.5    , 842.3    , 631.     ,\n",
      "       648.     , 736.6    ], dtype=float32)\n",
      "Coordinates:\n",
      "  * year     (year) int64 1871 1872 1873 1874 1875 ... 2012 2013 2014 2015 2016\n"
     ]
    }
   ],
   "source": [
    "dirn = '/global/scratch/medhap02/ISMData/'\n",
    "filen = 'pALLIN.nc'\n",
    "airi_dat = xr.open_dataset(dirn+filen, decode_times=False)\n",
    "units, reference_date = airi_dat.time.attrs['units'].split('since')\n",
    "airi_dat['time'] = pd.date_range(start=reference_date, periods=airi_dat.sizes['time'], freq='MS')\n",
    "precip = airi_dat['precip']\n",
    "\n",
    "precipfull = precip#.sel(time=slice('1979-01-01','2020-12-31'))\n",
    "\n",
    "def is_summer(month):\n",
    "    return (month >= 6) & (month <= 9)\n",
    "precip_subset = precipfull.sel(time=is_summer(precipfull['time.month']))#.groupby('time.year').mean()\n",
    "\n",
    "precip_subset = precip_subset.groupby('time.year',restore_coord_dims = True).sum(\"time\")\n",
    "#print(precip_subset.dims)\n",
    "#print(precip_subset)\n",
    "\n",
    "precip_jjas_full = precip_subset #- precip_subset.mean(dim='year')\n",
    "print(precip_jjas_full)\n",
    "precip_jjas = precip_jjas_full.sel(year=slice('1979','2016'))"
   ]
  },
  {
   "cell_type": "markdown",
   "metadata": {},
   "source": [
    "# EPT new"
   ]
  },
  {
   "cell_type": "code",
   "execution_count": 7,
   "metadata": {},
   "outputs": [
    {
     "name": "stdout",
     "output_type": "stream",
     "text": [
      "EPT mean 0.38594\n",
      "EPT std 0.514143\n"
     ]
    }
   ],
   "source": [
    "#EP-ENSOpredictor\n",
    "#(30n-30s, 155-175e)\n",
    "#(10n-10s, 115-80w)\n",
    "\n",
    "#DSST1\n",
    "latrange1 = sst.sel(lat = slice(30, -30)).lat\n",
    "weights1 = np.cos(latrange1*np.pi/180)\n",
    "\n",
    "marchdata1 = sst.sel(lat = slice(30, -30), lon = slice(155, 175), time = (sst['time.month']==3))\n",
    "marchSST1 = marchdata1.sel(time = slice('1979-03-01', '2020-03-01'))\n",
    "marchmean1 = (marchSST1*weights1).mean({'lon', 'lat'})/weights1.mean() - 273.15\n",
    "\n",
    "maydata1 = sst.sel(lat = slice(30, -30), lon = slice(155, 175), time = (sst['time.month']==5))\n",
    "maySST1 = maydata1.sel(time = slice('1979-05-01', '2020-05-01'))\n",
    "maymean1 = (maySST1*weights1).mean({'lon', 'lat'})/weights1.mean() - 273.15\n",
    "\n",
    "marchmean1.time.data = maymean1.time.data\n",
    "DSST1 = maymean1 - marchmean1\n",
    "\n",
    "#DSST2\n",
    "latrange2 = sst.sel(lat = slice(10, -10)).lat\n",
    "weights2 = np.cos(latrange2*np.pi/180)\n",
    "\n",
    "marchdata2 = sst.sel(lat = slice(10, -10), lon = slice(245, 280), time = (sst['time.month']==3))\n",
    "marchSST2 = marchdata2.sel(time = slice('1979-03-01', '2020-03-01'))\n",
    "marchmean2 = (marchSST2*weights2).mean({'lon', 'lat'})/weights2.mean() - 273.15\n",
    "\n",
    "maydata2 = sst.sel(lat = slice(10, -10), lon = slice(245, 280), time = (sst['time.month']==5))\n",
    "maySST2 = maydata2.sel(time = slice('1979-05-01', '2020-05-01'))\n",
    "maymean2 = (maySST2*weights2).mean({'lon', 'lat'})/weights2.mean() - 273.15\n",
    "\n",
    "marchmean2.time.data = maymean2.time.data\n",
    "DSST2 = (maymean2 - marchmean2)\n",
    "\n",
    "EPTinitial = DSST1 - DSST2\n",
    "#print(EPTinitial)\n",
    "EPTstd = 0.514143\n",
    "EPTmean = 0.38594\n",
    "EPTnew = (EPTinitial - EPTmean)/EPTstd\n",
    "\n",
    "print(\"EPT mean\", EPTmean)\n",
    "print(\"EPT std\", EPTstd)"
   ]
  },
  {
   "cell_type": "code",
   "execution_count": 8,
   "metadata": {},
   "outputs": [
    {
     "name": "stdout",
     "output_type": "stream",
     "text": [
      "<xarray.DataArray (time: 42)>\n",
      "array([-1.346405, -0.225701,  0.052205, -0.474107, -0.212227,  1.541096,\n",
      "        0.992645, -0.027214, -0.680785,  1.761961,  0.155247, -0.921356,\n",
      "       -0.39077 , -1.000181, -0.316813,  0.178752,  0.783948,  1.330797,\n",
      "       -1.697319,  1.002617,  0.653365,  0.345009,  1.238617,  0.088115,\n",
      "        1.972141,  1.541749, -0.770769,  0.71189 ,  1.313465, -0.087045,\n",
      "       -1.280164,  0.56528 , -0.384182, -0.057248,  2.068357, -0.241193,\n",
      "       -1.563352,  1.673401,  0.739312, -0.87488 , -0.322867, -0.398427],\n",
      "      dtype=float32)\n",
      "Coordinates:\n",
      "  * time     (time) datetime64[ns] 1979-05-01 1980-05-01 ... 2020-05-01\n"
     ]
    }
   ],
   "source": [
    "print(EPTnew)"
   ]
  },
  {
   "cell_type": "markdown",
   "metadata": {},
   "source": [
    "# CPT new"
   ]
  },
  {
   "cell_type": "code",
   "execution_count": 9,
   "metadata": {},
   "outputs": [
    {
     "name": "stdout",
     "output_type": "stream",
     "text": [
      "CPT mean -0.931681\n",
      "CPT std 0.152151\n"
     ]
    }
   ],
   "source": [
    "#CP-ENSOpredictor\n",
    "#(55-5s, 175e-155w)\n",
    "\n",
    "#DSST\n",
    "latrange1 = sst.sel(lat = slice(-5, -55)).lat\n",
    "weights1 = np.cos(latrange1*np.pi/180)\n",
    "\n",
    "aprildata1 = sst.sel(lat = slice(-5, -55), lon = slice(175, 205), time = (sst['time.month']==4))\n",
    "aprilSST1 = aprildata1.sel(time = slice('1979-04-01', '2020-04-01'))\n",
    "aprilmean1 = (aprilSST1*weights1).mean({'lon', 'lat'})/weights1.mean() - 273.15\n",
    "\n",
    "maydata1 = sst.sel(lat = slice(-5, -55), lon = slice(175, 205), time = (sst['time.month']==5))\n",
    "maySST1 = maydata1.sel(time = slice('1979-05-01', '2020-05-01'))\n",
    "maymean1 = (maySST1*weights1).mean({'lon', 'lat'})/weights1.mean() - 273.15\n",
    "\n",
    "aprilmean1.time.data = maymean1.time.data\n",
    "\n",
    "CPTinitial = maymean1 - aprilmean1\n",
    "#print(CPTinitial)\n",
    "CPTstd = 0.152151\n",
    "CPTmean = -0.931681\n",
    "CPTnew = (CPTinitial - CPTmean)/CPTstd\n",
    "\n",
    "print(\"CPT mean\", CPTmean)\n",
    "print(\"CPT std\", CPTstd)"
   ]
  },
  {
   "cell_type": "code",
   "execution_count": 10,
   "metadata": {},
   "outputs": [
    {
     "name": "stdout",
     "output_type": "stream",
     "text": [
      "<xarray.DataArray (time: 42)>\n",
      "array([-0.551916, -0.933809,  0.059635, -0.570369,  0.013102, -1.127965,\n",
      "        0.970443, -1.054154, -1.938285, -0.18667 ,  1.743657,  2.248703,\n",
      "       -1.185129,  0.52236 ,  0.036369,  0.064048,  0.037973, -0.8957  ,\n",
      "       -1.473555, -0.091397, -0.205725, -0.328677,  1.397265, -1.270172,\n",
      "       -0.206727,  0.414852, -0.991173,  0.888408,  1.153768,  0.19402 ,\n",
      "        0.837061,  0.971847,  1.189069, -0.138332, -0.196298,  0.814396,\n",
      "       -0.594839,  1.020587, -0.913952,  0.891016, -0.15518 ,  0.280467],\n",
      "      dtype=float32)\n",
      "Coordinates:\n",
      "  * time     (time) datetime64[ns] 1979-05-01 1980-05-01 ... 2020-05-01\n"
     ]
    }
   ],
   "source": [
    "print(CPTnew)"
   ]
  },
  {
   "cell_type": "markdown",
   "metadata": {},
   "source": [
    "# PSH new"
   ]
  },
  {
   "cell_type": "code",
   "execution_count": 11,
   "metadata": {},
   "outputs": [
    {
     "name": "stdout",
     "output_type": "stream",
     "text": [
      "PSH mean 806.662506\n",
      "PSH std 118.435818\n"
     ]
    }
   ],
   "source": [
    "#mega-ENSOpredictor\n",
    "#(20-45s, 145-80w)\n",
    "#(15-35n, 170-125w)\n",
    "#(0-20n, 40-120e)\n",
    "\n",
    "#NPcalculation\n",
    "latrange1 = slp.sel(lat = slice(-20, -45)).lat\n",
    "weights1 = np.cos(latrange1*np.pi/180)\n",
    "\n",
    "marchdata1 = slp.sel(lat = slice(-20, -45), lon = slice(215, 260), time = (slp['time.month']==3))\n",
    "marchSLP1 = marchdata1.sel(time=slice('1979-03-01','2020-03-01'))\n",
    "marchmean1 = ((marchSLP1*weights1).mean({'lon', 'lat'})/weights1.mean())\n",
    "\n",
    "aprildata1 = slp.sel(lat = slice(-20, -45), lon = slice(215, 260), time = (slp['time.month']==4))\n",
    "aprilSLP1 = aprildata1.sel(time=slice('1979-04-01','2020-04-01'))\n",
    "aprilmean1 = ((aprilSLP1*weights1).mean({'lon', 'lat'})/weights1.mean())\n",
    "\n",
    "maydata1 = slp.sel(lat = slice(-20, -45), lon = slice(215, 260), time = (slp['time.month']==5))\n",
    "maySLP1 = maydata1.sel(time = slice('1979-05-01', '2020-05-01'))\n",
    "maymean1 = ((maySLP1*weights1).mean({'lon', 'lat'})/weights1.mean())\n",
    "\n",
    "marchmean1.time.data = maymean1.time.data\n",
    "aprilmean1.time.data = maymean1.time.data\n",
    "NP = ((marchmean1 + aprilmean1 + maymean1)/3)\n",
    "\n",
    "#SPcalculation\n",
    "latrange2 = slp.sel(lat = slice(35, 15)).lat\n",
    "weights2 = np.cos(latrange2*np.pi/180)\n",
    "\n",
    "marchdata2 = slp.sel(lat = slice(35, 15), lon = slice(190, 235), time = (slp['time.month']==3))\n",
    "marchSLP2 = marchdata2.sel(time = slice('1979-03-01', '2020-03-01'))\n",
    "marchmean2 = ((marchSLP2*weights2).mean({'lon', 'lat'})/weights2.mean())\n",
    "\n",
    "aprildata2 = slp.sel(lat = slice(35, 15), lon = slice(190, 235), time = (slp['time.month']==4))\n",
    "aprilSLP2 = aprildata2.sel(time = slice('1979-04-01', '2020-04-01'))\n",
    "aprilmean2 = ((aprilSLP2*weights2).mean({'lon', 'lat'})/weights2.mean())\n",
    "\n",
    "maydata2 = slp.sel(lat = slice(35, 15), lon = slice(190, 235), time = (slp['time.month']==5))\n",
    "maySLP2 = maydata2.sel(time = slice('1979-05-01', '2020-05-01'))\n",
    "maymean2 = ((maySLP2*weights2).mean({'lon', 'lat'})/weights2.mean())\n",
    "\n",
    "marchmean2.time.data = maymean2.time.data\n",
    "aprilmean2.time.data = maymean2.time.data\n",
    "SP = ((marchmean2 + aprilmean2 + maymean2)/3)\n",
    "\n",
    "NParea = (25*weights1.mean() * 45)\n",
    "SParea = (20*weights2.mean() * 45)\n",
    "Pacific = ((NP * NParea) + (SP * SParea))/(NParea + SParea)\n",
    "\n",
    "#EQindia\n",
    "latrange3 = slp.sel(lat = slice(20, 0)).lat\n",
    "weights3 = np.cos(latrange3*np.pi/180)\n",
    "\n",
    "marchdata3 = slp.sel(lat = slice(20, 0), lon = slice(40, 120), time = (slp['time.month']==3))\n",
    "marchSLP3 = marchdata3.sel(time = slice('1979-03-01', '2020-03-01'))\n",
    "marchmean3 = (marchSLP3*weights3).mean({'lon', 'lat'})/weights3.mean()\n",
    "\n",
    "aprildata3 = slp.sel(lat = slice(20, 0), lon = slice(40, 120), time = (slp['time.month']==4))\n",
    "aprilSLP3 = aprildata3.sel(time = slice('1979-04-01', '2020-04-01'))\n",
    "aprilmean3 = (aprilSLP3*weights3).mean({'lon', 'lat'})/weights3.mean()\n",
    "\n",
    "maydata3 = slp.sel(lat = slice(20, 0), lon = slice(40, 120), time = (slp['time.month']==5))\n",
    "maySLP3 = maydata3.sel(time = slice('1979-05-01', '2020-05-01'))\n",
    "maymean3 = (maySLP3*weights3).mean({'lon', 'lat'})/weights3.mean()\n",
    "\n",
    "marchmean3.time.data = maymean3.time.data\n",
    "aprilmean3.time.data = maymean3.time.data\n",
    "\n",
    "EQindia = (marchmean3 + aprilmean3 + maymean3)/3\n",
    "\n",
    "PSHinitial = Pacific - EQindia\n",
    "#print(PSHinitial)\n",
    "PSHstd = 118.435818\n",
    "PSHmean = 806.662506\n",
    "PSHnew = (PSHinitial - PSHmean)/PSHstd\n",
    "\n",
    "print(\"PSH mean\", PSHmean)\n",
    "print(\"PSH std\", PSHstd)"
   ]
  },
  {
   "cell_type": "code",
   "execution_count": 12,
   "metadata": {},
   "outputs": [
    {
     "name": "stdout",
     "output_type": "stream",
     "text": [
      "<xarray.DataArray (time: 42)>\n",
      "array([-1.121549, -0.285582, -0.729277, -0.755846, -0.341934,  1.039137,\n",
      "        1.003773, -0.190966, -1.237016,  1.200239,  0.507418,  0.25802 ,\n",
      "       -0.484953, -1.736675, -1.716623, -0.491365, -0.928216,  0.219708,\n",
      "       -2.257655,  0.061209,  2.115176,  1.60575 ,  1.24775 ,  0.115594,\n",
      "       -0.129598,  0.283786, -0.641432,  0.245994,  0.942137,  1.201616,\n",
      "        0.250277,  1.570817,  1.655869,  0.877512,  0.376005,  0.095081,\n",
      "       -1.353885, -0.882377,  0.419841,  0.322714, -0.249388, -0.266454])\n",
      "Coordinates:\n",
      "  * time     (time) datetime64[ns] 1979-05-01 1980-05-01 ... 2020-05-01\n"
     ]
    }
   ],
   "source": [
    "print(PSHnew)"
   ]
  },
  {
   "cell_type": "markdown",
   "metadata": {},
   "source": [
    "# MSE new"
   ]
  },
  {
   "cell_type": "code",
   "execution_count": 13,
   "metadata": {},
   "outputs": [
    {
     "name": "stdout",
     "output_type": "stream",
     "text": [
      "MSE mean 13267.877327\n",
      "MSE std 1370.256777\n"
     ]
    }
   ],
   "source": [
    "#MSE\n",
    "#(0-25n, 45-70e)\n",
    "#(20-40n, 70-90e)\n",
    "#(45-70n, 95e-150w)\n",
    "\n",
    "#MSEleft\n",
    "latrange1 = mse.sel(lat = slice(25, 0)).lat\n",
    "weights1 = np.cos(latrange1*np.pi/180)\n",
    "\n",
    "marchdata1 = mse.sel(lat = slice(25, 0), lon = slice(45, 70), time = (mse['time.month']==3))\n",
    "marchMSE1 = marchdata1.sel(time = slice('1979-03-01', '2020-03-01'))\n",
    "marchmean1 = (marchMSE1*weights1).mean({'lon', 'lat'})/weights1.mean()\n",
    "\n",
    "maydata1 = mse.sel(lat = slice(25, 0), lon = slice(45, 70), time = (mse['time.month']==5))\n",
    "mayMSE1 = maydata1.sel(time = slice('1979-05-01', '2020-05-01'))\n",
    "maymean1 = (mayMSE1*weights1).mean({'lon', 'lat'})/weights1.mean()\n",
    "\n",
    "marchmean1.time.data = maymean1.time.data\n",
    "MSEleft = maymean1 - marchmean1\n",
    "\n",
    "#MSEright\n",
    "latrange2 = mse.sel(lat = slice(40, 20)).lat\n",
    "weights2 = np.cos(latrange2*np.pi/180)\n",
    "\n",
    "marchdata2 = mse.sel(lat = slice(40, 20), lon = slice(70, 90), time = (mse['time.month']==3))\n",
    "marchMSE2 = marchdata2.sel(time = slice('1979-03-01', '2020-03-01'))\n",
    "marchmean2 = ((marchMSE2*weights2).mean({'lon', 'lat'})/weights2.mean())\n",
    "\n",
    "maydata2 = mse.sel(lat = slice(40, 20), lon = slice(70, 90), time = (mse['time.month']==5))\n",
    "mayMSE2 = maydata2.sel(time = slice('1979-05-01', '2020-05-01'))\n",
    "maymean2 = ((mayMSE2*weights2).mean({'lon', 'lat'})/weights2.mean())\n",
    "\n",
    "marchmean2.time.data = maymean2.time.data\n",
    "MSEright = maymean2 - marchmean2\n",
    "\n",
    "#MSERussia\n",
    "latrange3 = mse.sel(lat = slice(70, 45)).lat\n",
    "weights3 = np.cos(latrange3*np.pi/180)\n",
    "\n",
    "marchdata3 = mse.sel(lat = slice(70, 45), lon = slice(95, 210), time = (mse['time.month']==3))\n",
    "marchMSE3 = marchdata3.sel(time = slice('1979-03-01', '2020-03-01'))\n",
    "marchmean3 = (marchMSE3*weights3).mean({'lon', 'lat'})/weights3.mean()\n",
    "\n",
    "maydata3 = mse.sel(lat = slice(70, 45), lon = slice(95, 210), time = (mse['time.month']==5))\n",
    "mayMSE3 = maydata3.sel(time = slice('1979-05-01', '2020-05-01'))\n",
    "maymean3 = (mayMSE3*weights3).mean({'lon', 'lat'})/weights3.mean()\n",
    "\n",
    "marchmean3.time.data = maymean3.time.data\n",
    "MSErussia = maymean3 - marchmean3\n",
    "\n",
    "Leftarea = (25*weights1.mean() * 25)\n",
    "Rightarea = (20*weights2.mean() * 20)\n",
    "Russiaarea = (25*weights2.mean() * 15)\n",
    "MSEinitial = ((MSEleft * Leftarea) + (MSEright * Rightarea) + (MSErussia * Russiaarea))/(Leftarea + Rightarea + Russiaarea)\n",
    "#print(MSEinitial)\n",
    "MSEstd = 1370.256777\n",
    "MSEmean = 13267.877327\n",
    "MSEnew = (MSEinitial - MSEmean)/MSEstd\n",
    "\n",
    "print(\"MSE mean\", MSEmean)\n",
    "print(\"MSE std\", MSEstd)"
   ]
  },
  {
   "cell_type": "code",
   "execution_count": 14,
   "metadata": {},
   "outputs": [
    {
     "name": "stdout",
     "output_type": "stream",
     "text": [
      "<xarray.DataArray (time: 42)>\n",
      "array([ 0.39883 ,  1.074523, -0.079938,  0.036887,  1.92259 ,  0.252343,\n",
      "       -0.229864,  0.245561, -0.832116,  1.018707, -0.554768,  1.859153,\n",
      "       -0.096234,  0.849083,  1.475249,  0.431017,  0.136228, -1.058076,\n",
      "       -1.043231,  1.142919,  1.503188,  3.392987,  1.883472,  0.26699 ,\n",
      "       -0.928543,  0.154919, -0.933621,  1.623472,  1.512637,  1.172932,\n",
      "        0.344955,  1.019838,  1.566384,  2.180318,  0.511519,  0.058975,\n",
      "        0.559988, -0.765825,  0.43679 ,  0.101938,  0.430678,  0.770013])\n",
      "Coordinates:\n",
      "  * time     (time) datetime64[ns] 1979-05-01 1980-05-01 ... 2020-05-01\n"
     ]
    }
   ],
   "source": [
    "print(MSEnew)"
   ]
  },
  {
   "cell_type": "markdown",
   "metadata": {},
   "source": [
    "# Model"
   ]
  },
  {
   "cell_type": "code",
   "execution_count": 15,
   "metadata": {},
   "outputs": [
    {
     "data": {
      "text/plain": [
       "<xarray.DataArray (time: 42)>\n",
       "array([-0.729764, -0.216432, -0.07693 , -0.432238,  0.192649,  0.406303,\n",
       "        0.736082, -0.301801, -1.109417,  0.904349,  0.540728,  0.659731,\n",
       "       -0.565221, -0.305953, -0.098742,  0.084896,  0.185785,  0.074033,\n",
       "       -1.511576,  0.524967,  0.706887,  0.797504,  1.323457, -0.277804,\n",
       "        0.475924,  0.734687, -0.801728,  0.808487,  1.17762 ,  0.379827,\n",
       "       -0.1241  ,  0.864056,  0.688285,  0.412877,  0.815856,  0.172649,\n",
       "       -0.825384,  0.648425,  0.127167,  0.006788, -0.124662,  0.027335])\n",
       "Coordinates:\n",
       "  * time     (time) datetime64[ns] 1979-05-01 1980-05-01 ... 2020-05-01"
      ]
     },
     "execution_count": 15,
     "metadata": {},
     "output_type": "execute_result"
    }
   ],
   "source": [
    "AIRI = 0.357*EPTnew + 0.290*CPTnew + 0.137*PSHnew + 0.162*MSEnew\n",
    "AIRI"
   ]
  },
  {
   "cell_type": "code",
   "execution_count": 16,
   "metadata": {},
   "outputs": [
    {
     "name": "stdout",
     "output_type": "stream",
     "text": [
      "<xarray.DataArray (time: 42)>\n",
      "array([668.775961, 702.906986, 712.18238 , 688.558212, 730.106444, 744.312091,\n",
      "       766.23881 , 697.230854, 643.533171, 777.42676 , 753.249894, 761.162346,\n",
      "       679.716297, 696.954793, 710.732076, 722.942038, 729.650063, 722.219766,\n",
      "       616.79395 , 752.202004, 764.297659, 770.322709, 805.292926, 698.826404,\n",
      "       748.941173, 766.146084, 663.991174, 771.052961, 795.596309, 742.551759,\n",
      "       709.046044, 774.747736, 763.060882, 744.749203, 771.542939, 728.776658,\n",
      "       662.418257, 760.410594, 725.752559, 717.748706, 709.00869 , 719.114839])\n",
      "Coordinates:\n",
      "  * time     (time) datetime64[ns] 1979-05-01 1980-05-01 ... 2020-05-01\n"
     ]
    }
   ],
   "source": [
    "rainfallmean = precip_jjas.mean()\n",
    "rainfallstd = precip_jjas.std()\n",
    "\n",
    "final = (AIRI * rainfallstd) + rainfallmean\n",
    "print(final)"
   ]
  },
  {
   "cell_type": "code",
   "execution_count": 17,
   "metadata": {},
   "outputs": [
    {
     "name": "stdout",
     "output_type": "stream",
     "text": [
      "<xarray.DataArray (time: 38)>\n",
      "array([668.775961, 702.906986, 712.18238 , 688.558212, 730.106444, 744.312091,\n",
      "       766.23881 , 697.230854, 643.533171, 777.42676 , 753.249894, 761.162346,\n",
      "       679.716297, 696.954793, 710.732076, 722.942038, 729.650063, 722.219766,\n",
      "       616.79395 , 752.202004, 764.297659, 770.322709, 805.292926, 698.826404,\n",
      "       748.941173, 766.146084, 663.991174, 771.052961, 795.596309, 742.551759,\n",
      "       709.046044, 774.747736, 763.060882, 744.749203, 771.542939, 728.776658,\n",
      "       662.418257, 760.410594])\n",
      "Coordinates:\n",
      "  * time     (time) datetime64[ns] 1979-05-01 1980-05-01 ... 2016-05-01\n",
      "multiple linear regression\n",
      "correlation between final and precipitation 0.48912367285011055\n"
     ]
    }
   ],
   "source": [
    "final_corr = final.sel(time=slice('1979-01-01','2016-12-31'))\n",
    "print(final_corr)\n",
    "\n",
    "finalforcorr = final_corr.groupby('time.year',restore_coord_dims = True).sum(\"time\")\n",
    "finalcorrelation = correlation(finalforcorr, precip_jjas, dims='year')\n",
    "print(\"multiple linear regression\")\n",
    "print(\"correlation between final and precipitation\", finalcorrelation.data)"
   ]
  },
  {
   "cell_type": "code",
   "execution_count": 18,
   "metadata": {},
   "outputs": [],
   "source": [
    "modelyears = []\n",
    "for x in range(42):\n",
    "    modelyears.append(x+1979)\n",
    "modelyears2 = []\n",
    "for x in range(38):\n",
    "    modelyears2.append(x+1979)"
   ]
  },
  {
   "cell_type": "code",
   "execution_count": 19,
   "metadata": {},
   "outputs": [
    {
     "name": "stdout",
     "output_type": "stream",
     "text": [
      "\n",
      "2020 prediction: 1.003+/-0.039 of normal\n",
      "r(prediction,obs) = 0.49\n"
     ]
    }
   ],
   "source": [
    "prediction2020 = final.sel(time = slice('2020-05-01', '2020-05-01')).data\n",
    "rmse = 27.929032\n",
    "print()\n",
    "prediction = (prediction2020[0]/rainfallmean)\n",
    "bounds = (rmse/rainfallmean)\n",
    "predictiontxt = ('2020 prediction: '+\"{:0.3f}\".format(prediction.data)+ \"+/-\"+ \"{:0.3f}\".format(bounds.data)+ \" of normal\")\n",
    "print(predictiontxt)\n",
    "correlationtxt = ('r(prediction,obs) = '+\"{:0.2f}\".format(finalcorrelation.data))\n",
    "print(correlationtxt)"
   ]
  },
  {
   "cell_type": "markdown",
   "metadata": {},
   "source": [
    "# Final Information and Graphics"
   ]
  },
  {
   "cell_type": "code",
   "execution_count": 32,
   "metadata": {},
   "outputs": [
    {
     "data": {
      "text/plain": [
       "Text(1978, 570, 'r(prediction,obs) = 0.49')"
      ]
     },
     "execution_count": 32,
     "metadata": {},
     "output_type": "execute_result"
    },
    {
     "data": {
      "image/png": "[encoded data removed]",
      "text/plain": [
       "<Figure size 1152x576 with 1 Axes>"
      ]
     },
     "metadata": {
      "needs_background": "light"
     },
     "output_type": "display_data"
    }
   ],
   "source": [
    "#print(\"2020 prediction\", final.sel(time = slice('2020-05-01', '2020-05-01')))\n",
    "plt.figure(figsize=(16,8))\n",
    "plt.title('1979 - 2020 predictions', fontsize = 'xx-large')\n",
    "plt.plot(modelyears, final, label = 'Prediction', color = 'forestgreen',linewidth=5)\n",
    "plt.plot(modelyears2, precip_jjas, label = 'All-India Rainfall', color = 'blue',linewidth=5)\n",
    "plt.hlines(rainfallmean,1978,2021,linestyles='dashed',colors='blue')\n",
    "\n",
    "axes = plt.gca()\n",
    "axes.set_xlim([1977, 2022])\n",
    "axes.set_ylim([550, 900])\n",
    "plt.xlabel('year', fontsize = 'large')\n",
    "plt.ylabel('mm of rainfall', fontsize = 'large')\n",
    "plt.legend(loc='lower right')\n",
    "plt.text(1978,880,predictiontxt)\n",
    "plt.text(1978,570,correlationtxt)"
   ]
  },
  {
   "cell_type": "code",
   "execution_count": 29,
   "metadata": {},
   "outputs": [
    {
     "name": "stdout",
     "output_type": "stream",
     "text": [
      "Root Mean Square Error 27.929032\n",
      "Rainfall Standard Deviation for Training Period <xarray.DataArray 'precip' ()>\n",
      "array(66.489159)\n",
      "Rainfall Mean for Training Period <xarray.DataArray 'precip' ()>\n",
      "array(717.29736, dtype=float32)\n",
      "Prediction's Standard Deviation Above or Below the Mean [0.02733493]\n",
      "2020 Prediction [719.11483949]\n",
      "Correlation between Model and Rainfall <xarray.DataArray ()>\n",
      "array(0.489124)\n"
     ]
    }
   ],
   "source": [
    "print(\"Root Mean Square Error\", rmse)\n",
    "print(\"Rainfall Standard Deviation for Training Period\", rainfallstd)\n",
    "print(\"Rainfall Mean for Training Period\", rainfallmean)\n",
    "airivalue = AIRI.sel(time = slice('2020-05-01', '2020-05-01')).data\n",
    "print(\"Prediction's Standard Deviation Above or Below the Mean\", airivalue)\n",
    "print(\"2020 Prediction\", prediction2020)\n",
    "print(\"Correlation between Model and Rainfall\", finalcorrelation)"
   ]
  },
  {
   "cell_type": "code",
   "execution_count": null,
   "metadata": {},
   "outputs": [],
   "source": [
    "# Copyright (c) 2020 Medha Palavalli."
   ]
  },
  {
   "cell_type": "code",
   "execution_count": null,
   "metadata": {},
   "outputs": [],
   "source": []
  }
 ],
 "metadata": {
  "kernelspec": {
   "display_name": "xarrayenv2",
   "language": "python",
   "name": "xarrayenv2"
  },
  "language_info": {
   "codemirror_mode": {
    "name": "ipython",
    "version": 3
   },
   "file_extension": ".py",
   "mimetype": "text/x-python",
   "name": "python",
   "nbconvert_exporter": "python",
   "pygments_lexer": "ipython3",
   "version": "3.7.3"
  }
 },
 "nbformat": 4,
 "nbformat_minor": 1
}
