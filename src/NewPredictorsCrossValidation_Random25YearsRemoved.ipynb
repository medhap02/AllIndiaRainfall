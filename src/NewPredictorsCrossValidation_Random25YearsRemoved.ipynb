{
 "cells": [
  {
   "cell_type": "code",
   "execution_count": 176,
   "metadata": {},
   "outputs": [
    {
     "name": "stdout",
     "output_type": "stream",
     "text": [
      "Once deleted, variables cannot be recovered. Proceed (y/[n])? y\n"
     ]
    }
   ],
   "source": [
    "%reset"
   ]
  },
  {
   "cell_type": "code",
   "execution_count": 177,
   "metadata": {},
   "outputs": [],
   "source": [
    "import numpy as np\n",
    "import scipy as sp\n",
    "import sklearn as sk\n",
    "import cartopy as cp\n",
    "import xarray as xr\n",
    "import pandas as pd\n",
    "import cftime\n",
    "import dateutil\n",
    "import dask\n",
    "#Use the 2 lines below if the notebook has a dark theme (to make labelling visible):\n",
    "from jupyterthemes import jtplot\n",
    "jtplot.style(theme='grade3', context='notebook', ticks=True, grid=False)\n",
    "import matplotlib.pyplot as plt\n",
    "#The following code resets the default plot size so you don't have to fiddle with figsize every time\"\n",
    "fig_size = plt.rcParams[\"figure.figsize\"]\n",
    "fig_size[0] = 16\n",
    "fig_size[1] = 8\n",
    "plt.rcParams[\"figure.figsize\"] = fig_size"
   ]
  },
  {
   "cell_type": "code",
   "execution_count": 178,
   "metadata": {},
   "outputs": [
    {
     "name": "stdout",
     "output_type": "stream",
     "text": [
      "env: HDF5_USE_FILE_LOCKING=FALSE\n"
     ]
    }
   ],
   "source": [
    "#Need the following line to avoid hdf5 issues that prevent opening thee file\n",
    "# https://stackoverflow.com/questions/49317927/errno-101-netcdf-hdf-error-when-opening-netcdf-file\n",
    "%env HDF5_USE_FILE_LOCKING=FALSE"
   ]
  },
  {
   "cell_type": "code",
   "execution_count": 179,
   "metadata": {},
   "outputs": [],
   "source": [
    "def covariance(x, y, dims=None):\n",
    "    return xr.dot(x - x.mean(dims), y - y.mean(dims), dims=dims) / x.count(dims)\n",
    "\n",
    "def correlation(x, y, dims=None):\n",
    "    return covariance(x, y, dims) / (x.std(dims) * y.std(dims))"
   ]
  },
  {
   "cell_type": "markdown",
   "metadata": {},
   "source": [
    "# Load and Manipulate Data"
   ]
  },
  {
   "cell_type": "code",
   "execution_count": 180,
   "metadata": {},
   "outputs": [],
   "source": [
    "#Load AIRI data \n",
    "from netCDF4 import Dataset\n",
    "from datetime import datetime, timedelta\n",
    "from netCDF4 import num2date, date2num\n",
    "dataset_file = \"pALLIN.nc\"\n",
    "airi_dat = xr.open_dataset(dataset_file, decode_times=False)\n",
    "units, reference_date = airi_dat.time.attrs['units'].split('since')\n",
    "airi_dat['time'] = pd.date_range(start=reference_date, periods=airi_dat.sizes['time'], freq='MS')\n",
    "#This file's calendar isn't recognized when using xr.open_dataset. The above workaround is from: \n",
    "#https://stackoverflow.com/questions/55648630/how-to-decode-the-time-variable-while-using-xarray-to-load-a-netcdf-file\n",
    "# \"M\" means \"month end frequency\" (see https://pandas.pydata.org/pandas-docs/stable/user_guide/timeseries.html#offset-aliases)"
   ]
  },
  {
   "cell_type": "code",
   "execution_count": 181,
   "metadata": {},
   "outputs": [],
   "source": [
    "precip = airi_dat['precip']"
   ]
  },
  {
   "cell_type": "code",
   "execution_count": 182,
   "metadata": {},
   "outputs": [],
   "source": [
    "#Load SST data\n",
    "dataset_url = \"https://psl.noaa.gov/thredds/dodsC/Datasets/noaa.ersst.v5/sst.mnmean.nc\"\n",
    "sst_dat = xr.open_dataset(dataset_url)\n",
    "sst = sst_dat['sst']"
   ]
  },
  {
   "cell_type": "code",
   "execution_count": 183,
   "metadata": {},
   "outputs": [
    {
     "name": "stderr",
     "output_type": "stream",
     "text": [
      "/global/home/users/medhap02/.conda/envs/xarrayenv2/lib/python3.7/site-packages/xarray/core/nanops.py:160: RuntimeWarning: Mean of empty slice\n",
      "  return np.nanmean(a, axis=axis, dtype=dtype)\n"
     ]
    },
    {
     "data": {
      "text/plain": [
       "<xarray.DataArray 'sst' (time: 1752, lat: 89, lon: 180)>\n",
       "array([[[1.788139e-06, 1.788139e-06, ..., 1.788139e-06, 1.788139e-06],\n",
       "        [1.788139e-06, 1.788139e-06, ..., 1.788139e-06, 1.788139e-06],\n",
       "        ...,\n",
       "        [         nan,          nan, ...,          nan,          nan],\n",
       "        [         nan,          nan, ...,          nan,          nan]],\n",
       "\n",
       "       [[1.788139e-06, 1.788139e-06, ..., 1.788139e-06, 1.788139e-06],\n",
       "        [1.788139e-06, 1.788139e-06, ..., 1.788139e-06, 1.788139e-06],\n",
       "        ...,\n",
       "        [         nan,          nan, ...,          nan,          nan],\n",
       "        [         nan,          nan, ...,          nan,          nan]],\n",
       "\n",
       "       ...,\n",
       "\n",
       "       [[3.152323e-02, 2.609873e-02, ..., 2.140296e-02, 3.102016e-02],\n",
       "        [2.697122e-02, 1.542413e-02, ..., 1.046002e-02, 2.427316e-02],\n",
       "        ...,\n",
       "        [         nan,          nan, ...,          nan,          nan],\n",
       "        [         nan,          nan, ...,          nan,          nan]],\n",
       "\n",
       "       [[1.788139e-06, 1.788139e-06, ..., 1.788139e-06, 1.788139e-06],\n",
       "        [1.788139e-06, 1.788139e-06, ..., 1.788139e-06, 1.788139e-06],\n",
       "        ...,\n",
       "        [         nan,          nan, ...,          nan,          nan],\n",
       "        [         nan,          nan, ...,          nan,          nan]]],\n",
       "      dtype=float32)\n",
       "Coordinates:\n",
       "  * lat      (lat) float32 88.0 86.0 84.0 82.0 80.0 ... -82.0 -84.0 -86.0 -88.0\n",
       "  * lon      (lon) float32 0.0 2.0 4.0 6.0 8.0 ... 350.0 352.0 354.0 356.0 358.0\n",
       "  * time     (time) datetime64[ns] 1871-02-01 1871-03-01 ... 2017-01-01\n",
       "    month    (time) int64 2 3 4 5 6 7 8 9 10 11 12 ... 3 4 5 6 7 8 9 10 11 12 1"
      ]
     },
     "execution_count": 183,
     "metadata": {},
     "output_type": "execute_result"
    }
   ],
   "source": [
    "#Slice SST data to the same duration as precip and calculate monthly anomalies\n",
    "sst_subset = sst.sel(time=slice('1871-01-30','2017-01-01'))\n",
    "sst_clim = sst_subset.groupby('time.month').mean('time')\n",
    "sst_anomfull = sst_subset.groupby(\"time.month\")-sst_clim\n",
    "sst_anomfull"
   ]
  },
  {
   "cell_type": "code",
   "execution_count": 184,
   "metadata": {},
   "outputs": [
    {
     "name": "stdout",
     "output_type": "stream",
     "text": [
      "<xarray.Dataset>\n",
      "Dimensions:  (lat: 89, lon: 180, time: 1056)\n",
      "Coordinates:\n",
      "  * time     (time) datetime64[ns] 1900-01-01 1900-02-01 ... 2015-12-01\n",
      "  * lat      (lat) float32 88.0 86.0 84.0 82.0 80.0 ... -82.0 -84.0 -86.0 -88.0\n",
      "  * lon      (lon) float32 0.0 2.0 4.0 6.0 8.0 ... 350.0 352.0 354.0 356.0 358.0\n",
      "    month    (time) float64 1.0 2.0 3.0 4.0 5.0 6.0 ... 8.0 9.0 10.0 11.0 12.0\n",
      "Data variables:\n",
      "    sst      (time, lat, lon) float32 1.7881393e-06 1.7881393e-06 ... nan nan\n"
     ]
    }
   ],
   "source": [
    "sst_subset1 = sst_anomfull.sel(time=slice('1900-01-01','1901-12-31'))\n",
    "sst_subset2 = sst_anomfull.sel(time=slice('1903-01-01','1906-12-31'))\n",
    "sst_subset3 = sst_anomfull.sel(time=slice('1908-01-01','1911-12-31'))\n",
    "sst_subset4 = sst_anomfull.sel(time=slice('1913-01-01','1913-12-31'))\n",
    "sst_subset5 = sst_anomfull.sel(time=slice('1915-01-01','1918-12-31'))\n",
    "sst_subset6 = sst_anomfull.sel(time=slice('1920-01-01','1921-12-31'))\n",
    "sst_subset7 = sst_anomfull.sel(time=slice('1923-01-01','1927-12-31'))\n",
    "sst_subset8 = sst_anomfull.sel(time=slice('1929-01-01','1931-12-31'))\n",
    "sst_subset9 = sst_anomfull.sel(time=slice('1934-01-01','1939-12-31'))\n",
    "sst_subset10 = sst_anomfull.sel(time=slice('1941-01-01','1948-12-31'))\n",
    "sst_subset11 = sst_anomfull.sel(time=slice('1951-01-01','1955-12-31'))\n",
    "sst_subset12 = sst_anomfull.sel(time=slice('1957-01-01','1958-12-31'))\n",
    "sst_subset13 = sst_anomfull.sel(time=slice('1960-01-01','1962-12-31'))\n",
    "sst_subset13 = sst_anomfull.sel(time=slice('1964-01-01','1965-12-31'))\n",
    "sst_subset14 = sst_anomfull.sel(time=slice('1967-01-01','1971-12-31'))\n",
    "sst_subset15 = sst_anomfull.sel(time=slice('1973-01-01','1976-12-31'))\n",
    "sst_subset16 = sst_anomfull.sel(time=slice('1978-01-01','1979-12-31'))\n",
    "sst_subset17 = sst_anomfull.sel(time=slice('1981-01-01','1982-12-31'))\n",
    "sst_subset18 = sst_anomfull.sel(time=slice('1984-01-01','1991-12-31'))\n",
    "sst_subset19 = sst_anomfull.sel(time=slice('1993-01-01','1998-12-31'))\n",
    "sst_subset20 = sst_anomfull.sel(time=slice('2000-01-01','2002-12-31'))\n",
    "sst_subset21 = sst_anomfull.sel(time=slice('2004-01-01','2006-12-31'))\n",
    "sst_subset22 = sst_anomfull.sel(time=slice('2008-01-01','2010-12-31'))\n",
    "sst_subset23 = sst_anomfull.sel(time=slice('2012-01-01','2015-12-31'))\n",
    "\n",
    "sst_anomtemp = xr.merge([sst_subset1, sst_subset2, sst_subset3, sst_subset4, sst_subset5, \n",
    "                   sst_subset6, sst_subset7, sst_subset8, sst_subset9, sst_subset10, \n",
    "                   sst_subset11, sst_subset12, sst_subset13, sst_subset14, sst_subset15, \n",
    "                   sst_subset16, sst_subset17, sst_subset18, sst_subset19, sst_subset20, \n",
    "                   sst_subset21, sst_subset22, sst_subset23])\n",
    "#sst_anom = xr.Dataset.to_array(sst_anomtemp).drop('variable')\n",
    "print(sst_anomtemp)\n",
    "sst_anom = sst_anomtemp['sst']\n",
    "#1902, 1907, 1912, 1914, 1919, 1922, 1928, 1932, 1933, 1940\n",
    "#1949, 1950, 1956, 1959, 1963, 1966, 1972, 1977, 1980, 1983\n",
    "#1992, 1999, 2003, 2007, 2011"
   ]
  },
  {
   "cell_type": "code",
   "execution_count": 185,
   "metadata": {},
   "outputs": [],
   "source": [
    "#Load SLP data\n",
    "dataset_url = \"/global/scratch/medhap02/ISMData/prmsl.mon.mean.nc\"\n",
    "slp_dat = xr.open_dataset(dataset_url)\n",
    "slp = slp_dat['prmsl']"
   ]
  },
  {
   "cell_type": "code",
   "execution_count": 186,
   "metadata": {},
   "outputs": [
    {
     "data": {
      "text/plain": [
       "<xarray.DataArray 'prmsl' (time: 1740, lat: 181, lon: 360)>\n",
       "array([[[  114.765625,   114.765625, ...,   114.765625,   114.765625],\n",
       "        [   94.78125 ,    94.46875 , ...,    95.359375,    95.03125 ],\n",
       "        ...,\n",
       "        [  293.65625 ,   293.95312 , ...,   293.20312 ,   293.4297  ],\n",
       "        [  288.66406 ,   288.66406 , ...,   288.66406 ,   288.66406 ]],\n",
       "\n",
       "       [[   75.84375 ,    75.84375 , ...,    75.84375 ,    75.84375 ],\n",
       "        [   67.66406 ,    68.02344 , ...,    66.85156 ,    67.24219 ],\n",
       "        ...,\n",
       "        [  587.2969  ,   587.52344 , ...,   586.9219  ,   587.0781  ],\n",
       "        [  581.14844 ,   581.14844 , ...,   581.14844 ,   581.14844 ]],\n",
       "\n",
       "       ...,\n",
       "\n",
       "       [[ -876.5703  ,  -876.5703  , ...,  -876.5703  ,  -876.5703  ],\n",
       "        [ -937.10156 ,  -936.8594  , ...,  -937.625   ,  -937.3906  ],\n",
       "        ...,\n",
       "        [-1008.4375  , -1008.8906  , ..., -1007.5625  , -1007.9922  ],\n",
       "        [-1047.0938  , -1047.0938  , ..., -1047.0938  , -1047.0938  ]],\n",
       "\n",
       "       [[ -525.5     ,  -525.5     , ...,  -525.5     ,  -525.5     ],\n",
       "        [ -584.5703  ,  -584.8828  , ...,  -583.8906  ,  -584.2578  ],\n",
       "        ...,\n",
       "        [ -427.9922  ,  -428.3203  , ...,  -427.28125 ,  -427.6172  ],\n",
       "        [ -411.48438 ,  -411.48438 , ...,  -411.48438 ,  -411.48438 ]]],\n",
       "      dtype=float32)\n",
       "Coordinates:\n",
       "  * lat      (lat) float32 -90.0 -89.0 -88.0 -87.0 -86.0 ... 87.0 88.0 89.0 90.0\n",
       "  * lon      (lon) float32 0.0 1.0 2.0 3.0 4.0 ... 355.0 356.0 357.0 358.0 359.0\n",
       "  * time     (time) datetime64[ns] 1871-01-01 1871-02-01 ... 2015-12-01\n",
       "    month    (time) int64 1 2 3 4 5 6 7 8 9 10 11 ... 2 3 4 5 6 7 8 9 10 11 12"
      ]
     },
     "execution_count": 186,
     "metadata": {},
     "output_type": "execute_result"
    }
   ],
   "source": [
    "#Slice SLP data to the same duration as precip and calculate monthly anomalies\n",
    "slp_subset = slp.sel(time=slice('1871-01-01','2015-12-31'))\n",
    "slp_clim = slp_subset.groupby('time.month').mean('time')\n",
    "slp_anomfull = slp_subset.groupby(\"time.month\")-slp_clim\n",
    "slp_anomfull"
   ]
  },
  {
   "cell_type": "code",
   "execution_count": 187,
   "metadata": {},
   "outputs": [
    {
     "name": "stdout",
     "output_type": "stream",
     "text": [
      "<xarray.Dataset>\n",
      "Dimensions:  (lat: 181, lon: 360, time: 1056)\n",
      "Coordinates:\n",
      "  * time     (time) datetime64[ns] 1900-01-01 1900-02-01 ... 2015-12-01\n",
      "  * lat      (lat) float32 -90.0 -89.0 -88.0 -87.0 -86.0 ... 87.0 88.0 89.0 90.0\n",
      "  * lon      (lon) float32 0.0 1.0 2.0 3.0 4.0 ... 355.0 356.0 357.0 358.0 359.0\n",
      "    month    (time) float64 1.0 2.0 3.0 4.0 5.0 6.0 ... 8.0 9.0 10.0 11.0 12.0\n",
      "Data variables:\n",
      "    prmsl    (time, lat, lon) float32 24.570312 24.570312 ... -411.48438\n"
     ]
    }
   ],
   "source": [
    "slp_subset1 = slp_anomfull.sel(time=slice('1900-01-01','1901-12-31'))\n",
    "slp_subset2 = slp_anomfull.sel(time=slice('1903-01-01','1906-12-31'))\n",
    "slp_subset3 = slp_anomfull.sel(time=slice('1908-01-01','1911-12-31'))\n",
    "slp_subset4 = slp_anomfull.sel(time=slice('1913-01-01','1913-12-31'))\n",
    "slp_subset5 = slp_anomfull.sel(time=slice('1915-01-01','1918-12-31'))\n",
    "slp_subset6 = slp_anomfull.sel(time=slice('1920-01-01','1921-12-31'))\n",
    "slp_subset7 = slp_anomfull.sel(time=slice('1923-01-01','1927-12-31'))\n",
    "slp_subset8 = slp_anomfull.sel(time=slice('1929-01-01','1931-12-31'))\n",
    "slp_subset9 = slp_anomfull.sel(time=slice('1934-01-01','1939-12-31'))\n",
    "slp_subset10 = slp_anomfull.sel(time=slice('1941-01-01','1948-12-31'))\n",
    "slp_subset11 = slp_anomfull.sel(time=slice('1951-01-01','1955-12-31'))\n",
    "slp_subset12 = slp_anomfull.sel(time=slice('1957-01-01','1958-12-31'))\n",
    "slp_subset13 = slp_anomfull.sel(time=slice('1960-01-01','1962-12-31'))\n",
    "slp_subset13 = slp_anomfull.sel(time=slice('1964-01-01','1965-12-31'))\n",
    "slp_subset14 = slp_anomfull.sel(time=slice('1967-01-01','1971-12-31'))\n",
    "slp_subset15 = slp_anomfull.sel(time=slice('1973-01-01','1976-12-31'))\n",
    "slp_subset16 = slp_anomfull.sel(time=slice('1978-01-01','1979-12-31'))\n",
    "slp_subset17 = slp_anomfull.sel(time=slice('1981-01-01','1982-12-31'))\n",
    "slp_subset18 = slp_anomfull.sel(time=slice('1984-01-01','1991-12-31'))\n",
    "slp_subset19 = slp_anomfull.sel(time=slice('1993-01-01','1998-12-31'))\n",
    "slp_subset20 = slp_anomfull.sel(time=slice('2000-01-01','2002-12-31'))\n",
    "slp_subset21 = slp_anomfull.sel(time=slice('2004-01-01','2006-12-31'))\n",
    "slp_subset22 = slp_anomfull.sel(time=slice('2008-01-01','2010-12-31'))\n",
    "slp_subset23 = slp_anomfull.sel(time=slice('2012-01-01','2015-12-31'))\n",
    "\n",
    "slp_anomtemp = xr.merge([slp_subset1, slp_subset2, slp_subset3, slp_subset4, slp_subset5, \n",
    "                   slp_subset6, slp_subset7, slp_subset8, slp_subset9, slp_subset10, \n",
    "                   slp_subset11, slp_subset12, slp_subset13, slp_subset14, slp_subset15, \n",
    "                   slp_subset16, slp_subset17, slp_subset18, slp_subset19, slp_subset20, \n",
    "                   slp_subset21, slp_subset22, slp_subset23])\n",
    "#slp_anom = xr.Dataset.to_array(slp_anomtemp).drop('variable')\n",
    "print(slp_anomtemp)\n",
    "slp_anom = slp_anomtemp['prmsl']\n",
    "#1902, 1907, 1912, 1914, 1919, 1922, 1928, 1932, 1933, 1940\n",
    "#1949, 1950, 1956, 1959, 1963, 1966, 1972, 1977, 1980, 1983\n",
    "#1992, 1999, 2003, 2007, 2011"
   ]
  },
  {
   "cell_type": "code",
   "execution_count": 188,
   "metadata": {},
   "outputs": [
    {
     "name": "stdout",
     "output_type": "stream",
     "text": [
      "<xarray.Dataset>\n",
      "Dimensions:    (bnds: 2, lat: 181, lon: 360, time: 2160)\n",
      "Coordinates:\n",
      "  * lon        (lon) float64 0.0 1.0 2.0 3.0 4.0 ... 356.0 357.0 358.0 359.0\n",
      "  * lat        (lat) float64 -90.0 -89.0 -88.0 -87.0 ... 87.0 88.0 89.0 90.0\n",
      "  * time       (time) datetime64[ns] 1836-01-01 1836-02-01 ... 2015-12-01\n",
      "Dimensions without coordinates: bnds\n",
      "Data variables:\n",
      "    TIME_bnds  (time, bnds) datetime64[ns] ...\n",
      "    MSE        (time, lat, lon) float64 ...\n",
      "    DMSEDT     (time, lat, lon) float64 ...\n",
      "Attributes:\n",
      "    history:      PyFerret V7.43 (optimized) 14-May-20\n",
      "    Conventions:  CF-1.6\n"
     ]
    }
   ],
   "source": [
    "#Load MSE data\n",
    "dataset_url = \"MSE_20thcentury.nc\"\n",
    "mse_dat1 = xr.open_dataset('/global/scratch/medhap02/ISMData/MSE_20thcentury.nc')\n",
    "mse_dat = mse_dat1.rename({'LON':'lon', 'LAT':'lat','TIME':'time'})\n",
    "mse = mse_dat['MSE']\n",
    "print(mse_dat)"
   ]
  },
  {
   "cell_type": "code",
   "execution_count": 189,
   "metadata": {},
   "outputs": [
    {
     "data": {
      "text/plain": [
       "<xarray.DataArray 'MSE' (time: 1739, lat: 181, lon: 360)>\n",
       "array([[[ -437.976186,  -437.976186, ...,  -437.976186,  -437.976186],\n",
       "        [ -357.903304,  -357.881208, ...,  -348.426553,  -351.846723],\n",
       "        ...,\n",
       "        [-4136.464814, -4142.140899, ..., -4125.058225, -4129.258011],\n",
       "        [-3946.385781, -3946.385781, ..., -3946.385781, -3946.385781]],\n",
       "\n",
       "       [[ -685.706864,  -685.706864, ...,  -685.706864,  -685.706864],\n",
       "        [ -523.262003,  -522.176401, ...,  -528.206152,  -525.088336],\n",
       "        ...,\n",
       "        [-2774.219152, -2771.776149, ..., -2769.221152, -2770.293549],\n",
       "        [-2662.830975, -2662.830975, ..., -2662.830975, -2662.830975]],\n",
       "\n",
       "       ...,\n",
       "\n",
       "       [[ 2257.7285  ,  2257.7285  , ...,  2257.7285  ,  2257.7285  ],\n",
       "        [ 2691.46434 ,  2695.995047, ...,  2682.928563,  2688.836707],\n",
       "        ...,\n",
       "        [ 3071.988646,  3092.121979, ...,  3027.33813 ,  3049.99822 ],\n",
       "        [ 3156.791382,  3156.791382, ...,  3156.791382,  3156.791382]],\n",
       "\n",
       "       [[  864.856915,   864.856915, ...,   864.856915,   864.856915],\n",
       "        [ 1076.67495 ,  1078.353851, ...,  1078.268214,  1077.544245],\n",
       "        ...,\n",
       "        [ 1590.79321 ,  1591.258558, ...,  1593.079849,  1591.898461],\n",
       "        [ 1634.137736,  1634.137736, ...,  1634.137736,  1634.137736]]])\n",
       "Coordinates:\n",
       "  * lon      (lon) float64 0.0 1.0 2.0 3.0 4.0 ... 355.0 356.0 357.0 358.0 359.0\n",
       "  * lat      (lat) float64 -90.0 -89.0 -88.0 -87.0 -86.0 ... 87.0 88.0 89.0 90.0\n",
       "  * time     (time) datetime64[ns] 1871-02-01 1871-03-01 ... 2015-12-01\n",
       "    month    (time) int64 2 3 4 5 6 7 8 9 10 11 12 ... 2 3 4 5 6 7 8 9 10 11 12"
      ]
     },
     "execution_count": 189,
     "metadata": {},
     "output_type": "execute_result"
    }
   ],
   "source": [
    "#Slice MSE data to the same duration as precip and calculate monthly anomalies\n",
    "mse_subset = mse.sel(time=slice('1871-01-30','2017-01-01'))\n",
    "mse_clim = mse_subset.groupby('time.month').mean('time')\n",
    "mse_anomfull = mse_subset.groupby(\"time.month\")-mse_clim\n",
    "mse_anomfull"
   ]
  },
  {
   "cell_type": "code",
   "execution_count": 190,
   "metadata": {},
   "outputs": [
    {
     "name": "stdout",
     "output_type": "stream",
     "text": [
      "<xarray.Dataset>\n",
      "Dimensions:  (lat: 181, lon: 360, time: 1056)\n",
      "Coordinates:\n",
      "  * time     (time) datetime64[ns] 1900-01-01 1900-02-01 ... 2015-12-01\n",
      "  * lon      (lon) float64 0.0 1.0 2.0 3.0 4.0 ... 355.0 356.0 357.0 358.0 359.0\n",
      "  * lat      (lat) float64 -90.0 -89.0 -88.0 -87.0 -86.0 ... 87.0 88.0 89.0 90.0\n",
      "    month    (time) float64 1.0 2.0 3.0 4.0 5.0 6.0 ... 8.0 9.0 10.0 11.0 12.0\n",
      "Data variables:\n",
      "    MSE      (time, lat, lon) float64 -436.0 -436.0 ... 1.634e+03 1.634e+03\n"
     ]
    }
   ],
   "source": [
    "mse_subset1 = mse_anomfull.sel(time=slice('1900-01-01','1901-12-31'))\n",
    "mse_subset2 = mse_anomfull.sel(time=slice('1903-01-01','1906-12-31'))\n",
    "mse_subset3 = mse_anomfull.sel(time=slice('1908-01-01','1911-12-31'))\n",
    "mse_subset4 = mse_anomfull.sel(time=slice('1913-01-01','1913-12-31'))\n",
    "mse_subset5 = mse_anomfull.sel(time=slice('1915-01-01','1918-12-31'))\n",
    "mse_subset6 = mse_anomfull.sel(time=slice('1920-01-01','1921-12-31'))\n",
    "mse_subset7 = mse_anomfull.sel(time=slice('1923-01-01','1927-12-31'))\n",
    "mse_subset8 = mse_anomfull.sel(time=slice('1929-01-01','1931-12-31'))\n",
    "mse_subset9 = mse_anomfull.sel(time=slice('1934-01-01','1939-12-31'))\n",
    "mse_subset10 = mse_anomfull.sel(time=slice('1941-01-01','1948-12-31'))\n",
    "mse_subset11 = mse_anomfull.sel(time=slice('1951-01-01','1955-12-31'))\n",
    "mse_subset12 = mse_anomfull.sel(time=slice('1957-01-01','1958-12-31'))\n",
    "mse_subset13 = mse_anomfull.sel(time=slice('1960-01-01','1962-12-31'))\n",
    "mse_subset13 = mse_anomfull.sel(time=slice('1964-01-01','1965-12-31'))\n",
    "mse_subset14 = mse_anomfull.sel(time=slice('1967-01-01','1971-12-31'))\n",
    "mse_subset15 = mse_anomfull.sel(time=slice('1973-01-01','1976-12-31'))\n",
    "mse_subset16 = mse_anomfull.sel(time=slice('1978-01-01','1979-12-31'))\n",
    "mse_subset17 = mse_anomfull.sel(time=slice('1981-01-01','1982-12-31'))\n",
    "mse_subset18 = mse_anomfull.sel(time=slice('1984-01-01','1991-12-31'))\n",
    "mse_subset19 = mse_anomfull.sel(time=slice('1993-01-01','1998-12-31'))\n",
    "mse_subset20 = mse_anomfull.sel(time=slice('2000-01-01','2002-12-31'))\n",
    "mse_subset21 = mse_anomfull.sel(time=slice('2004-01-01','2006-12-31'))\n",
    "mse_subset22 = mse_anomfull.sel(time=slice('2008-01-01','2010-12-31'))\n",
    "mse_subset23 = mse_anomfull.sel(time=slice('2012-01-01','2015-12-31'))\n",
    "\n",
    "mse_anomtemp = xr.merge([mse_subset1, mse_subset2, mse_subset3, mse_subset4, mse_subset5, \n",
    "                   mse_subset6, mse_subset7, mse_subset8, mse_subset9, mse_subset10, \n",
    "                   mse_subset11, mse_subset12, mse_subset13, mse_subset14, mse_subset15, \n",
    "                   mse_subset16, mse_subset17, mse_subset18, mse_subset19, mse_subset20, \n",
    "                   mse_subset21, mse_subset22, mse_subset23])\n",
    "#mse_anom = xr.Dataset.to_array(mse_anomtemp).drop('variable')\n",
    "print(mse_anomtemp)\n",
    "mse_anom = mse_anomtemp['MSE']\n",
    "#1902, 1907, 1912, 1914, 1919, 1922, 1928, 1932, 1933, 1940\n",
    "#1949, 1950, 1956, 1959, 1963, 1966, 1972, 1977, 1980, 1983\n",
    "#1992, 1999, 2003, 2007, 2011"
   ]
  },
  {
   "cell_type": "code",
   "execution_count": 191,
   "metadata": {},
   "outputs": [],
   "source": [
    "#Get precip anomalies\n",
    "precip_clim = precip.groupby(\"time.month\").mean(\"time\")\n",
    "precip_anomfull = precip.groupby(\"time.month\") - precip_clim"
   ]
  },
  {
   "cell_type": "code",
   "execution_count": 192,
   "metadata": {},
   "outputs": [
    {
     "name": "stdout",
     "output_type": "stream",
     "text": [
      "<xarray.DataArray 'precip' (time: 1056)>\n",
      "array([ -9.166439,   4.535616,  -5.745206, ..., -44.439735, -40.930824,\n",
      "        13.444523], dtype=float32)\n",
      "Coordinates:\n",
      "  * time     (time) datetime64[ns] 1900-01-01 1900-02-01 ... 2015-12-01\n",
      "    month    (time) float64 1.0 2.0 3.0 4.0 5.0 6.0 ... 8.0 9.0 10.0 11.0 12.0\n"
     ]
    }
   ],
   "source": [
    "precip_subset1 = precip_anomfull.sel(time=slice('1900-01-01','1901-12-31'))\n",
    "precip_subset2 = precip_anomfull.sel(time=slice('1903-01-01','1906-12-31'))\n",
    "precip_subset3 = precip_anomfull.sel(time=slice('1908-01-01','1911-12-31'))\n",
    "precip_subset4 = precip_anomfull.sel(time=slice('1913-01-01','1913-12-31'))\n",
    "precip_subset5 = precip_anomfull.sel(time=slice('1915-01-01','1918-12-31'))\n",
    "precip_subset6 = precip_anomfull.sel(time=slice('1920-01-01','1921-12-31'))\n",
    "precip_subset7 = precip_anomfull.sel(time=slice('1923-01-01','1927-12-31'))\n",
    "precip_subset8 = precip_anomfull.sel(time=slice('1929-01-01','1931-12-31'))\n",
    "precip_subset9 = precip_anomfull.sel(time=slice('1934-01-01','1939-12-31'))\n",
    "precip_subset10 = precip_anomfull.sel(time=slice('1941-01-01','1948-12-31'))\n",
    "precip_subset11 = precip_anomfull.sel(time=slice('1951-01-01','1955-12-31'))\n",
    "precip_subset12 = precip_anomfull.sel(time=slice('1957-01-01','1958-12-31'))\n",
    "precip_subset13 = precip_anomfull.sel(time=slice('1960-01-01','1962-12-31'))\n",
    "precip_subset13 = precip_anomfull.sel(time=slice('1964-01-01','1965-12-31'))\n",
    "precip_subset14 = precip_anomfull.sel(time=slice('1967-01-01','1971-12-31'))\n",
    "precip_subset15 = precip_anomfull.sel(time=slice('1973-01-01','1976-12-31'))\n",
    "precip_subset16 = precip_anomfull.sel(time=slice('1978-01-01','1979-12-31'))\n",
    "precip_subset17 = precip_anomfull.sel(time=slice('1981-01-01','1982-12-31'))\n",
    "precip_subset18 = precip_anomfull.sel(time=slice('1984-01-01','1991-12-31'))\n",
    "precip_subset19 = precip_anomfull.sel(time=slice('1993-01-01','1998-12-31'))\n",
    "precip_subset20 = precip_anomfull.sel(time=slice('2000-01-01','2002-12-31'))\n",
    "precip_subset21 = precip_anomfull.sel(time=slice('2004-01-01','2006-12-31'))\n",
    "precip_subset22 = precip_anomfull.sel(time=slice('2008-01-01','2010-12-31'))\n",
    "precip_subset23 = precip_anomfull.sel(time=slice('2012-01-01','2015-12-31'))\n",
    "\n",
    "precip_anom = xr.merge([precip_subset1, precip_subset2, precip_subset3, precip_subset4, precip_subset5, \n",
    "                   precip_subset6, precip_subset7, precip_subset8, precip_subset9, precip_subset10, \n",
    "                   precip_subset11, precip_subset12, precip_subset13, precip_subset14, precip_subset15, \n",
    "                   precip_subset16, precip_subset17, precip_subset18, precip_subset19, precip_subset20, \n",
    "                   precip_subset21, precip_subset22, precip_subset23])\n",
    "precip_anomtemp = xr.Dataset.to_array(precip_anom)\n",
    "precip_anom = precip_anom['precip']\n",
    "print(precip_anom)\n",
    "#1902, 1907, 1912, 1914, 1919, 1922, 1928, 1932, 1933, 1940\n",
    "#1949, 1950, 1956, 1959, 1963, 1966, 1972, 1977, 1980, 1983\n",
    "#1992, 1999, 2003, 2007, 2011"
   ]
  },
  {
   "cell_type": "code",
   "execution_count": 232,
   "metadata": {},
   "outputs": [],
   "source": [
    "precip_full = precip_anom.sel(time=slice('1900-01-01','2015-12-31'))\n",
    "#precip_full = precip\n",
    "junes = np.arange(5,1056,12)\n",
    "julys = np.arange(6,1056,12)\n",
    "augusts = np.arange(7,1056, 12)\n",
    "septembers = np.arange(8,1056,12)\n",
    "precip_june = precip_full[junes]\n",
    "precip_july = precip_full[julys]\n",
    "precip_august = precip_full[augusts]\n",
    "precip_september = precip_full[septembers]\n",
    "\n",
    "precip_july.time.data = precip_june.time.data\n",
    "precip_august.time.data = precip_june.time.data\n",
    "precip_september.time.data = precip_june.time.data\n",
    "\n",
    "precip_jjas = (precip_june + precip_july + precip_august + precip_september)"
   ]
  },
  {
   "cell_type": "markdown",
   "metadata": {},
   "source": [
    "# Building Predictors"
   ]
  },
  {
   "cell_type": "code",
   "execution_count": 256,
   "metadata": {},
   "outputs": [
    {
     "name": "stdout",
     "output_type": "stream",
     "text": [
      "EPT mean <xarray.DataArray ()>\n",
      "array(-0.030348, dtype=float32)\n",
      "EPT std <xarray.DataArray ()>\n",
      "array(0.514143, dtype=float32)\n"
     ]
    }
   ],
   "source": [
    "#EP-ENSOpredictor\n",
    "#(30n-30s, 155-175e)\n",
    "#(10n-10s, 115-80w)\n",
    "\n",
    "#DSST1\n",
    "latrange1 = sst_anom.sel(lat = slice(30, -30)).lat\n",
    "weights1 = np.cos(latrange1*np.pi/180)\n",
    "\n",
    "marchdata1 = sst_anom.sel(lat = slice(30, -30), lon = slice(155, 175), time = (sst_anom['time.month']==3))\n",
    "marchSST1 = marchdata1.sel(time = slice('1900-03-01', '2015-03-01'))\n",
    "marchmean1 = (marchSST1*weights1).mean({'lon', 'lat'})/weights1.mean()\n",
    "\n",
    "maydata1 = sst_anom.sel(lat = slice(30, -30), lon = slice(155, 175), time = (sst_anom['time.month']==5))\n",
    "maySST1 = maydata1.sel(time = slice('1900-05-01', '2015-05-01'))\n",
    "maymean1 = (maySST1*weights1).mean({'lon', 'lat'})/weights1.mean()\n",
    "\n",
    "marchmean1.time.data = maymean1.time.data\n",
    "DSST1 = maymean1 - marchmean1\n",
    "\n",
    "#DSST2\n",
    "latrange2 = sst_anom.sel(lat = slice(10, -10)).lat\n",
    "weights2 = np.cos(latrange2*np.pi/180)\n",
    "\n",
    "marchdata2 = sst_anom.sel(lat = slice(10, -10), lon = slice(245, 280), time = (sst_anom['time.month']==3))\n",
    "marchSST2 = marchdata2.sel(time = slice('1900-03-01', '2015-03-01'))\n",
    "marchmean2 = (marchSST2*weights2).mean({'lon', 'lat'})/weights2.mean()\n",
    "\n",
    "maydata2 = sst_anom.sel(lat = slice(10, -10), lon = slice(245, 280), time = (sst_anom['time.month']==5))\n",
    "maySST2 = maydata2.sel(time = slice('1900-05-01', '2015-05-01'))\n",
    "maymean2 = (maySST2*weights2).mean({'lon', 'lat'})/weights2.mean()\n",
    "\n",
    "marchmean2.time.data = maymean2.time.data\n",
    "DSST2 = (maymean2 - marchmean2)\n",
    "\n",
    "EPTinitial = DSST1 - DSST2\n",
    "#print(EPTinitial)\n",
    "EPTstd = EPTinitial.std()\n",
    "EPTmean = EPTinitial.mean()\n",
    "EPTnew = (EPTinitial - EPTmean)/EPTstd\n",
    "\n",
    "print(\"EPT mean\", EPTmean)\n",
    "print(\"EPT std\", EPTstd)"
   ]
  },
  {
   "cell_type": "code",
   "execution_count": 257,
   "metadata": {},
   "outputs": [
    {
     "name": "stdout",
     "output_type": "stream",
     "text": [
      "<xarray.DataArray (time: 88)>\n",
      "array([ 0.297432, -0.319612,  1.032587, -1.616898, -1.797158,  2.540109,\n",
      "        0.537675, -0.358141,  0.364645, -1.525626,  0.0676  , -0.42359 ,\n",
      "        0.6601  , -0.958777, -1.479854,  0.658664, -0.907403, -1.074267,\n",
      "        0.143604,  0.427609,  0.388416, -0.384667, -0.247867, -0.44527 ,\n",
      "        1.342018,  0.534773, -1.597306, -0.094783,  0.492786,  0.998168,\n",
      "       -1.623247, -0.399902,  1.68427 , -0.727575,  0.310104, -0.77136 ,\n",
      "       -0.036985,  1.894478,  2.467264, -0.761732,  1.339039, -0.109728,\n",
      "        1.562739,  0.766331, -0.531303, -0.200212,  1.793724, -1.758997,\n",
      "       -0.599616, -0.049605, -0.800348,  0.201347,  0.418059,  1.535974,\n",
      "       -0.706784,  0.690212, -0.88298 ,  0.714634, -1.410141,  0.445903,\n",
      "       -0.928172,  1.313385,  0.335721,  0.20977 , -0.186825,  0.850827,\n",
      "        0.324238, -0.71012 ,  0.043715, -0.693239, -0.347612,  0.804691,\n",
      "        1.352873, -2.195137,  0.671975, -0.45006 ,  0.690443, -0.160211,\n",
      "        0.85276 , -0.390964,  0.274445, -0.539481, -1.488132,  0.362304,\n",
      "       -0.604883,  1.264754, -0.613757, -1.751834], dtype=float32)\n",
      "Coordinates:\n",
      "  * time     (time) datetime64[ns] 1900-05-01 1901-05-01 ... 2015-05-01\n"
     ]
    }
   ],
   "source": [
    "print(EPTnew)"
   ]
  },
  {
   "cell_type": "code",
   "execution_count": 258,
   "metadata": {},
   "outputs": [
    {
     "name": "stdout",
     "output_type": "stream",
     "text": [
      "CPT mean <xarray.DataArray ()>\n",
      "array(-0.004538, dtype=float32)\n",
      "CPT std <xarray.DataArray ()>\n",
      "array(0.152151, dtype=float32)\n"
     ]
    }
   ],
   "source": [
    "#CP-ENSOpredictor\n",
    "#(55-5s, 175e-155w)\n",
    "\n",
    "#DSST\n",
    "latrange1 = sst_anom.sel(lat = slice(-5, -55)).lat\n",
    "weights1 = np.cos(latrange1*np.pi/180)\n",
    "\n",
    "aprildata1 = sst_anom.sel(lat = slice(-5, -55), lon = slice(175, 205), time = (sst_anom['time.month']==4))\n",
    "aprilSST1 = aprildata1.sel(time = slice('1900-04-01', '2015-04-01'))\n",
    "aprilmean1 = (aprilSST1*weights1).mean({'lon', 'lat'})/weights1.mean()\n",
    "\n",
    "maydata1 = sst_anom.sel(lat = slice(-5, -55), lon = slice(175, 205), time = (sst_anom['time.month']==5))\n",
    "maySST1 = maydata1.sel(time = slice('1900-05-01', '2015-05-01'))\n",
    "maymean1 = (maySST1*weights1).mean({'lon', 'lat'})/weights1.mean() \n",
    "\n",
    "aprilmean1.time.data = maymean1.time.data\n",
    "\n",
    "CPTinitial = maymean1 - aprilmean1\n",
    "#print(CPTinitial)\n",
    "CPTstd = CPTinitial.std()\n",
    "CPTmean = CPTinitial.mean()\n",
    "CPTnew = (CPTinitial - CPTmean)/CPTstd\n",
    "\n",
    "print(\"CPT mean\", CPTmean)\n",
    "print(\"CPT std\", CPTstd)"
   ]
  },
  {
   "cell_type": "code",
   "execution_count": 259,
   "metadata": {},
   "outputs": [
    {
     "name": "stdout",
     "output_type": "stream",
     "text": [
      "<xarray.DataArray (time: 88)>\n",
      "array([ 0.413217, -1.412964,  0.18862 , -2.425838, -3.147323, -1.376669,\n",
      "       -0.267006,  0.612157, -0.192166, -0.676915,  0.821784, -1.016349,\n",
      "        0.295765,  3.117042,  0.491891, -0.238895,  0.157547,  0.023138,\n",
      "       -0.499815,  0.83123 ,  0.626021,  0.885561,  0.130674, -0.307108,\n",
      "        1.194109,  0.664761, -0.931261, -1.636097, -0.591374, -0.533841,\n",
      "        1.510118,  0.551406,  1.524788,  0.120483,  0.776971, -1.789856,\n",
      "        1.148034,  0.173274, -0.014265, -0.10438 , -0.744044,  0.688941,\n",
      "       -0.173456,  1.24826 ,  1.372423, -0.897227,  1.586309, -0.7768  ,\n",
      "       -0.347138,  1.005534, -0.708128,  0.772665,  0.725804, -0.292203,\n",
      "       -0.484095,  0.277428, -0.823857,  1.761318, -0.940902, -0.196139,\n",
      "       -0.882469, -0.715752,  0.15835 , -1.34445 , -1.414678, -0.159447,\n",
      "        0.913335,  1.914355, -0.691284,  0.222586, -0.113775, -0.125853,\n",
      "       -1.123544, -1.491947,  0.978121,  0.060592,  0.453439, -1.429334,\n",
      "        0.762192,  0.085753,  0.938102, -0.149568,  0.747719, -0.091073,\n",
      "       -0.089962,  0.901137,  0.39961 , -0.863321], dtype=float32)\n",
      "Coordinates:\n",
      "  * time     (time) datetime64[ns] 1900-05-01 1901-05-01 ... 2015-05-01\n"
     ]
    }
   ],
   "source": [
    "print(CPTnew)"
   ]
  },
  {
   "cell_type": "code",
   "execution_count": 260,
   "metadata": {},
   "outputs": [
    {
     "name": "stdout",
     "output_type": "stream",
     "text": [
      "PSH mean <xarray.DataArray ()>\n",
      "array(-2.801919)\n",
      "PSH std <xarray.DataArray ()>\n",
      "array(118.435752)\n"
     ]
    }
   ],
   "source": [
    "#mega-ENSOpredictor\n",
    "#(20-45s, 145-80w)\n",
    "#(15-35n, 170-125w)\n",
    "#(0-20n, 40-120e)\n",
    "\n",
    "#NPcalculation\n",
    "latrange1 = slp_anom.sel(lat = slice(-45, -20)).lat\n",
    "weights1 = np.cos(latrange1*np.pi/180)\n",
    "\n",
    "marchdata1 = slp_anom.sel(lat = slice(-45, -20), lon = slice(215, 260), time = (slp_anom['time.month']==3))\n",
    "marchSLP1 = marchdata1.sel(time=slice('1900-03-01','2015-03-01'))\n",
    "marchmean1 = ((marchSLP1*weights1).mean({'lon', 'lat'})/weights1.mean())\n",
    "\n",
    "aprildata1 = slp_anom.sel(lat = slice(-45, -20), lon = slice(215, 260), time = (slp_anom['time.month']==4))\n",
    "aprilSLP1 = aprildata1.sel(time=slice('1900-04-01','2015-04-01'))\n",
    "aprilmean1 = ((aprilSLP1*weights1).mean({'lon', 'lat'})/weights1.mean())\n",
    "\n",
    "maydata1 = slp_anom.sel(lat = slice(-45, -20), lon = slice(215, 260), time = (slp_anom['time.month']==5))\n",
    "maySLP1 = maydata1.sel(time = slice('1900-05-01', '2015-05-01'))\n",
    "maymean1 = ((maySLP1*weights1).mean({'lon', 'lat'})/weights1.mean())\n",
    "\n",
    "marchmean1.time.data = maymean1.time.data\n",
    "aprilmean1.time.data = maymean1.time.data\n",
    "NP = ((marchmean1 + aprilmean1 + maymean1)/3)\n",
    "\n",
    "#SPcalculation\n",
    "latrange2 = slp_anom.sel(lat = slice(15, 35)).lat\n",
    "weights2 = np.cos(latrange2*np.pi/180)\n",
    "\n",
    "marchdata2 = slp_anom.sel(lat = slice(15, 35), lon = slice(190, 235), time = (slp_anom['time.month']==3))\n",
    "marchSLP2 = marchdata2.sel(time = slice('1900-03-01', '2015-03-01'))\n",
    "marchmean2 = ((marchSLP2*weights2).mean({'lon', 'lat'})/weights2.mean())\n",
    "\n",
    "aprildata2 = slp_anom.sel(lat = slice(15, 35), lon = slice(190, 235), time = (slp_anom['time.month']==4))\n",
    "aprilSLP2 = aprildata2.sel(time = slice('1900-04-01', '2015-04-01'))\n",
    "aprilmean2 = ((aprilSLP2*weights2).mean({'lon', 'lat'})/weights2.mean())\n",
    "\n",
    "maydata2 = slp_anom.sel(lat = slice(15, 35), lon = slice(190, 235), time = (slp_anom['time.month']==5))\n",
    "maySLP2 = maydata2.sel(time = slice('1900-05-01', '2015-05-01'))\n",
    "maymean2 = ((maySLP2*weights2).mean({'lon', 'lat'})/weights2.mean())\n",
    "\n",
    "marchmean2.time.data = maymean2.time.data\n",
    "aprilmean2.time.data = maymean2.time.data\n",
    "SP = ((marchmean2 + aprilmean2 + maymean2)/3)\n",
    "\n",
    "NParea = (25*weights1.mean() * 45)\n",
    "SParea = (20*weights2.mean() * 45)\n",
    "Pacific = ((NP * NParea) + (SP * SParea))/(NParea + SParea)\n",
    "\n",
    "#EQindia\n",
    "latrange3 = slp_anom.sel(lat = slice(0, 20)).lat\n",
    "weights3 = np.cos(latrange3*np.pi/180)\n",
    "\n",
    "marchdata3 = slp_anom.sel(lat = slice(0, 20), lon = slice(40, 120), time = (slp_anom['time.month']==3))\n",
    "marchSLP3 = marchdata3.sel(time = slice('1900-03-01', '2015-03-01'))\n",
    "marchmean3 = (marchSLP3*weights3).mean({'lon', 'lat'})/weights3.mean()\n",
    "\n",
    "aprildata3 = slp_anom.sel(lat = slice(0, 20), lon = slice(40, 120), time = (slp_anom['time.month']==4))\n",
    "aprilSLP3 = aprildata3.sel(time = slice('1900-04-01', '2015-04-01'))\n",
    "aprilmean3 = (aprilSLP3*weights3).mean({'lon', 'lat'})/weights3.mean()\n",
    "\n",
    "maydata3 = slp_anom.sel(lat = slice(0, 20), lon = slice(40, 120), time = (slp_anom['time.month']==5))\n",
    "maySLP3 = maydata3.sel(time = slice('1900-05-01', '2015-05-01'))\n",
    "maymean3 = (maySLP3*weights3).mean({'lon', 'lat'})/weights3.mean()\n",
    "\n",
    "marchmean3.time.data = maymean3.time.data\n",
    "aprilmean3.time.data = maymean3.time.data\n",
    "\n",
    "EQindia = (marchmean3 + aprilmean3 + maymean3)/3\n",
    "\n",
    "PSHinitial = Pacific - EQindia\n",
    "#print(PSHinitial)\n",
    "PSHstd = PSHinitial.std()\n",
    "PSHmean = PSHinitial.mean()\n",
    "PSHnew = (PSHinitial - PSHmean)/PSHstd\n",
    "\n",
    "print(\"PSH mean\", PSHmean)\n",
    "print(\"PSH std\", PSHstd)"
   ]
  },
  {
   "cell_type": "code",
   "execution_count": 261,
   "metadata": {},
   "outputs": [
    {
     "name": "stdout",
     "output_type": "stream",
     "text": [
      "<xarray.DataArray (time: 88)>\n",
      "array([-1.120807,  0.084838, -0.936084, -0.07203 , -2.295266, -1.09368 ,\n",
      "       -2.722701, -0.054504, -0.156472, -1.526965, -0.036367, -2.388385,\n",
      "       -2.130179,  1.50914 , -0.295717, -0.842546, -0.155473, -0.190177,\n",
      "        0.158499,  0.254744, -1.251174,  0.93433 , -0.076241, -0.334943,\n",
      "       -0.63977 ,  0.327329,  0.012084,  0.217266,  0.866063,  1.934424,\n",
      "        0.306923,  0.440904,  1.279344, -0.274565,  0.949652,  1.621221,\n",
      "        1.022924, -0.11969 , -0.7157  , -1.186119,  0.127887, -0.343703,\n",
      "       -0.353022,  1.42855 , -0.687498, -1.083813,  1.393163, -0.298864,\n",
      "        0.730745, -0.11504 ,  0.143986,  0.887824,  0.92995 ,  0.739796,\n",
      "        0.60647 ,  1.416272,  0.546871,  0.287919, -0.999398, -0.394444,\n",
      "       -0.546977,  1.286055,  1.302056, -0.220975, -1.264624,  1.266578,\n",
      "        0.408681,  0.401241, -0.292271, -1.523896, -0.077083, -0.843714,\n",
      "        0.315159, -2.118562,  0.137302,  2.203169,  1.114905, -0.077155,\n",
      "        0.237667, -0.786676,  0.451601,  1.258952,  0.08552 ,  1.224501,\n",
      "        0.855068,  0.193321, -0.005347, -1.252278])\n",
      "Coordinates:\n",
      "  * time     (time) datetime64[ns] 1900-05-01 1901-05-01 ... 2015-05-01\n",
      "    month    (time) float64 5.0 5.0 5.0 5.0 5.0 5.0 ... 5.0 5.0 5.0 5.0 5.0 5.0\n"
     ]
    }
   ],
   "source": [
    "print(PSHnew)"
   ]
  },
  {
   "cell_type": "code",
   "execution_count": 262,
   "metadata": {},
   "outputs": [
    {
     "name": "stdout",
     "output_type": "stream",
     "text": [
      "MSE mean <xarray.DataArray ()>\n",
      "array(9.087073)\n",
      "MSE std <xarray.DataArray ()>\n",
      "array(1370.256777)\n"
     ]
    }
   ],
   "source": [
    "#MSE\n",
    "#(0-25n, 45-70e)\n",
    "#(20-40n, 70-90e)\n",
    "#(45-70n, 95e-150w)\n",
    "\n",
    "#MSEleft\n",
    "latrange1 = mse_anom.sel(lat = slice(0, 25)).lat\n",
    "weights1 = np.cos(latrange1*np.pi/180)\n",
    "\n",
    "marchdata1 = mse_anom.sel(lat = slice(0, 25), lon = slice(45, 70), time = (mse_anom['time.month']==3))\n",
    "marchMSE1 = marchdata1.sel(time = slice('1900-03-01', '2015-03-01'))\n",
    "marchmean1 = (marchMSE1*weights1).mean({'lon', 'lat'})/weights1.mean()\n",
    "\n",
    "maydata1 = mse_anom.sel(lat = slice(0, 25), lon = slice(45, 70), time = (mse_anom['time.month']==5))\n",
    "mayMSE1 = maydata1.sel(time = slice('1900-05-01', '2015-05-01'))\n",
    "maymean1 = (mayMSE1*weights1).mean({'lon', 'lat'})/weights1.mean()\n",
    "\n",
    "marchmean1.time.data = maymean1.time.data\n",
    "MSEleft = maymean1 - marchmean1\n",
    "\n",
    "#MSEright\n",
    "latrange2 = mse_anom.sel(lat = slice(20, 40)).lat\n",
    "weights2 = np.cos(latrange2*np.pi/180)\n",
    "\n",
    "marchdata2 = mse_anom.sel(lat = slice(20, 40), lon = slice(70, 90), time = (mse_anom['time.month']==3))\n",
    "marchMSE2 = marchdata2.sel(time = slice('1900-03-01', '2015-03-01'))\n",
    "marchmean2 = ((marchMSE2*weights2).mean({'lon', 'lat'})/weights2.mean())\n",
    "\n",
    "maydata2 = mse_anom.sel(lat = slice(20, 40), lon = slice(70, 90), time = (mse_anom['time.month']==5))\n",
    "mayMSE2 = maydata2.sel(time = slice('1900-05-01', '2015-05-01'))\n",
    "maymean2 = ((mayMSE2*weights2).mean({'lon', 'lat'})/weights2.mean())\n",
    "\n",
    "marchmean2.time.data = maymean2.time.data\n",
    "MSEright = maymean2 - marchmean2\n",
    "\n",
    "#MSERussia\n",
    "latrange3 = mse_anom.sel(lat = slice(45, 70)).lat\n",
    "weights3 = np.cos(latrange3*np.pi/180)\n",
    "\n",
    "marchdata3 = mse_anom.sel(lat = slice(45, 70), lon = slice(95, 210), time = (mse_anom['time.month']==3))\n",
    "marchMSE3 = marchdata3.sel(time = slice('1900-03-01', '2015-03-01'))\n",
    "marchmean3 = (marchMSE3*weights3).mean({'lon', 'lat'})/weights3.mean()\n",
    "\n",
    "maydata3 = mse_anom.sel(lat = slice(45, 70), lon = slice(95, 210), time = (mse_anom['time.month']==5))\n",
    "mayMSE3 = maydata3.sel(time = slice('1900-05-01', '2015-05-01'))\n",
    "maymean3 = (mayMSE3*weights3).mean({'lon', 'lat'})/weights3.mean()\n",
    "\n",
    "marchmean3.time.data = maymean3.time.data\n",
    "MSErussia = maymean3 - marchmean3\n",
    "\n",
    "Leftarea = (25*weights1.mean() * 25)\n",
    "Rightarea = (20*weights2.mean() * 20)\n",
    "Russiaarea = (25*weights2.mean() * 15)\n",
    "MSEinitial = ((MSEleft * Leftarea) + (MSEright * Rightarea) + (MSErussia * Russiaarea))/(Leftarea + Rightarea + Russiaarea)\n",
    "#print(MSEinitial)\n",
    "MSEstd = MSEinitial.std()\n",
    "MSEmean = MSEinitial.mean()\n",
    "MSEnew = (MSEinitial - MSEmean)/MSEstd\n",
    "\n",
    "print(\"MSE mean\", MSEmean)\n",
    "print(\"MSE std\", MSEstd)"
   ]
  },
  {
   "cell_type": "code",
   "execution_count": 263,
   "metadata": {},
   "outputs": [
    {
     "name": "stdout",
     "output_type": "stream",
     "text": [
      "<xarray.DataArray (time: 88)>\n",
      "array([-1.246368e+00, -7.325898e-01, -1.444614e-01, -1.446603e+00,\n",
      "       -9.845979e-02,  1.033595e-01,  2.258152e-01, -7.907559e-04,\n",
      "       -3.919780e-01, -1.098968e+00,  2.915593e-01,  2.563477e-01,\n",
      "       -1.453624e+00, -1.479712e+00, -1.504591e-01, -1.764262e+00,\n",
      "       -2.432535e-01, -1.378350e+00, -5.222729e-01,  4.098937e-01,\n",
      "       -8.464924e-01,  1.497652e+00,  1.930288e-01, -6.872415e-01,\n",
      "       -8.467378e-01,  6.587007e-01, -9.095951e-01,  1.098199e+00,\n",
      "        1.337829e+00,  1.021600e+00, -4.728730e-01,  2.426730e-02,\n",
      "       -4.039122e-01, -1.621664e+00, -1.778630e-01,  1.189668e+00,\n",
      "        1.715331e+00,  1.257968e-01,  2.179566e-01, -2.083191e-01,\n",
      "       -1.827680e-01, -8.147489e-01, -8.316997e-01, -8.543665e-01,\n",
      "        3.245640e-01, -5.403659e-01, -5.716350e-01, -2.140544e-01,\n",
      "       -8.750809e-01, -2.013457e+00, -1.648156e-01,  7.740328e-01,\n",
      "        1.760908e+00,  1.473913e+00, -7.868873e-02,  8.494273e-01,\n",
      "        3.659954e-01,  9.182117e-01, -5.657184e-01, -3.069613e-01,\n",
      "       -8.617516e-01,  5.173720e-01, -2.255668e-02,  6.356538e-01,\n",
      "       -1.146882e+00,  5.944640e-01, -5.697084e-01,  1.242466e+00,\n",
      "       -2.249002e-01,  5.026411e-01,  2.933262e-01, -1.794453e-02,\n",
      "       -1.439153e+00, -1.408856e+00, -2.517624e-01,  3.500087e+00,\n",
      "        1.868701e+00,  3.034266e-01,  5.608907e-01, -1.373228e+00,\n",
      "        1.029700e+00,  9.045832e-01,  4.344841e-01,  1.354733e+00,\n",
      "        2.770814e+00,  7.034410e-01, -1.879616e-01, -2.049263e-01])\n",
      "Coordinates:\n",
      "  * time     (time) datetime64[ns] 1900-05-01 1901-05-01 ... 2015-05-01\n"
     ]
    }
   ],
   "source": [
    "print(MSEnew)"
   ]
  },
  {
   "cell_type": "markdown",
   "metadata": {},
   "source": [
    "# Cross Validation"
   ]
  },
  {
   "cell_type": "code",
   "execution_count": 264,
   "metadata": {},
   "outputs": [],
   "source": [
    "from sklearn.linear_model import LinearRegression\n",
    "from sklearn.model_selection import cross_validate"
   ]
  },
  {
   "cell_type": "code",
   "execution_count": 265,
   "metadata": {},
   "outputs": [],
   "source": [
    "Ydata = (precip_jjas - precip_jjas.mean())/precip_jjas.std()\n",
    "Xtrain = []\n",
    "for x in range(88):\n",
    "    Xtrain.append(float(EPTnew[x]))\n",
    "    Xtrain.append(float(CPTnew[x]))\n",
    "    Xtrain.append(float(PSHnew[x]))\n",
    "    Xtrain.append(float(MSEnew[x]))\n",
    "Xtrainarray = np.array([Xtrain])\n",
    "Xdata = Xtrainarray.reshape(-1,4)"
   ]
  },
  {
   "cell_type": "code",
   "execution_count": 266,
   "metadata": {},
   "outputs": [
    {
     "name": "stdout",
     "output_type": "stream",
     "text": [
      "EPT new 0.47599223\n",
      "CPT new 0.43166533\n",
      "PSH new 0.38555761172239345\n",
      "MSE new 0.3008374828112683\n"
     ]
    }
   ],
   "source": [
    "EPTfit = np.array(EPTnew).reshape(-1, 1)\n",
    "CPTfit = np.array(CPTnew).reshape(-1, 1)\n",
    "PSHfit = np.array(PSHnew).reshape(-1, 1)\n",
    "MSEfit = np.array(MSEnew).reshape(-1, 1)\n",
    "\n",
    "lnregressor = LinearRegression()\n",
    "lnregressor.fit(EPTfit, Ydata)\n",
    "print(\"EPT new\", lnregressor.coef_[0])\n",
    "lnregressor.fit(CPTfit, Ydata)\n",
    "print(\"CPT new\", lnregressor.coef_[0])\n",
    "lnregressor.fit(PSHfit, Ydata)\n",
    "print(\"PSH new\", lnregressor.coef_[0])\n",
    "lnregressor.fit(MSEfit, Ydata)\n",
    "print(\"MSE new\", lnregressor.coef_[0])"
   ]
  },
  {
   "cell_type": "code",
   "execution_count": 267,
   "metadata": {},
   "outputs": [
    {
     "name": "stderr",
     "output_type": "stream",
     "text": [
      "/global/home/users/medhap02/.conda/envs/xarrayenv2/lib/python3.7/site-packages/sklearn/metrics/regression.py:543: UndefinedMetricWarning: R^2 score is not well-defined with less than two samples.\n",
      "  warnings.warn(msg, UndefinedMetricWarning)\n",
      "/global/home/users/medhap02/.conda/envs/xarrayenv2/lib/python3.7/site-packages/sklearn/metrics/regression.py:543: UndefinedMetricWarning: R^2 score is not well-defined with less than two samples.\n",
      "  warnings.warn(msg, UndefinedMetricWarning)\n",
      "/global/home/users/medhap02/.conda/envs/xarrayenv2/lib/python3.7/site-packages/sklearn/metrics/regression.py:543: UndefinedMetricWarning: R^2 score is not well-defined with less than two samples.\n",
      "  warnings.warn(msg, UndefinedMetricWarning)\n",
      "/global/home/users/medhap02/.conda/envs/xarrayenv2/lib/python3.7/site-packages/sklearn/metrics/regression.py:543: UndefinedMetricWarning: R^2 score is not well-defined with less than two samples.\n",
      "  warnings.warn(msg, UndefinedMetricWarning)\n",
      "/global/home/users/medhap02/.conda/envs/xarrayenv2/lib/python3.7/site-packages/sklearn/metrics/regression.py:543: UndefinedMetricWarning: R^2 score is not well-defined with less than two samples.\n",
      "  warnings.warn(msg, UndefinedMetricWarning)\n",
      "/global/home/users/medhap02/.conda/envs/xarrayenv2/lib/python3.7/site-packages/sklearn/metrics/regression.py:543: UndefinedMetricWarning: R^2 score is not well-defined with less than two samples.\n",
      "  warnings.warn(msg, UndefinedMetricWarning)\n",
      "/global/home/users/medhap02/.conda/envs/xarrayenv2/lib/python3.7/site-packages/sklearn/metrics/regression.py:543: UndefinedMetricWarning: R^2 score is not well-defined with less than two samples.\n",
      "  warnings.warn(msg, UndefinedMetricWarning)\n",
      "/global/home/users/medhap02/.conda/envs/xarrayenv2/lib/python3.7/site-packages/sklearn/metrics/regression.py:543: UndefinedMetricWarning: R^2 score is not well-defined with less than two samples.\n",
      "  warnings.warn(msg, UndefinedMetricWarning)\n",
      "/global/home/users/medhap02/.conda/envs/xarrayenv2/lib/python3.7/site-packages/sklearn/metrics/regression.py:543: UndefinedMetricWarning: R^2 score is not well-defined with less than two samples.\n",
      "  warnings.warn(msg, UndefinedMetricWarning)\n",
      "/global/home/users/medhap02/.conda/envs/xarrayenv2/lib/python3.7/site-packages/sklearn/metrics/regression.py:543: UndefinedMetricWarning: R^2 score is not well-defined with less than two samples.\n",
      "  warnings.warn(msg, UndefinedMetricWarning)\n",
      "/global/home/users/medhap02/.conda/envs/xarrayenv2/lib/python3.7/site-packages/sklearn/metrics/regression.py:543: UndefinedMetricWarning: R^2 score is not well-defined with less than two samples.\n",
      "  warnings.warn(msg, UndefinedMetricWarning)\n",
      "/global/home/users/medhap02/.conda/envs/xarrayenv2/lib/python3.7/site-packages/sklearn/metrics/regression.py:543: UndefinedMetricWarning: R^2 score is not well-defined with less than two samples.\n",
      "  warnings.warn(msg, UndefinedMetricWarning)\n",
      "/global/home/users/medhap02/.conda/envs/xarrayenv2/lib/python3.7/site-packages/sklearn/metrics/regression.py:543: UndefinedMetricWarning: R^2 score is not well-defined with less than two samples.\n",
      "  warnings.warn(msg, UndefinedMetricWarning)\n",
      "/global/home/users/medhap02/.conda/envs/xarrayenv2/lib/python3.7/site-packages/sklearn/metrics/regression.py:543: UndefinedMetricWarning: R^2 score is not well-defined with less than two samples.\n",
      "  warnings.warn(msg, UndefinedMetricWarning)\n",
      "/global/home/users/medhap02/.conda/envs/xarrayenv2/lib/python3.7/site-packages/sklearn/metrics/regression.py:543: UndefinedMetricWarning: R^2 score is not well-defined with less than two samples.\n",
      "  warnings.warn(msg, UndefinedMetricWarning)\n",
      "/global/home/users/medhap02/.conda/envs/xarrayenv2/lib/python3.7/site-packages/sklearn/metrics/regression.py:543: UndefinedMetricWarning: R^2 score is not well-defined with less than two samples.\n",
      "  warnings.warn(msg, UndefinedMetricWarning)\n",
      "/global/home/users/medhap02/.conda/envs/xarrayenv2/lib/python3.7/site-packages/sklearn/metrics/regression.py:543: UndefinedMetricWarning: R^2 score is not well-defined with less than two samples.\n",
      "  warnings.warn(msg, UndefinedMetricWarning)\n",
      "/global/home/users/medhap02/.conda/envs/xarrayenv2/lib/python3.7/site-packages/sklearn/metrics/regression.py:543: UndefinedMetricWarning: R^2 score is not well-defined with less than two samples.\n",
      "  warnings.warn(msg, UndefinedMetricWarning)\n",
      "/global/home/users/medhap02/.conda/envs/xarrayenv2/lib/python3.7/site-packages/sklearn/metrics/regression.py:543: UndefinedMetricWarning: R^2 score is not well-defined with less than two samples.\n",
      "  warnings.warn(msg, UndefinedMetricWarning)\n",
      "/global/home/users/medhap02/.conda/envs/xarrayenv2/lib/python3.7/site-packages/sklearn/metrics/regression.py:543: UndefinedMetricWarning: R^2 score is not well-defined with less than two samples.\n",
      "  warnings.warn(msg, UndefinedMetricWarning)\n",
      "/global/home/users/medhap02/.conda/envs/xarrayenv2/lib/python3.7/site-packages/sklearn/metrics/regression.py:543: UndefinedMetricWarning: R^2 score is not well-defined with less than two samples.\n",
      "  warnings.warn(msg, UndefinedMetricWarning)\n",
      "/global/home/users/medhap02/.conda/envs/xarrayenv2/lib/python3.7/site-packages/sklearn/metrics/regression.py:543: UndefinedMetricWarning: R^2 score is not well-defined with less than two samples.\n",
      "  warnings.warn(msg, UndefinedMetricWarning)\n",
      "/global/home/users/medhap02/.conda/envs/xarrayenv2/lib/python3.7/site-packages/sklearn/metrics/regression.py:543: UndefinedMetricWarning: R^2 score is not well-defined with less than two samples.\n",
      "  warnings.warn(msg, UndefinedMetricWarning)\n",
      "/global/home/users/medhap02/.conda/envs/xarrayenv2/lib/python3.7/site-packages/sklearn/metrics/regression.py:543: UndefinedMetricWarning: R^2 score is not well-defined with less than two samples.\n",
      "  warnings.warn(msg, UndefinedMetricWarning)\n",
      "/global/home/users/medhap02/.conda/envs/xarrayenv2/lib/python3.7/site-packages/sklearn/metrics/regression.py:543: UndefinedMetricWarning: R^2 score is not well-defined with less than two samples.\n",
      "  warnings.warn(msg, UndefinedMetricWarning)\n",
      "/global/home/users/medhap02/.conda/envs/xarrayenv2/lib/python3.7/site-packages/sklearn/metrics/regression.py:543: UndefinedMetricWarning: R^2 score is not well-defined with less than two samples.\n",
      "  warnings.warn(msg, UndefinedMetricWarning)\n",
      "/global/home/users/medhap02/.conda/envs/xarrayenv2/lib/python3.7/site-packages/sklearn/metrics/regression.py:543: UndefinedMetricWarning: R^2 score is not well-defined with less than two samples.\n",
      "  warnings.warn(msg, UndefinedMetricWarning)\n",
      "/global/home/users/medhap02/.conda/envs/xarrayenv2/lib/python3.7/site-packages/sklearn/metrics/regression.py:543: UndefinedMetricWarning: R^2 score is not well-defined with less than two samples.\n",
      "  warnings.warn(msg, UndefinedMetricWarning)\n",
      "/global/home/users/medhap02/.conda/envs/xarrayenv2/lib/python3.7/site-packages/sklearn/metrics/regression.py:543: UndefinedMetricWarning: R^2 score is not well-defined with less than two samples.\n",
      "  warnings.warn(msg, UndefinedMetricWarning)\n",
      "/global/home/users/medhap02/.conda/envs/xarrayenv2/lib/python3.7/site-packages/sklearn/metrics/regression.py:543: UndefinedMetricWarning: R^2 score is not well-defined with less than two samples.\n",
      "  warnings.warn(msg, UndefinedMetricWarning)\n",
      "/global/home/users/medhap02/.conda/envs/xarrayenv2/lib/python3.7/site-packages/sklearn/metrics/regression.py:543: UndefinedMetricWarning: R^2 score is not well-defined with less than two samples.\n",
      "  warnings.warn(msg, UndefinedMetricWarning)\n",
      "/global/home/users/medhap02/.conda/envs/xarrayenv2/lib/python3.7/site-packages/sklearn/metrics/regression.py:543: UndefinedMetricWarning: R^2 score is not well-defined with less than two samples.\n",
      "  warnings.warn(msg, UndefinedMetricWarning)\n",
      "/global/home/users/medhap02/.conda/envs/xarrayenv2/lib/python3.7/site-packages/sklearn/metrics/regression.py:543: UndefinedMetricWarning: R^2 score is not well-defined with less than two samples.\n",
      "  warnings.warn(msg, UndefinedMetricWarning)\n",
      "/global/home/users/medhap02/.conda/envs/xarrayenv2/lib/python3.7/site-packages/sklearn/metrics/regression.py:543: UndefinedMetricWarning: R^2 score is not well-defined with less than two samples.\n",
      "  warnings.warn(msg, UndefinedMetricWarning)\n",
      "/global/home/users/medhap02/.conda/envs/xarrayenv2/lib/python3.7/site-packages/sklearn/metrics/regression.py:543: UndefinedMetricWarning: R^2 score is not well-defined with less than two samples.\n",
      "  warnings.warn(msg, UndefinedMetricWarning)\n",
      "/global/home/users/medhap02/.conda/envs/xarrayenv2/lib/python3.7/site-packages/sklearn/metrics/regression.py:543: UndefinedMetricWarning: R^2 score is not well-defined with less than two samples.\n",
      "  warnings.warn(msg, UndefinedMetricWarning)\n",
      "/global/home/users/medhap02/.conda/envs/xarrayenv2/lib/python3.7/site-packages/sklearn/metrics/regression.py:543: UndefinedMetricWarning: R^2 score is not well-defined with less than two samples.\n",
      "  warnings.warn(msg, UndefinedMetricWarning)\n",
      "/global/home/users/medhap02/.conda/envs/xarrayenv2/lib/python3.7/site-packages/sklearn/metrics/regression.py:543: UndefinedMetricWarning: R^2 score is not well-defined with less than two samples.\n",
      "  warnings.warn(msg, UndefinedMetricWarning)\n",
      "/global/home/users/medhap02/.conda/envs/xarrayenv2/lib/python3.7/site-packages/sklearn/metrics/regression.py:543: UndefinedMetricWarning: R^2 score is not well-defined with less than two samples.\n",
      "  warnings.warn(msg, UndefinedMetricWarning)\n",
      "/global/home/users/medhap02/.conda/envs/xarrayenv2/lib/python3.7/site-packages/sklearn/metrics/regression.py:543: UndefinedMetricWarning: R^2 score is not well-defined with less than two samples.\n",
      "  warnings.warn(msg, UndefinedMetricWarning)\n",
      "/global/home/users/medhap02/.conda/envs/xarrayenv2/lib/python3.7/site-packages/sklearn/metrics/regression.py:543: UndefinedMetricWarning: R^2 score is not well-defined with less than two samples.\n",
      "  warnings.warn(msg, UndefinedMetricWarning)\n",
      "/global/home/users/medhap02/.conda/envs/xarrayenv2/lib/python3.7/site-packages/sklearn/metrics/regression.py:543: UndefinedMetricWarning: R^2 score is not well-defined with less than two samples.\n",
      "  warnings.warn(msg, UndefinedMetricWarning)\n",
      "/global/home/users/medhap02/.conda/envs/xarrayenv2/lib/python3.7/site-packages/sklearn/metrics/regression.py:543: UndefinedMetricWarning: R^2 score is not well-defined with less than two samples.\n",
      "  warnings.warn(msg, UndefinedMetricWarning)\n",
      "/global/home/users/medhap02/.conda/envs/xarrayenv2/lib/python3.7/site-packages/sklearn/metrics/regression.py:543: UndefinedMetricWarning: R^2 score is not well-defined with less than two samples.\n",
      "  warnings.warn(msg, UndefinedMetricWarning)\n",
      "/global/home/users/medhap02/.conda/envs/xarrayenv2/lib/python3.7/site-packages/sklearn/metrics/regression.py:543: UndefinedMetricWarning: R^2 score is not well-defined with less than two samples.\n",
      "  warnings.warn(msg, UndefinedMetricWarning)\n",
      "/global/home/users/medhap02/.conda/envs/xarrayenv2/lib/python3.7/site-packages/sklearn/metrics/regression.py:543: UndefinedMetricWarning: R^2 score is not well-defined with less than two samples.\n",
      "  warnings.warn(msg, UndefinedMetricWarning)\n",
      "/global/home/users/medhap02/.conda/envs/xarrayenv2/lib/python3.7/site-packages/sklearn/metrics/regression.py:543: UndefinedMetricWarning: R^2 score is not well-defined with less than two samples.\n",
      "  warnings.warn(msg, UndefinedMetricWarning)\n",
      "/global/home/users/medhap02/.conda/envs/xarrayenv2/lib/python3.7/site-packages/sklearn/metrics/regression.py:543: UndefinedMetricWarning: R^2 score is not well-defined with less than two samples.\n",
      "  warnings.warn(msg, UndefinedMetricWarning)\n",
      "/global/home/users/medhap02/.conda/envs/xarrayenv2/lib/python3.7/site-packages/sklearn/metrics/regression.py:543: UndefinedMetricWarning: R^2 score is not well-defined with less than two samples.\n",
      "  warnings.warn(msg, UndefinedMetricWarning)\n",
      "/global/home/users/medhap02/.conda/envs/xarrayenv2/lib/python3.7/site-packages/sklearn/metrics/regression.py:543: UndefinedMetricWarning: R^2 score is not well-defined with less than two samples.\n",
      "  warnings.warn(msg, UndefinedMetricWarning)\n",
      "/global/home/users/medhap02/.conda/envs/xarrayenv2/lib/python3.7/site-packages/sklearn/metrics/regression.py:543: UndefinedMetricWarning: R^2 score is not well-defined with less than two samples.\n",
      "  warnings.warn(msg, UndefinedMetricWarning)\n"
     ]
    },
    {
     "name": "stdout",
     "output_type": "stream",
     "text": [
      "Linear Regression [0.35725935 0.28980074 0.13677267 0.16154807]\n",
      "Cross Validation [0.35594071 0.28966278 0.13580538 0.16203228]\n"
     ]
    },
    {
     "name": "stderr",
     "output_type": "stream",
     "text": [
      "/global/home/users/medhap02/.conda/envs/xarrayenv2/lib/python3.7/site-packages/sklearn/metrics/regression.py:543: UndefinedMetricWarning: R^2 score is not well-defined with less than two samples.\n",
      "  warnings.warn(msg, UndefinedMetricWarning)\n",
      "/global/home/users/medhap02/.conda/envs/xarrayenv2/lib/python3.7/site-packages/sklearn/metrics/regression.py:543: UndefinedMetricWarning: R^2 score is not well-defined with less than two samples.\n",
      "  warnings.warn(msg, UndefinedMetricWarning)\n",
      "/global/home/users/medhap02/.conda/envs/xarrayenv2/lib/python3.7/site-packages/sklearn/metrics/regression.py:543: UndefinedMetricWarning: R^2 score is not well-defined with less than two samples.\n",
      "  warnings.warn(msg, UndefinedMetricWarning)\n",
      "/global/home/users/medhap02/.conda/envs/xarrayenv2/lib/python3.7/site-packages/sklearn/metrics/regression.py:543: UndefinedMetricWarning: R^2 score is not well-defined with less than two samples.\n",
      "  warnings.warn(msg, UndefinedMetricWarning)\n",
      "/global/home/users/medhap02/.conda/envs/xarrayenv2/lib/python3.7/site-packages/sklearn/metrics/regression.py:543: UndefinedMetricWarning: R^2 score is not well-defined with less than two samples.\n",
      "  warnings.warn(msg, UndefinedMetricWarning)\n",
      "/global/home/users/medhap02/.conda/envs/xarrayenv2/lib/python3.7/site-packages/sklearn/metrics/regression.py:543: UndefinedMetricWarning: R^2 score is not well-defined with less than two samples.\n",
      "  warnings.warn(msg, UndefinedMetricWarning)\n",
      "/global/home/users/medhap02/.conda/envs/xarrayenv2/lib/python3.7/site-packages/sklearn/metrics/regression.py:543: UndefinedMetricWarning: R^2 score is not well-defined with less than two samples.\n",
      "  warnings.warn(msg, UndefinedMetricWarning)\n",
      "/global/home/users/medhap02/.conda/envs/xarrayenv2/lib/python3.7/site-packages/sklearn/metrics/regression.py:543: UndefinedMetricWarning: R^2 score is not well-defined with less than two samples.\n",
      "  warnings.warn(msg, UndefinedMetricWarning)\n",
      "/global/home/users/medhap02/.conda/envs/xarrayenv2/lib/python3.7/site-packages/sklearn/metrics/regression.py:543: UndefinedMetricWarning: R^2 score is not well-defined with less than two samples.\n",
      "  warnings.warn(msg, UndefinedMetricWarning)\n",
      "/global/home/users/medhap02/.conda/envs/xarrayenv2/lib/python3.7/site-packages/sklearn/metrics/regression.py:543: UndefinedMetricWarning: R^2 score is not well-defined with less than two samples.\n",
      "  warnings.warn(msg, UndefinedMetricWarning)\n",
      "/global/home/users/medhap02/.conda/envs/xarrayenv2/lib/python3.7/site-packages/sklearn/metrics/regression.py:543: UndefinedMetricWarning: R^2 score is not well-defined with less than two samples.\n",
      "  warnings.warn(msg, UndefinedMetricWarning)\n",
      "/global/home/users/medhap02/.conda/envs/xarrayenv2/lib/python3.7/site-packages/sklearn/metrics/regression.py:543: UndefinedMetricWarning: R^2 score is not well-defined with less than two samples.\n",
      "  warnings.warn(msg, UndefinedMetricWarning)\n",
      "/global/home/users/medhap02/.conda/envs/xarrayenv2/lib/python3.7/site-packages/sklearn/metrics/regression.py:543: UndefinedMetricWarning: R^2 score is not well-defined with less than two samples.\n",
      "  warnings.warn(msg, UndefinedMetricWarning)\n",
      "/global/home/users/medhap02/.conda/envs/xarrayenv2/lib/python3.7/site-packages/sklearn/metrics/regression.py:543: UndefinedMetricWarning: R^2 score is not well-defined with less than two samples.\n",
      "  warnings.warn(msg, UndefinedMetricWarning)\n",
      "/global/home/users/medhap02/.conda/envs/xarrayenv2/lib/python3.7/site-packages/sklearn/metrics/regression.py:543: UndefinedMetricWarning: R^2 score is not well-defined with less than two samples.\n",
      "  warnings.warn(msg, UndefinedMetricWarning)\n",
      "/global/home/users/medhap02/.conda/envs/xarrayenv2/lib/python3.7/site-packages/sklearn/metrics/regression.py:543: UndefinedMetricWarning: R^2 score is not well-defined with less than two samples.\n",
      "  warnings.warn(msg, UndefinedMetricWarning)\n",
      "/global/home/users/medhap02/.conda/envs/xarrayenv2/lib/python3.7/site-packages/sklearn/metrics/regression.py:543: UndefinedMetricWarning: R^2 score is not well-defined with less than two samples.\n",
      "  warnings.warn(msg, UndefinedMetricWarning)\n",
      "/global/home/users/medhap02/.conda/envs/xarrayenv2/lib/python3.7/site-packages/sklearn/metrics/regression.py:543: UndefinedMetricWarning: R^2 score is not well-defined with less than two samples.\n",
      "  warnings.warn(msg, UndefinedMetricWarning)\n",
      "/global/home/users/medhap02/.conda/envs/xarrayenv2/lib/python3.7/site-packages/sklearn/metrics/regression.py:543: UndefinedMetricWarning: R^2 score is not well-defined with less than two samples.\n",
      "  warnings.warn(msg, UndefinedMetricWarning)\n",
      "/global/home/users/medhap02/.conda/envs/xarrayenv2/lib/python3.7/site-packages/sklearn/metrics/regression.py:543: UndefinedMetricWarning: R^2 score is not well-defined with less than two samples.\n",
      "  warnings.warn(msg, UndefinedMetricWarning)\n",
      "/global/home/users/medhap02/.conda/envs/xarrayenv2/lib/python3.7/site-packages/sklearn/metrics/regression.py:543: UndefinedMetricWarning: R^2 score is not well-defined with less than two samples.\n",
      "  warnings.warn(msg, UndefinedMetricWarning)\n",
      "/global/home/users/medhap02/.conda/envs/xarrayenv2/lib/python3.7/site-packages/sklearn/metrics/regression.py:543: UndefinedMetricWarning: R^2 score is not well-defined with less than two samples.\n",
      "  warnings.warn(msg, UndefinedMetricWarning)\n",
      "/global/home/users/medhap02/.conda/envs/xarrayenv2/lib/python3.7/site-packages/sklearn/metrics/regression.py:543: UndefinedMetricWarning: R^2 score is not well-defined with less than two samples.\n",
      "  warnings.warn(msg, UndefinedMetricWarning)\n",
      "/global/home/users/medhap02/.conda/envs/xarrayenv2/lib/python3.7/site-packages/sklearn/metrics/regression.py:543: UndefinedMetricWarning: R^2 score is not well-defined with less than two samples.\n",
      "  warnings.warn(msg, UndefinedMetricWarning)\n",
      "/global/home/users/medhap02/.conda/envs/xarrayenv2/lib/python3.7/site-packages/sklearn/metrics/regression.py:543: UndefinedMetricWarning: R^2 score is not well-defined with less than two samples.\n",
      "  warnings.warn(msg, UndefinedMetricWarning)\n",
      "/global/home/users/medhap02/.conda/envs/xarrayenv2/lib/python3.7/site-packages/sklearn/metrics/regression.py:543: UndefinedMetricWarning: R^2 score is not well-defined with less than two samples.\n",
      "  warnings.warn(msg, UndefinedMetricWarning)\n",
      "/global/home/users/medhap02/.conda/envs/xarrayenv2/lib/python3.7/site-packages/sklearn/metrics/regression.py:543: UndefinedMetricWarning: R^2 score is not well-defined with less than two samples.\n",
      "  warnings.warn(msg, UndefinedMetricWarning)\n",
      "/global/home/users/medhap02/.conda/envs/xarrayenv2/lib/python3.7/site-packages/sklearn/metrics/regression.py:543: UndefinedMetricWarning: R^2 score is not well-defined with less than two samples.\n",
      "  warnings.warn(msg, UndefinedMetricWarning)\n",
      "/global/home/users/medhap02/.conda/envs/xarrayenv2/lib/python3.7/site-packages/sklearn/metrics/regression.py:543: UndefinedMetricWarning: R^2 score is not well-defined with less than two samples.\n",
      "  warnings.warn(msg, UndefinedMetricWarning)\n",
      "/global/home/users/medhap02/.conda/envs/xarrayenv2/lib/python3.7/site-packages/sklearn/metrics/regression.py:543: UndefinedMetricWarning: R^2 score is not well-defined with less than two samples.\n",
      "  warnings.warn(msg, UndefinedMetricWarning)\n",
      "/global/home/users/medhap02/.conda/envs/xarrayenv2/lib/python3.7/site-packages/sklearn/metrics/regression.py:543: UndefinedMetricWarning: R^2 score is not well-defined with less than two samples.\n",
      "  warnings.warn(msg, UndefinedMetricWarning)\n",
      "/global/home/users/medhap02/.conda/envs/xarrayenv2/lib/python3.7/site-packages/sklearn/metrics/regression.py:543: UndefinedMetricWarning: R^2 score is not well-defined with less than two samples.\n",
      "  warnings.warn(msg, UndefinedMetricWarning)\n",
      "/global/home/users/medhap02/.conda/envs/xarrayenv2/lib/python3.7/site-packages/sklearn/metrics/regression.py:543: UndefinedMetricWarning: R^2 score is not well-defined with less than two samples.\n",
      "  warnings.warn(msg, UndefinedMetricWarning)\n",
      "/global/home/users/medhap02/.conda/envs/xarrayenv2/lib/python3.7/site-packages/sklearn/metrics/regression.py:543: UndefinedMetricWarning: R^2 score is not well-defined with less than two samples.\n",
      "  warnings.warn(msg, UndefinedMetricWarning)\n",
      "/global/home/users/medhap02/.conda/envs/xarrayenv2/lib/python3.7/site-packages/sklearn/metrics/regression.py:543: UndefinedMetricWarning: R^2 score is not well-defined with less than two samples.\n",
      "  warnings.warn(msg, UndefinedMetricWarning)\n"
     ]
    }
   ],
   "source": [
    "#simple linear regression\n",
    "regressor = LinearRegression()\n",
    "regressor.fit(Xdata, Ydata)\n",
    "\n",
    "#crossvalidation\n",
    "lmodel = LinearRegression()\n",
    "cv_results = cross_validate(lmodel, Xdata, Ydata, cv=87, return_estimator=True) \n",
    "\n",
    "EPTcoef = []\n",
    "CPTcoef = []\n",
    "PSHcoef = []\n",
    "MSEcoef = []\n",
    "\n",
    "for model in cv_results['estimator']:\n",
    "    EPTcoef.append(model.coef_[0])\n",
    "    CPTcoef.append(model.coef_[1])\n",
    "    PSHcoef.append(model.coef_[2])\n",
    "    MSEcoef.append(model.coef_[3])\n",
    "\n",
    "print(\"Linear Regression\", regressor.coef_)\n",
    "print(\"Cross Validation\", model.coef_) # the last model"
   ]
  },
  {
   "cell_type": "code",
   "execution_count": 268,
   "metadata": {},
   "outputs": [
    {
     "name": "stderr",
     "output_type": "stream",
     "text": [
      "/global/home/users/medhap02/.conda/envs/xarrayenv2/lib/python3.7/site-packages/ipykernel_launcher.py:29: FutureWarning: from_items is deprecated. Please use DataFrame.from_dict(dict(items), ...) instead. DataFrame.from_dict(OrderedDict(items)) may be used to preserve the key order.\n"
     ]
    },
    {
     "data": {
      "text/html": [
       "<div>\n",
       "<style scoped>\n",
       "    .dataframe tbody tr th:only-of-type {\n",
       "        vertical-align: middle;\n",
       "    }\n",
       "\n",
       "    .dataframe tbody tr th {\n",
       "        vertical-align: top;\n",
       "    }\n",
       "\n",
       "    .dataframe thead th {\n",
       "        text-align: right;\n",
       "    }\n",
       "</style>\n",
       "<table border=\"1\" class=\"dataframe\">\n",
       "  <thead>\n",
       "    <tr style=\"text-align: right;\">\n",
       "      <th></th>\n",
       "      <th>Standard Deviation</th>\n",
       "      <th>Mean</th>\n",
       "    </tr>\n",
       "  </thead>\n",
       "  <tbody>\n",
       "    <tr>\n",
       "      <th>EPT new</th>\n",
       "      <td>0.009551</td>\n",
       "      <td>0.357304</td>\n",
       "    </tr>\n",
       "    <tr>\n",
       "      <th>CPT new</th>\n",
       "      <td>0.010980</td>\n",
       "      <td>0.289780</td>\n",
       "    </tr>\n",
       "    <tr>\n",
       "      <th>PSH new</th>\n",
       "      <td>0.011570</td>\n",
       "      <td>0.136769</td>\n",
       "    </tr>\n",
       "    <tr>\n",
       "      <th>MSE new</th>\n",
       "      <td>0.011590</td>\n",
       "      <td>0.161671</td>\n",
       "    </tr>\n",
       "  </tbody>\n",
       "</table>\n",
       "</div>"
      ],
      "text/plain": [
       "         Standard Deviation      Mean\n",
       "EPT new            0.009551  0.357304\n",
       "CPT new            0.010980  0.289780\n",
       "PSH new            0.011570  0.136769\n",
       "MSE new            0.011590  0.161671"
      ]
     },
     "execution_count": 268,
     "metadata": {},
     "output_type": "execute_result"
    }
   ],
   "source": [
    "EPTregressionstd = np.std(EPTcoef)\n",
    "CPTregressionstd = np.std(CPTcoef)\n",
    "PSHregressionstd = np.std(PSHcoef)\n",
    "MSEregressionstd = np.std(MSEcoef)\n",
    "\n",
    "EPTregressionmean = np.mean(EPTcoef)\n",
    "CPTregressionmean = np.mean(CPTcoef)\n",
    "PSHregressionmean = np.mean(PSHcoef)\n",
    "MSEregressionmean = np.mean(MSEcoef)\n",
    "\n",
    "EPTmodel = []\n",
    "CPTmodel = []\n",
    "PSHmodel = []\n",
    "MSEmodel = []\n",
    "\n",
    "EPTmodel.append(EPTregressionstd)\n",
    "EPTmodel.append(EPTregressionmean)\n",
    "\n",
    "CPTmodel.append(CPTregressionstd)\n",
    "CPTmodel.append(CPTregressionmean)\n",
    "\n",
    "PSHmodel.append(PSHregressionstd)\n",
    "PSHmodel.append(PSHregressionmean)\n",
    "\n",
    "MSEmodel.append(MSEregressionstd)\n",
    "MSEmodel.append(MSEregressionmean)\n",
    "\n",
    "#mean might not mean anything since data has been standardized\n",
    "pd.DataFrame.from_items([('EPT new', EPTmodel), ('CPT new', CPTmodel), ('PSH new', PSHmodel), ('MSE new', MSEmodel)], orient='index', columns=['Standard Deviation', 'Mean'])"
   ]
  },
  {
   "cell_type": "code",
   "execution_count": 269,
   "metadata": {},
   "outputs": [
    {
     "data": {
      "image/png": "[encoded data removed]",
      "text/plain": [
       "<Figure size 1008x576 with 1 Axes>"
      ]
     },
     "metadata": {},
     "output_type": "display_data"
    },
    {
     "name": "stderr",
     "output_type": "stream",
     "text": [
      "/global/home/users/medhap02/.conda/envs/xarrayenv2/lib/python3.7/site-packages/ipykernel_launcher.py:18: FutureWarning: from_items is deprecated. Please use DataFrame.from_dict(dict(items), ...) instead. DataFrame.from_dict(OrderedDict(items)) may be used to preserve the key order.\n"
     ]
    },
    {
     "data": {
      "text/html": [
       "<div>\n",
       "<style scoped>\n",
       "    .dataframe tbody tr th:only-of-type {\n",
       "        vertical-align: middle;\n",
       "    }\n",
       "\n",
       "    .dataframe tbody tr th {\n",
       "        vertical-align: top;\n",
       "    }\n",
       "\n",
       "    .dataframe thead th {\n",
       "        text-align: right;\n",
       "    }\n",
       "</style>\n",
       "<table border=\"1\" class=\"dataframe\">\n",
       "  <thead>\n",
       "    <tr style=\"text-align: right;\">\n",
       "      <th></th>\n",
       "      <th>Standard Deviation</th>\n",
       "      <th>Mean</th>\n",
       "    </tr>\n",
       "  </thead>\n",
       "  <tbody>\n",
       "    <tr>\n",
       "      <th>EPT new</th>\n",
       "      <td>0.009551</td>\n",
       "      <td>0.357304</td>\n",
       "    </tr>\n",
       "    <tr>\n",
       "      <th>CPT new</th>\n",
       "      <td>0.010980</td>\n",
       "      <td>0.289780</td>\n",
       "    </tr>\n",
       "    <tr>\n",
       "      <th>PSH new</th>\n",
       "      <td>0.011570</td>\n",
       "      <td>0.136769</td>\n",
       "    </tr>\n",
       "    <tr>\n",
       "      <th>MSE new</th>\n",
       "      <td>0.011590</td>\n",
       "      <td>0.161671</td>\n",
       "    </tr>\n",
       "  </tbody>\n",
       "</table>\n",
       "</div>"
      ],
      "text/plain": [
       "         Standard Deviation      Mean\n",
       "EPT new            0.009551  0.357304\n",
       "CPT new            0.010980  0.289780\n",
       "PSH new            0.011570  0.136769\n",
       "MSE new            0.011590  0.161671"
      ]
     },
     "execution_count": 269,
     "metadata": {},
     "output_type": "execute_result"
    }
   ],
   "source": [
    "predictors = ['EPT', 'CPT', 'PSH', 'MSE']\n",
    "x_pos = np.arange(len(predictors))\n",
    "CTEs = [EPTregressionmean, CPTregressionmean, PSHregressionmean, MSEregressionmean]\n",
    "error = [EPTregressionstd, CPTregressionstd, PSHregressionstd, MSEregressionstd]\n",
    "\n",
    "\n",
    "fig, ax = plt.subplots(figsize=(14,8))\n",
    "ax.bar(x_pos, CTEs, yerr=error, align='center', alpha=0.5, ecolor='black', capsize=10)\n",
    "ax.set_ylabel('Coefficient of Predictors', fontsize = 'large')\n",
    "ax.set_xticks(x_pos)\n",
    "ax.set_xticklabels(predictors)\n",
    "ax.set_title('Coefficent of Predictors Generated From Cross Validation, 1900-2015',fontsize = 'xx-large')\n",
    "\n",
    "# Save the figure and show\n",
    "plt.tight_layout()\n",
    "#plt.savefig('bar_plot_with_error_bars.png')\n",
    "plt.show()\n",
    "pd.DataFrame.from_items([('EPT new', EPTmodel), ('CPT new', CPTmodel), ('PSH new', PSHmodel), ('MSE new', MSEmodel)], orient='index', columns=['Standard Deviation', 'Mean'])"
   ]
  },
  {
   "cell_type": "markdown",
   "metadata": {},
   "source": [
    "# Model"
   ]
  },
  {
   "cell_type": "code",
   "execution_count": 270,
   "metadata": {},
   "outputs": [
    {
     "data": {
      "text/plain": [
       "<xarray.DataArray (time: 88)>\n",
       "array([-1.294459e-01, -6.309176e-01,  2.716872e-01, -1.524944e+00,\n",
       "       -1.884711e+00,  3.744950e-01, -2.219097e-01,  4.207411e-02,\n",
       "       -1.048729e-02, -1.128181e+00,  3.047009e-01, -7.316432e-01,\n",
       "       -2.058941e-01,  5.286974e-01, -4.505470e-01, -2.353757e-01,\n",
       "       -3.389609e-01, -6.261504e-01, -1.565733e-01,  4.950158e-01,\n",
       "        1.166810e-02,  4.901095e-01, -2.976755e-02, -4.052431e-01,\n",
       "        6.005720e-01,  5.352482e-01, -9.860029e-01, -3.006321e-01,\n",
       "        3.398052e-01,  6.320474e-01, -1.761221e-01,  8.147763e-02,\n",
       "        1.153309e+00, -5.251291e-01,  4.373171e-01, -3.796004e-01,\n",
       "        7.377502e-01,  7.305597e-01,  8.139345e-01, -4.984545e-01,\n",
       "        2.501763e-01, -1.845678e-02,  3.244962e-01,  6.928798e-01,\n",
       "        1.667197e-01, -5.676934e-01,  1.198647e+00, -9.288552e-01,\n",
       "       -3.563841e-01, -6.804478e-02, -4.980554e-01,  5.429790e-01,\n",
       "        7.724006e-01,  8.037298e-01, -3.223706e-01,  6.584964e-01,\n",
       "       -4.199298e-01,  9.541017e-01, -1.004846e+00, -1.459619e-03,\n",
       "       -8.018132e-01,  5.213141e-01,  3.405014e-01, -2.423000e-01,\n",
       "       -8.360016e-01,  5.273299e-01,  3.443166e-01,  5.579000e-01,\n",
       "       -2.613411e-01, -3.102823e-01, -1.201335e-01,  1.322815e-01,\n",
       "       -3.281798e-02, -1.734806e+00,  5.015751e-01,  7.257486e-01,\n",
       "        8.334571e-01, -4.331173e-01,  6.488956e-01, -4.449435e-01,\n",
       "        5.987073e-01,  8.304964e-02, -2.323219e-01,  4.901547e-01,\n",
       "        3.239839e-01,  8.532893e-01, -1.344067e-01, -1.080528e+00])\n",
       "Coordinates:\n",
       "  * time     (time) datetime64[ns] 1900-05-01 1901-05-01 ... 2015-05-01\n",
       "    month    (time) float64 5.0 5.0 5.0 5.0 5.0 5.0 ... 5.0 5.0 5.0 5.0 5.0 5.0"
      ]
     },
     "execution_count": 270,
     "metadata": {},
     "output_type": "execute_result"
    }
   ],
   "source": [
    "AIRI = 0.357*EPTnew + 0.290*CPTnew + 0.137*PSHnew + 0.162*MSEnew\n",
    "AIRI"
   ]
  },
  {
   "cell_type": "code",
   "execution_count": 271,
   "metadata": {},
   "outputs": [
    {
     "name": "stdout",
     "output_type": "stream",
     "text": [
      "<xarray.DataArray (time: 88)>\n",
      "array([-1.694083e+01, -4.916833e+01,  8.838330e+00, -1.066237e+02,\n",
      "       -1.297444e+02,  1.544536e+01, -2.288309e+01, -5.917951e+00,\n",
      "       -9.295853e+00, -8.112536e+01,  1.095998e+01, -5.564154e+01,\n",
      "       -2.185383e+01,  2.535530e+01, -3.757666e+01, -2.374849e+01,\n",
      "       -3.040548e+01, -4.886196e+01, -1.868419e+01,  2.319073e+01,\n",
      "       -7.872018e+00,  2.287542e+01, -1.053492e+01, -3.466516e+01,\n",
      "        2.997438e+01,  2.577630e+01, -7.198818e+01, -2.794225e+01,\n",
      "        1.321599e+01,  3.199718e+01, -1.994051e+01, -3.385650e+00,\n",
      "        6.549650e+01, -4.236974e+01,  1.948267e+01, -3.301722e+01,\n",
      "        3.879026e+01,  3.832815e+01,  4.368630e+01, -4.065547e+01,\n",
      "        7.455914e+00, -9.808019e+00,  1.223214e+01,  3.590662e+01,\n",
      "        2.092502e+00, -4.510517e+01,  6.841020e+01, -6.831554e+01,\n",
      "       -3.152520e+01, -1.299483e+01, -4.062983e+01,  2.627312e+01,\n",
      "        4.101709e+01,  4.303049e+01, -2.933930e+01,  3.369695e+01,\n",
      "       -3.560902e+01,  5.269427e+01, -7.319913e+01, -8.715682e+00,\n",
      "       -6.015108e+01,  2.488081e+01,  1.326073e+01, -2.419349e+01,\n",
      "       -6.234822e+01,  2.526742e+01,  1.350592e+01,  2.723203e+01,\n",
      "       -2.541718e+01, -2.856243e+01, -1.634236e+01, -1.206956e-01,\n",
      "       -1.073095e+01, -1.201106e+02,  2.361227e+01,  3.801896e+01,\n",
      "        4.494094e+01, -3.645652e+01,  3.307994e+01, -3.721654e+01,\n",
      "        2.985455e+01, -3.284624e+00, -2.355224e+01,  2.287832e+01,\n",
      "        1.219922e+01,  4.621547e+01, -1.725964e+01, -7.806292e+01])\n",
      "Coordinates:\n",
      "  * time     (time) datetime64[ns] 1900-05-01 1901-05-01 ... 2015-05-01\n",
      "    month    (time) float64 5.0 5.0 5.0 5.0 5.0 5.0 ... 5.0 5.0 5.0 5.0 5.0 5.0\n"
     ]
    }
   ],
   "source": [
    "precip_jjas.time.data = EPT.time.data\n",
    "rainfallmean = precip_jjas.mean()\n",
    "rainfallstd = precip_jjas.std()\n",
    "\n",
    "final = (AIRI * rainfallstd) + rainfallmean\n",
    "print(final)"
   ]
  },
  {
   "cell_type": "code",
   "execution_count": 272,
   "metadata": {},
   "outputs": [
    {
     "name": "stdout",
     "output_type": "stream",
     "text": [
      "<xarray.DataArray (time: 88)>\n",
      "array([ -39.983493,  -69.673018,    2.120259, -155.097852, -209.703454,\n",
      "          5.566828,  -62.794335,   -3.926726,  -14.289702, -133.123919,\n",
      "         20.994545, -104.058185,  -61.221661,   57.461239,  -50.386227,\n",
      "        -50.176342,  -40.509791,  -72.15336 ,  -24.285477,   41.757069,\n",
      "        -26.796805,   56.369543,  -10.717797,  -52.343318,   33.246951,\n",
      "         47.020245, -100.531603,  -30.304754,   37.365901,   74.775889,\n",
      "        -17.781957,    5.885937,  109.047938,  -65.667598,   42.532421,\n",
      "        -18.630166,   80.678449,   53.484366,   52.76053 ,  -68.225927,\n",
      "         11.234197,  -17.131145,    9.4214  ,   68.337229,    2.485666,\n",
      "        -76.981782,  113.676209,  -95.438164,  -35.363739,  -24.021767,\n",
      "        -52.329559,   55.972691,   81.422245,   77.01653 ,  -30.114905,\n",
      "         71.714174,  -37.802739,   86.996629, -113.525285,  -16.1782  ,\n",
      "        -91.693755,   53.51028 ,   37.885939,  -32.72966 , -107.156784,\n",
      "         55.842827,   25.750216,   56.836496,  -38.080158,  -51.683857,\n",
      "        -18.629932,   -8.828497,  -18.53745 , -196.859184,   37.582344,\n",
      "        101.680593,   88.848746,  -49.239359,   55.315921,  -64.254329,\n",
      "         56.921529,   19.485968,  -22.764068,   56.491168,   45.225705,\n",
      "         73.407478,  -20.031849, -121.095973])\n",
      "Coordinates:\n",
      "  * time     (time) datetime64[ns] 1900-05-01 1901-05-01 ... 2015-05-01\n",
      "    month    (time) float64 5.0 5.0 5.0 5.0 5.0 5.0 ... 5.0 5.0 5.0 5.0 5.0 5.0\n"
     ]
    }
   ],
   "source": [
    "AIRI2 = 0.475*EPTnew + 0.432*CPTnew + 0.386*PSHnew + 0.301*MSEnew\n",
    "AIRI2\n",
    "\n",
    "final2 = (AIRI2 * rainfallstd) + rainfallmean\n",
    "print(final2)"
   ]
  },
  {
   "cell_type": "code",
   "execution_count": 273,
   "metadata": {},
   "outputs": [
    {
     "name": "stdout",
     "output_type": "stream",
     "text": [
      "multiple linear regression\n",
      "correlation between final and precipitation 0.629668738350154\n",
      "\n",
      "multiple linear regression\n",
      "correlation between final and precipitation 0.6194289152916551\n"
     ]
    }
   ],
   "source": [
    "finalcorrelation = correlation(final, precip_jjas, dims='time')\n",
    "print(\"multiple linear regression\")\n",
    "print(\"correlation between final and precipitation\", finalcorrelation.data)\n",
    "print()\n",
    "finalcorrelation2 = correlation(final2, precip_jjas, dims='time')\n",
    "print(\"multiple linear regression\")\n",
    "print(\"correlation between final and precipitation\", finalcorrelation2.data)"
   ]
  },
  {
   "cell_type": "code",
   "execution_count": 274,
   "metadata": {},
   "outputs": [
    {
     "data": {
      "text/plain": [
       "<matplotlib.legend.Legend at 0x2b74d1c2f518>"
      ]
     },
     "execution_count": 274,
     "metadata": {},
     "output_type": "execute_result"
    },
    {
     "data": {
      "image/png": "[encoded data removed]",
      "text/plain": [
       "<Figure size 1152x576 with 1 Axes>"
      ]
     },
     "metadata": {},
     "output_type": "display_data"
    }
   ],
   "source": [
    "final.plot(label = 'AIRI prediction', color = 'blue')\n",
    "precip_jjas.plot(label = 'Observed Rainfall', color = 'orchid')\n",
    "#plt.hlines(precip_jjas.sel(time.year = ('1900-01-01','2015-12-31')).mean(), 1900, 2015, linestyles='dashed',colors='blue')\n",
    "plt.xlabel('year', fontsize = 'large')\n",
    "plt.ylabel('mm of rainfall', fontsize = 'large')\n",
    "plt.legend(loc='lower right')"
   ]
  },
  {
   "cell_type": "code",
   "execution_count": null,
   "metadata": {},
   "outputs": [],
   "source": [
    "# Copyright (c) 2020 Medha Palavalli."
   ]
  },
  {
   "cell_type": "code",
   "execution_count": null,
   "metadata": {},
   "outputs": [],
   "source": []
  }
 ],
 "metadata": {
  "kernelspec": {
   "display_name": "xarrayenv2",
   "language": "python",
   "name": "xarrayenv2"
  },
  "language_info": {
   "codemirror_mode": {
    "name": "ipython",
    "version": 3
   },
   "file_extension": ".py",
   "mimetype": "text/x-python",
   "name": "python",
   "nbconvert_exporter": "python",
   "pygments_lexer": "ipython3",
   "version": "3.7.3"
  }
 },
 "nbformat": 4,
 "nbformat_minor": 2
}
