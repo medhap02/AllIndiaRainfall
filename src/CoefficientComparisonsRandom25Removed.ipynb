{
 "cells": [
  {
   "cell_type": "code",
   "execution_count": 1,
   "metadata": {},
   "outputs": [
    {
     "name": "stdout",
     "output_type": "stream",
     "text": [
      "Once deleted, variables cannot be recovered. Proceed (y/[n])? y\n"
     ]
    }
   ],
   "source": [
    "%reset"
   ]
  },
  {
   "cell_type": "code",
   "execution_count": 2,
   "metadata": {},
   "outputs": [
    {
     "name": "stdout",
     "output_type": "stream",
     "text": [
      "1.5.5\n",
      "python version:\n",
      "3.7.3\n"
     ]
    }
   ],
   "source": [
    "import numpy as np\n",
    "import matplotlib \n",
    "import matplotlib.pyplot as plt\n",
    "import mpl_toolkits\n",
    "#from mpl_toolkits.basemap import Basemap\n",
    "import pandas as pd\n",
    "import xarray as xr\n",
    "import Nio\n",
    "print (Nio.__version__)\n",
    "import seaborn as seabornInstance\n",
    "from scipy import stats\n",
    "import sklearn\n",
    "\n",
    "print(\"python version:\")\n",
    "import platform\n",
    "print(platform.python_version())"
   ]
  },
  {
   "cell_type": "code",
   "execution_count": 3,
   "metadata": {},
   "outputs": [],
   "source": [
    "def covariance(x, y, dims=None):\n",
    "    return xr.dot(x - x.mean(dims), y - y.mean(dims), dims=dims) / x.count(dims)\n",
    "\n",
    "def correlation(x, y, dims=None):\n",
    "    return covariance(x, y, dims) / (x.std(dims) * y.std(dims))"
   ]
  },
  {
   "cell_type": "markdown",
   "metadata": {},
   "source": [
    "# Load Data"
   ]
  },
  {
   "cell_type": "code",
   "execution_count": 4,
   "metadata": {},
   "outputs": [],
   "source": [
    "from netCDF4 import Dataset\n",
    "from datetime import datetime, timedelta\n",
    "from netCDF4 import num2date, date2num"
   ]
  },
  {
   "cell_type": "code",
   "execution_count": 6,
   "metadata": {},
   "outputs": [],
   "source": [
    "airi_dat = xr.open_dataset(\"pALLIN.nc\", decode_times=False)\n",
    "units, reference_date = airi_dat.time.attrs['units'].split('since')\n",
    "airi_dat['time'] = pd.date_range(start=reference_date, periods=airi_dat.sizes['time'], freq='MS')\n",
    "precip = airi_dat['precip']"
   ]
  },
  {
   "cell_type": "code",
   "execution_count": 12,
   "metadata": {},
   "outputs": [],
   "source": [
    "#Get precip anomalies\n",
    "precip_clim = precip.groupby(\"time.month\").mean(\"time\")\n",
    "precip_anomfull = precip.groupby(\"time.month\") - precip_clim"
   ]
  },
  {
   "cell_type": "code",
   "execution_count": 68,
   "metadata": {},
   "outputs": [
    {
     "name": "stdout",
     "output_type": "stream",
     "text": [
      "<xarray.DataArray 'precip' (time: 1056)>\n",
      "array([  2.6,  15.3,   6.7, ..., 125.9,  36.6,  44.3], dtype=float32)\n",
      "Coordinates:\n",
      "  * time     (time) datetime64[ns] 1900-01-01 1900-02-01 ... 2015-12-01\n",
      "Attributes:\n",
      "    long_name:  ALL-INDIA  RAINFALL\n",
      "    units:      mm/mo\n"
     ]
    }
   ],
   "source": [
    "precip_subset1 = precip.sel(time=slice('1900-01-01','1901-12-31'))\n",
    "precip_subset2 = precip.sel(time=slice('1903-01-01','1906-12-31'))\n",
    "precip_subset3 = precip.sel(time=slice('1908-01-01','1911-12-31'))\n",
    "precip_subset4 = precip.sel(time=slice('1913-01-01','1913-12-31'))\n",
    "precip_subset5 = precip.sel(time=slice('1915-01-01','1918-12-31'))\n",
    "precip_subset6 = precip.sel(time=slice('1920-01-01','1921-12-31'))\n",
    "precip_subset7 = precip.sel(time=slice('1923-01-01','1927-12-31'))\n",
    "precip_subset8 = precip.sel(time=slice('1929-01-01','1931-12-31'))\n",
    "precip_subset9 = precip.sel(time=slice('1934-01-01','1939-12-31'))\n",
    "precip_subset10 = precip.sel(time=slice('1941-01-01','1948-12-31'))\n",
    "precip_subset11 = precip.sel(time=slice('1951-01-01','1955-12-31'))\n",
    "precip_subset12 = precip.sel(time=slice('1957-01-01','1958-12-31'))\n",
    "precip_subset13 = precip.sel(time=slice('1960-01-01','1962-12-31'))\n",
    "precip_subset13 = precip.sel(time=slice('1964-01-01','1965-12-31'))\n",
    "precip_subset14 = precip.sel(time=slice('1967-01-01','1971-12-31'))\n",
    "precip_subset15 = precip.sel(time=slice('1973-01-01','1976-12-31'))\n",
    "precip_subset16 = precip.sel(time=slice('1978-01-01','1979-12-31'))\n",
    "precip_subset17 = precip.sel(time=slice('1981-01-01','1982-12-31'))\n",
    "precip_subset18 = precip.sel(time=slice('1984-01-01','1991-12-31'))\n",
    "precip_subset19 = precip.sel(time=slice('1993-01-01','1998-12-31'))\n",
    "precip_subset20 = precip.sel(time=slice('2000-01-01','2002-12-31'))\n",
    "precip_subset21 = precip.sel(time=slice('2004-01-01','2006-12-31'))\n",
    "precip_subset22 = precip.sel(time=slice('2008-01-01','2010-12-31'))\n",
    "precip_subset23 = precip.sel(time=slice('2012-01-01','2015-12-31'))\n",
    "\n",
    "precip_anom = xr.merge([precip_subset1, precip_subset2, precip_subset3, precip_subset4, precip_subset5, \n",
    "                   precip_subset6, precip_subset7, precip_subset8, precip_subset9, precip_subset10, \n",
    "                   precip_subset11, precip_subset12, precip_subset13, precip_subset14, precip_subset15, \n",
    "                   precip_subset16, precip_subset17, precip_subset18, precip_subset19, precip_subset20, \n",
    "                   precip_subset21, precip_subset22, precip_subset23])\n",
    "precip_anomtemp = xr.Dataset.to_array(precip_anom)\n",
    "precip_anom = precip_anom['precip']\n",
    "print(precip_anom)\n",
    "#1902, 1907, 1912, 1914, 1919, 1922, 1928, 1932, 1933, 1940\n",
    "#1949, 1950, 1956, 1959, 1963, 1966, 1972, 1977, 1980, 1983\n",
    "#1992, 1999, 2003, 2007, 2011"
   ]
  },
  {
   "cell_type": "code",
   "execution_count": 69,
   "metadata": {},
   "outputs": [],
   "source": [
    "#Load SST data\n",
    "dataset_url = \"https://psl.noaa.gov/thredds/dodsC/Datasets/noaa.ersst.v5/sst.mnmean.nc\"\n",
    "sst_dat = xr.open_dataset(dataset_url)\n",
    "sst = sst_dat['sst']"
   ]
  },
  {
   "cell_type": "code",
   "execution_count": 8,
   "metadata": {},
   "outputs": [
    {
     "name": "stderr",
     "output_type": "stream",
     "text": [
      "/global/home/users/medhap02/.conda/envs/xarrayenv2/lib/python3.7/site-packages/xarray/core/nanops.py:160: RuntimeWarning: Mean of empty slice\n",
      "  return np.nanmean(a, axis=axis, dtype=dtype)\n"
     ]
    },
    {
     "data": {
      "text/plain": [
       "<xarray.DataArray 'sst' (time: 1752, lat: 89, lon: 180)>\n",
       "array([[[1.788139e-06, 1.788139e-06, ..., 1.788139e-06, 1.788139e-06],\n",
       "        [1.788139e-06, 1.788139e-06, ..., 1.788139e-06, 1.788139e-06],\n",
       "        ...,\n",
       "        [         nan,          nan, ...,          nan,          nan],\n",
       "        [         nan,          nan, ...,          nan,          nan]],\n",
       "\n",
       "       [[1.788139e-06, 1.788139e-06, ..., 1.788139e-06, 1.788139e-06],\n",
       "        [1.788139e-06, 1.788139e-06, ..., 1.788139e-06, 1.788139e-06],\n",
       "        ...,\n",
       "        [         nan,          nan, ...,          nan,          nan],\n",
       "        [         nan,          nan, ...,          nan,          nan]],\n",
       "\n",
       "       ...,\n",
       "\n",
       "       [[3.152323e-02, 2.609873e-02, ..., 2.140296e-02, 3.102016e-02],\n",
       "        [2.697122e-02, 1.542413e-02, ..., 1.046002e-02, 2.427316e-02],\n",
       "        ...,\n",
       "        [         nan,          nan, ...,          nan,          nan],\n",
       "        [         nan,          nan, ...,          nan,          nan]],\n",
       "\n",
       "       [[1.788139e-06, 1.788139e-06, ..., 1.788139e-06, 1.788139e-06],\n",
       "        [1.788139e-06, 1.788139e-06, ..., 1.788139e-06, 1.788139e-06],\n",
       "        ...,\n",
       "        [         nan,          nan, ...,          nan,          nan],\n",
       "        [         nan,          nan, ...,          nan,          nan]]],\n",
       "      dtype=float32)\n",
       "Coordinates:\n",
       "  * lat      (lat) float32 88.0 86.0 84.0 82.0 80.0 ... -82.0 -84.0 -86.0 -88.0\n",
       "  * lon      (lon) float32 0.0 2.0 4.0 6.0 8.0 ... 350.0 352.0 354.0 356.0 358.0\n",
       "  * time     (time) datetime64[ns] 1871-02-01 1871-03-01 ... 2017-01-01\n",
       "    month    (time) int64 2 3 4 5 6 7 8 9 10 11 12 ... 3 4 5 6 7 8 9 10 11 12 1"
      ]
     },
     "execution_count": 8,
     "metadata": {},
     "output_type": "execute_result"
    }
   ],
   "source": [
    "#Slice SST data to the same duration as precip and calculate monthly anomalies\n",
    "sst_subset = sst.sel(time=slice('1871-01-30','2017-01-01'))\n",
    "sst_clim = sst_subset.groupby('time.month').mean('time')\n",
    "sst_anomfull = sst_subset.groupby(\"time.month\")-sst_clim\n",
    "sst_anomfull"
   ]
  },
  {
   "cell_type": "code",
   "execution_count": 9,
   "metadata": {},
   "outputs": [
    {
     "name": "stdout",
     "output_type": "stream",
     "text": [
      "<xarray.Dataset>\n",
      "Dimensions:  (lat: 89, lon: 180, time: 1056)\n",
      "Coordinates:\n",
      "  * time     (time) datetime64[ns] 1900-01-01 1900-02-01 ... 2015-12-01\n",
      "  * lat      (lat) float32 88.0 86.0 84.0 82.0 80.0 ... -82.0 -84.0 -86.0 -88.0\n",
      "  * lon      (lon) float32 0.0 2.0 4.0 6.0 8.0 ... 350.0 352.0 354.0 356.0 358.0\n",
      "    month    (time) float64 1.0 2.0 3.0 4.0 5.0 6.0 ... 8.0 9.0 10.0 11.0 12.0\n",
      "Data variables:\n",
      "    sst      (time, lat, lon) float32 1.7881393e-06 1.7881393e-06 ... nan nan\n"
     ]
    }
   ],
   "source": [
    "sst_subset1 = sst_anomfull.sel(time=slice('1900-01-01','1901-12-31'))\n",
    "sst_subset2 = sst_anomfull.sel(time=slice('1903-01-01','1906-12-31'))\n",
    "sst_subset3 = sst_anomfull.sel(time=slice('1908-01-01','1911-12-31'))\n",
    "sst_subset4 = sst_anomfull.sel(time=slice('1913-01-01','1913-12-31'))\n",
    "sst_subset5 = sst_anomfull.sel(time=slice('1915-01-01','1918-12-31'))\n",
    "sst_subset6 = sst_anomfull.sel(time=slice('1920-01-01','1921-12-31'))\n",
    "sst_subset7 = sst_anomfull.sel(time=slice('1923-01-01','1927-12-31'))\n",
    "sst_subset8 = sst_anomfull.sel(time=slice('1929-01-01','1931-12-31'))\n",
    "sst_subset9 = sst_anomfull.sel(time=slice('1934-01-01','1939-12-31'))\n",
    "sst_subset10 = sst_anomfull.sel(time=slice('1941-01-01','1948-12-31'))\n",
    "sst_subset11 = sst_anomfull.sel(time=slice('1951-01-01','1955-12-31'))\n",
    "sst_subset12 = sst_anomfull.sel(time=slice('1957-01-01','1958-12-31'))\n",
    "sst_subset13 = sst_anomfull.sel(time=slice('1960-01-01','1962-12-31'))\n",
    "sst_subset13 = sst_anomfull.sel(time=slice('1964-01-01','1965-12-31'))\n",
    "sst_subset14 = sst_anomfull.sel(time=slice('1967-01-01','1971-12-31'))\n",
    "sst_subset15 = sst_anomfull.sel(time=slice('1973-01-01','1976-12-31'))\n",
    "sst_subset16 = sst_anomfull.sel(time=slice('1978-01-01','1979-12-31'))\n",
    "sst_subset17 = sst_anomfull.sel(time=slice('1981-01-01','1982-12-31'))\n",
    "sst_subset18 = sst_anomfull.sel(time=slice('1984-01-01','1991-12-31'))\n",
    "sst_subset19 = sst_anomfull.sel(time=slice('1993-01-01','1998-12-31'))\n",
    "sst_subset20 = sst_anomfull.sel(time=slice('2000-01-01','2002-12-31'))\n",
    "sst_subset21 = sst_anomfull.sel(time=slice('2004-01-01','2006-12-31'))\n",
    "sst_subset22 = sst_anomfull.sel(time=slice('2008-01-01','2010-12-31'))\n",
    "sst_subset23 = sst_anomfull.sel(time=slice('2012-01-01','2015-12-31'))\n",
    "\n",
    "sst_anomtemp = xr.merge([sst_subset1, sst_subset2, sst_subset3, sst_subset4, sst_subset5, \n",
    "                   sst_subset6, sst_subset7, sst_subset8, sst_subset9, sst_subset10, \n",
    "                   sst_subset11, sst_subset12, sst_subset13, sst_subset14, sst_subset15, \n",
    "                   sst_subset16, sst_subset17, sst_subset18, sst_subset19, sst_subset20, \n",
    "                   sst_subset21, sst_subset22, sst_subset23])\n",
    "#sst_anom = xr.Dataset.to_array(sst_anomtemp).drop('variable')\n",
    "print(sst_anomtemp)\n",
    "sst_anom = sst_anomtemp['sst']\n",
    "#1902, 1907, 1912, 1914, 1919, 1922, 1928, 1932, 1933, 1940\n",
    "#1949, 1950, 1956, 1959, 1963, 1966, 1972, 1977, 1980, 1983\n",
    "#1992, 1999, 2003, 2007, 2011"
   ]
  },
  {
   "cell_type": "code",
   "execution_count": 10,
   "metadata": {},
   "outputs": [],
   "source": [
    "#Load SLP data\n",
    "dataset_url = \"/global/scratch/medhap02/ISMData/prmsl.mon.mean.nc\"\n",
    "slp_dat = xr.open_dataset(dataset_url)\n",
    "slp = slp_dat['prmsl']"
   ]
  },
  {
   "cell_type": "code",
   "execution_count": 11,
   "metadata": {},
   "outputs": [
    {
     "data": {
      "text/plain": [
       "<xarray.DataArray 'prmsl' (time: 1740, lat: 181, lon: 360)>\n",
       "array([[[  114.765625,   114.765625, ...,   114.765625,   114.765625],\n",
       "        [   94.78125 ,    94.46875 , ...,    95.359375,    95.03125 ],\n",
       "        ...,\n",
       "        [  293.65625 ,   293.95312 , ...,   293.20312 ,   293.4297  ],\n",
       "        [  288.66406 ,   288.66406 , ...,   288.66406 ,   288.66406 ]],\n",
       "\n",
       "       [[   75.84375 ,    75.84375 , ...,    75.84375 ,    75.84375 ],\n",
       "        [   67.66406 ,    68.02344 , ...,    66.85156 ,    67.24219 ],\n",
       "        ...,\n",
       "        [  587.2969  ,   587.52344 , ...,   586.9219  ,   587.0781  ],\n",
       "        [  581.14844 ,   581.14844 , ...,   581.14844 ,   581.14844 ]],\n",
       "\n",
       "       ...,\n",
       "\n",
       "       [[ -876.5703  ,  -876.5703  , ...,  -876.5703  ,  -876.5703  ],\n",
       "        [ -937.10156 ,  -936.8594  , ...,  -937.625   ,  -937.3906  ],\n",
       "        ...,\n",
       "        [-1008.4375  , -1008.8906  , ..., -1007.5625  , -1007.9922  ],\n",
       "        [-1047.0938  , -1047.0938  , ..., -1047.0938  , -1047.0938  ]],\n",
       "\n",
       "       [[ -525.5     ,  -525.5     , ...,  -525.5     ,  -525.5     ],\n",
       "        [ -584.5703  ,  -584.8828  , ...,  -583.8906  ,  -584.2578  ],\n",
       "        ...,\n",
       "        [ -427.9922  ,  -428.3203  , ...,  -427.28125 ,  -427.6172  ],\n",
       "        [ -411.48438 ,  -411.48438 , ...,  -411.48438 ,  -411.48438 ]]],\n",
       "      dtype=float32)\n",
       "Coordinates:\n",
       "  * lat      (lat) float32 -90.0 -89.0 -88.0 -87.0 -86.0 ... 87.0 88.0 89.0 90.0\n",
       "  * lon      (lon) float32 0.0 1.0 2.0 3.0 4.0 ... 355.0 356.0 357.0 358.0 359.0\n",
       "  * time     (time) datetime64[ns] 1871-01-01 1871-02-01 ... 2015-12-01\n",
       "    month    (time) int64 1 2 3 4 5 6 7 8 9 10 11 ... 2 3 4 5 6 7 8 9 10 11 12"
      ]
     },
     "execution_count": 11,
     "metadata": {},
     "output_type": "execute_result"
    }
   ],
   "source": [
    "#Slice SLP data to the same duration as precip and calculate monthly anomalies\n",
    "slp_subset = slp.sel(time=slice('1871-01-01','2015-12-31'))\n",
    "slp_clim = slp_subset.groupby('time.month').mean('time')\n",
    "slp_anomfull = slp_subset.groupby(\"time.month\")-slp_clim\n",
    "slp_anomfull"
   ]
  },
  {
   "cell_type": "code",
   "execution_count": 21,
   "metadata": {},
   "outputs": [
    {
     "name": "stdout",
     "output_type": "stream",
     "text": [
      "<xarray.Dataset>\n",
      "Dimensions:  (lat: 181, lon: 360, time: 1056)\n",
      "Coordinates:\n",
      "  * time     (time) datetime64[ns] 1900-01-01 1900-02-01 ... 2015-12-01\n",
      "  * lat      (lat) float32 -90.0 -89.0 -88.0 -87.0 -86.0 ... 87.0 88.0 89.0 90.0\n",
      "  * lon      (lon) float32 0.0 1.0 2.0 3.0 4.0 ... 355.0 356.0 357.0 358.0 359.0\n",
      "    month    (time) float64 1.0 2.0 3.0 4.0 5.0 6.0 ... 8.0 9.0 10.0 11.0 12.0\n",
      "Data variables:\n",
      "    prmsl    (time, lat, lon) float32 24.570312 24.570312 ... -411.48438\n"
     ]
    }
   ],
   "source": [
    "slp_subset1 = slp_anomfull.sel(time=slice('1900-01-01','1901-12-31'))\n",
    "slp_subset2 = slp_anomfull.sel(time=slice('1903-01-01','1906-12-31'))\n",
    "slp_subset3 = slp_anomfull.sel(time=slice('1908-01-01','1911-12-31'))\n",
    "slp_subset4 = slp_anomfull.sel(time=slice('1913-01-01','1913-12-31'))\n",
    "slp_subset5 = slp_anomfull.sel(time=slice('1915-01-01','1918-12-31'))\n",
    "slp_subset6 = slp_anomfull.sel(time=slice('1920-01-01','1921-12-31'))\n",
    "slp_subset7 = slp_anomfull.sel(time=slice('1923-01-01','1927-12-31'))\n",
    "slp_subset8 = slp_anomfull.sel(time=slice('1929-01-01','1931-12-31'))\n",
    "slp_subset9 = slp_anomfull.sel(time=slice('1934-01-01','1939-12-31'))\n",
    "slp_subset10 = slp_anomfull.sel(time=slice('1941-01-01','1948-12-31'))\n",
    "slp_subset11 = slp_anomfull.sel(time=slice('1951-01-01','1955-12-31'))\n",
    "slp_subset12 = slp_anomfull.sel(time=slice('1957-01-01','1958-12-31'))\n",
    "slp_subset13 = slp_anomfull.sel(time=slice('1960-01-01','1962-12-31'))\n",
    "slp_subset13 = slp_anomfull.sel(time=slice('1964-01-01','1965-12-31'))\n",
    "slp_subset14 = slp_anomfull.sel(time=slice('1967-01-01','1971-12-31'))\n",
    "slp_subset15 = slp_anomfull.sel(time=slice('1973-01-01','1976-12-31'))\n",
    "slp_subset16 = slp_anomfull.sel(time=slice('1978-01-01','1979-12-31'))\n",
    "slp_subset17 = slp_anomfull.sel(time=slice('1981-01-01','1982-12-31'))\n",
    "slp_subset18 = slp_anomfull.sel(time=slice('1984-01-01','1991-12-31'))\n",
    "slp_subset19 = slp_anomfull.sel(time=slice('1993-01-01','1998-12-31'))\n",
    "slp_subset20 = slp_anomfull.sel(time=slice('2000-01-01','2002-12-31'))\n",
    "slp_subset21 = slp_anomfull.sel(time=slice('2004-01-01','2006-12-31'))\n",
    "slp_subset22 = slp_anomfull.sel(time=slice('2008-01-01','2010-12-31'))\n",
    "slp_subset23 = slp_anomfull.sel(time=slice('2012-01-01','2015-12-31'))\n",
    "\n",
    "slp_anomtemp = xr.merge([slp_subset1, slp_subset2, slp_subset3, slp_subset4, slp_subset5, \n",
    "                   slp_subset6, slp_subset7, slp_subset8, slp_subset9, slp_subset10, \n",
    "                   slp_subset11, slp_subset12, slp_subset13, slp_subset14, slp_subset15, \n",
    "                   slp_subset16, slp_subset17, slp_subset18, slp_subset19, slp_subset20, \n",
    "                   slp_subset21, slp_subset22, slp_subset23])\n",
    "#slp_anom = xr.Dataset.to_array(slp_anomtemp).drop('variable')\n",
    "print(slp_anomtemp)\n",
    "slp_anom = slp_anomtemp['prmsl']\n",
    "#1902, 1907, 1912, 1914, 1919, 1922, 1928, 1932, 1933, 1940\n",
    "#1949, 1950, 1956, 1959, 1963, 1966, 1972, 1977, 1980, 1983\n",
    "#1992, 1999, 2003, 2007, 2011"
   ]
  },
  {
   "cell_type": "code",
   "execution_count": 70,
   "metadata": {},
   "outputs": [],
   "source": [
    "junes = np.arange(5,1056,12)\n",
    "julys = np.arange(6,1056,12) #1752 instead of 1068\n",
    "augusts = np.arange(7,1056, 12)\n",
    "septembers = np.arange(8,1056,12)\n",
    "precipa_june = precip_anom[junes]\n",
    "precipa_july = precip_anom[julys]\n",
    "precipa_august = precip_anom[augusts]\n",
    "precipa_september = precip_anom[septembers]\n",
    "\n",
    "precipa_july.time.data = precipa_june.time.data\n",
    "precipa_august.time.data = precipa_june.time.data\n",
    "precipa_september.time.data = precipa_june.time.data\n",
    "\n",
    "precipa_jjas = (precipa_june + precipa_july + precipa_august + precipa_september)"
   ]
  },
  {
   "cell_type": "markdown",
   "metadata": {},
   "source": [
    "# Building Predictors"
   ]
  },
  {
   "cell_type": "code",
   "execution_count": 15,
   "metadata": {},
   "outputs": [],
   "source": [
    "#EP-ENSOpredictor\n",
    "\n",
    "#DSST1\n",
    "latrange1 = sst_anom.sel(lat = slice(5, -20)).lat\n",
    "weights1 = np.cos(latrange1*np.pi/180)\n",
    "\n",
    "marchdata1 = sst_anom.sel(lat = slice(5, -20), lon = slice(150, 170), time = (sst_anom['time.month']==3))\n",
    "marchSST1 = marchdata1.sel(time = slice('1900-03-01', '2015-03-01'))\n",
    "marchmean1 = (marchSST1*weights1).mean({'lon', 'lat'})/weights1.mean()\n",
    "\n",
    "maydata1 = sst_anom.sel(lat = slice(5, -20), lon = slice(150, 170), time = (sst_anom['time.month']==5))\n",
    "maySST1 = maydata1.sel(time = slice('1900-05-01', '2015-05-01'))\n",
    "maymean1 = (maySST1*weights1).mean({'lon', 'lat'})/weights1.mean()\n",
    "\n",
    "marchmean1.time.data = maymean1.time.data\n",
    "DSST1 = maymean1 - marchmean1\n",
    "\n",
    "#DSST2\n",
    "latrange2 = sst_anom.sel(lat = slice(10, -10)).lat\n",
    "weights2 = np.cos(latrange2*np.pi/180)\n",
    "\n",
    "marchdata2 = sst_anom.sel(lat = slice(10, -10), lon = slice(250, 280), time = (sst_anom['time.month']==3))\n",
    "marchSST2 = marchdata2.sel(time = slice('1900-03-01', '2015-03-01'))\n",
    "marchmean2 = (marchSST2*weights2).mean({'lon', 'lat'})/weights2.mean()\n",
    "\n",
    "maydata2 = sst_anom.sel(lat = slice(10, -10), lon = slice(250, 280), time = (sst_anom['time.month']==5))\n",
    "maySST2 = maydata2.sel(time = slice('1900-05-01', '2015-05-01'))\n",
    "maymean2 = (maySST2*weights2).mean({'lon', 'lat'})/weights2.mean()\n",
    "\n",
    "marchmean2.time.data = maymean2.time.data\n",
    "DSST2 = (maymean2 - marchmean2)\n",
    "\n",
    "EPTinitial = DSST1 - DSST2\n",
    "#print(EPTinitial)\n",
    "EPTstd = EPTinitial.std()\n",
    "EPTmean = EPTinitial.mean()\n",
    "EPT = (EPTinitial - EPTmean)/EPTstd"
   ]
  },
  {
   "cell_type": "code",
   "execution_count": 16,
   "metadata": {},
   "outputs": [
    {
     "name": "stdout",
     "output_type": "stream",
     "text": [
      "<xarray.DataArray (time: 88)>\n",
      "array([-0.087031, -0.349395,  0.952161, -2.207361, -1.112206,  2.42138 ,\n",
      "        1.067863, -0.055572,  0.374956, -1.817191,  0.379771, -0.832366,\n",
      "        0.601817, -0.670612, -0.832157,  1.29451 , -0.546239, -0.765166,\n",
      "        0.272546,  0.120034,  0.200123, -0.150773, -0.787937, -0.841457,\n",
      "        1.517263,  0.159261, -1.528789, -0.047607,  0.57149 ,  0.927541,\n",
      "       -1.434518, -0.188932,  2.12384 , -0.464264,  0.123852, -0.708544,\n",
      "       -0.061771,  1.765358,  2.167504, -0.49596 ,  1.277148, -0.428457,\n",
      "        1.862247,  0.526277, -1.026932, -0.470538,  2.056401, -1.692724,\n",
      "       -0.349625, -0.254107, -0.779232,  0.113341, -0.013173,  1.063192,\n",
      "       -0.792651,  0.983634, -0.862947,  0.71936 , -1.147233,  0.432044,\n",
      "       -0.780704,  0.746544,  0.637105,  0.563633, -0.09354 ,  0.789095,\n",
      "        0.220932, -0.381595, -0.322652, -1.073292, -0.43058 ,  1.040161,\n",
      "        0.635711, -2.153529,  0.793171, -0.580328,  0.267886,  0.76092 ,\n",
      "        0.679785, -1.010461,  0.466469, -0.6782  , -1.470103,  0.712371,\n",
      "       -0.257424,  1.196229, -0.54419 , -2.004861], dtype=float32)\n",
      "Coordinates:\n",
      "  * time     (time) datetime64[ns] 1900-05-01 1901-05-01 ... 2015-05-01\n"
     ]
    }
   ],
   "source": [
    "print(EPT)"
   ]
  },
  {
   "cell_type": "code",
   "execution_count": 18,
   "metadata": {},
   "outputs": [],
   "source": [
    "#CP-ENSOpredictor\n",
    "\n",
    "#DSST1\n",
    "latrange1 = sst_anom.sel(lat = slice(-10, -25)).lat\n",
    "weights1 = np.cos(latrange1*np.pi/180)\n",
    "\n",
    "aprildata1 = sst_anom.sel(lat = slice(-10, -25), lon = slice(170, 200), time = (sst_anom['time.month']==4))\n",
    "aprilSST1 = aprildata1.sel(time = slice('1900-04-01', '2015-04-01'))\n",
    "aprilmean1 = (aprilSST1*weights1).mean({'lon', 'lat'})/weights1.mean()\n",
    "\n",
    "maydata1 = sst_anom.sel(lat = slice(-10, -25), lon = slice(170, 200), time = (sst_anom['time.month']==5))\n",
    "maySST1 = maydata1.sel(time = slice('1900-05-01', '2015-05-01'))\n",
    "maymean1 = (maySST1*weights1).mean({'lon', 'lat'})/weights1.mean() \n",
    "\n",
    "aprilmean1.time.data = maymean1.time.data\n",
    "DSST1 = maymean1 - aprilmean1\n",
    "\n",
    "#DSST2\n",
    "latrange2 = sst_anom.sel(lat = slice(20, 5)).lat\n",
    "weights2 = np.cos(latrange2*np.pi/180)\n",
    "\n",
    "aprildata2 = sst_anom.sel(lat = slice(20, 5), lon = slice(180, 210), time = (sst_anom['time.month']==4))\n",
    "aprilSST2 = aprildata2.sel(time = slice('1900-04-01', '2015-04-01'))\n",
    "aprilmean2 = (aprilSST2*weights2).mean({'lon', 'lat'})/weights2.mean()\n",
    "                          \n",
    "maydata2 = sst_anom.sel(lat = slice(20, 5), lon = slice(180, 210), time = (sst_anom['time.month']==5))\n",
    "maySST2 = maydata2.sel(time = slice('1900-05-01', '2015-05-01'))\n",
    "maymean2 = (maySST2*weights2).mean({'lon', 'lat'})/weights2.mean()\n",
    "                          \n",
    "aprilmean2.time.data = maymean2.time.data\n",
    "DSST2 = maymean2 - aprilmean2\n",
    "\n",
    "CPTinitial = DSST1 - DSST2\n",
    "#print(CPTinitial)\n",
    "CPTstd = CPTinitial.std()\n",
    "CPTmean = CPTinitial.mean()\n",
    "CPT = (CPTinitial - CPTmean)/CPTstd"
   ]
  },
  {
   "cell_type": "code",
   "execution_count": 19,
   "metadata": {},
   "outputs": [
    {
     "name": "stdout",
     "output_type": "stream",
     "text": [
      "<xarray.DataArray (time: 88)>\n",
      "array([ 1.034446, -1.644795,  0.260865, -1.523214, -2.058889,  0.279677,\n",
      "        0.520603,  1.476613, -2.861686, -0.120737,  1.58951 , -0.388673,\n",
      "       -0.027112,  2.047418,  0.3757  , -2.200316,  0.330586,  0.319994,\n",
      "        0.059772, -0.089702,  0.473585,  0.404069, -0.20933 , -0.375415,\n",
      "        0.049273, -0.243741,  0.289054, -0.338636, -0.127177,  0.813011,\n",
      "        1.631568, -0.410525,  0.048517,  1.325921,  0.397832, -1.561584,\n",
      "       -0.733634,  0.632544, -1.80833 , -2.158612,  0.166518, -0.548333,\n",
      "        0.10629 ,  0.632596,  0.460435,  0.484698,  1.546964, -1.403212,\n",
      "       -0.420896,  0.689404, -0.674952,  2.048375,  0.677564, -0.983772,\n",
      "       -0.169912,  0.553684, -0.01093 ,  1.495744,  0.917114, -0.158445,\n",
      "       -0.07368 , -1.074418, -0.567051, -0.620656, -1.619773, -0.047012,\n",
      "        0.628906,  2.138351, -0.738455, -0.077431, -0.415636,  0.498731,\n",
      "       -1.319567, -0.649522,  2.0164  , -1.059239, -0.481311, -0.565523,\n",
      "        0.49364 ,  0.092773,  1.283855,  0.018563, -0.634944,  0.618393,\n",
      "        0.482863,  0.099684,  0.387322,  0.297353], dtype=float32)\n",
      "Coordinates:\n",
      "  * time     (time) datetime64[ns] 1900-05-01 1901-05-01 ... 2015-05-01\n"
     ]
    }
   ],
   "source": [
    "print(CPT)"
   ]
  },
  {
   "cell_type": "code",
   "execution_count": 22,
   "metadata": {},
   "outputs": [],
   "source": [
    "#mega-ENSOpredictor\n",
    "\n",
    "#NPcalculation\n",
    "latrange1 = slp_anom.sel(lat = slice(-40, -10)).lat\n",
    "weights1 = np.cos(latrange1*np.pi/180)\n",
    "\n",
    "aprildata1 = slp_anom.sel(lat = slice(-40, -10), lon = slice(200, 270), time = (slp_anom['time.month']==4))\n",
    "aprilSLP1 = aprildata1.sel(time=slice('1900-04-01','2015-04-01'))\n",
    "aprilmean1 = ((aprilSLP1*weights1).mean({'lon', 'lat'})/weights1.mean())\n",
    "\n",
    "maydata1 = slp_anom.sel(lat = slice(-40, -10), lon = slice(200, 270), time = (slp_anom['time.month']==5))\n",
    "maySLP1 = maydata1.sel(time = slice('1900-05-01', '2015-05-01'))\n",
    "maymean1 = ((maySLP1*weights1).mean({'lon', 'lat'})/weights1.mean())\n",
    "\n",
    "aprilmean1.time.data = maymean1.time.data\n",
    "NP = ((aprilmean1 + maymean1)/2)\n",
    "\n",
    "#SPcalculation\n",
    "latrange2 = slp_anom.sel(lat = slice(10, 30)).lat\n",
    "weights2 = np.cos(latrange2*np.pi/180)\n",
    "\n",
    "aprildata2 = slp_anom.sel(lat = slice(10, 30), lon = slice(180, 230), time = (slp_anom['time.month']==4))\n",
    "aprilSLP2 = aprildata2.sel(time = slice('1900-04-01', '2015-04-01'))\n",
    "aprilmean2 = ((aprilSLP2*weights2).mean({'lon', 'lat'})/weights2.mean())\n",
    "\n",
    "maydata2 = slp_anom.sel(lat = slice(10, 30), lon = slice(180, 230), time = (slp_anom['time.month']==5))\n",
    "maySLP2 = maydata2.sel(time = slice('1900-05-01', '2015-05-01'))\n",
    "maymean2 = ((maySLP2*weights2).mean({'lon', 'lat'})/weights2.mean())\n",
    "\n",
    "aprilmean2.time.data = maymean2.time.data\n",
    "SP = ((aprilmean2 + maymean2)/2)\n",
    "\n",
    "NParea = (30*weights1.mean() * 70)\n",
    "SParea = (20*weights2.mean() * 50)\n",
    "PSHinitial = ((NP * NParea) + (SP * SParea))/(NParea + SParea)\n",
    "#print(PSHinitial)\n",
    "PSHstd = PSHinitial.std()\n",
    "PSHmean = PSHinitial.mean()\n",
    "PSH = (PSHinitial - PSHmean)/PSHstd"
   ]
  },
  {
   "cell_type": "code",
   "execution_count": 23,
   "metadata": {},
   "outputs": [
    {
     "name": "stdout",
     "output_type": "stream",
     "text": [
      "<xarray.DataArray (time: 88)>\n",
      "array([-2.005250e-01, -5.051098e-01, -6.125665e-01, -1.837063e+00,\n",
      "       -1.866761e+00, -1.292742e+00, -2.470020e+00, -2.482490e-01,\n",
      "       -1.102492e+00, -1.361715e+00, -1.361769e+00, -2.118574e+00,\n",
      "       -1.986200e+00,  3.538084e-01, -5.215671e-01, -2.002871e+00,\n",
      "       -1.004603e+00, -3.375509e-01, -5.135708e-01, -1.850341e-01,\n",
      "       -2.298567e-01, -1.507822e-01, -3.283794e-01, -9.261173e-01,\n",
      "       -6.347694e-01,  3.103731e-02, -8.884090e-01,  8.430255e-02,\n",
      "        1.217063e-01,  1.566132e+00, -6.575921e-01,  8.822005e-01,\n",
      "        5.166321e-01, -2.775873e-01,  7.746392e-01,  5.110298e-01,\n",
      "        2.223698e-01, -1.147085e-01, -7.284263e-01, -1.242188e+00,\n",
      "       -1.917778e-01, -1.029086e-01, -2.842865e-01,  1.487120e+00,\n",
      "       -6.584970e-01, -7.160102e-01,  6.213269e-01, -1.220243e-03,\n",
      "        3.113251e-01, -5.122090e-01, -1.128113e-01,  7.545597e-01,\n",
      "        5.855645e-01,  1.186979e-01,  7.520196e-01,  7.556060e-01,\n",
      "        6.702035e-01,  1.321372e-01, -7.461835e-01, -8.363931e-02,\n",
      "       -7.490619e-01,  1.597201e+00,  8.229752e-01, -4.450362e-01,\n",
      "        9.970955e-01,  1.348896e+00,  4.264215e-01,  9.116986e-01,\n",
      "       -3.555033e-01,  2.061047e-01,  2.901944e-01,  4.962616e-01,\n",
      "        1.781248e+00, -1.290604e+00,  1.559809e+00,  2.256885e+00,\n",
      "        1.734993e+00, -7.825418e-02,  1.220032e+00,  5.916153e-01,\n",
      "        1.110648e-01,  2.831745e-02, -3.201934e-01,  2.499099e+00,\n",
      "        1.020521e+00,  1.213964e+00,  1.569952e+00,  4.192281e-01])\n",
      "Coordinates:\n",
      "  * time     (time) datetime64[ns] 1900-05-01 1901-05-01 ... 2015-05-01\n"
     ]
    }
   ],
   "source": [
    "print(PSH)"
   ]
  },
  {
   "cell_type": "code",
   "execution_count": 24,
   "metadata": {},
   "outputs": [],
   "source": [
    "#AnomalousAsianLowpredictor\n",
    "\n",
    "latrange = slp_anom.sel(lat = slice(40, 60)).lat\n",
    "weights = np.cos(latrange*np.pi/180)\n",
    "\n",
    "marchdata = slp_anom.sel(lat = slice(40, 60), lon = slice(95, 125), time = (slp_anom['time.month']==3))\n",
    "marchSLP = marchdata.sel(time = slice('1900-03-01', '2015-03-01'))\n",
    "marchmean = ((marchSLP*weights).mean({'lon', 'lat'})/weights.mean())\n",
    "\n",
    "maydata = slp_anom.sel(lat = slice(40, 60), lon = slice(95, 125), time = (slp_anom['time.month']==5))\n",
    "maySLP = maydata.sel(time = slice('1900-05-01', '2015-05-01'))\n",
    "maymean = ((maySLP*weights).mean({'lon', 'lat'})/weights.mean())\n",
    "\n",
    "marchmean.time.data = maymean.time.data\n",
    "NATinitial = maymean - marchmean\n",
    "#print(NATinitial)\n",
    "NATstd = NATinitial.std()\n",
    "NATmean = NATinitial.mean()\n",
    "NAT = (NATinitial - NATmean)/NATstd"
   ]
  },
  {
   "cell_type": "code",
   "execution_count": 25,
   "metadata": {},
   "outputs": [
    {
     "name": "stdout",
     "output_type": "stream",
     "text": [
      "<xarray.DataArray (time: 88)>\n",
      "array([-1.068893,  0.755654, -0.12527 ,  0.599036, -1.890579, -0.034174,\n",
      "        0.13958 , -0.239572,  0.238692,  0.437342,  0.731064, -0.502504,\n",
      "       -1.75183 , -0.134084,  1.291167,  0.963258, -0.115369,  0.992072,\n",
      "       -1.714047, -0.177566, -0.864392,  0.914149, -0.850064, -0.146981,\n",
      "        1.098344, -0.23197 ,  0.951411, -2.40728 , -0.407965, -0.562247,\n",
      "        0.41978 ,  1.46196 ,  1.423092, -0.093212, -0.260565, -0.936379,\n",
      "        0.20943 , -0.958688,  0.570385,  0.110958,  0.948243,  0.556542,\n",
      "       -1.239539, -0.332461, -1.195328,  0.850039,  1.538866, -0.598748,\n",
      "        0.187332,  2.317948, -1.085157, -2.437565, -1.39872 ,  0.21747 ,\n",
      "       -0.744242,  0.601322, -1.121179,  0.136418,  0.589953,  0.822986,\n",
      "        0.286184, -0.687328, -1.442452,  0.29634 ,  0.310177, -0.831618,\n",
      "        0.78558 ,  0.481044, -0.659407,  0.256803, -2.025287,  0.561287,\n",
      "        0.551788, -0.220278,  0.124549,  0.427256,  0.631208,  3.402901,\n",
      "        0.657332, -1.230018,  1.425591,  1.283391, -0.308128, -0.802365,\n",
      "       -0.334189,  0.667994, -0.066114,  0.009839], dtype=float32)\n",
      "Coordinates:\n",
      "  * time     (time) datetime64[ns] 1900-05-01 1901-05-01 ... 2015-05-01\n"
     ]
    }
   ],
   "source": [
    "print(NAT)"
   ]
  },
  {
   "cell_type": "code",
   "execution_count": 75,
   "metadata": {},
   "outputs": [
    {
     "name": "stdout",
     "output_type": "stream",
     "text": [
      "<xarray.DataArray 'precip' (time: 88)>\n",
      "array([692.69995, 635.5    , 721.3    , 692.7    , 589.2    , 743.9    ,\n",
      "       778.7    , 780.4    , 767.8    , 601.     , 737.5    , 662.69995,\n",
      "       795.10004, 807.80005, 633.3    , 642.4    , 699.5    , 690.8    ,\n",
      "       676.3    , 766.8    , 744.5    , 746.39996, 736.8    , 685.2    ,\n",
      "       730.3    , 775.3    , 687.2    , 802.4    , 720.1    , 813.1    ,\n",
      "       665.6    , 653.2    , 819.6    , 740.60004, 820.6    , 738.7    ,\n",
      "       819.10004, 749.1    , 755.89996, 664.     , 739.7    , 779.69995,\n",
      "       689.     , 773.4    , 716.9    , 735.30005, 764.1    , 601.3    ,\n",
      "       724.5    , 651.4    , 715.8    , 790.5    , 797.69995, 776.2    ,\n",
      "       668.3    , 775.5    , 745.4    , 799.5    , 608.7    , 712.2    ,\n",
      "       664.8    , 733.2    , 656.19995, 673.     , 604.4    , 806.2    ,\n",
      "       743.4    , 826.4    , 740.2    , 688.69995, 847.80005, 728.5    ,\n",
      "       736.3    , 728.     , 689.5    , 740.4    , 739.     , 574.2    ,\n",
      "       700.5    , 670.5    , 815.6    , 754.9    , 603.5    , 748.5    ,\n",
      "       647.5    , 842.3    , 631.     , 648.     ], dtype=float32)\n",
      "Coordinates:\n",
      "  * time     (time) datetime64[ns] 1900-05-01 1901-05-01 ... 2015-05-01\n"
     ]
    }
   ],
   "source": [
    "rainfallstd = precipa_jjas.std()\n",
    "rainfallmean = precipa_jjas.mean()"
   ]
  },
  {
   "cell_type": "markdown",
   "metadata": {},
   "source": [
    "# Model Comparisons"
   ]
  },
  {
   "cell_type": "code",
   "execution_count": 72,
   "metadata": {},
   "outputs": [],
   "source": [
    "AIRIoriginal = 0.47*EPT + 0.19*CPT + 0.23*PSH - 0.24*NAT\n",
    "AIRInew = 0.39*EPT + 0.24*CPT + 0.11*PSH - 0.23*NAT\n",
    "\n",
    "finaloriginal = (AIRIoriginal * rainfallstd) + rainfallmean\n",
    "finalnew = (AIRInew * rainfallstd) + rainfallmean\n",
    "\n",
    "precipa_jjas.time.data = finalnew.time.data"
   ]
  },
  {
   "cell_type": "code",
   "execution_count": 73,
   "metadata": {},
   "outputs": [
    {
     "name": "stdout",
     "output_type": "stream",
     "text": [
      "original coefficients correlation to precipitation 0.5407150648679302\n",
      "cross validation coefficients correlation to precipitation 0.5506092700944802\n"
     ]
    }
   ],
   "source": [
    "originalCorrelation = correlation(finaloriginal, precipa_jjas, dims='time')\n",
    "newCorrelation = correlation(finalnew, precipa_jjas, dims='time')\n",
    "\n",
    "print(\"original coefficients correlation to precipitation\", originalCorrelation.data)\n",
    "print(\"cross validation coefficients correlation to precipitation\", newCorrelation.data)"
   ]
  },
  {
   "cell_type": "code",
   "execution_count": 74,
   "metadata": {},
   "outputs": [
    {
     "data": {
      "text/plain": [
       "<matplotlib.legend.Legend at 0x2abb9ee270b8>"
      ]
     },
     "execution_count": 74,
     "metadata": {},
     "output_type": "execute_result"
    },
    {
     "data": {
      "image/png": "[encoded data removed]",
      "text/plain": [
       "<Figure size 1152x576 with 1 Axes>"
      ]
     },
     "metadata": {
      "needs_background": "light"
     },
     "output_type": "display_data"
    }
   ],
   "source": [
    "plt.figure(figsize=(16,8))\n",
    "plt.title('Coefficient Comparisons', fontsize = 'xx-large')\n",
    "finaloriginal.plot(label = 'original coefficients', color = 'forestgreen')\n",
    "finalnew.plot(label = 'new coefficients', color = 'indianred')\n",
    "\n",
    "plt.xlabel('year', fontsize = 'large')\n",
    "plt.ylabel('mm of rainfall', fontsize = 'large')\n",
    "plt.legend(loc='lower right')"
   ]
  },
  {
   "cell_type": "code",
   "execution_count": null,
   "metadata": {},
   "outputs": [],
   "source": []
  },
  {
   "cell_type": "code",
   "execution_count": null,
   "metadata": {},
   "outputs": [],
   "source": []
  }
 ],
 "metadata": {
  "kernelspec": {
   "display_name": "xarrayenv2",
   "language": "python",
   "name": "xarrayenv2"
  },
  "language_info": {
   "codemirror_mode": {
    "name": "ipython",
    "version": 3
   },
   "file_extension": ".py",
   "mimetype": "text/x-python",
   "name": "python",
   "nbconvert_exporter": "python",
   "pygments_lexer": "ipython3",
   "version": "3.7.3"
  }
 },
 "nbformat": 4,
 "nbformat_minor": 2
}
