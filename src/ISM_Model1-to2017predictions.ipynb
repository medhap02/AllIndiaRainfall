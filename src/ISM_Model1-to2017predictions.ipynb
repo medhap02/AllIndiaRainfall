{
 "cells": [
  {
   "cell_type": "code",
   "execution_count": 1,
   "metadata": {
    "scrolled": true
   },
   "outputs": [
    {
     "name": "stdout",
     "output_type": "stream",
     "text": [
      "Once deleted, variables cannot be recovered. Proceed (y/[n])? y\n"
     ]
    }
   ],
   "source": [
    "%reset"
   ]
  },
  {
   "cell_type": "code",
   "execution_count": 2,
   "metadata": {},
   "outputs": [
    {
     "name": "stdout",
     "output_type": "stream",
     "text": [
      "1.5.5\n",
      "python version:\n",
      "3.7.3\n"
     ]
    }
   ],
   "source": [
    "import numpy as np\n",
    "import matplotlib \n",
    "import matplotlib.pyplot as plt\n",
    "import mpl_toolkits\n",
    "#from mpl_toolkits.basemap import Basemap\n",
    "import pandas as pd\n",
    "import xarray as xr\n",
    "import Nio\n",
    "print (Nio.__version__)\n",
    "import seaborn as seabornInstance \n",
    "import sklearn\n",
    "\n",
    "print(\"python version:\")\n",
    "import platform\n",
    "print(platform.python_version())"
   ]
  },
  {
   "cell_type": "code",
   "execution_count": 3,
   "metadata": {},
   "outputs": [
    {
     "data": {
      "text/plain": [
       "<xarray.DataArray 'sst' (time: 2004, lat: 89, lon: 180)>\n",
       "[32104080 values with dtype=float32]\n",
       "Coordinates:\n",
       "  * time     (time) datetime64[ns] 1854-01-01 1854-02-01 ... 2020-12-01\n",
       "  * lat      (lat) float64 -88.0 -86.0 -84.0 -82.0 -80.0 ... 82.0 84.0 86.0 88.0\n",
       "  * lon      (lon) float64 0.0 2.0 4.0 6.0 8.0 ... 350.0 352.0 354.0 356.0 358.0\n",
       "Attributes:\n",
       "    long_name:  extended reconstructed sea surface temperature [degree c] "
      ]
     },
     "execution_count": 3,
     "metadata": {},
     "output_type": "execute_result"
    }
   ],
   "source": [
    "sstdat = xr.open_dataset('http://apdrc.soest.hawaii.edu/dods/public_data/NOAA_SST/ERSST/monthly_v5')\n",
    "#sstdat\n",
    "sst = sstdat['sst']\n",
    "sst\n",
    "\n",
    "#note: lat & lon go by scale of 2 degrees"
   ]
  },
  {
   "cell_type": "code",
   "execution_count": 4,
   "metadata": {
    "scrolled": true
   },
   "outputs": [
    {
     "data": {
      "text/plain": [
       "<xarray.DataArray 'slp' (time: 2029, lat: 37, lon: 72)>\n",
       "[5405256 values with dtype=float32]\n",
       "Coordinates:\n",
       "  * lat      (lat) float32 90.0 85.0 80.0 75.0 70.0 ... -75.0 -80.0 -85.0 -90.0\n",
       "  * lon      (lon) float32 0.0 5.0 10.0 15.0 20.0 ... 340.0 345.0 350.0 355.0\n",
       "  * time     (time) datetime64[ns] 1850-01-01 1850-02-01 ... 2019-01-01\n",
       "Attributes:\n",
       "    long_name:             Monthly Mean Sea Level Pressure\n",
       "    unpacked_valid_range:  [ 850. 1400.]\n",
       "    actual_range:          [ 953.9066 1052.5088]\n",
       "    units:                 mb\n",
       "    precision:             1\n",
       "    var_desc:              Sea Level Pressure\n",
       "    dataset:               HadSLP2\n",
       "    level_desc:            Surface\n",
       "    statistic:             Mean\n",
       "    parent_stat:           Individual Observation\n",
       "    valid_range:           [-32765  32765]"
      ]
     },
     "execution_count": 4,
     "metadata": {},
     "output_type": "execute_result"
    }
   ],
   "source": [
    "slpdat = xr.open_dataset('slp.mnmean.real.nc')\n",
    "#slpdat\n",
    "slp = slpdat['slp']\n",
    "slp\n",
    "\n",
    "\n",
    "\n",
    "#note: lat & lon go by scale of 5 degrees"
   ]
  },
  {
   "cell_type": "code",
   "execution_count": 5,
   "metadata": {},
   "outputs": [
    {
     "data": {
      "text/plain": [
       "\"\\nprecipdat = xr.open_dataset('precip.mon.mean.nc')\\n#precipdat\\nprecip = precipdat['precip']\\nprecip\\n\""
      ]
     },
     "execution_count": 5,
     "metadata": {},
     "output_type": "execute_result"
    }
   ],
   "source": [
    "'''\n",
    "precipdat = xr.open_dataset('precip.mon.mean.nc')\n",
    "#precipdat\n",
    "precip = precipdat['precip']\n",
    "precip\n",
    "'''"
   ]
  },
  {
   "cell_type": "code",
   "execution_count": 6,
   "metadata": {},
   "outputs": [
    {
     "data": {
      "text/plain": [
       "<xarray.Dataset>\n",
       "Dimensions:  (data: 1068, int: 1068, time: 1068)\n",
       "Coordinates:\n",
       "  * data     (data) float32 15.3 6.7 10.3 38.5 40.6 ... 205.6 50.2 22.5 10.2\n",
       "  * time     (time) datetime64[ns] 1900-01-31 1900-02-28 ... 1988-12-31\n",
       "Dimensions without coordinates: int\n",
       "Data variables:\n",
       "    foo      (int) int64 0 1 2 3 4 5 6 7 ... 1061 1062 1063 1064 1065 1066 1067"
      ]
     },
     "execution_count": 6,
     "metadata": {},
     "output_type": "execute_result"
    }
   ],
   "source": [
    "precipdat = xr.open_dataset('data/AIRI/pALLIN_1900:1988_1900:1988.nc', decode_times=False)\n",
    "precipdat\n",
    "time = pd.date_range('1900-01-01', freq='M', periods=1068)\n",
    "precip = xr.Dataset({'data': ('data', precipdat['precip']), 'time': time, 'foo': ('int', np.arange(1068))})\n",
    "precip"
   ]
  },
  {
   "cell_type": "code",
   "execution_count": 7,
   "metadata": {},
   "outputs": [],
   "source": [
    "#precip.mean(axis=0).plot.contourf()"
   ]
  },
  {
   "cell_type": "code",
   "execution_count": 8,
   "metadata": {},
   "outputs": [],
   "source": [
    "#slp.time"
   ]
  },
  {
   "cell_type": "code",
   "execution_count": 9,
   "metadata": {},
   "outputs": [],
   "source": [
    "#maySST1.time.data = marchSST1.time.data\n",
    "#maySST1"
   ]
  },
  {
   "cell_type": "markdown",
   "metadata": {},
   "source": [
    "maySST1"
   ]
  },
  {
   "cell_type": "code",
   "execution_count": 10,
   "metadata": {},
   "outputs": [
    {
     "name": "stdout",
     "output_type": "stream",
     "text": [
      "<xarray.DataArray (time: 118)>\n",
      "array([-0.106976, -0.251422, -1.241294,  0.465158, -1.274338, -0.671393,\n",
      "        1.274047, -0.189429,  0.528859, -0.089656,  0.147374, -1.059527,\n",
      "        0.824667,  0.150025,  0.081377, -0.517326,  0.272274, -0.42827 ,\n",
      "       -0.51721 , -0.281727,  0.653641, -0.359796,  0.081853, -0.480328,\n",
      "        0.090991,  0.007025,  0.051119, -0.142069, -0.092793, -0.492864,\n",
      "       -0.52233 ,  0.776279, -1.043112,  0.165787,  0.028621, -0.900746,\n",
      "       -0.085271,  0.255577,  0.451604, -0.848844, -0.346591, -0.163078,\n",
      "        1.110234, -0.314664,  0.009127, -0.449154, -0.093069,  0.912869,\n",
      "        1.134274, -0.336539,  0.098147, -0.332115,  0.644082, -0.29495 ,\n",
      "        0.966212,  0.230685,  0.715894, -0.624445, -0.318119,  0.709384,\n",
      "        0.509534,  0.216731, -0.150298, -0.065253,  1.073105, -0.991001,\n",
      "       -0.034543, -0.251549, -0.198961, -0.488072,  0.00334 , -0.066313,\n",
      "       -0.905693,  0.526287, -0.49546 ,  0.482486, -0.534162,  0.266194,\n",
      "        0.336988, -0.690678, -0.308543,  0.178804, -0.488882, -0.276269,\n",
      "        0.351954,  0.291702,  0.251251, -0.11056 ,  0.375381,  0.062575,\n",
      "       -0.269151, -0.236699, -0.590948, -0.649969, -0.296119,  0.513607,\n",
      "        0.290934, -1.2447  ,  0.377626,  0.334735, -0.378564,  0.088426,\n",
      "        0.359869,  0.955999,  0.3152  , -0.615377,  0.197757,  0.554579,\n",
      "       -0.438116, -0.866399,  0.334859, -0.420682, -0.197211,  0.597614,\n",
      "       -0.367873, -1.17303 ,  0.456931,  0.294046])\n",
      "Coordinates:\n",
      "  * time     (time) datetime64[ns] 1900-05-01 1901-05-01 ... 2017-05-01\n",
      "<xarray.DataArray (time: 89)>\n",
      "array([-0.106976, -0.251422, -1.241294,  0.465158, -1.274338, -0.671393,\n",
      "        1.274047, -0.189429,  0.528859, -0.089656,  0.147374, -1.059527,\n",
      "        0.824667,  0.150025,  0.081377, -0.517326,  0.272274, -0.42827 ,\n",
      "       -0.51721 , -0.281727,  0.653641, -0.359796,  0.081853, -0.480328,\n",
      "        0.090991,  0.007025,  0.051119, -0.142069, -0.092793, -0.492864,\n",
      "       -0.52233 ,  0.776279, -1.043112,  0.165787,  0.028621, -0.900746,\n",
      "       -0.085271,  0.255577,  0.451604, -0.848844, -0.346591, -0.163078,\n",
      "        1.110234, -0.314664,  0.009127, -0.449154, -0.093069,  0.912869,\n",
      "        1.134274, -0.336539,  0.098147, -0.332115,  0.644082, -0.29495 ,\n",
      "        0.966212,  0.230685,  0.715894, -0.624445, -0.318119,  0.709384,\n",
      "        0.509534,  0.216731, -0.150298, -0.065253,  1.073105, -0.991001,\n",
      "       -0.034543, -0.251549, -0.198961, -0.488072,  0.00334 , -0.066313,\n",
      "       -0.905693,  0.526287, -0.49546 ,  0.482486, -0.534162,  0.266194,\n",
      "        0.336988, -0.690678, -0.308543,  0.178804, -0.488882, -0.276269,\n",
      "        0.351954,  0.291702,  0.251251, -0.11056 ,  0.375381])\n",
      "Coordinates:\n",
      "  * time     (time) datetime64[ns] 1900-05-01 1901-05-01 ... 1988-05-01\n"
     ]
    }
   ],
   "source": [
    "#EP-ENSOpredictor\n",
    "\n",
    "'''set #1'''\n",
    "latrange1 = sst.sel(lat = slice(-20, 5)).lat\n",
    "weights1 = np.cos(latrange1*np.pi/180)\n",
    "\n",
    "marchdata1 = sst.sel(lat = slice(-20, 5), lon = slice(150, 170), time = (sst['time.month']==3))\n",
    "marchSST1 = marchdata1.sel(time = slice('1900-03-01', '2017-03-01'))\n",
    "\n",
    "marchmean1 = (marchSST1*weights1).mean({'lon', 'lat'})/weights1.mean()\n",
    "#marchmean1\n",
    "\n",
    "marchcalculation1 = (marchdata1.sel(time = slice('1900-03-01', '1988-03-01'))*weights1).mean({'lon', 'lat'})/weights1.mean()\n",
    "\n",
    "maydata1 = sst.sel(lat = slice(-20, 5), lon = slice(150, 170), time = (sst['time.month']==5))\n",
    "maySST1 = maydata1.sel(time = slice('1900-05-01', '2017-05-01'))\n",
    "\n",
    "maymean1 = (maySST1*weights1).mean({'lon', 'lat'})/weights1.mean()\n",
    "#maymean1\n",
    "\n",
    "maycalculation1 = (maydata1.sel(time = slice('1900-05-01', '1988-05-01'))*weights1).mean({'lon', 'lat'})/weights1.mean()\n",
    "\n",
    "marchmean1.time.data = maymean1.time.data\n",
    "marchcalculation1.time.data = maycalculation1.time.data\n",
    "\n",
    "DSST1 = maymean1 - marchmean1\n",
    "#DSST1\n",
    "\n",
    "DSSTcalculation1 = maycalculation1 - marchcalculation1\n",
    "\n",
    "'''set #2'''\n",
    "latrange2 = sst.sel(lat = slice(-10, 10)).lat\n",
    "weights2 = np.cos(latrange2*np.pi/180)\n",
    "\n",
    "marchdata2 = sst.sel(lat = slice(-10, 10), lon = slice(250, 280), time = (sst['time.month']==3))\n",
    "marchSST2 = marchdata2.sel(time = slice('1900-03-01', '2017-03-01'))\n",
    "\n",
    "marchmean2 = (marchSST2*weights2).mean({'lon', 'lat'})/weights2.mean()\n",
    "#marchmean2\n",
    "\n",
    "marchcalculation2 = (marchdata2.sel(time = slice('1900-03-01', '1988-03-01'))*weights2).mean({'lon', 'lat'})/weights2.mean()\n",
    "\n",
    "maydata2 = sst.sel(lat = slice(-10, 10), lon = slice(250, 280), time = (sst['time.month']==5))\n",
    "maySST2 = maydata2.sel(time = slice('1900-05-01', '2017-05-01'))\n",
    "\n",
    "maymean2 = (maySST2*weights2).mean({'lon', 'lat'})/weights2.mean()\n",
    "#maymean2\n",
    "\n",
    "maycalculation2 = (maydata2.sel(time = slice('1900-05-01', '1988-05-01'))*weights2).mean({'lon', 'lat'})/weights2.mean()\n",
    "\n",
    "marchmean2.time.data = maymean2.time.data\n",
    "marchcalculation2.time.data = maycalculation2.time.data\n",
    "\n",
    "DSST2 = (maymean2 - marchmean2)\n",
    "#DSST2\n",
    "\n",
    "DSSTcalculation2 = maycalculation2 - marchcalculation2\n",
    "\n",
    "EPT = DSST1 - DSST2\n",
    "print (EPT)\n",
    "\n",
    "EPTcalculation = DSSTcalculation1 - DSSTcalculation2\n",
    "print (EPTcalculation)"
   ]
  },
  {
   "cell_type": "code",
   "execution_count": 11,
   "metadata": {},
   "outputs": [
    {
     "data": {
      "text/plain": [
       "<xarray.DataArray (time: 118)>\n",
       "array([-0.129449, -0.393763, -2.205077,  0.917469, -2.265542, -1.162246,\n",
       "        2.397611, -0.280326,  1.034031, -0.097756,  0.335973, -1.872471,\n",
       "        1.575314,  0.340823,  0.215208, -0.880325,  0.564521, -0.717368,\n",
       "       -0.880115, -0.449216,  1.262363, -0.59207 ,  0.21608 , -0.812625,\n",
       "        0.232801,  0.079156,  0.15984 , -0.193664, -0.103495, -0.835565,\n",
       "       -0.889484,  1.486772, -1.842434,  0.369666,  0.118674, -1.581926,\n",
       "       -0.089732,  0.533967,  0.892666, -1.486953, -0.567908, -0.232107,\n",
       "        2.097859, -0.509486,  0.083002, -0.755582, -0.104002,  1.736711,\n",
       "        2.141847, -0.549514,  0.245895, -0.541418,  1.244872, -0.473413,\n",
       "        1.834321,  0.488419,  1.376278, -1.076338, -0.515807,  1.364365,\n",
       "        0.99867 ,  0.462885, -0.208721, -0.053102,  2.029918, -1.747079,\n",
       "        0.003093, -0.393995, -0.297766, -0.826796,  0.072413, -0.055042,\n",
       "       -1.590978,  1.029325, -0.840315,  0.949175, -0.911133,  0.553395,\n",
       "        0.682937, -1.197533, -0.498285,  0.393485, -0.828278, -0.43923 ,\n",
       "        0.710323,  0.600071,  0.526052, -0.136006,  0.75319 ,  0.180804,\n",
       "       -0.426203, -0.366821, -1.015043, -1.123042, -0.475552,  1.006123,\n",
       "        0.598666, -2.21131 ,  0.757298,  0.678815, -0.626413,  0.228107,\n",
       "        0.724806,  1.815632,  0.643068, -1.059744,  0.428166,  1.081095,\n",
       "       -0.735384, -1.519077,  0.679041, -0.703482, -0.294565,  1.159843,\n",
       "       -0.60685 , -2.080163,  0.902415,  0.60436 ])\n",
       "Coordinates:\n",
       "  * time     (time) datetime64[ns] 1900-05-01 1901-05-01 ... 2017-05-01"
      ]
     },
     "execution_count": 11,
     "metadata": {},
     "output_type": "execute_result"
    }
   ],
   "source": [
    "EPT = (DSST1 - DSST2) - EPTcalculation.mean()\n",
    "EPTstd = 0.546494\n",
    "EPT = EPT / EPTstd\n",
    "EPT"
   ]
  },
  {
   "cell_type": "code",
   "execution_count": null,
   "metadata": {},
   "outputs": [],
   "source": []
  },
  {
   "cell_type": "code",
   "execution_count": 12,
   "metadata": {},
   "outputs": [
    {
     "name": "stdout",
     "output_type": "stream",
     "text": [
      "<xarray.DataArray (time: 118)>\n",
      "array([-0.849155, -1.486921, -1.143121, -1.033298, -1.45798 , -1.585492,\n",
      "       -1.02882 , -0.840201, -0.97147 , -0.743902, -1.77659 , -1.124135,\n",
      "       -1.023065, -0.717028, -1.16801 , -1.187914, -1.101848, -0.608028,\n",
      "       -1.005963, -1.1634  , -1.619158, -1.016702, -1.054611, -1.019223,\n",
      "       -1.081166, -1.116747, -0.982662, -0.99921 , -0.966194, -1.145223,\n",
      "       -1.184758, -1.083666, -0.67092 , -0.943524, -1.153415, -1.026588,\n",
      "       -1.176003, -1.125668, -0.901866, -0.707016, -0.913175, -1.193116,\n",
      "       -1.083845, -0.779773, -1.000695, -1.467114, -1.270029, -0.944824,\n",
      "       -1.525849, -1.268549, -1.356658, -1.60923 , -1.055757, -1.22592 ,\n",
      "       -1.070093, -0.944811, -0.670137, -0.985793, -0.980017, -0.872251,\n",
      "       -1.074058, -0.73188 , -1.044071, -0.776829, -0.727156, -1.429415,\n",
      "       -1.416999, -1.195584, -0.931289, -1.25606 , -0.6078  , -0.934107,\n",
      "       -1.173827, -1.329571, -1.13584 , -0.963596, -1.097996, -0.897503,\n",
      "       -0.739348, -0.877085, -1.555318, -1.133111, -1.112933, -1.007405,\n",
      "       -1.351149, -1.230375, -1.243135, -1.480965, -1.106585, -0.94569 ,\n",
      "       -0.586382, -1.271176, -1.20759 , -1.113826, -1.194332, -0.976677,\n",
      "       -1.409504, -1.250007, -0.615411, -1.438678, -1.347536, -1.209966,\n",
      "       -1.230012, -0.844177, -0.977889, -1.073311, -0.789786, -0.992638,\n",
      "       -1.091254, -1.24673 , -0.949123, -0.808202, -0.979325, -1.073983,\n",
      "       -0.996789, -1.029081, -0.917142, -1.124016])\n",
      "Coordinates:\n",
      "  * time     (time) datetime64[ns] 1900-05-01 1901-05-01 ... 2017-05-01\n",
      "<xarray.DataArray ()>\n",
      "array(-1.080165)\n",
      "<xarray.DataArray ()>\n",
      "array(-1.087295)\n"
     ]
    }
   ],
   "source": [
    "#CP-ENSOpredictor\n",
    "\n",
    "'''set #1'''\n",
    "latrange1= sst.sel(lat = slice(-25, -10)).lat\n",
    "weights1= np.cos(latrange1*np.pi/180)\n",
    "\n",
    "aprildata1= sst.sel(lat = slice(-25, -10), lon = slice(170, 200), time = (sst['time.month']==4))\n",
    "aprilSST1= aprildata1.sel(time = slice('1900-04-01', '2017-04-01'))\n",
    "\n",
    "aprilmean1= (aprilSST1*weights1).mean({'lon', 'lat'})/weights1.mean()\n",
    "#aprilmean1\n",
    "\n",
    "aprilcalculation1 = (aprildata1.sel(time = slice('1900-04-01', '1988-04-01'))*weights1).mean({'lon', 'lat'})/weights1.mean()\n",
    "\n",
    "maydata1= sst.sel(lat = slice(-25, -10), lon = slice(170, 200), time = (sst['time.month']==5))\n",
    "maySST1= maydata1.sel(time = slice('1900-05-01', '2017-05-01'))\n",
    "\n",
    "maymean1= (maySST1*weights1).mean({'lon', 'lat'})/weights1.mean()\n",
    "#maymean1\n",
    "\n",
    "maycalculation1 = (maydata1.sel(time = slice('1900-05-01', '1988-05-01'))*weights1).mean({'lon', 'lat'})/weights1.mean()\n",
    "\n",
    "aprilmean1.time.data = maymean1.time.data\n",
    "aprilcalculation1.time.data = maycalculation1.time.data\n",
    "\n",
    "DSST1 = maymean1 - aprilmean1\n",
    "#DSST1\n",
    "\n",
    "DSSTcalculation1 = maycalculation1 - aprilcalculation1\n",
    "\n",
    "'''set #2'''\n",
    "latrange2= sst.sel(lat = slice(5, 20)).lat\n",
    "weights2= np.cos(latrange2*np.pi/180)\n",
    "\n",
    "aprildata2= sst.sel(lat = slice(5, 20), lon = slice(180, 210), time = (sst['time.month']==4))\n",
    "aprilSST2= aprildata2.sel(time = slice('1900-04-01', '2017-04-01'))\n",
    "\n",
    "aprilmean2= (aprilSST2*weights2).mean({'lon', 'lat'})/weights2.mean()\n",
    "#aprilmean2\n",
    "\n",
    "aprilcalculation2 = (aprildata2.sel(time = slice('1900-04-01', '1988-04-01'))*weights2).mean({'lon', 'lat'})/weights2.mean()\n",
    "\n",
    "maydata2= sst.sel(lat = slice(5, 20), lon = slice(180, 210), time = (sst['time.month']==5))\n",
    "maySST2= maydata2.sel(time = slice('1900-05-01', '2017-05-01'))\n",
    "\n",
    "maymean2= (maySST2*weights2).mean({'lon', 'lat'})/weights2.mean()\n",
    "#maymean2\n",
    "\n",
    "maycalculation2 = (maydata2.sel(time = slice('1900-05-01', '1988-05-01'))*weights2).mean({'lon', 'lat'})/weights2.mean()\n",
    "\n",
    "aprilmean2.time.data = maymean2.time.data\n",
    "aprilcalculation2.time.data = maycalculation2.time.data\n",
    "\n",
    "DSST2 = maymean2 - aprilmean2\n",
    "#DSST2\n",
    "\n",
    "DSSTcalculation2 = maycalculation2 - aprilcalculation2\n",
    "\n",
    "CPT = DSST1 - DSST2\n",
    "print (CPT)\n",
    "\n",
    "CPTcalculation = DSSTcalculation1 - DSSTcalculation2\n",
    "\n",
    "print (CPT.mean())\n",
    "print (CPTcalculation.mean())"
   ]
  },
  {
   "cell_type": "code",
   "execution_count": null,
   "metadata": {},
   "outputs": [],
   "source": [
    "CPT = (DSST1 - DSST2) - CPTcalculation.mean()\n",
    "CPTstd = 0.243743\n",
    "CPT = CPT / CPTstd\n",
    "CPT"
   ]
  },
  {
   "cell_type": "code",
   "execution_count": 14,
   "metadata": {},
   "outputs": [
    {
     "ename": "NameError",
     "evalue": "name 'slp' is not defined",
     "output_type": "error",
     "traceback": [
      "\u001b[0;31m---------------------------------------------------------------------------\u001b[0m",
      "\u001b[0;31mNameError\u001b[0m                                 Traceback (most recent call last)",
      "\u001b[0;32m<ipython-input-14-fd34c13ce69e>\u001b[0m in \u001b[0;36m<module>\u001b[0;34m\u001b[0m\n\u001b[1;32m      2\u001b[0m \u001b[0;34m\u001b[0m\u001b[0m\n\u001b[1;32m      3\u001b[0m \u001b[0;34m'''set #1'''\u001b[0m\u001b[0;34m\u001b[0m\u001b[0;34m\u001b[0m\u001b[0m\n\u001b[0;32m----> 4\u001b[0;31m \u001b[0mlatrange1\u001b[0m \u001b[0;34m=\u001b[0m \u001b[0mslp\u001b[0m\u001b[0;34m.\u001b[0m\u001b[0msel\u001b[0m\u001b[0;34m(\u001b[0m\u001b[0mlat\u001b[0m \u001b[0;34m=\u001b[0m \u001b[0mslice\u001b[0m\u001b[0;34m(\u001b[0m\u001b[0;34m-\u001b[0m\u001b[0;36m10\u001b[0m\u001b[0;34m,\u001b[0m \u001b[0;34m-\u001b[0m\u001b[0;36m40\u001b[0m\u001b[0;34m)\u001b[0m\u001b[0;34m)\u001b[0m\u001b[0;34m.\u001b[0m\u001b[0mlat\u001b[0m\u001b[0;34m\u001b[0m\u001b[0;34m\u001b[0m\u001b[0m\n\u001b[0m\u001b[1;32m      5\u001b[0m \u001b[0mweights1\u001b[0m \u001b[0;34m=\u001b[0m \u001b[0mnp\u001b[0m\u001b[0;34m.\u001b[0m\u001b[0mcos\u001b[0m\u001b[0;34m(\u001b[0m\u001b[0mlatrange1\u001b[0m\u001b[0;34m*\u001b[0m\u001b[0mnp\u001b[0m\u001b[0;34m.\u001b[0m\u001b[0mpi\u001b[0m\u001b[0;34m/\u001b[0m\u001b[0;36m180\u001b[0m\u001b[0;34m)\u001b[0m\u001b[0;34m\u001b[0m\u001b[0;34m\u001b[0m\u001b[0m\n\u001b[1;32m      6\u001b[0m \u001b[0;34m\u001b[0m\u001b[0m\n",
      "\u001b[0;31mNameError\u001b[0m: name 'slp' is not defined"
     ]
    }
   ],
   "source": [
    "#mega-ENSOpredictor\n",
    "\n",
    "'''set #1'''\n",
    "latrange1 = slp.sel(lat = slice(-10, -40)).lat\n",
    "weights1 = np.cos(latrange1*np.pi/180)\n",
    "\n",
    "aprildata1 = slp.sel(lat = slice(-10, -40), lon = slice(200, 270), time = (slp['time.month']==4))\n",
    "aprilSLP1 = aprildata1.sel(time = slice('1900-04-01', '2017-04-01'))\n",
    "\n",
    "aprilmean1 = (aprilSLP1*weights1).mean({'lon', 'lat'})/weights1.mean()\n",
    "#aprilmean1\n",
    "\n",
    "aprilcalculation1 = ((aprildata1.sel(time = slice('1900-04-01', '1988-04-01')))*weights1).mean({'lon', 'lat'})/weights1.mean()\n",
    "\n",
    "maydata1 = slp.sel(lat = slice(-10, -40), lon = slice(200, 270), time = (slp['time.month']==5))\n",
    "maySLP1 = maydata1.sel(time = slice('1900-05-01', '2017-05-01'))\n",
    "\n",
    "maymean1 = (maySLP1*weights1).mean({'lon', 'lat'})/weights1.mean()\n",
    "#maymean1\n",
    "\n",
    "maycalculation1 = ((maydata1.sel(time = slice('1900-05-01', '1988-05-01')))*weights1).mean({'lon', 'lat'})/weights1.mean()\n",
    "\n",
    "aprilmean1.time.data = maymean1.time.data\n",
    "aprilcalculation1.time.data = maycalculation1.time.data\n",
    "\n",
    "NP = ((aprilmean1 + maymean1)/2)\n",
    "#NP\n",
    "\n",
    "NPcalculation = ((aprilcalculation1 + maycalculation1)/2)\n",
    "\n",
    "'''set#2'''\n",
    "latrange2 = slp.sel(lat = slice(30, 10)).lat\n",
    "weights2 = np.cos(latrange2*np.pi/180)\n",
    "\n",
    "aprildata2 = slp.sel(lat = slice(30, 10), lon = slice(180, 230), time = (slp['time.month']==4))\n",
    "aprilSLP2 = aprildata2.sel(time = slice('1900-04-01', '2017-04-01'))\n",
    "\n",
    "aprilmean2 = (aprilSLP2*weights2).mean({'lon', 'lat'})/weights2.mean()\n",
    "#aprilmean2\n",
    "\n",
    "aprilcalculation2 = ((aprildata2.sel(time = slice('1900-04-01', '1988-04-01')))*weights2).mean({'lon', 'lat'})/weights2.mean()\n",
    "\n",
    "maydata2 = slp.sel(lat = slice(30, 10), lon = slice(180, 230), time = (slp['time.month']==5))\n",
    "maySLP2 = maydata2.sel(time = slice('1900-05-01', '2017-05-01'))\n",
    "\n",
    "maymean2 = (maySLP2*weights2).mean({'lon', 'lat'})/weights2.mean()\n",
    "#maymean2\n",
    "\n",
    "maycalculation2 = ((maydata2.sel(time = slice('1900-05-01', '1988-05-01')))*weights2).mean({'lon', 'lat'})/weights2.mean()\n",
    "\n",
    "aprilmean2.time.data = maymean2.time.data\n",
    "aprilcalculation2.time.data = maycalculation2.time.data\n",
    "\n",
    "SP = ((aprilmean2 + maymean2)/2)\n",
    "#SP\n",
    "\n",
    "SPcalculation = ((aprilcalculation2 + maycalculation2)/2)\n",
    "\n",
    "#30*weigths\n",
    "NParea = (30*weights1.mean() * 60)\n",
    "SParea = (20*weights2.mean() * 50)\n",
    "PSH = ((NP * NParea) + (SP * SParea))/(NParea + SParea)\n",
    "print (PSH)\n",
    "\n",
    "PSHcalculation = ((NPcalculation * NParea) + (SPcalculation * SParea))/(NParea + SParea)\n",
    "#confirm that this is how you calculate the PSH"
   ]
  },
  {
   "cell_type": "code",
   "execution_count": null,
   "metadata": {},
   "outputs": [],
   "source": [
    "temp = PSH - PSHcalculation.mean()\n",
    "PSHstd = 0.430541\n",
    "PSH = temp / PSHstd\n",
    "print (PSH)"
   ]
  },
  {
   "cell_type": "code",
   "execution_count": null,
   "metadata": {},
   "outputs": [],
   "source": [
    "#AnomalousAsianLowpredictor\n",
    "\n",
    "latrange = slp.sel(lat = slice(60, 40)).lat\n",
    "weights = np.cos(latrange*np.pi/180)\n",
    "\n",
    "marchdata = slp.sel(lat = slice(60, 40), lon = slice(95, 125), time = (slp['time.month']==3))\n",
    "marchSLP = marchdata.sel(time = slice('1900-03-01', '2017-03-01'))\n",
    "\n",
    "marchmean = (marchSLP*weights).mean({'lon', 'lat'})/weights.mean()\n",
    "#marchmean\n",
    "\n",
    "maydata = slp.sel(lat = slice(60, 40), lon = slice(95, 125), time = (slp['time.month']==5))\n",
    "maySLP = maydata.sel(time = slice('1900-05-01', '2017-05-01'))\n",
    "\n",
    "maymean = (maySLP*weights).mean({'lon', 'lat'})/weights.mean()\n",
    "#maymean\n",
    "\n",
    "marchcalculation = ((marchdata.sel(time = slice('1900-03-01', '1988-03-01')))*weights).mean({'lon', 'lat'})/weights.mean()\n",
    "maycalculation = ((maydata.sel(time = slice('1900-05-01', '1988-05-01')))*weights).mean({'lon', 'lat'})/weights.mean()\n",
    "\n",
    "marchmean.time.data = maymean.time.data\n",
    "marchcalculation.time.data = maycalculation.time.data\n",
    "\n",
    "NAT = maymean - marchmean\n",
    "print (NAT)\n",
    "\n",
    "NATcalculation =maycalculation - marchcalculation"
   ]
  },
  {
   "cell_type": "code",
   "execution_count": null,
   "metadata": {},
   "outputs": [],
   "source": [
    "NAT = maymean - marchmean - NATcalculation.mean()\n",
    "NATstd = 1.648686\n",
    "NAT = NAT / NATstd\n",
    "NAT"
   ]
  },
  {
   "cell_type": "code",
   "execution_count": null,
   "metadata": {},
   "outputs": [],
   "source": []
  },
  {
   "cell_type": "code",
   "execution_count": null,
   "metadata": {},
   "outputs": [],
   "source": [
    "#precipiation\n",
    "# only starts from 1979, not 1900\n",
    "'''\n",
    "latrange = precip.sel(lat = slice(32, 7.5)).lat\n",
    "weights = np.cos(latrange*np.pi/180)\n",
    "\n",
    "junedata = precip.sel(lat = slice(32, 1.5), lon = slice(67.75, 97), time = (precip['time.month']==6))\n",
    "junePRECIP = junedata.sel(time = slice('1900-06-01', '2017-06-01'))\n",
    "\n",
    "junemean = (junePRECIP*weights).mean({'lon', 'lat'})/weights.mean()\n",
    "\n",
    "julydata = precip.sel(lat = slice(32, 1.5), lon = slice(67.75, 97), time = (precip['time.month']==7))\n",
    "julyPRECIP = julydata.sel(time = slice('1900-07-01', '2017-07-01'))\n",
    "\n",
    "julymean = (julyPRECIP*weights).mean({'lon', 'lat'})/weights.mean()\n",
    "\n",
    "augustdata = precip.sel(lat = slice(32, 1.5), lon = slice(67.75, 97), time = (precip['time.month']==8))\n",
    "augustPRECIP = augustdata.sel(time = slice('1900-08-01', '2017-08-01'))\n",
    "\n",
    "augustmean = (augustPRECIP*weights).mean({'lon', 'lat'})/weights.mean()\n",
    "\n",
    "septemberdata = precip.sel(lat = slice(32, 1.5), lon = slice(67.75, 97), time = (precip['time.month']==9))\n",
    "septemberPRECIP = septemberdata.sel(time = slice('1900-09-01', '2017-09-01'))\n",
    "\n",
    "septembermean = (septemberPRECIP*weights).mean({'lon', 'lat'})/weights.mean()\n",
    "\n",
    "junemean.time.data = septembermean.time.data\n",
    "julymean.time.data = septembermean.time.data\n",
    "augustmean.time.data = septembermean.time.data\n",
    "\n",
    "rainfall = junemean*30 + julymean*31 + augustmean*31 + septembermean*30\n",
    "rainfall\n",
    "'''"
   ]
  },
  {
   "cell_type": "code",
   "execution_count": null,
   "metadata": {},
   "outputs": [],
   "source": [
    "#precipiation\n",
    "\n",
    "junenumber = []\n",
    "for x in range(1068):\n",
    "    y = (x + 1) % 12\n",
    "    if (y == 6):\n",
    "        junenumber.append(x)\n",
    "#print precip.data[junenumber]\n",
    "\n",
    "junedata = precip.sel(time = precip['time.month']==6, int = junenumber)\n",
    "junePRECIP = junedata.data[junenumber]\n",
    "#print junePRECIP\n",
    "\n",
    "julynumber = []\n",
    "for x in range(1068):\n",
    "    y = (x + 1) % 12\n",
    "    if (y == 7):\n",
    "        julynumber.append(x)\n",
    "#print precip.data[julynumber]\n",
    "\n",
    "julydata = precip.sel(time = precip['time.month']==7, int = julynumber)\n",
    "julyPRECIP = julydata.data[julynumber]\n",
    "#print julyPRECIP\n",
    "\n",
    "augustnumber = []\n",
    "for x in range(1068):\n",
    "    y = (x + 1) % 12\n",
    "    if (y == 8):\n",
    "        augustnumber.append(x)\n",
    "#print precip.data[augustnumber]\n",
    "\n",
    "augustdata = precip.sel(time = precip['time.month']==8, int = augustnumber)\n",
    "augustPRECIP = augustdata.data[augustnumber]\n",
    "#print augustPRECIP\n",
    "\n",
    "septembernumber = []\n",
    "for x in range(1068):\n",
    "    y = (x + 1) % 12\n",
    "    if (y == 9):\n",
    "        septembernumber.append(x)\n",
    "#print precip.data[septembernumber]\n",
    "\n",
    "septemberdata = precip.sel(time = precip['time.month']==9, int = septembernumber)\n",
    "septemberPRECIP = septemberdata.data[septembernumber]\n",
    "#print septemberPRECIP\n",
    "\n",
    "#junePRECIP = precip.sel(time = precip['time.month']==6)\n",
    "#julyPRECIP = precip.sel(time = precip['time.month']==7)\n",
    "#augustPRECIP = precip.sel(time = precip['time.month']==8)\n",
    "#septemberPRECIP = precip.sel(time = precip['time.month']==9)\n",
    "\n",
    "\n",
    "#junePRECIP.time.data = septemberPRECIP.time.data\n",
    "#julyPRECIP.time.data = septemberPRECIP.time.data\n",
    "#augustPRECIP.time.data = septemberPRECIP.time.data\n",
    "\n",
    "rainfall = junePRECIP.data + julyPRECIP.data + augustPRECIP.data + septemberPRECIP.data\n",
    "rainfall\n"
   ]
  },
  {
   "cell_type": "code",
   "execution_count": null,
   "metadata": {},
   "outputs": [],
   "source": [
    "AIRI = 0.47*EPT + 0.19*CPT + 0.23*PSH - 0.24*NAT\n",
    "AIRI"
   ]
  },
  {
   "cell_type": "code",
   "execution_count": 15,
   "metadata": {},
   "outputs": [
    {
     "ename": "NameError",
     "evalue": "name 'AIRI' is not defined",
     "output_type": "error",
     "traceback": [
      "\u001b[0;31m---------------------------------------------------------------------------\u001b[0m",
      "\u001b[0;31mNameError\u001b[0m                                 Traceback (most recent call last)",
      "\u001b[0;32m<ipython-input-15-af7930c5a8c2>\u001b[0m in \u001b[0;36m<module>\u001b[0;34m\u001b[0m\n\u001b[0;32m----> 1\u001b[0;31m \u001b[0mfinal\u001b[0m \u001b[0;34m=\u001b[0m \u001b[0mAIRI\u001b[0m \u001b[0;34m*\u001b[0m \u001b[0mrainfall\u001b[0m\u001b[0;34m.\u001b[0m\u001b[0mstd\u001b[0m\u001b[0;34m(\u001b[0m\u001b[0;34m)\u001b[0m \u001b[0;34m+\u001b[0m \u001b[0mrainfall\u001b[0m\u001b[0;34m.\u001b[0m\u001b[0mmean\u001b[0m\u001b[0;34m(\u001b[0m\u001b[0;34m)\u001b[0m\u001b[0;34m\u001b[0m\u001b[0;34m\u001b[0m\u001b[0m\n\u001b[0m\u001b[1;32m      2\u001b[0m \u001b[0;31m#AIRIrainfall = final['foo']\u001b[0m\u001b[0;34m\u001b[0m\u001b[0;34m\u001b[0m\u001b[0;34m\u001b[0m\u001b[0m\n\u001b[1;32m      3\u001b[0m \u001b[0mfinal\u001b[0m\u001b[0;34m.\u001b[0m\u001b[0mplot\u001b[0m\u001b[0;34m(\u001b[0m\u001b[0;34m)\u001b[0m\u001b[0;34m\u001b[0m\u001b[0;34m\u001b[0m\u001b[0m\n",
      "\u001b[0;31mNameError\u001b[0m: name 'AIRI' is not defined"
     ]
    }
   ],
   "source": [
    "final = AIRI * rainfall.std() + rainfall.mean()\n",
    "#AIRIrainfall = final['foo']\n",
    "final.plot()"
   ]
  },
  {
   "cell_type": "code",
   "execution_count": null,
   "metadata": {},
   "outputs": [],
   "source": [
    "#plt.plot(final.data)"
   ]
  },
  {
   "cell_type": "code",
   "execution_count": null,
   "metadata": {},
   "outputs": [],
   "source": [
    "#xr.plot.line(final)"
   ]
  },
  {
   "cell_type": "code",
   "execution_count": null,
   "metadata": {},
   "outputs": [],
   "source": [
    "#hi = final.tolist()\n",
    "#hi"
   ]
  },
  {
   "cell_type": "code",
   "execution_count": null,
   "metadata": {},
   "outputs": [],
   "source": [
    "#data = xr_extras.csv.to_csv('calculated.csv')\n",
    "    #xr.open_dataset('calculated.csv')\n",
    "data = pd.read_csv('calculated1900-2016.csv')\n",
    "# xr.open_dataset('calculated.csv')\n",
    "dataval = data.values\n",
    "dataval"
   ]
  },
  {
   "cell_type": "code",
   "execution_count": null,
   "metadata": {},
   "outputs": [],
   "source": [
    "data1 = pd.read_csv('observed1900-2015.csv')\n",
    "dataval1 = data1.values\n",
    "dataval1"
   ]
  },
  {
   "cell_type": "code",
   "execution_count": 16,
   "metadata": {},
   "outputs": [
    {
     "ename": "NameError",
     "evalue": "name 'plt' is not defined",
     "output_type": "error",
     "traceback": [
      "\u001b[0;31m---------------------------------------------------------------------------\u001b[0m",
      "\u001b[0;31mNameError\u001b[0m                                 Traceback (most recent call last)",
      "\u001b[0;32m<ipython-input-16-788db43a756e>\u001b[0m in \u001b[0;36m<module>\u001b[0;34m\u001b[0m\n\u001b[1;32m      1\u001b[0m \u001b[0;31m#x = data.columns['1920.70']\u001b[0m\u001b[0;34m\u001b[0m\u001b[0;34m\u001b[0m\u001b[0;34m\u001b[0m\u001b[0m\n\u001b[1;32m      2\u001b[0m \u001b[0;31m#y = data.columns['813.42']\u001b[0m\u001b[0;34m\u001b[0m\u001b[0;34m\u001b[0m\u001b[0;34m\u001b[0m\u001b[0m\n\u001b[0;32m----> 3\u001b[0;31m \u001b[0mx\u001b[0m \u001b[0;34m=\u001b[0m \u001b[0mplt\u001b[0m\u001b[0;34m.\u001b[0m\u001b[0mplot\u001b[0m\u001b[0;34m(\u001b[0m\u001b[0mdataval\u001b[0m\u001b[0;34m[\u001b[0m\u001b[0;34m:\u001b[0m\u001b[0;34m,\u001b[0m\u001b[0;36m0\u001b[0m\u001b[0;34m]\u001b[0m\u001b[0;34m,\u001b[0m\u001b[0mdataval\u001b[0m\u001b[0;34m[\u001b[0m\u001b[0;34m:\u001b[0m\u001b[0;34m,\u001b[0m\u001b[0;36m1\u001b[0m\u001b[0;34m]\u001b[0m\u001b[0;34m)\u001b[0m\u001b[0;34m\u001b[0m\u001b[0;34m\u001b[0m\u001b[0m\n\u001b[0m\u001b[1;32m      4\u001b[0m \u001b[0mx\u001b[0m\u001b[0;34m\u001b[0m\u001b[0;34m\u001b[0m\u001b[0m\n",
      "\u001b[0;31mNameError\u001b[0m: name 'plt' is not defined"
     ]
    }
   ],
   "source": [
    "#x = data.columns['1920.70']\n",
    "#y = data.columns['813.42']\n",
    "x = plt.plot(dataval[:,0],dataval[:,1])\n",
    "x"
   ]
  },
  {
   "cell_type": "code",
   "execution_count": 17,
   "metadata": {},
   "outputs": [],
   "source": [
    "#f, ax = plt.subplots(2, 1)\n",
    "\n",
    "#AIRIrainfall.plot.line(ax=ax[0]);\n",
    "#plt.plot(dataval[:,0],dataval[:,1],(ax==ax[1]));"
   ]
  },
  {
   "cell_type": "code",
   "execution_count": 18,
   "metadata": {},
   "outputs": [
    {
     "ename": "NameError",
     "evalue": "name 'plt' is not defined",
     "output_type": "error",
     "traceback": [
      "\u001b[0;31m---------------------------------------------------------------------------\u001b[0m",
      "\u001b[0;31mNameError\u001b[0m                                 Traceback (most recent call last)",
      "\u001b[0;32m<ipython-input-18-5dcf0da3b441>\u001b[0m in \u001b[0;36m<module>\u001b[0;34m\u001b[0m\n\u001b[0;32m----> 1\u001b[0;31m \u001b[0mplt\u001b[0m\u001b[0;34m.\u001b[0m\u001b[0mplot\u001b[0m\u001b[0;34m(\u001b[0m\u001b[0mnp\u001b[0m\u001b[0;34m.\u001b[0m\u001b[0marange\u001b[0m\u001b[0;34m(\u001b[0m\u001b[0;36m1900\u001b[0m\u001b[0;34m,\u001b[0m\u001b[0;36m2018\u001b[0m\u001b[0;34m,\u001b[0m\u001b[0;36m1\u001b[0m\u001b[0;34m)\u001b[0m\u001b[0;34m,\u001b[0m\u001b[0;34m(\u001b[0m\u001b[0mfinal\u001b[0m\u001b[0;34m.\u001b[0m\u001b[0mdata\u001b[0m\u001b[0;34m)\u001b[0m\u001b[0;34m)\u001b[0m\u001b[0;34m\u001b[0m\u001b[0;34m\u001b[0m\u001b[0m\n\u001b[0m\u001b[1;32m      2\u001b[0m \u001b[0mplt\u001b[0m\u001b[0;34m.\u001b[0m\u001b[0mplot\u001b[0m\u001b[0;34m(\u001b[0m\u001b[0mdataval\u001b[0m\u001b[0;34m[\u001b[0m\u001b[0;34m:\u001b[0m\u001b[0;34m,\u001b[0m\u001b[0;36m0\u001b[0m\u001b[0;34m]\u001b[0m\u001b[0;34m,\u001b[0m\u001b[0mdataval\u001b[0m\u001b[0;34m[\u001b[0m\u001b[0;34m:\u001b[0m\u001b[0;34m,\u001b[0m\u001b[0;36m1\u001b[0m\u001b[0;34m]\u001b[0m\u001b[0;34m)\u001b[0m\u001b[0;34m\u001b[0m\u001b[0;34m\u001b[0m\u001b[0m\n\u001b[1;32m      3\u001b[0m \u001b[0;31m#plt.plot(dataval1[:,0],dataval1[:,1])\u001b[0m\u001b[0;34m\u001b[0m\u001b[0;34m\u001b[0m\u001b[0;34m\u001b[0m\u001b[0m\n",
      "\u001b[0;31mNameError\u001b[0m: name 'plt' is not defined"
     ]
    }
   ],
   "source": [
    "\n",
    "plt.plot(np.arange(1900,2018,1),(final.data))\n",
    "plt.plot(dataval[:,0],dataval[:,1])\n",
    "#plt.plot(dataval1[:,0],dataval1[:,1])\n"
   ]
  },
  {
   "cell_type": "code",
   "execution_count": 19,
   "metadata": {},
   "outputs": [],
   "source": [
    "#1900 - 1988"
   ]
  },
  {
   "cell_type": "code",
   "execution_count": null,
   "metadata": {},
   "outputs": [],
   "source": []
  },
  {
   "cell_type": "code",
   "execution_count": null,
   "metadata": {},
   "outputs": [],
   "source": []
  },
  {
   "cell_type": "code",
   "execution_count": null,
   "metadata": {},
   "outputs": [],
   "source": []
  }
 ],
 "metadata": {
  "kernelspec": {
   "display_name": "xarrayenv2",
   "language": "python",
   "name": "xarrayenv2"
  },
  "language_info": {
   "codemirror_mode": {
    "name": "ipython",
    "version": 3
   },
   "file_extension": ".py",
   "mimetype": "text/x-python",
   "name": "python",
   "nbconvert_exporter": "python",
   "pygments_lexer": "ipython3",
   "version": "3.7.3"
  }
 },
 "nbformat": 4,
 "nbformat_minor": 1
}
