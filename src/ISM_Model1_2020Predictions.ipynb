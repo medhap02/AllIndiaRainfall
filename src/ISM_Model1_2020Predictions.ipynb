{
 "cells": [
  {
   "cell_type": "code",
   "execution_count": 346,
   "metadata": {
    "scrolled": true
   },
   "outputs": [
    {
     "name": "stdout",
     "output_type": "stream",
     "text": [
      "Once deleted, variables cannot be recovered. Proceed (y/[n])? y\n"
     ]
    }
   ],
   "source": [
    "%reset"
   ]
  },
  {
   "cell_type": "code",
   "execution_count": 347,
   "metadata": {},
   "outputs": [
    {
     "name": "stdout",
     "output_type": "stream",
     "text": [
      "1.5.5\n",
      "python version:\n",
      "3.7.3\n"
     ]
    }
   ],
   "source": [
    "import numpy as np\n",
    "import matplotlib \n",
    "import matplotlib.pyplot as plt\n",
    "import mpl_toolkits\n",
    "#from mpl_toolkits.basemap import Basemap\n",
    "import pandas as pd\n",
    "import xarray as xr\n",
    "import Nio\n",
    "print (Nio.__version__)\n",
    "import seaborn as seabornInstance\n",
    "from scipy import stats\n",
    "import sklearn\n",
    "\n",
    "print(\"python version:\")\n",
    "import platform\n",
    "print(platform.python_version())"
   ]
  },
  {
   "cell_type": "code",
   "execution_count": 348,
   "metadata": {},
   "outputs": [],
   "source": [
    "def covariance(x, y, dims=None):\n",
    "    return xr.dot(x - x.mean(dims), y - y.mean(dims), dims=dims) / x.count(dims)\n",
    "\n",
    "def correlation(x, y, dims=None):\n",
    "    return covariance(x, y, dims) / (x.std(dims) * y.std(dims))"
   ]
  },
  {
   "cell_type": "markdown",
   "metadata": {},
   "source": [
    "# Load Data"
   ]
  },
  {
   "cell_type": "code",
   "execution_count": 349,
   "metadata": {},
   "outputs": [
    {
     "name": "stdout",
     "output_type": "stream",
     "text": [
      "<xarray.DataArray 'SSTK_GDS0_SFC_S123' (time: 497, lat: 721, lon: 1440)>\n",
      "[516005280 values with dtype=float32]\n",
      "Coordinates:\n",
      "  * time     (time) datetime64[ns] 1979-01-01 1979-02-01 ... 2020-05-01\n",
      "  * lat      (lat) float32 90.0 89.75 89.5 89.25 ... -89.25 -89.5 -89.75 -90.0\n",
      "  * lon      (lon) float32 0.0 0.25 0.5 0.75 1.0 ... 359.0 359.25 359.5 359.75\n",
      "Attributes:\n",
      "    center:                          European Center for Medium-Range Weather...\n",
      "    long_name:                       Sea surface temperature\n",
      "    units:                           K\n",
      "    level_indicator:                 [1]\n",
      "    gds_grid_type:                   [0]\n",
      "    parameter_table_version:         [128]\n",
      "    parameter_number:                [34]\n",
      "    forecast_time:                   [0]\n",
      "    forecast_time_units:             hours\n",
      "    statistical_process_descriptor:  average of N uninitialized analyses\n",
      "    statistical_process_duration:    instantaneous (beginning at reference ti...\n",
      "    N:                               [744 672 744 720 744 720 744 744 720 744...\n",
      "<xarray.DataArray 'MSL_GDS0_SFC_S123' (time: 497, lat: 721, lon: 1440)>\n",
      "[516005280 values with dtype=float32]\n",
      "Coordinates:\n",
      "  * time     (time) datetime64[ns] 1979-01-01 1979-02-01 ... 2020-05-01\n",
      "  * lat      (lat) float32 90.0 89.75 89.5 89.25 ... -89.25 -89.5 -89.75 -90.0\n",
      "  * lon      (lon) float32 0.0 0.25 0.5 0.75 1.0 ... 359.0 359.25 359.5 359.75\n",
      "Attributes:\n",
      "    center:                          European Center for Medium-Range Weather...\n",
      "    long_name:                       Mean sea level pressure\n",
      "    units:                           Pa\n",
      "    level_indicator:                 [1]\n",
      "    gds_grid_type:                   [0]\n",
      "    parameter_table_version:         [128]\n",
      "    parameter_number:                [151]\n",
      "    forecast_time:                   [0]\n",
      "    forecast_time_units:             hours\n",
      "    statistical_process_descriptor:  average of N uninitialized analyses\n",
      "    statistical_process_duration:    instantaneous (beginning at reference ti...\n",
      "    N:                               [744 672 744 720 744 720 744 744 720 744...\n"
     ]
    }
   ],
   "source": [
    "dat = xr.open_dataset('/global/scratch/medhap02/ERA5_MSLP_SST_Td_tas_Jan1979toMay2020.grib',engine='pynio')\n",
    "\n",
    "sst = dat['SSTK_GDS0_SFC_S123']\n",
    "sst = sst.rename({'g0_lon_2':'lon', 'g0_lat_1':'lat', 'initial_time0_hours':'time'})\n",
    "\n",
    "slp = dat['MSL_GDS0_SFC_S123']\n",
    "slp = slp.rename({'g0_lon_2':'lon', 'g0_lat_1':'lat', 'initial_time0_hours':'time'})\n",
    "\n",
    "print(sst)\n",
    "print(slp)"
   ]
  },
  {
   "cell_type": "code",
   "execution_count": 350,
   "metadata": {},
   "outputs": [
    {
     "name": "stdout",
     "output_type": "stream",
     "text": [
      "<xarray.Dataset>\n",
      "Dimensions:  (time: 1752)\n",
      "Coordinates:\n",
      "  * time     (time) float32 0.0 1.0 2.0 3.0 4.0 ... 1748.0 1749.0 1750.0 1751.0\n",
      "Data variables:\n",
      "    precip   (time) float32 ...\n",
      "Attributes:\n",
      "    title:        \n",
      "    description:  All-India Rainfall\n",
      "    scripturl01:  https://climexp.knmi.nl/getindices.cgi?STATION=All-India_Ra...\n",
      "    comment:      \n",
      "    institution:  KNMI Climate Explorer\n",
      "    scripturl02:  https://climexp.knmi.nl/dat2nc.cgi?id=$id&station=All-India...\n",
      "    history:       2020-04-02  2:43:20 bin/dat2nc data/pALLIN.dat p All-India...\n",
      "    Conventions:  CF-1.0\n"
     ]
    },
    {
     "data": {
      "text/plain": [
       "<xarray.Dataset>\n",
       "Dimensions:  (data: 1752, int: 1752, time: 1752)\n",
       "Coordinates:\n",
       "  * data     (data) float32 19.6 10.7 14.5 33.9 63.6 ... 168.7 52.1 8.0 7.0\n",
       "  * time     (time) datetime64[ns] 1874-05-31 1874-06-30 ... 2020-04-30\n",
       "Dimensions without coordinates: int\n",
       "Data variables:\n",
       "    foo      (int) int64 0 1 2 3 4 5 6 7 ... 1745 1746 1747 1748 1749 1750 1751"
      ]
     },
     "execution_count": 350,
     "metadata": {},
     "output_type": "execute_result"
    }
   ],
   "source": [
    "precipdat = xr.open_dataset('pALLIN.nc', decode_times=False)\n",
    "print(precipdat)\n",
    "time = pd.date_range('1874-05-01', freq='M', periods=1752)\n",
    "precipALLIN = xr.Dataset({'data': ('data', precipdat['precip']), 'time': time, 'foo': ('int', np.arange(1752))})\n",
    "precipALLIN"
   ]
  },
  {
   "cell_type": "markdown",
   "metadata": {},
   "source": [
    "# EPT"
   ]
  },
  {
   "cell_type": "code",
   "execution_count": 351,
   "metadata": {},
   "outputs": [
    {
     "name": "stdout",
     "output_type": "stream",
     "text": [
      "<xarray.DataArray (time: 42)>\n",
      "array([-0.550781, -0.153229, -0.019684, -0.078461, -0.28067 ,  0.449493,\n",
      "        0.711487,  0.324493, -0.427795,  0.786041,  0.050232, -0.416931,\n",
      "       -0.352325, -0.449188, -0.32785 , -0.071991,  0.465851,  0.509521,\n",
      "       -0.838531,  0.445526,  0.6586  ,  0.185913,  0.471161,  0.334686,\n",
      "        1.095947,  0.635651, -0.597656,  0.546204,  0.671631, -0.187134,\n",
      "       -0.594543,  0.460114, -0.192841,  0.201355,  1.161011, -0.129913,\n",
      "       -1.01767 ,  0.614532,  0.301086, -0.446594, -0.122284, -0.41394 ],\n",
      "      dtype=float32)\n",
      "Coordinates:\n",
      "  * time     (time) datetime64[ns] 1979-05-01 1980-05-01 ... 2020-05-01\n"
     ]
    }
   ],
   "source": [
    "#EP-ENSOpredictor\n",
    "\n",
    "#DSST1\n",
    "latrange1 = sst.sel(lat = slice(5, -20)).lat\n",
    "weights1 = np.cos(latrange1*np.pi/180)\n",
    "\n",
    "marchdata1 = sst.sel(lat = slice(5, -20), lon = slice(150, 170), time = (sst['time.month']==3))\n",
    "marchSST1 = marchdata1.sel(time = slice('1979-03-01', '2020-03-01'))\n",
    "marchmean1 = (marchSST1*weights1).mean({'lon', 'lat'})/weights1.mean() - 273.15\n",
    "\n",
    "maydata1 = sst.sel(lat = slice(5, -20), lon = slice(150, 170), time = (sst['time.month']==5))\n",
    "maySST1 = maydata1.sel(time = slice('1979-05-01', '2020-05-01'))\n",
    "maymean1 = (maySST1*weights1).mean({'lon', 'lat'})/weights1.mean() - 273.15\n",
    "\n",
    "marchmean1.time.data = maymean1.time.data\n",
    "DSST1 = maymean1 - marchmean1\n",
    "\n",
    "#DSST2\n",
    "latrange2 = sst.sel(lat = slice(10, -10)).lat\n",
    "weights2 = np.cos(latrange2*np.pi/180)\n",
    "\n",
    "marchdata2 = sst.sel(lat = slice(10, -10), lon = slice(250, 280), time = (sst['time.month']==3))\n",
    "marchSST2 = marchdata2.sel(time = slice('1979-03-01', '2020-03-01'))\n",
    "marchmean2 = (marchSST2*weights2).mean({'lon', 'lat'})/weights2.mean() - 273.15\n",
    "\n",
    "maydata2 = sst.sel(lat = slice(10, -10), lon = slice(250, 280), time = (sst['time.month']==5))\n",
    "maySST2 = maydata2.sel(time = slice('1979-05-01', '2020-05-01'))\n",
    "maymean2 = (maySST2*weights2).mean({'lon', 'lat'})/weights2.mean() - 273.15\n",
    "\n",
    "marchmean2.time.data = maymean2.time.data\n",
    "DSST2 = (maymean2 - marchmean2)\n",
    "\n",
    "EPT = DSST1 - DSST2\n",
    "print(EPT)\n",
    "EPTstd = 0.546494\n",
    "EPTmean = -0.036233\n",
    "EPT = (EPT - EPTmean)/EPTstd\n",
    "\n"
   ]
  },
  {
   "cell_type": "code",
   "execution_count": 352,
   "metadata": {},
   "outputs": [
    {
     "name": "stdout",
     "output_type": "stream",
     "text": [
      "<xarray.DataArray (time: 42)>\n",
      "array([-0.941544, -0.214084,  0.030282, -0.07727 , -0.447282,  0.888805,\n",
      "        1.368212,  0.660074, -0.716499,  1.504635,  0.158218, -0.696619,\n",
      "       -0.578401, -0.755645, -0.533615, -0.065432,  0.918736,  0.998647,\n",
      "       -1.468083,  0.881545,  1.271437,  0.406493,  0.928453,  0.678725,\n",
      "        2.071716,  1.229444, -1.027318,  1.065769,  1.295282, -0.276125,\n",
      "       -1.021622,  0.908238, -0.286568,  0.434749,  2.190772, -0.171421,\n",
      "       -1.795878,  1.190801,  0.617243, -0.750898, -0.15746 , -0.691146],\n",
      "      dtype=float32)\n",
      "Coordinates:\n",
      "  * time     (time) datetime64[ns] 1979-05-01 1980-05-01 ... 2020-05-01\n"
     ]
    }
   ],
   "source": [
    "print(EPT)"
   ]
  },
  {
   "cell_type": "markdown",
   "metadata": {},
   "source": [
    "# CPT"
   ]
  },
  {
   "cell_type": "code",
   "execution_count": 353,
   "metadata": {},
   "outputs": [],
   "source": [
    "#CP-ENSOpredictor\n",
    "\n",
    "#DSST1\n",
    "latrange1 = sst.sel(lat = slice(-10, -25)).lat\n",
    "weights1 = np.cos(latrange1*np.pi/180)\n",
    "\n",
    "aprildata1 = sst.sel(lat = slice(-10, -25), lon = slice(170, 200), time = (sst['time.month']==4))\n",
    "aprilSST1 = aprildata1.sel(time = slice('1979-04-01', '2020-04-01'))\n",
    "aprilmean1 = (aprilSST1*weights1).mean({'lon', 'lat'})/weights1.mean() - 273.15\n",
    "\n",
    "maydata1 = sst.sel(lat = slice(-10, -25), lon = slice(170, 200), time = (sst['time.month']==5))\n",
    "maySST1 = maydata1.sel(time = slice('1979-05-01', '2020-05-01'))\n",
    "maymean1 = (maySST1*weights1).mean({'lon', 'lat'})/weights1.mean() - 273.15\n",
    "\n",
    "aprilmean1.time.data = maymean1.time.data\n",
    "DSST1 = maymean1 - aprilmean1\n",
    "\n",
    "#DSST2\n",
    "latrange2 = sst.sel(lat = slice(20, 5)).lat\n",
    "weights2 = np.cos(latrange2*np.pi/180)\n",
    "\n",
    "aprildata2 = sst.sel(lat = slice(20, 5), lon = slice(180, 210), time = (sst['time.month']==4))\n",
    "aprilSST2 = aprildata2.sel(time = slice('1979-04-01', '2020-04-01'))\n",
    "aprilmean2 = (aprilSST2*weights2).mean({'lon', 'lat'})/weights2.mean() - 273.15\n",
    "                          \n",
    "maydata2 = sst.sel(lat = slice(20, 5), lon = slice(180, 210), time = (sst['time.month']==5))\n",
    "maySST2 = maydata2.sel(time = slice('1979-05-01', '2020-05-01'))\n",
    "maymean2 = (maySST2*weights2).mean({'lon', 'lat'})/weights2.mean() - 273.15\n",
    "                          \n",
    "aprilmean2.time.data = maymean2.time.data\n",
    "DSST2 = maymean2 - aprilmean2\n",
    "\n",
    "CPT = DSST1 - DSST2\n",
    "CPTstd = 0.243743\n",
    "CPTmean = -1.087295\n",
    "CPT = (CPT - CPTmean)/CPTstd"
   ]
  },
  {
   "cell_type": "code",
   "execution_count": 354,
   "metadata": {},
   "outputs": [
    {
     "name": "stdout",
     "output_type": "stream",
     "text": [
      "<xarray.DataArray (time: 42)>\n",
      "array([ 0.700952, -0.055154, -0.919938,  1.224805, -1.449675, -0.457184,\n",
      "        0.061911, -1.169845, -2.233076,  0.540816,  1.955871,  1.764059,\n",
      "        0.351132, -1.134913, -0.943977, -1.232947, -0.126896, -0.953492,\n",
      "        0.360523,  0.714474, -1.192256, -0.351262,  1.182987, -1.256736,\n",
      "        0.556842, -0.150059, -0.930079,  0.768813,  1.299176,  0.891262,\n",
      "       -1.348761,  1.112873,  1.451049, -0.005824, -0.624081, -0.681299,\n",
      "        0.273005, -0.135034, -0.130151,  1.718985, -1.743529,  1.706089],\n",
      "      dtype=float32)\n",
      "Coordinates:\n",
      "  * time     (time) datetime64[ns] 1979-05-01 1980-05-01 ... 2020-05-01\n"
     ]
    }
   ],
   "source": [
    "print(CPT)"
   ]
  },
  {
   "cell_type": "markdown",
   "metadata": {},
   "source": [
    "# PSH"
   ]
  },
  {
   "cell_type": "code",
   "execution_count": 355,
   "metadata": {},
   "outputs": [],
   "source": [
    "#mega-ENSOpredictor\n",
    "\n",
    "#NPcalculation\n",
    "latrange1 = slp.sel(lat = slice(-10, -40)).lat\n",
    "weights1 = np.cos(latrange1*np.pi/180)\n",
    "\n",
    "aprildata1 = slp.sel(lat = slice(-10, -40), lon = slice(200, 270), time = (slp['time.month']==4))\n",
    "aprilSLP1 = aprildata1.sel(time=slice('1979-04-01','2020-04-01'))\n",
    "aprilmean1 = ((aprilSLP1*weights1).mean({'lon', 'lat'})/weights1.mean())/100\n",
    "\n",
    "maydata1 = slp.sel(lat = slice(-10, -40), lon = slice(200, 270), time = (slp['time.month']==5))\n",
    "maySLP1 = maydata1.sel(time = slice('1979-05-01', '2020-05-01'))\n",
    "maymean1 = ((maySLP1*weights1).mean({'lon', 'lat'})/weights1.mean())/100\n",
    "\n",
    "aprilmean1.time.data = maymean1.time.data\n",
    "NP = ((aprilmean1 + maymean1)/2)\n",
    "\n",
    "#SPcalculation\n",
    "latrange2 = slp.sel(lat = slice(30, 10)).lat\n",
    "weights2 = np.cos(latrange2*np.pi/180)\n",
    "\n",
    "aprildata2 = slp.sel(lat = slice(30, 10), lon = slice(180, 230), time = (slp['time.month']==4))\n",
    "aprilSLP2 = aprildata2.sel(time = slice('1979-04-01', '2020-04-01'))\n",
    "aprilmean2 = ((aprilSLP2*weights2).mean({'lon', 'lat'})/weights2.mean())/100\n",
    "\n",
    "maydata2 = slp.sel(lat = slice(30, 10), lon = slice(180, 230), time = (slp['time.month']==5))\n",
    "maySLP2 = maydata2.sel(time = slice('1979-05-01', '2020-05-01'))\n",
    "maymean2 = ((maySLP2*weights2).mean({'lon', 'lat'})/weights2.mean())/100\n",
    "\n",
    "aprilmean2.time.data = maymean2.time.data\n",
    "SP = ((aprilmean2 + maymean2)/2)\n",
    "\n",
    "NParea = (30*weights1.mean() * 60)\n",
    "SParea = (20*weights2.mean() * 50)\n",
    "PSH = ((NP * NParea) + (SP * SParea))/(NParea + SParea)\n",
    "PSHstd = 0.430541\n",
    "PSHmean = 1015.898018\n",
    "PSH = (PSH - PSHmean)/PSHstd"
   ]
  },
  {
   "cell_type": "code",
   "execution_count": 356,
   "metadata": {},
   "outputs": [
    {
     "name": "stdout",
     "output_type": "stream",
     "text": [
      "<xarray.DataArray (time: 42)>\n",
      "array([-2.756130e+00, -8.713655e-01, -7.667529e-01, -1.544822e+00,\n",
      "        1.489758e+00,  2.006463e+00,  4.033741e-04, -1.662678e+00,\n",
      "        5.874371e-01,  1.858456e+00,  6.024921e-01,  8.573327e-01,\n",
      "       -1.589522e+00, -1.626510e+00, -4.328931e-01, -2.878936e-01,\n",
      "       -5.303527e-02,  2.497865e+00, -3.169923e+00,  2.797927e+00,\n",
      "        2.454002e+00,  3.115514e+00,  2.352497e+00, -7.973652e-01,\n",
      "        1.529795e+00,  1.486451e+00,  5.307314e-01, -3.200007e-01,\n",
      "        3.632006e+00, -5.124011e-01, -1.059055e+00,  4.345244e+00,\n",
      "        3.730894e+00,  1.681166e+00,  1.798154e+00,  2.470206e+00,\n",
      "       -3.370156e-01, -3.774479e-01,  2.501067e+00,  1.364451e+00,\n",
      "        2.111671e+00,  1.561978e+00])\n",
      "Coordinates:\n",
      "  * time     (time) datetime64[ns] 1979-05-01 1980-05-01 ... 2020-05-01\n"
     ]
    }
   ],
   "source": [
    "print(PSH)"
   ]
  },
  {
   "cell_type": "markdown",
   "metadata": {},
   "source": [
    "# NAT"
   ]
  },
  {
   "cell_type": "code",
   "execution_count": 357,
   "metadata": {},
   "outputs": [],
   "source": [
    "#AnomalousAsianLowpredictor\n",
    "\n",
    "latrange = slp.sel(lat = slice(60, 40)).lat\n",
    "weights = np.cos(latrange*np.pi/180)\n",
    "\n",
    "marchdata = slp.sel(lat = slice(60, 40), lon = slice(95, 125), time = (slp['time.month']==3))\n",
    "marchSLP = marchdata.sel(time = slice('1979-03-01', '2020-03-01'))\n",
    "marchmean = ((marchSLP*weights).mean({'lon', 'lat'})/weights.mean())/100\n",
    "\n",
    "maydata = slp.sel(lat = slice(60, 40), lon = slice(95, 125), time = (slp['time.month']==5))\n",
    "maySLP = maydata.sel(time = slice('1979-05-01', '2020-05-01'))\n",
    "maymean = ((maySLP*weights).mean({'lon', 'lat'})/weights.mean())/100\n",
    "\n",
    "marchmean.time.data = maymean.time.data\n",
    "NAT = maymean - marchmean\n",
    "NATstd = 1.648686\n",
    "NATmean = -12.909709\n",
    "NAT = (NAT - NATmean)/NATstd"
   ]
  },
  {
   "cell_type": "code",
   "execution_count": 358,
   "metadata": {},
   "outputs": [
    {
     "name": "stdout",
     "output_type": "stream",
     "text": [
      "<xarray.DataArray (time: 42)>\n",
      "array([ 1.261128, -1.235645,  2.367263,  1.512127, -0.84519 , -0.310207,\n",
      "       -0.761857,  1.554441,  1.187938, -0.502306,  1.936048,  1.334613,\n",
      "       -0.2335  ,  1.636478,  0.89581 , -1.741974,  1.21326 ,  1.672907,\n",
      "        0.697861,  0.774456,  2.649248,  1.257648,  1.693009,  5.703697,\n",
      "        0.751837,  1.427572, -1.064203,  2.849492, -1.307983,  2.633403,\n",
      "        0.154141, -0.642688, -0.873844,  0.276568,  1.539114,  0.663173,\n",
      "        0.781083,  1.146364, -0.670046,  2.066397,  2.473104,  3.104415],\n",
      "      dtype=float32)\n",
      "Coordinates:\n",
      "  * time     (time) datetime64[ns] 1979-05-01 1980-05-01 ... 2020-05-01\n"
     ]
    }
   ],
   "source": [
    "print(NAT)"
   ]
  },
  {
   "cell_type": "markdown",
   "metadata": {},
   "source": [
    "# Precipitation"
   ]
  },
  {
   "cell_type": "code",
   "execution_count": 359,
   "metadata": {},
   "outputs": [
    {
     "name": "stdout",
     "output_type": "stream",
     "text": [
      "[ 848.7999   913.6      757.30005  974.5      929.7      777.69995\n",
      "  604.       976.1      897.80005  820.10004  861.3      902.89996\n",
      "  849.2999   932.80005  847.39996  874.39996  899.3      811.6\n",
      "  930.60004  905.5      792.4      991.6      954.9      971.4\n",
      "  823.60004  828.49994  891.1      884.6      629.       889.3\n",
      "  722.       791.80005  860.8      750.3      716.4      884.89996\n",
      "  777.49994  897.       889.3      934.89996  736.30005  805.80005\n",
      "  784.4      898.       780.6      950.6     1004.2      650.8\n",
      "  884.5      719.       865.8      869.       823.       862.6\n",
      "  803.60004  902.6      853.       767.7      821.1      804.4\n",
      "  877.       803.4      975.8      913.39996  843.5      908.19995\n",
      "  841.89996  908.19995  789.4      853.1      728.30005  957.69995\n",
      "  868.2001   920.3      910.80005  903.60004  945.3      873.89996\n",
      "  903.69995  876.9      738.8      792.9      922.89996  885.30005\n",
      "  930.       983.2      788.5      889.3    ]\n"
     ]
    }
   ],
   "source": [
    "allprecip = precipALLIN.sel(time=slice('1900-01-01','2016-12-31'))\n",
    "#print(allprecip)\n",
    "\n",
    "precip_june = allprecip.sel(time = allprecip['time.month']==6)\n",
    "#precip_july = allprecip.sel(time = allprecip['time.month']==7)\n",
    "#precip_august = allprecip.sel(time = allprecip['time.month']==8)\n",
    "#precip_september = allprecip.sel(time = allprecip['time.month']==9)\n",
    "\n",
    "#precip_july.time.data = precip_june.time.data\n",
    "#precip_august.time.data = precip_june.time.data\n",
    "#precip_september.time.data = precip_june.time.data\n",
    "\n",
    "junes = np.arange(5,1056,12)\n",
    "julys = np.arange(6,1056,12) #1752 instead of 1068\n",
    "augusts = np.arange(7,1056, 12)\n",
    "septembers = np.arange(8,1056,12)\n",
    "\n",
    "precip_jjas = (allprecip.data[junes].data + allprecip.data[julys].data + allprecip.data[augusts].data + allprecip.data[septembers].data)\n",
    "stuff = allprecip.data[junes]\n",
    "stuff2 = allprecip.data[julys]\n",
    "print(precip_jjas)"
   ]
  },
  {
   "cell_type": "code",
   "execution_count": 360,
   "metadata": {},
   "outputs": [
    {
     "name": "stdout",
     "output_type": "stream",
     "text": [
      "[889.3, 722.0, 791.80005, 860.8, 750.3, 716.4, 884.89996, 777.49994, 897.0, 889.3, 934.89996, 736.30005, 805.80005, 784.4, 898.0, 780.6, 950.6, 1004.2, 650.8, 884.5, 719.0, 865.8, 869.0, 823.0, 862.6, 803.60004, 902.6, 853.0, 767.7, 821.1, 804.4, 877.0, 803.4, 975.8, 913.39996, 843.5, 908.19995, 841.89996, 908.19995, 789.4, 853.1, 728.30005, 957.69995, 868.2001, 920.3, 910.80005, 903.60004, 945.3, 873.89996, 903.69995, 876.9, 738.8, 792.9, 922.89996, 885.30005, 930.0, 983.2, 788.5, 889.3, 944.1, 839.7, 1020.2, 809.8, 857.9, 922.5, 709.39996, 739.9, 860.1, 754.6, 831.0, 939.8, 886.8, 652.8, 913.4, 748.0, 962.7, 856.80005, 883.2, 909.30005, 707.7, 882.8, 852.19995, 735.4, 955.60004, 836.7, 759.8, 743.0, 697.1, 961.5]\n"
     ]
    }
   ],
   "source": [
    "#precipitation\n",
    "\n",
    "junenumber = []\n",
    "for x in range(1752):\n",
    "    y = (x + 1) % 12\n",
    "    if (y == 6):\n",
    "        junenumber.append(x)\n",
    "junedata = precipALLIN.sel(time = precipALLIN['time.month']==6, int = junenumber)\n",
    "juneprecipALLIN = junedata.data[junenumber]\n",
    "\n",
    "julynumber = []\n",
    "for x in range(1752):\n",
    "    y = (x + 1) % 12\n",
    "    if (y == 7):\n",
    "        julynumber.append(x)\n",
    "julydata = precipALLIN.sel(time = precipALLIN['time.month']==7, int = julynumber)\n",
    "julyprecipALLIN = julydata.data[julynumber]\n",
    "\n",
    "augustnumber = []\n",
    "for x in range(1752):\n",
    "    y = (x + 1) % 12\n",
    "    if (y == 8):\n",
    "        augustnumber.append(x)\n",
    "augustdata = precipALLIN.sel(time = precipALLIN['time.month']==8, int = augustnumber)\n",
    "augustprecipALLIN = augustdata.data[augustnumber]\n",
    "\n",
    "septembernumber = []\n",
    "for x in range(1752):\n",
    "    y = (x + 1) % 12\n",
    "    if (y == 9):\n",
    "        septembernumber.append(x)\n",
    "septemberdata = precipALLIN.sel(time = precipALLIN['time.month']==9, int = septembernumber)\n",
    "septemberprecipALLIN = septemberdata.data[septembernumber]\n",
    "\n",
    "rainfallforAIRIfull = juneprecipALLIN.data + julyprecipALLIN.data + augustprecipALLIN.data + septemberprecipALLIN.data\n",
    "\n",
    "rainfall = []\n",
    "for y in range(89):\n",
    "    rainfall.append(rainfallforAIRIfull[y+29])\n",
    "print(rainfall)\n",
    "\n",
    "rainfallstd = np.std(rainfall)\n",
    "rainfallmean = np.mean(rainfall)"
   ]
  },
  {
   "cell_type": "markdown",
   "metadata": {},
   "source": [
    "# Model"
   ]
  },
  {
   "cell_type": "code",
   "execution_count": 361,
   "metadata": {},
   "outputs": [
    {
     "data": {
      "text/plain": [
       "<xarray.DataArray (time: 42)>\n",
       "array([-1.245925, -0.014958, -0.905052, -0.521823,  0.059829,  0.866809,\n",
       "        0.837761, -0.667517, -0.911034,  1.357932,  0.119899, -0.115361,\n",
       "       -0.514683, -1.337639, -0.744714,  0.086845,  0.104315,  0.461212,\n",
       "       -1.518069,  1.00773 ,  0.299648,  0.539045,  0.795893, -1.47206 ,\n",
       "        1.250918,  0.548594, -0.282078, -0.110492,  2.004903, -0.710308,\n",
       "       -1.017004,  1.791969,  1.20884 ,  0.523518,  0.955275,  0.198971,\n",
       "       -1.057165,  0.172079,  1.001432, -0.208426, -0.513137, -0.386486])\n",
       "Coordinates:\n",
       "  * time     (time) datetime64[ns] 1979-05-01 1980-05-01 ... 2020-05-01"
      ]
     },
     "execution_count": 361,
     "metadata": {},
     "output_type": "execute_result"
    }
   ],
   "source": [
    "#Dr. Wang's coefficients\n",
    "AIRI = 0.47*EPT + 0.19*CPT + 0.23*PSH - 0.24*NAT\n",
    "AIRI"
   ]
  },
  {
   "cell_type": "code",
   "execution_count": 362,
   "metadata": {},
   "outputs": [
    {
     "name": "stdout",
     "output_type": "stream",
     "text": [
      "<xarray.DataArray (time: 42)>\n",
      "array([ 744.610072,  846.053793,  772.701395,  804.283155,  852.216974,\n",
      "        918.720068,  916.32622 ,  792.276532,  772.208421,  959.193388,\n",
      "        857.167377,  837.779665,  804.871582,  737.052005,  785.91476 ,\n",
      "        854.443405,  855.883094,  885.294862,  722.182804,  930.333309,\n",
      "        871.980419,  891.709057,  912.875834,  725.974349,  950.374401,\n",
      "        892.495997,  824.040543,  838.180876, 1012.510123,  788.750175,\n",
      "        763.475463,  994.962255,  946.906767,  890.429467,  926.010528,\n",
      "        863.683683,  760.165748,  861.467523,  929.814252,  830.110124,\n",
      "        804.998962,  815.43624 ])\n",
      "Coordinates:\n",
      "  * time     (time) datetime64[ns] 1979-05-01 1980-05-01 ... 2020-05-01\n"
     ]
    }
   ],
   "source": [
    "final = (AIRI * rainfallstd) + rainfallmean\n",
    "print(final)"
   ]
  },
  {
   "cell_type": "code",
   "execution_count": 363,
   "metadata": {},
   "outputs": [],
   "source": [
    "modelyears = []\n",
    "for x in range(42):\n",
    "    modelyears.append(x+1979)\n",
    "modelyears2 = []\n",
    "for x in range(38):\n",
    "    modelyears2.append(x+1979)\n",
    "observedrainfall = []\n",
    "for x in range(38):\n",
    "    observedrainfall.append(float(rainfallforAIRIfull[x+108]))\n",
    "correlationfinal = []\n",
    "for x in range(38):\n",
    "    correlationfinal.append(final.data[x])"
   ]
  },
  {
   "cell_type": "code",
   "execution_count": 364,
   "metadata": {},
   "outputs": [
    {
     "name": "stdout",
     "output_type": "stream",
     "text": [
      "Correlation between Model and Rainfall 0.5143455158581441\n"
     ]
    }
   ],
   "source": [
    "#correlation\n",
    "correlation = stats.pearsonr(correlationfinal, observedrainfall)\n",
    "correlation = correlation[0]\n",
    "print(\"Correlation between Model and Rainfall\", correlation)"
   ]
  },
  {
   "cell_type": "markdown",
   "metadata": {},
   "source": [
    "# Final Information and Graphics"
   ]
  },
  {
   "cell_type": "code",
   "execution_count": 365,
   "metadata": {},
   "outputs": [
    {
     "data": {
      "text/plain": [
       "<matplotlib.legend.Legend at 0x2b5fb7edf940>"
      ]
     },
     "execution_count": 365,
     "metadata": {},
     "output_type": "execute_result"
    },
    {
     "data": {
      "image/png": "[encoded data removed]",
      "text/plain": [
       "<Figure size 1152x576 with 1 Axes>"
      ]
     },
     "metadata": {
      "needs_background": "light"
     },
     "output_type": "display_data"
    }
   ],
   "source": [
    "#print(\"2020 prediction\", final.sel(time = slice('2020-05-01', '2020-05-01')))\n",
    "plt.figure(figsize=(16,8))\n",
    "plt.title('1979 - 2020 predictions', fontsize = 'xx-large')\n",
    "plt.plot(modelyears, final, label = 'ERA5', color = 'forestgreen')\n",
    "plt.plot(modelyears2, observedrainfall, label = 'All-India Rainfall', color = 'indianred')\n",
    "plt.xlabel('year', fontsize = 'large')\n",
    "plt.ylabel('mm of rainfall', fontsize = 'large')\n",
    "plt.legend(loc='lower right')"
   ]
  },
  {
   "cell_type": "code",
   "execution_count": 366,
   "metadata": {},
   "outputs": [
    {
     "name": "stdout",
     "output_type": "stream",
     "text": [
      "Root Mean Square Error 27.929032\n",
      "Rainfall Standard Deviation for Training Period 82.409775\n",
      "Rainfall Mean for Training Period 847.2865\n",
      "Prediction's Standard Deviation Above or Below the Mean [-0.38648643]\n",
      "2020 Prediction [815.43623975]\n",
      "Correlation between Model and Rainfall 0.5143455158581441\n"
     ]
    }
   ],
   "source": [
    "rmse = 27.929032\n",
    "print(\"Root Mean Square Error\", rmse)\n",
    "print(\"Rainfall Standard Deviation for Training Period\", rainfallstd)\n",
    "print(\"Rainfall Mean for Training Period\", rainfallmean)\n",
    "airivalue = AIRI.sel(time = slice('2020-05-01', '2020-05-01')).data\n",
    "print(\"Prediction's Standard Deviation Above or Below the Mean\", airivalue)\n",
    "prediction2020 = final.sel(time = slice('2020-05-01', '2020-05-01')).data\n",
    "print(\"2020 Prediction\", prediction2020)\n",
    "print(\"Correlation between Model and Rainfall\", correlation)"
   ]
  },
  {
   "cell_type": "code",
   "execution_count": 367,
   "metadata": {},
   "outputs": [],
   "source": [
    "# Copyright (c) 2020 Medha Palavalli."
   ]
  },
  {
   "cell_type": "code",
   "execution_count": 368,
   "metadata": {},
   "outputs": [],
   "source": [
    "#correlation between era 5 and observed rainfall"
   ]
  }
 ],
 "metadata": {
  "kernelspec": {
   "display_name": "xarrayenv2",
   "language": "python",
   "name": "xarrayenv2"
  },
  "language_info": {
   "codemirror_mode": {
    "name": "ipython",
    "version": 3
   },
   "file_extension": ".py",
   "mimetype": "text/x-python",
   "name": "python",
   "nbconvert_exporter": "python",
   "pygments_lexer": "ipython3",
   "version": "3.7.3"
  }
 },
 "nbformat": 4,
 "nbformat_minor": 1
}
