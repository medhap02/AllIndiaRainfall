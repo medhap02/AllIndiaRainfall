{
 "cells": [
  {
   "cell_type": "code",
   "execution_count": 9,
   "metadata": {
    "scrolled": true
   },
   "outputs": [
    {
     "name": "stdout",
     "output_type": "stream",
     "text": [
      "Once deleted, variables cannot be recovered. Proceed (y/[n])? y\n"
     ]
    }
   ],
   "source": [
    "%reset"
   ]
  },
  {
   "cell_type": "code",
   "execution_count": 10,
   "metadata": {},
   "outputs": [
    {
     "name": "stdout",
     "output_type": "stream",
     "text": [
      "1.5.5\n",
      "python version:\n",
      "3.7.3\n"
     ]
    }
   ],
   "source": [
    "import numpy as np\n",
    "import matplotlib \n",
    "import matplotlib.pyplot as plt\n",
    "import mpl_toolkits\n",
    "#from mpl_toolkits.basemap import Basemap\n",
    "import pandas as pd\n",
    "import xarray as xr\n",
    "import Nio\n",
    "print (Nio.__version__)\n",
    "import seaborn as seabornInstance \n",
    "import sklearn\n",
    "\n",
    "print(\"python version:\")\n",
    "import platform\n",
    "print(platform.python_version())"
   ]
  },
  {
   "cell_type": "markdown",
   "metadata": {},
   "source": [
    "# Load Data"
   ]
  },
  {
   "cell_type": "code",
   "execution_count": 11,
   "metadata": {},
   "outputs": [
    {
     "data": {
      "text/plain": [
       "<xarray.DataArray 'sst' (time: 2004, lat: 89, lon: 180)>\n",
       "[32104080 values with dtype=float32]\n",
       "Coordinates:\n",
       "  * time     (time) datetime64[ns] 1854-01-01 1854-02-01 ... 2020-12-01\n",
       "  * lat      (lat) float64 -88.0 -86.0 -84.0 -82.0 -80.0 ... 82.0 84.0 86.0 88.0\n",
       "  * lon      (lon) float64 0.0 2.0 4.0 6.0 8.0 ... 350.0 352.0 354.0 356.0 358.0\n",
       "Attributes:\n",
       "    long_name:  extended reconstructed sea surface temperature [degree c] "
      ]
     },
     "execution_count": 11,
     "metadata": {},
     "output_type": "execute_result"
    }
   ],
   "source": [
    "sstdat = xr.open_dataset('http://apdrc.soest.hawaii.edu/dods/public_data/NOAA_SST/ERSST/monthly_v5')\n",
    "#sstdat\n",
    "sst = sstdat['sst']\n",
    "sst\n",
    "\n",
    "#note: lat & lon go by scale of 2 degrees"
   ]
  },
  {
   "cell_type": "code",
   "execution_count": 90,
   "metadata": {
    "scrolled": true
   },
   "outputs": [
    {
     "name": "stdout",
     "output_type": "stream",
     "text": [
      "<xarray.Dataset>\n",
      "Dimensions:    (lat: 37, lon: 72, nbnds: 2, time: 2040)\n",
      "Coordinates:\n",
      "  * lat        (lat) float32 90.0 85.0 80.0 75.0 ... -75.0 -80.0 -85.0 -90.0\n",
      "  * lon        (lon) float32 0.0 5.0 10.0 15.0 20.0 ... 340.0 345.0 350.0 355.0\n",
      "  * time       (time) datetime64[ns] 1850-01-01 1850-02-01 ... 2019-12-01\n",
      "Dimensions without coordinates: nbnds\n",
      "Data variables:\n",
      "    slp        (time, lat, lon) float32 ...\n",
      "    time_bnds  (time, nbnds) float64 ...\n",
      "Attributes:\n",
      "    title:        HadSLP2\n",
      "    history:      Fri Mar  8 10:06:25 2013: ncks -d time,0,1957 slp.mnmean.re...\n",
      "    comments:     adSLP2 was created using marine observations taken from ICO...\n",
      "    Conventions:  CF-1.0\n",
      "    platform:     Model\n",
      "    source:       Hadley Center\n",
      "    institution:  Hadley Center\n",
      "    References:   https://www.esrl.noaa.gov/psd/data/gridded/data.hadslp2.html\n",
      "    NCO:          20130308\n",
      "    source_url:   https://hadobs.metoffice.com/hadslp2/\n"
     ]
    },
    {
     "data": {
      "text/plain": [
       "<xarray.DataArray 'slp' (time: 2040, lat: 37, lon: 72)>\n",
       "[5434560 values with dtype=float32]\n",
       "Coordinates:\n",
       "  * lat      (lat) float32 90.0 85.0 80.0 75.0 70.0 ... -75.0 -80.0 -85.0 -90.0\n",
       "  * lon      (lon) float32 0.0 5.0 10.0 15.0 20.0 ... 340.0 345.0 350.0 355.0\n",
       "  * time     (time) datetime64[ns] 1850-01-01 1850-02-01 ... 2019-12-01\n",
       "Attributes:\n",
       "    long_name:             Monthly Mean Sea Level Pressure\n",
       "    unpacked_valid_range:  [ 850. 1400.]\n",
       "    actual_range:          [ 953.9066 1052.5088]\n",
       "    units:                 mb\n",
       "    precision:             1\n",
       "    var_desc:              Sea Level Pressure\n",
       "    dataset:               HadSLP2\n",
       "    level_desc:            Surface\n",
       "    statistic:             Mean\n",
       "    parent_stat:           Individual Observation\n",
       "    valid_range:           [-32765  32765]"
      ]
     },
     "execution_count": 90,
     "metadata": {},
     "output_type": "execute_result"
    }
   ],
   "source": [
    "#slpdat = xr.open_dataset('ftp://ftp.cdc.noaa.gov/Datasets.other/hadslp2/slp.mnmean.real.nc')\n",
    "slpdat = xr.open_dataset('data/slp.mnmean.real.nc')\n",
    "print(slpdat)\n",
    "slp = slpdat['slp']\n",
    "slp\n",
    "\n",
    "\n",
    "\n",
    "#note: lat & lon go by scale of 5 degrees"
   ]
  },
  {
   "cell_type": "code",
   "execution_count": 20,
   "metadata": {},
   "outputs": [
    {
     "name": "stdout",
     "output_type": "stream",
     "text": [
      "<xarray.Dataset>\n",
      "Dimensions:  (time: 1752)\n",
      "Coordinates:\n",
      "  * time     (time) float32 0.0 1.0 2.0 3.0 4.0 ... 1748.0 1749.0 1750.0 1751.0\n",
      "Data variables:\n",
      "    precip   (time) float32 ...\n",
      "Attributes:\n",
      "    title:        \n",
      "    description:  All-India Rainfall\n",
      "    scripturl01:  https://climexp.knmi.nl/getindices.cgi?STATION=All-India_Ra...\n",
      "    comment:      \n",
      "    institution:  KNMI Climate Explorer\n",
      "    scripturl02:  https://climexp.knmi.nl/dat2nc.cgi?id=$id&station=All-India...\n",
      "    history:       2020-04-02  2:43:20 bin/dat2nc data/pALLIN.dat p All-India...\n",
      "    Conventions:  CF-1.0\n"
     ]
    },
    {
     "data": {
      "text/plain": [
       "<xarray.Dataset>\n",
       "Dimensions:  (data: 1752, int: 1752, time: 1752)\n",
       "Coordinates:\n",
       "  * data     (data) float32 19.6 10.7 14.5 33.9 63.6 ... 168.7 52.1 8.0 7.0\n",
       "  * time     (time) datetime64[ns] 1874-05-31 1874-06-30 ... 2020-04-30\n",
       "Dimensions without coordinates: int\n",
       "Data variables:\n",
       "    foo      (int) int64 0 1 2 3 4 5 6 7 ... 1745 1746 1747 1748 1749 1750 1751"
      ]
     },
     "execution_count": 20,
     "metadata": {},
     "output_type": "execute_result"
    }
   ],
   "source": [
    "precipdat = xr.open_dataset('pALLIN.nc', decode_times=False)\n",
    "print(precipdat)\n",
    "time = pd.date_range('1874-05-01', freq='M', periods=1752)\n",
    "precipALLIN = xr.Dataset({'data': ('data', precipdat['precip']), 'time': time, 'foo': ('int', np.arange(1752))})\n",
    "precipALLIN"
   ]
  },
  {
   "cell_type": "markdown",
   "metadata": {},
   "source": [
    "# EPT"
   ]
  },
  {
   "cell_type": "code",
   "execution_count": 44,
   "metadata": {},
   "outputs": [],
   "source": [
    "#EP-ENSOpredictor\n",
    "\n",
    "#DSST1\n",
    "latrange1 = sst.sel(lat = slice(-20, 5)).lat\n",
    "weights1 = np.cos(latrange1*np.pi/180)\n",
    "\n",
    "marchdata1 = sst.sel(lat = slice(-20, 5), lon = slice(150, 170), time = (sst['time.month']==3))\n",
    "marchSST1 = marchdata1.sel(time = slice('2019-03-01', '2019-03-01'))\n",
    "marchmean1 = (marchSST1*weights1).mean({'lon', 'lat'})/weights1.mean()\n",
    "\n",
    "maydata1 = sst.sel(lat = slice(-20, 5), lon = slice(150, 170), time = (sst['time.month']==5))\n",
    "maySST1 = maydata1.sel(time = slice('2019-05-01', '2019-05-01'))\n",
    "maymean1 = (maySST1*weights1).mean({'lon', 'lat'})/weights1.mean()\n",
    "\n",
    "marchmean1.time.data = maymean1.time.data\n",
    "DSST1 = maymean1 - marchmean1\n",
    "\n",
    "#DSST2\n",
    "latrange2 = sst.sel(lat = slice(-10, 10)).lat\n",
    "weights2 = np.cos(latrange2*np.pi/180)\n",
    "\n",
    "marchdata2 = sst.sel(lat = slice(-10, 10), lon = slice(250, 280), time = (sst['time.month']==3))\n",
    "marchSST2 = marchdata2.sel(time = slice('2019-03-01', '2019-03-01'))\n",
    "marchmean2 = (marchSST2*weights2).mean({'lon', 'lat'})/weights2.mean()\n",
    "\n",
    "maydata2 = sst.sel(lat = slice(-10, 10), lon = slice(250, 280), time = (sst['time.month']==5))\n",
    "maySST2 = maydata2.sel(time = slice('2019-05-01', '2019-05-01'))\n",
    "maymean2 = (maySST2*weights2).mean({'lon', 'lat'})/weights2.mean()\n",
    "\n",
    "marchmean2.time.data = maymean2.time.data\n",
    "DSST2 = (maymean2 - marchmean2)\n",
    "\n",
    "EPT = DSST1 - DSST2\n",
    "EPTstd = 0.546494\n",
    "EPTmean = -0.036233\n",
    "EPT = (EPT - EPTmean)/EPTstd"
   ]
  },
  {
   "cell_type": "code",
   "execution_count": 45,
   "metadata": {},
   "outputs": [
    {
     "name": "stdout",
     "output_type": "stream",
     "text": [
      "<xarray.DataArray (time: 1)>\n",
      "array([-0.108328])\n",
      "Coordinates:\n",
      "  * time     (time) datetime64[ns] 2019-05-01\n"
     ]
    }
   ],
   "source": [
    "print(EPT)"
   ]
  },
  {
   "cell_type": "markdown",
   "metadata": {},
   "source": [
    "# CPT"
   ]
  },
  {
   "cell_type": "code",
   "execution_count": 55,
   "metadata": {},
   "outputs": [],
   "source": [
    "#CP-ENSOpredictor\n",
    "\n",
    "#DSST1\n",
    "latrange1 = sst.sel(lat = slice(-25, -10)).lat\n",
    "weights1 = np.cos(latrange1*np.pi/180)\n",
    "\n",
    "aprildata1 = sst.sel(lat = slice(-25, -10), lon = slice(170, 200), time = (sst['time.month']==4))\n",
    "aprilSST1 = aprildata1.sel(time = slice('2019-04-01', '2019-04-01'))\n",
    "aprilmean1 = (aprilSST1*weights1).mean({'lon', 'lat'})/weights1.mean()\n",
    "\n",
    "maydata1 = sst.sel(lat = slice(-25, -10), lon = slice(170, 200), time = (sst['time.month']==5))\n",
    "maySST1 = maydata1.sel(time = slice('2019-05-01', '2019-05-01'))\n",
    "maymean1 = (maySST1*weights1).mean({'lon', 'lat'})/weights1.mean()\n",
    "\n",
    "aprilmean1.time.data = maymean1.time.data\n",
    "DSST1 = maymean1 - aprilmean1\n",
    "\n",
    "#DSST2\n",
    "latrange2 = sst.sel(lat = slice(5, 20)).lat\n",
    "weights2 = np.cos(latrange2*np.pi/180)\n",
    "\n",
    "aprildata2 = sst.sel(lat = slice(5, 20), lon = slice(180, 210), time = (sst['time.month']==4))\n",
    "aprilSST2 = aprildata2.sel(time = slice('2019-04-01', '2019-04-01'))\n",
    "aprilmean2 = (aprilSST2*weights2).mean({'lon', 'lat'})/weights2.mean()\n",
    "                          \n",
    "maydata2 = sst.sel(lat = slice(5, 20), lon = slice(180, 210), time = (sst['time.month']==5))\n",
    "maySST2 = maydata2.sel(time = slice('2019-05-01', '2019-05-01'))\n",
    "maymean2 = (maySST2*weights2).mean({'lon', 'lat'})/weights2.mean()\n",
    "                          \n",
    "aprilmean2.time.data = maymean2.time.data\n",
    "DSST2 = maymean2 - aprilmean2\n",
    "\n",
    "CPT = DSST1 - DSST2\n",
    "CPTstd = 0.243743\n",
    "CPTmean = -1.087295\n",
    "CPT = (CPT - CPTmean)/CPTstd"
   ]
  },
  {
   "cell_type": "code",
   "execution_count": 56,
   "metadata": {},
   "outputs": [
    {
     "name": "stdout",
     "output_type": "stream",
     "text": [
      "<xarray.DataArray (time: 1)>\n",
      "array([-0.947798])\n",
      "Coordinates:\n",
      "  * time     (time) datetime64[ns] 2019-05-01\n"
     ]
    }
   ],
   "source": [
    "print(CPT)"
   ]
  },
  {
   "cell_type": "markdown",
   "metadata": {},
   "source": [
    "# PSH"
   ]
  },
  {
   "cell_type": "code",
   "execution_count": 114,
   "metadata": {},
   "outputs": [],
   "source": [
    "#mega-ENSOpredictor\n",
    "\n",
    "#NPcalculation\n",
    "latrange1 = slp.sel(lat = slice(-10, -40)).lat\n",
    "weights1 = np.cos(latrange1*np.pi/180)\n",
    "\n",
    "aprildata1 = slp.sel(lat = slice(-10, -40), lon = slice(200, 270), time = (slp['time.month']==4))\n",
    "aprilSLP1 = aprildata1.sel(time=slice('2019-04-01','2019-04-01'))\n",
    "aprilmean1 = (aprilSLP1*weights1).mean({'lon', 'lat'})/weights1.mean()\n",
    "\n",
    "maydata1 = slp.sel(lat = slice(-10, -40), lon = slice(200, 270), time = (slp['time.month']==5))\n",
    "maySLP1 = maydata1.sel(time = slice('2019-05-01', '2019-05-01'))\n",
    "maymean1 = (maySLP1*weights1).mean({'lon', 'lat'})/weights1.mean()\n",
    "\n",
    "aprilmean1.time.data = maymean1.time.data\n",
    "NP = ((aprilmean1 + maymean1)/2)\n",
    "\n",
    "#SPcalculation\n",
    "latrange2 = slp.sel(lat = slice(30, 10)).lat\n",
    "weights2 = np.cos(latrange2*np.pi/180)\n",
    "\n",
    "aprildata2 = slp.sel(lat = slice(30, 10), lon = slice(180, 230), time = (slp['time.month']==4))\n",
    "aprilSLP2 = aprildata2.sel(time = slice('2019-04-01', '2019-04-01'))\n",
    "aprilmean2 = (aprilSLP2*weights2).mean({'lon', 'lat'})/weights2.mean()\n",
    "\n",
    "maydata2 = slp.sel(lat = slice(30, 10), lon = slice(180, 230), time = (slp['time.month']==5))\n",
    "maySLP2 = maydata2.sel(time = slice('2019-05-01', '2019-05-01'))\n",
    "maymean2 = (maySLP2*weights2).mean({'lon', 'lat'})/weights2.mean()\n",
    "\n",
    "aprilmean2.time.data = maymean2.time.data\n",
    "SP = ((aprilmean2 + maymean2)/2)\n",
    "\n",
    "NParea = (30*weights1.mean() * 60)\n",
    "SParea = (20*weights2.mean() * 50)\n",
    "PSH = ((NP * NParea) + (SP * SParea))/(NParea + SParea)\n",
    "PSHstd = 0.430541\n",
    "PSHmean = 1015.898018\n",
    "PSH = (PSH - PSHmean)/PSHstd"
   ]
  },
  {
   "cell_type": "code",
   "execution_count": 116,
   "metadata": {},
   "outputs": [
    {
     "name": "stdout",
     "output_type": "stream",
     "text": [
      "<xarray.DataArray (time: 1)>\n",
      "array([2.278731])\n",
      "Coordinates:\n",
      "  * time     (time) datetime64[ns] 2019-05-01\n"
     ]
    }
   ],
   "source": [
    "print(PSH)"
   ]
  },
  {
   "cell_type": "markdown",
   "metadata": {},
   "source": [
    "# NAT"
   ]
  },
  {
   "cell_type": "code",
   "execution_count": 96,
   "metadata": {},
   "outputs": [],
   "source": [
    "#AnomalousAsianLowpredictor\n",
    "\n",
    "latrange = slp.sel(lat = slice(60, 40)).lat\n",
    "weights = np.cos(latrange*np.pi/180)\n",
    "\n",
    "marchdata = slp.sel(lat = slice(60, 40), lon = slice(95, 125), time = (slp['time.month']==3))\n",
    "marchSLP = marchdata.sel(time = slice('2019-03-01', '2019-03-01'))\n",
    "marchmean = (marchSLP*weights).mean({'lon', 'lat'})/weights.mean()\n",
    "\n",
    "maydata = slp.sel(lat = slice(60, 40), lon = slice(95, 125), time = (slp['time.month']==5))\n",
    "maySLP = maydata.sel(time = slice('2019-05-01', '2019-05-01'))\n",
    "maymean = (maySLP*weights).mean({'lon', 'lat'})/weights.mean()\n",
    "\n",
    "marchmean.time.data = maymean.time.data\n",
    "NAT = maymean - marchmean\n",
    "NATstd = 1.648686\n",
    "NATmean = -12.909709\n",
    "NAT = (NAT - NATmean)/NATstd"
   ]
  },
  {
   "cell_type": "code",
   "execution_count": 97,
   "metadata": {},
   "outputs": [
    {
     "name": "stdout",
     "output_type": "stream",
     "text": [
      "<xarray.DataArray (time: 1)>\n",
      "array([1.855343], dtype=float32)\n",
      "Coordinates:\n",
      "  * time     (time) datetime64[ns] 2019-05-01\n"
     ]
    }
   ],
   "source": [
    "print(NAT)"
   ]
  },
  {
   "cell_type": "markdown",
   "metadata": {},
   "source": [
    "# Precipitation"
   ]
  },
  {
   "cell_type": "code",
   "execution_count": 121,
   "metadata": {},
   "outputs": [
    {
     "name": "stdout",
     "output_type": "stream",
     "text": [
      "[889.3, 722.0, 791.80005, 860.8, 750.3, 716.4, 884.89996, 777.49994, 897.0, 889.3, 934.89996, 736.30005, 805.80005, 784.4, 898.0, 780.6, 950.6, 1004.2, 650.8, 884.5, 719.0, 865.8, 869.0, 823.0, 862.6, 803.60004, 902.6, 853.0, 767.7, 821.1, 804.4, 877.0, 803.4, 975.8, 913.39996, 843.5, 908.19995, 841.89996, 908.19995, 789.4, 853.1, 728.30005, 957.69995, 868.2001, 920.3, 910.80005, 903.60004, 945.3, 873.89996, 903.69995, 876.9, 738.8, 792.9, 922.89996, 885.30005, 930.0, 983.2, 788.5, 889.3, 944.1, 839.7, 1020.2, 809.8, 857.9, 922.5, 709.39996, 739.9, 860.1, 754.6, 831.0, 939.8, 886.8, 652.8, 913.4, 748.0, 962.7, 856.80005, 883.2, 909.30005, 707.7, 882.8, 852.19995, 735.4, 955.60004, 836.7, 759.8, 743.0, 697.1, 961.5]\n"
     ]
    }
   ],
   "source": [
    "#precipitation\n",
    "\n",
    "junenumber = []\n",
    "for x in range(1752):\n",
    "    y = (x + 1) % 12\n",
    "    if (y == 6):\n",
    "        junenumber.append(x)\n",
    "junedata = precipALLIN.sel(time = precipALLIN['time.month']==6, int = junenumber)\n",
    "juneprecipALLIN = junedata.data[junenumber]\n",
    "\n",
    "julynumber = []\n",
    "for x in range(1752):\n",
    "    y = (x + 1) % 12\n",
    "    if (y == 7):\n",
    "        julynumber.append(x)\n",
    "julydata = precipALLIN.sel(time = precipALLIN['time.month']==7, int = julynumber)\n",
    "julyprecipALLIN = julydata.data[julynumber]\n",
    "\n",
    "augustnumber = []\n",
    "for x in range(1752):\n",
    "    y = (x + 1) % 12\n",
    "    if (y == 8):\n",
    "        augustnumber.append(x)\n",
    "augustdata = precipALLIN.sel(time = precipALLIN['time.month']==8, int = augustnumber)\n",
    "augustprecipALLIN = augustdata.data[augustnumber]\n",
    "\n",
    "septembernumber = []\n",
    "for x in range(1752):\n",
    "    y = (x + 1) % 12\n",
    "    if (y == 9):\n",
    "        septembernumber.append(x)\n",
    "septemberdata = precipALLIN.sel(time = precipALLIN['time.month']==9, int = septembernumber)\n",
    "septemberprecipALLIN = septemberdata.data[septembernumber]\n",
    "\n",
    "rainfallforAIRIfull = juneprecipALLIN.data + julyprecipALLIN.data + augustprecipALLIN.data + septemberprecipALLIN.data\n",
    "\n",
    "rainfall = []\n",
    "for y in range(89):\n",
    "    rainfall.append(rainfallforAIRIfull[y+29])\n",
    "print(rainfall)\n",
    "\n",
    "rainfallstd = np.std(rainfall)\n",
    "rainfallmean = np.mean(rainfall)"
   ]
  },
  {
   "cell_type": "markdown",
   "metadata": {},
   "source": [
    "# Model"
   ]
  },
  {
   "cell_type": "code",
   "execution_count": 117,
   "metadata": {},
   "outputs": [
    {
     "data": {
      "text/plain": [
       "<xarray.DataArray (time: 1)>\n",
       "array([-0.15217])\n",
       "Coordinates:\n",
       "  * time     (time) datetime64[ns] 2019-05-01"
      ]
     },
     "execution_count": 117,
     "metadata": {},
     "output_type": "execute_result"
    }
   ],
   "source": [
    "#Dr. Wang's coefficients\n",
    "AIRI = 0.47*EPT + 0.19*CPT + 0.23*PSH - 0.24*NAT\n",
    "AIRI"
   ]
  },
  {
   "cell_type": "code",
   "execution_count": 126,
   "metadata": {},
   "outputs": [
    {
     "name": "stdout",
     "output_type": "stream",
     "text": [
      "<xarray.DataArray (time: 1)>\n",
      "array([834.746178])\n",
      "Coordinates:\n",
      "  * time     (time) datetime64[ns] 2019-05-01\n"
     ]
    }
   ],
   "source": [
    "final = (AIRI * rainfallstd) + rainfallmean\n",
    "print(final)"
   ]
  },
  {
   "cell_type": "code",
   "execution_count": 30,
   "metadata": {},
   "outputs": [],
   "source": []
  },
  {
   "cell_type": "code",
   "execution_count": null,
   "metadata": {},
   "outputs": [],
   "source": [
    "# Copyright (c) 2020 Medha Palavalli."
   ]
  },
  {
   "cell_type": "code",
   "execution_count": null,
   "metadata": {},
   "outputs": [],
   "source": []
  },
  {
   "cell_type": "code",
   "execution_count": null,
   "metadata": {},
   "outputs": [],
   "source": []
  }
 ],
 "metadata": {
  "kernelspec": {
   "display_name": "xarrayenv2",
   "language": "python",
   "name": "xarrayenv2"
  },
  "language_info": {
   "codemirror_mode": {
    "name": "ipython",
    "version": 3
   },
   "file_extension": ".py",
   "mimetype": "text/x-python",
   "name": "python",
   "nbconvert_exporter": "python",
   "pygments_lexer": "ipython3",
   "version": "3.7.3"
  }
 },
 "nbformat": 4,
 "nbformat_minor": 1
}
