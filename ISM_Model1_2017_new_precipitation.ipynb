{
 "cells": [
  {
   "cell_type": "code",
   "execution_count": 1,
   "metadata": {},
   "outputs": [
    {
     "name": "stdout",
     "output_type": "stream",
     "text": [
      "Once deleted, variables cannot be recovered. Proceed (y/[n])? y\n"
     ]
    }
   ],
   "source": [
    "%reset"
   ]
  },
  {
   "cell_type": "code",
   "execution_count": 2,
   "metadata": {},
   "outputs": [
    {
     "name": "stdout",
     "output_type": "stream",
     "text": [
      "1.5.0\n",
      "python version:\n",
      "2.7.14\n"
     ]
    }
   ],
   "source": [
    "import numpy as np\n",
    "import matplotlib \n",
    "import matplotlib.pyplot as plt\n",
    "import mpl_toolkits\n",
    "#from mpl_toolkits.basemap import Basemap\n",
    "import pandas as pd\n",
    "import xarray as xr\n",
    "import Nio\n",
    "print (Nio.__version__)\n",
    "#import sklearn\n",
    "\n",
    "print(\"python version:\")\n",
    "import platform\n",
    "print(platform.python_version())"
   ]
  },
  {
   "cell_type": "code",
   "execution_count": 3,
   "metadata": {},
   "outputs": [
    {
     "data": {
      "text/plain": [
       "<xarray.DataArray 'sst' (time: 2004, lat: 89, lon: 180)>\n",
       "[32104080 values with dtype=float64]\n",
       "Coordinates:\n",
       "  * time     (time) datetime64[ns] 1854-01-01 1854-02-01 1854-03-01 ...\n",
       "  * lat      (lat) float64 -88.0 -86.0 -84.0 -82.0 -80.0 -78.0 -76.0 -74.0 ...\n",
       "  * lon      (lon) float64 0.0 2.0 4.0 6.0 8.0 10.0 12.0 14.0 16.0 18.0 20.0 ...\n",
       "Attributes:\n",
       "    long_name:  extended reconstructed sea surface temperature [degree c] "
      ]
     },
     "execution_count": 3,
     "metadata": {},
     "output_type": "execute_result"
    }
   ],
   "source": [
    "sstdat = xr.open_dataset('http://apdrc.soest.hawaii.edu/dods/public_data/NOAA_SST/ERSST/monthly_v5')\n",
    "#sstdat\n",
    "sst = sstdat['sst']\n",
    "sst\n",
    "\n",
    "#note: lat & lon go by scale of 2 degrees"
   ]
  },
  {
   "cell_type": "code",
   "execution_count": 4,
   "metadata": {},
   "outputs": [
    {
     "data": {
      "text/plain": [
       "<xarray.DataArray 'slp' (time: 2029, lat: 37, lon: 72)>\n",
       "[5405256 values with dtype=float64]\n",
       "Coordinates:\n",
       "  * lat      (lat) float32 90.0 85.0 80.0 75.0 70.0 65.0 60.0 55.0 50.0 45.0 ...\n",
       "  * lon      (lon) float32 0.0 5.0 10.0 15.0 20.0 25.0 30.0 35.0 40.0 45.0 ...\n",
       "  * time     (time) datetime64[ns] 1850-01-01 1850-02-01 1850-03-01 ...\n",
       "Attributes:\n",
       "    long_name:             Monthly Mean Sea Level Pressure\n",
       "    unpacked_valid_range:  [ 850. 1400.]\n",
       "    actual_range:          [ 953.9066 1052.5088]\n",
       "    units:                 mb\n",
       "    precision:             1\n",
       "    var_desc:              Sea Level Pressure\n",
       "    dataset:               HadSLP2\n",
       "    level_desc:            Surface\n",
       "    statistic:             Mean\n",
       "    parent_stat:           Individual Observation\n",
       "    valid_range:           [-32765  32765]"
      ]
     },
     "execution_count": 4,
     "metadata": {},
     "output_type": "execute_result"
    }
   ],
   "source": [
    "slpdat = xr.open_dataset('slp.mnmean.real.nc')\n",
    "#slpdat\n",
    "slp = slpdat['slp']\n",
    "slp\n",
    "\n",
    "\n",
    "\n",
    "#note: lat & lon go by scale of 5 degrees"
   ]
  },
  {
   "cell_type": "code",
   "execution_count": 5,
   "metadata": {},
   "outputs": [
    {
     "name": "stdout",
     "output_type": "stream",
     "text": [
      "[840.5, 837.4000000000001, 895.3999999999999, 894.1999999999999, 976.4000000000001, 1036.2, 864.9000000000001, 912.2, 887.4000000000001, 960.4, 795.5, 770.2, 920.9, 978.7, 977.2, 891.4, 817.4000000000001, 779.1, 962.3, 775.1, 819.3000000000001, 882.7, 954.1, 848.3999999999999, 804.7, 697.5, 882.7, 773.8, 902.2, 931.1, 807.8, 787.6999999999999, 847.4, 939.0, 847.2, 688.0, 798.2, 863.5, 744.0, 880.6999999999999, 800.3, 936.3, 745.3999999999999, 899.6, 830.6, 813.5, 912.8000000000001, 733.0999999999999, 1051.2, 966.1000000000001, 941.2, 747.6, 821.0999999999999, 847.9, 962.9, 777.3000000000001, 862.4, 972.5, 959.9, 969.1000000000001, 819.5000000000001, 1033.2, 996.8999999999999, 830.5999999999999, 609.4000000000001, 1039.8, 974.7, 863.7, 901.1, 962.5, 868.8, 967.1, 926.5, 935.2, 960.1, 903.9000000000001, 990.1, 985.9, 843.1, 1050.2, 991.9999999999999, 1031.9, 856.7, 842.4000000000001, 960.2, 942.8, 694.6, 952.8, 771.6, 857.1, 896.0, 813.0999999999999, 747.9, 946.1, 804.9000000000001, 931.1999999999999, 962.2, 969.9000000000001, 769.5, 867.6, 813.8000000000001, 965.5, 849.1, 1034.6000000000001, 1079.1000000000001, 661.3, 944.0999999999999, 786.3, 934.1000000000001, 985.5000000000001, 897.6, 981.7, 867.5, 959.3999999999999, 893.6, 787.9, 848.2, 857.6, 936.8999999999999, 843.3, 1042.5, 949.0999999999999, 871.6999999999999, 990.4, 892.2, 955.0999999999999, 840.9000000000001, 893.1999999999999, 784.8, 1037.3, 931.3, 930.0, 960.5, 962.9, 984.2, 950.3000000000001, 955.8000000000001, 962.8, 762.2, 839.1000000000001, 977.8999999999999, 952.6, 995.1, 1006.7, 843.7, 979.8, 978.8, 906.3, 1088.8, 883.1, 934.3, 993.9, 741.1, 802.1999999999999, 954.1000000000001, 831.9, 903.4, 990.9, 1002.3000000000001, 708.4, 974.4, 825.4, 1055.5, 908.4999999999999, 943.4, 991.0, 723.2, 967.3, 923.1000000000001, 788.4000000000001, 1015.1, 919.5, 856.0, 779.7, 739.5999999999999, 1047.3, 892.8, 957.6999999999999, 871.8000000000001, 841.5, 905.8, 1020.6999999999999, 913.0999999999999, 919.2, 916.4000000000001, 971.2, 886.6999999999999, 856.4, 823.4000000000001, 715.5, 920.7, 807.0, 909.3, 927.8000000000001]\n"
     ]
    }
   ],
   "source": [
    "year = []\n",
    "jan = []\n",
    "feb = []\n",
    "mar = []\n",
    "apr = []\n",
    "may = []\n",
    "jun = []\n",
    "jul = []\n",
    "aug = []\n",
    "sept = []\n",
    "octo = []\n",
    "nov = []\n",
    "dec = []\n",
    "\n",
    "with open('8-all_ind.txt') as f:\n",
    "    for line in f:\n",
    "        data = line.split()\n",
    "        year.append(int(data[0]))\n",
    "        jan.append(float(data[1]))\n",
    "        feb.append(float(data[2]))\n",
    "        mar.append(float(data[3]))\n",
    "        apr.append(float(data[4]))\n",
    "        may.append(float(data[5]))\n",
    "        jun.append(float(data[6]))\n",
    "        jul.append(float(data[7]))\n",
    "        aug.append(float(data[8]))\n",
    "        sept.append(float(data[9]))\n",
    "        octo.append(float(data[10]))\n",
    "        nov.append(float(data[11]))\n",
    "        dec.append(float(data[12]))\n",
    "rainfall = []\n",
    "for x in range(194):\n",
    "    precipSum = jun[x] + jul[x] + aug[x] + sept[x]\n",
    "    rainfall.append(float(precipSum))\n",
    "    #rainfall.append(float(jan[x]))\n",
    "print(rainfall)"
   ]
  },
  {
   "cell_type": "code",
   "execution_count": 6,
   "metadata": {},
   "outputs": [
    {
     "name": "stdout",
     "output_type": "stream",
     "text": [
      "<xarray.DataArray (time: 118)>\n",
      "array([-0.106976, -0.251422, -1.241294,  0.465158, -1.274338, -0.671393,\n",
      "        1.274047, -0.189429,  0.528859, -0.089656,  0.147374, -1.059527,\n",
      "        0.824667,  0.150025,  0.081377, -0.517326,  0.272274, -0.42827 ,\n",
      "       -0.51721 , -0.281727,  0.653641, -0.359796,  0.081853, -0.480328,\n",
      "        0.090991,  0.007025,  0.051119, -0.142069, -0.092793, -0.492864,\n",
      "       -0.52233 ,  0.776279, -1.043112,  0.165787,  0.028621, -0.900746,\n",
      "       -0.085271,  0.255577,  0.451604, -0.848844, -0.346591, -0.163078,\n",
      "        1.110234, -0.314664,  0.009127, -0.449154, -0.093069,  0.912869,\n",
      "        1.134274, -0.336539,  0.098147, -0.332115,  0.644082, -0.29495 ,\n",
      "        0.966212,  0.230685,  0.715894, -0.624445, -0.318119,  0.709384,\n",
      "        0.509534,  0.216731, -0.150298, -0.065253,  1.073105, -0.991001,\n",
      "       -0.034543, -0.251549, -0.198961, -0.488072,  0.00334 , -0.066313,\n",
      "       -0.905693,  0.526287, -0.49546 ,  0.482486, -0.534162,  0.266194,\n",
      "        0.336988, -0.690678, -0.308543,  0.178804, -0.488882, -0.276269,\n",
      "        0.351954,  0.291702,  0.251251, -0.11056 ,  0.375381,  0.062575,\n",
      "       -0.269151, -0.236699, -0.590948, -0.649969, -0.296119,  0.513607,\n",
      "        0.290934, -1.2447  ,  0.377626,  0.334735, -0.378564,  0.088426,\n",
      "        0.359869,  0.955999,  0.3152  , -0.615377,  0.197757,  0.554579,\n",
      "       -0.438116, -0.866399,  0.334859, -0.420682, -0.197211,  0.597614,\n",
      "       -0.367873, -1.17303 ,  0.456931,  0.294046])\n",
      "Coordinates:\n",
      "  * time     (time) datetime64[ns] 1900-05-01 1901-05-01 1902-05-01 ...\n",
      "<xarray.DataArray (time: 89)>\n",
      "array([-0.106976, -0.251422, -1.241294,  0.465158, -1.274338, -0.671393,\n",
      "        1.274047, -0.189429,  0.528859, -0.089656,  0.147374, -1.059527,\n",
      "        0.824667,  0.150025,  0.081377, -0.517326,  0.272274, -0.42827 ,\n",
      "       -0.51721 , -0.281727,  0.653641, -0.359796,  0.081853, -0.480328,\n",
      "        0.090991,  0.007025,  0.051119, -0.142069, -0.092793, -0.492864,\n",
      "       -0.52233 ,  0.776279, -1.043112,  0.165787,  0.028621, -0.900746,\n",
      "       -0.085271,  0.255577,  0.451604, -0.848844, -0.346591, -0.163078,\n",
      "        1.110234, -0.314664,  0.009127, -0.449154, -0.093069,  0.912869,\n",
      "        1.134274, -0.336539,  0.098147, -0.332115,  0.644082, -0.29495 ,\n",
      "        0.966212,  0.230685,  0.715894, -0.624445, -0.318119,  0.709384,\n",
      "        0.509534,  0.216731, -0.150298, -0.065253,  1.073105, -0.991001,\n",
      "       -0.034543, -0.251549, -0.198961, -0.488072,  0.00334 , -0.066313,\n",
      "       -0.905693,  0.526287, -0.49546 ,  0.482486, -0.534162,  0.266194,\n",
      "        0.336988, -0.690678, -0.308543,  0.178804, -0.488882, -0.276269,\n",
      "        0.351954,  0.291702,  0.251251, -0.11056 ,  0.375381])\n",
      "Coordinates:\n",
      "  * time     (time) datetime64[ns] 1900-05-01 1901-05-01 1902-05-01 ...\n"
     ]
    }
   ],
   "source": [
    "#EP-ENSOpredictor\n",
    "\n",
    "'''set #1'''\n",
    "latrange1 = sst.sel(lat = slice(-20, 5)).lat\n",
    "weights1 = np.cos(latrange1*np.pi/180)\n",
    "\n",
    "marchdata1 = sst.sel(lat = slice(-20, 5), lon = slice(150, 170), time = (sst['time.month']==3))\n",
    "marchSST1 = marchdata1.sel(time = slice('1900-03-01', '2017-03-01'))\n",
    "\n",
    "marchmean1 = (marchSST1*weights1).mean({'lon', 'lat'})/weights1.mean()\n",
    "#marchmean1\n",
    "\n",
    "marchcalculation1 = (marchdata1.sel(time = slice('1900-03-01', '1988-03-01'))*weights1).mean({'lon', 'lat'})/weights1.mean()\n",
    "\n",
    "maydata1 = sst.sel(lat = slice(-20, 5), lon = slice(150, 170), time = (sst['time.month']==5))\n",
    "maySST1 = maydata1.sel(time = slice('1900-05-01', '2017-05-01'))\n",
    "\n",
    "maymean1 = (maySST1*weights1).mean({'lon', 'lat'})/weights1.mean()\n",
    "#maymean1\n",
    "\n",
    "maycalculation1 = (maydata1.sel(time = slice('1900-05-01', '1988-05-01'))*weights1).mean({'lon', 'lat'})/weights1.mean()\n",
    "\n",
    "marchmean1.time.data = maymean1.time.data\n",
    "marchcalculation1.time.data = maycalculation1.time.data\n",
    "\n",
    "DSST1 = maymean1 - marchmean1\n",
    "#DSST1\n",
    "\n",
    "DSSTcalculation1 = maycalculation1 - marchcalculation1\n",
    "\n",
    "'''set #2'''\n",
    "latrange2 = sst.sel(lat = slice(-10, 10)).lat\n",
    "weights2 = np.cos(latrange2*np.pi/180)\n",
    "\n",
    "marchdata2 = sst.sel(lat = slice(-10, 10), lon = slice(250, 280), time = (sst['time.month']==3))\n",
    "marchSST2 = marchdata2.sel(time = slice('1900-03-01', '2017-03-01'))\n",
    "\n",
    "marchmean2 = (marchSST2*weights2).mean({'lon', 'lat'})/weights2.mean()\n",
    "#marchmean2\n",
    "\n",
    "marchcalculation2 = (marchdata2.sel(time = slice('1900-03-01', '1988-03-01'))*weights2).mean({'lon', 'lat'})/weights2.mean()\n",
    "\n",
    "maydata2 = sst.sel(lat = slice(-10, 10), lon = slice(250, 280), time = (sst['time.month']==5))\n",
    "maySST2 = maydata2.sel(time = slice('1900-05-01', '2017-05-01'))\n",
    "\n",
    "maymean2 = (maySST2*weights2).mean({'lon', 'lat'})/weights2.mean()\n",
    "#maymean2\n",
    "\n",
    "maycalculation2 = (maydata2.sel(time = slice('1900-05-01', '1988-05-01'))*weights2).mean({'lon', 'lat'})/weights2.mean()\n",
    "\n",
    "marchmean2.time.data = maymean2.time.data\n",
    "marchcalculation2.time.data = maycalculation2.time.data\n",
    "\n",
    "DSST2 = (maymean2 - marchmean2)\n",
    "#DSST2\n",
    "\n",
    "DSSTcalculation2 = maycalculation2 - marchcalculation2\n",
    "\n",
    "EPT = DSST1 - DSST2\n",
    "print (EPT)\n",
    "\n",
    "EPTcalculation = DSSTcalculation1 - DSSTcalculation2\n",
    "print (EPTcalculation)"
   ]
  },
  {
   "cell_type": "code",
   "execution_count": 7,
   "metadata": {},
   "outputs": [
    {
     "data": {
      "text/plain": [
       "<xarray.DataArray (time: 118)>\n",
       "array([-0.129449, -0.393763, -2.205077,  0.917469, -2.265542, -1.162246,\n",
       "        2.397611, -0.280326,  1.034031, -0.097756,  0.335973, -1.872471,\n",
       "        1.575314,  0.340823,  0.215208, -0.880325,  0.564521, -0.717368,\n",
       "       -0.880115, -0.449216,  1.262363, -0.59207 ,  0.21608 , -0.812625,\n",
       "        0.232801,  0.079156,  0.15984 , -0.193664, -0.103495, -0.835565,\n",
       "       -0.889484,  1.486772, -1.842434,  0.369666,  0.118674, -1.581926,\n",
       "       -0.089732,  0.533967,  0.892666, -1.486953, -0.567908, -0.232107,\n",
       "        2.097859, -0.509486,  0.083002, -0.755582, -0.104002,  1.736711,\n",
       "        2.141847, -0.549514,  0.245895, -0.541418,  1.244872, -0.473413,\n",
       "        1.834321,  0.488419,  1.376278, -1.076338, -0.515807,  1.364365,\n",
       "        0.99867 ,  0.462885, -0.208721, -0.053102,  2.029918, -1.747079,\n",
       "        0.003093, -0.393995, -0.297766, -0.826796,  0.072413, -0.055042,\n",
       "       -1.590978,  1.029325, -0.840315,  0.949175, -0.911133,  0.553395,\n",
       "        0.682937, -1.197533, -0.498285,  0.393485, -0.828278, -0.43923 ,\n",
       "        0.710323,  0.600071,  0.526052, -0.136006,  0.75319 ,  0.180804,\n",
       "       -0.426203, -0.366821, -1.015043, -1.123042, -0.475552,  1.006123,\n",
       "        0.598666, -2.21131 ,  0.757298,  0.678815, -0.626413,  0.228107,\n",
       "        0.724806,  1.815632,  0.643068, -1.059744,  0.428166,  1.081095,\n",
       "       -0.735384, -1.519077,  0.679041, -0.703482, -0.294565,  1.159843,\n",
       "       -0.60685 , -2.080163,  0.902415,  0.60436 ])\n",
       "Coordinates:\n",
       "  * time     (time) datetime64[ns] 1900-05-01 1901-05-01 1902-05-01 ..."
      ]
     },
     "execution_count": 7,
     "metadata": {},
     "output_type": "execute_result"
    }
   ],
   "source": [
    "EPT = (DSST1 - DSST2) - EPTcalculation.mean()\n",
    "EPTstd = 0.546494\n",
    "EPT = EPT / EPTstd\n",
    "EPT"
   ]
  },
  {
   "cell_type": "code",
   "execution_count": 8,
   "metadata": {},
   "outputs": [
    {
     "name": "stdout",
     "output_type": "stream",
     "text": [
      "<xarray.DataArray (time: 118)>\n",
      "array([-0.849155, -1.486921, -1.143121, -1.033298, -1.45798 , -1.585492,\n",
      "       -1.02882 , -0.840201, -0.97147 , -0.743902, -1.77659 , -1.124135,\n",
      "       -1.023065, -0.717028, -1.16801 , -1.187914, -1.101848, -0.608028,\n",
      "       -1.005963, -1.1634  , -1.619158, -1.016702, -1.054611, -1.019223,\n",
      "       -1.081166, -1.116747, -0.982662, -0.99921 , -0.966194, -1.145223,\n",
      "       -1.184758, -1.083666, -0.67092 , -0.943524, -1.153415, -1.026588,\n",
      "       -1.176003, -1.125668, -0.901866, -0.707016, -0.913175, -1.193116,\n",
      "       -1.083845, -0.779773, -1.000695, -1.467114, -1.270029, -0.944824,\n",
      "       -1.525849, -1.268549, -1.356658, -1.60923 , -1.055757, -1.22592 ,\n",
      "       -1.070093, -0.944811, -0.670137, -0.985793, -0.980017, -0.872251,\n",
      "       -1.074058, -0.73188 , -1.044071, -0.776829, -0.727156, -1.429415,\n",
      "       -1.416999, -1.195584, -0.931289, -1.25606 , -0.6078  , -0.934107,\n",
      "       -1.173827, -1.329571, -1.13584 , -0.963596, -1.097996, -0.897503,\n",
      "       -0.739348, -0.877085, -1.555318, -1.133111, -1.112933, -1.007405,\n",
      "       -1.351149, -1.230375, -1.243135, -1.480965, -1.106585, -0.94569 ,\n",
      "       -0.586382, -1.271176, -1.20759 , -1.113826, -1.194332, -0.976677,\n",
      "       -1.409504, -1.250007, -0.615411, -1.438678, -1.347536, -1.209966,\n",
      "       -1.230012, -0.844177, -0.977889, -1.073311, -0.789786, -0.992638,\n",
      "       -1.091254, -1.24673 , -0.949123, -0.808202, -0.979325, -1.073983,\n",
      "       -0.996789, -1.029081, -0.917142, -1.124016])\n",
      "Coordinates:\n",
      "  * time     (time) datetime64[ns] 1900-05-01 1901-05-01 1902-05-01 ...\n",
      "<xarray.DataArray ()>\n",
      "array(-1.080165)\n",
      "<xarray.DataArray ()>\n",
      "array(-1.087295)\n"
     ]
    }
   ],
   "source": [
    "#CP-ENSOpredictor\n",
    "\n",
    "'''set #1'''\n",
    "latrange1= sst.sel(lat = slice(-25, -10)).lat\n",
    "weights1= np.cos(latrange1*np.pi/180)\n",
    "\n",
    "aprildata1= sst.sel(lat = slice(-25, -10), lon = slice(170, 200), time = (sst['time.month']==4))\n",
    "aprilSST1= aprildata1.sel(time = slice('1900-04-01', '2017-04-01'))\n",
    "\n",
    "aprilmean1= (aprilSST1*weights1).mean({'lon', 'lat'})/weights1.mean()\n",
    "#aprilmean1\n",
    "\n",
    "aprilcalculation1 = (aprildata1.sel(time = slice('1900-04-01', '1988-04-01'))*weights1).mean({'lon', 'lat'})/weights1.mean()\n",
    "\n",
    "maydata1= sst.sel(lat = slice(-25, -10), lon = slice(170, 200), time = (sst['time.month']==5))\n",
    "maySST1= maydata1.sel(time = slice('1900-05-01', '2017-05-01'))\n",
    "\n",
    "maymean1= (maySST1*weights1).mean({'lon', 'lat'})/weights1.mean()\n",
    "#maymean1\n",
    "\n",
    "maycalculation1 = (maydata1.sel(time = slice('1900-05-01', '1988-05-01'))*weights1).mean({'lon', 'lat'})/weights1.mean()\n",
    "\n",
    "aprilmean1.time.data = maymean1.time.data\n",
    "aprilcalculation1.time.data = maycalculation1.time.data\n",
    "\n",
    "DSST1 = maymean1 - aprilmean1\n",
    "#DSST1\n",
    "\n",
    "DSSTcalculation1 = maycalculation1 - aprilcalculation1\n",
    "\n",
    "'''set #2'''\n",
    "latrange2= sst.sel(lat = slice(5, 20)).lat\n",
    "weights2= np.cos(latrange2*np.pi/180)\n",
    "\n",
    "aprildata2= sst.sel(lat = slice(5, 20), lon = slice(180, 210), time = (sst['time.month']==4))\n",
    "aprilSST2= aprildata2.sel(time = slice('1900-04-01', '2017-04-01'))\n",
    "\n",
    "aprilmean2= (aprilSST2*weights2).mean({'lon', 'lat'})/weights2.mean()\n",
    "#aprilmean2\n",
    "\n",
    "aprilcalculation2 = (aprildata2.sel(time = slice('1900-04-01', '1988-04-01'))*weights2).mean({'lon', 'lat'})/weights2.mean()\n",
    "\n",
    "maydata2= sst.sel(lat = slice(5, 20), lon = slice(180, 210), time = (sst['time.month']==5))\n",
    "maySST2= maydata2.sel(time = slice('1900-05-01', '2017-05-01'))\n",
    "\n",
    "maymean2= (maySST2*weights2).mean({'lon', 'lat'})/weights2.mean()\n",
    "#maymean2\n",
    "\n",
    "maycalculation2 = (maydata2.sel(time = slice('1900-05-01', '1988-05-01'))*weights2).mean({'lon', 'lat'})/weights2.mean()\n",
    "\n",
    "aprilmean2.time.data = maymean2.time.data\n",
    "aprilcalculation2.time.data = maycalculation2.time.data\n",
    "\n",
    "DSST2 = maymean2 - aprilmean2\n",
    "#DSST2\n",
    "\n",
    "DSSTcalculation2 = maycalculation2 - aprilcalculation2\n",
    "\n",
    "CPT = DSST1 - DSST2\n",
    "print (CPT)\n",
    "\n",
    "CPTcalculation = DSSTcalculation1 - DSSTcalculation2\n",
    "\n",
    "print (CPT.mean())\n",
    "print (CPTcalculation.mean())"
   ]
  },
  {
   "cell_type": "code",
   "execution_count": 9,
   "metadata": {},
   "outputs": [
    {
     "data": {
      "text/plain": [
       "<xarray.DataArray (time: 118)>\n",
       "array([ 0.977013, -1.639538, -0.229035,  0.221533, -1.520802, -2.043943,\n",
       "        0.239905,  1.013748,  0.475193,  1.408834, -2.827955, -0.151141,\n",
       "        0.263516,  1.51909 , -0.331148, -0.412807, -0.059706,  1.966284,\n",
       "        0.333681, -0.312232, -2.182061,  0.289623,  0.134092,  0.279279,\n",
       "        0.025146, -0.120831,  0.429276,  0.361386,  0.496839, -0.23766 ,\n",
       "       -0.39986 ,  0.014892,  1.708254,  0.589848, -0.271266,  0.249062,\n",
       "       -0.36394 , -0.157429,  0.760759,  1.560164,  0.714362, -0.434148,\n",
       "        0.014154,  1.261668,  0.355295, -1.558273, -0.749696,  0.584515,\n",
       "       -1.799246, -0.743624, -1.105108, -2.141332,  0.129393, -0.568731,\n",
       "        0.070574,  0.584566,  1.711469,  0.416434,  0.440129,  0.88226 ,\n",
       "        0.054309,  1.458157,  0.177338,  1.273747,  1.477539, -1.403608,\n",
       "       -1.352668, -0.444276,  0.640044, -0.692388,  1.967218,  0.628481,\n",
       "       -0.355013, -0.993982, -0.199165,  0.5075  , -0.043903,  0.778657,\n",
       "        1.427517,  0.862427, -1.920147, -0.187966, -0.105184,  0.327765,\n",
       "       -1.082506, -0.587012, -0.639362, -1.615101, -0.07914 ,  0.580962,\n",
       "        2.055089, -0.754404, -0.493532, -0.108848, -0.439139,  0.453833,\n",
       "       -1.32192 , -0.667552,  1.935991, -1.441611, -1.067683, -0.503278,\n",
       "       -0.585519,  0.997435,  0.448862,  0.057374,  1.220587,  0.388347,\n",
       "       -0.016241, -0.65411 ,  0.566879,  1.14503 ,  0.442966,  0.054618,\n",
       "        0.37132 ,  0.238834,  0.698084, -0.150651])\n",
       "Coordinates:\n",
       "  * time     (time) datetime64[ns] 1900-05-01 1901-05-01 1902-05-01 ..."
      ]
     },
     "execution_count": 9,
     "metadata": {},
     "output_type": "execute_result"
    }
   ],
   "source": [
    "CPT = (DSST1 - DSST2) - CPTcalculation.mean()\n",
    "CPTstd = 0.243743\n",
    "CPT = CPT / CPTstd\n",
    "CPT"
   ]
  },
  {
   "cell_type": "code",
   "execution_count": 10,
   "metadata": {},
   "outputs": [
    {
     "name": "stdout",
     "output_type": "stream",
     "text": [
      "<xarray.DataArray (time: 118)>\n",
      "array([1015.119197, 1015.668121, 1015.408852, 1016.140947, 1015.763238,\n",
      "       1015.354879, 1016.411033, 1015.534686, 1016.527536, 1016.570861,\n",
      "       1016.192939, 1016.412149, 1016.604459, 1015.77167 , 1016.057837,\n",
      "       1014.795294, 1016.356689, 1016.934404, 1015.841661, 1015.827908,\n",
      "       1015.768014, 1015.599573, 1015.927862, 1015.637028, 1016.273389,\n",
      "       1016.107064, 1015.699571, 1015.478212, 1016.313443, 1015.50045 ,\n",
      "       1015.437417, 1015.760965, 1015.598903, 1016.592758, 1016.167544,\n",
      "       1015.028528, 1015.948686, 1016.070284, 1016.769433, 1016.053114,\n",
      "       1015.370472, 1015.940284, 1016.045202, 1015.816421, 1015.838343,\n",
      "       1015.477238, 1016.275673, 1016.233476, 1015.871991, 1015.995817,\n",
      "       1015.922453, 1015.269518, 1015.905603, 1015.972663, 1015.577921,\n",
      "       1016.915915, 1016.704687, 1015.687749, 1015.316611, 1015.344596,\n",
      "       1015.916282, 1015.863214, 1016.618729, 1015.908842, 1016.169045,\n",
      "       1015.864918, 1015.135309, 1016.262339, 1015.489713, 1015.548702,\n",
      "       1016.002548, 1016.158596, 1015.647393, 1016.022141, 1015.789993,\n",
      "       1015.979089, 1016.144337, 1015.842578, 1015.502188, 1015.369279,\n",
      "       1015.578784, 1015.477584, 1015.444725, 1016.135192, 1016.460439,\n",
      "       1016.036384, 1015.556526, 1016.034719, 1016.454462, 1016.299573,\n",
      "       1016.166069, 1015.506026, 1015.347329, 1015.557031, 1015.7632  ,\n",
      "       1015.679874, 1016.426678, 1014.740672, 1016.284925, 1016.552485,\n",
      "       1016.41955 , 1016.650109, 1015.597563, 1016.209809, 1016.122549,\n",
      "       1016.222771, 1015.874132, 1017.637975, 1015.971967, 1015.76879 ,\n",
      "       1017.879582, 1017.731958, 1016.752631, 1016.83262 , 1017.146014,\n",
      "       1015.775107, 1015.765559, 1016.975067])\n",
      "Coordinates:\n",
      "  * time     (time) datetime64[ns] 1900-05-01 1901-05-01 1902-05-01 ...\n"
     ]
    }
   ],
   "source": [
    "'''set #1'''\n",
    "latrange1 = slp.sel(lat = slice(-10, -40)).lat\n",
    "weights1 = np.cos(latrange1*np.pi/180)\n",
    "\n",
    "aprildata1 = slp.sel(lat = slice(-10, -40), lon = slice(200, 270), time = (slp['time.month']==4))\n",
    "aprilSLP1 = aprildata1.sel(time = slice('1900-04-01', '2017-04-01'))\n",
    "\n",
    "aprilmean1 = (aprilSLP1*weights1).mean({'lon', 'lat'})/weights1.mean()\n",
    "#aprilmean1\n",
    "\n",
    "aprilcalculation1 = ((aprildata1.sel(time = slice('1900-04-01', '1988-04-01')))*weights1).mean({'lon', 'lat'})/weights1.mean()\n",
    "\n",
    "maydata1 = slp.sel(lat = slice(-10, -40), lon = slice(200, 270), time = (slp['time.month']==5))\n",
    "maySLP1 = maydata1.sel(time = slice('1900-05-01', '2017-05-01'))\n",
    "\n",
    "maymean1 = (maySLP1*weights1).mean({'lon', 'lat'})/weights1.mean()\n",
    "#maymean1\n",
    "\n",
    "maycalculation1 = ((maydata1.sel(time = slice('1900-05-01', '1988-05-01')))*weights1).mean({'lon', 'lat'})/weights1.mean()\n",
    "\n",
    "aprilmean1.time.data = maymean1.time.data\n",
    "aprilcalculation1.time.data = maycalculation1.time.data\n",
    "\n",
    "NP = ((aprilmean1 + maymean1)/2)\n",
    "#NP\n",
    "\n",
    "NPcalculation = ((aprilcalculation1 + maycalculation1)/2)\n",
    "\n",
    "'''set#2'''\n",
    "latrange2 = slp.sel(lat = slice(30, 10)).lat\n",
    "weights2 = np.cos(latrange2*np.pi/180)\n",
    "\n",
    "aprildata2 = slp.sel(lat = slice(30, 10), lon = slice(180, 230), time = (slp['time.month']==4))\n",
    "aprilSLP2 = aprildata2.sel(time = slice('1900-04-01', '2017-04-01'))\n",
    "\n",
    "aprilmean2 = (aprilSLP2*weights2).mean({'lon', 'lat'})/weights2.mean()\n",
    "#aprilmean2\n",
    "\n",
    "aprilcalculation2 = ((aprildata2.sel(time = slice('1900-04-01', '1988-04-01')))*weights2).mean({'lon', 'lat'})/weights2.mean()\n",
    "\n",
    "maydata2 = slp.sel(lat = slice(30, 10), lon = slice(180, 230), time = (slp['time.month']==5))\n",
    "maySLP2 = maydata2.sel(time = slice('1900-05-01', '2017-05-01'))\n",
    "\n",
    "maymean2 = (maySLP2*weights2).mean({'lon', 'lat'})/weights2.mean()\n",
    "#maymean2\n",
    "\n",
    "maycalculation2 = ((maydata2.sel(time = slice('1900-05-01', '1988-05-01')))*weights2).mean({'lon', 'lat'})/weights2.mean()\n",
    "\n",
    "aprilmean2.time.data = maymean2.time.data\n",
    "aprilcalculation2.time.data = maycalculation2.time.data\n",
    "\n",
    "SP = ((aprilmean2 + maymean2)/2)\n",
    "#SP\n",
    "\n",
    "SPcalculation = ((aprilcalculation2 + maycalculation2)/2)\n",
    "\n",
    "#30*weigths\n",
    "NParea = (30*weights1.mean() * 60)\n",
    "SParea = (20*weights2.mean() * 50)\n",
    "PSH = ((NP * NParea) + (SP * SParea))/(NParea + SParea)\n",
    "print (PSH)\n",
    "\n",
    "PSHcalculation = ((NPcalculation * NParea) + (SPcalculation * SParea))/(NParea + SParea)\n",
    "#confirm that this is how you calculate the PSH"
   ]
  },
  {
   "cell_type": "code",
   "execution_count": 11,
   "metadata": {},
   "outputs": [
    {
     "name": "stdout",
     "output_type": "stream",
     "text": [
      "<xarray.DataArray (time: 118)>\n",
      "array([-1.808928, -0.533965, -1.136158,  0.564249, -0.313039, -1.261518,\n",
      "        1.191568, -0.843887,  1.462165,  1.562794,  0.685009,  1.194159,\n",
      "        1.640829, -0.293454,  0.371214, -2.561245,  1.065345,  2.407179,\n",
      "       -0.13089 , -0.162833, -0.301948, -0.693177,  0.069327, -0.606182,\n",
      "        0.871866,  0.48555 , -0.460915, -0.975057,  0.964899, -0.923406,\n",
      "       -1.069811, -0.318318, -0.694733,  1.613652,  0.626025, -2.01952 ,\n",
      "        0.117693,  0.400123,  2.024009,  0.360244, -1.225301,  0.098178,\n",
      "        0.341866, -0.189514, -0.138596, -0.97732 ,  0.877172,  0.779162,\n",
      "       -0.060444,  0.227162,  0.056763, -1.459782,  0.017626,  0.173384,\n",
      "       -0.743468,  2.364237,  1.873625, -0.488374, -1.350401, -1.285403,\n",
      "        0.04243 , -0.080829,  1.673974,  0.025149,  0.629511, -0.076871,\n",
      "       -1.771505,  0.846201, -0.948346, -0.811334,  0.242795,  0.605242,\n",
      "       -0.582109,  0.288304, -0.250897,  0.188308,  0.572122, -0.128759,\n",
      "       -0.919371, -1.228071, -0.741463, -0.976517, -1.052837,  0.550883,\n",
      "        1.306321,  0.321384, -0.79316 ,  0.317518,  1.292437,  0.932684,\n",
      "        0.622599, -0.910455, -1.279055, -0.791988, -0.313128, -0.506667,\n",
      "        1.227905, -2.688111,  0.898662,  1.520112,  1.21135 ,  1.746858,\n",
      "       -0.697847,  0.724192,  0.521517,  0.754299, -0.055471,  4.041336,\n",
      "        0.171766, -0.300145,  4.602507,  4.259626,  1.984982,  2.170771,\n",
      "        2.898677, -0.285471, -0.30765 ,  2.501626])\n",
      "Coordinates:\n",
      "  * time     (time) datetime64[ns] 1900-05-01 1901-05-01 1902-05-01 ...\n"
     ]
    }
   ],
   "source": [
    "temp = PSH - PSHcalculation.mean()\n",
    "PSHstd = 0.430541\n",
    "PSH = temp / PSHstd\n",
    "print (PSH)"
   ]
  },
  {
   "cell_type": "code",
   "execution_count": 12,
   "metadata": {},
   "outputs": [
    {
     "name": "stdout",
     "output_type": "stream",
     "text": [
      "<xarray.DataArray (time: 118)>\n",
      "array([-14.617926, -11.958234,  -9.98853 , -10.136464, -11.504354, -13.619555,\n",
      "       -12.392316, -13.279503, -11.977518, -13.429471, -11.829703, -12.582917,\n",
      "       -12.337482, -11.80808 , -10.085807, -13.900622, -14.297699, -13.319528,\n",
      "       -11.713628, -11.04373 , -10.777855, -12.286595, -11.292123, -10.96841 ,\n",
      "       -16.358334, -13.410957, -15.229524, -11.583   , -12.319581, -13.921819,\n",
      "       -13.474065, -11.245134, -14.665698, -12.359903, -12.939205, -10.972927,\n",
      "       -15.610117, -12.990413, -12.870013, -12.328839, -13.515498, -10.578895,\n",
      "       -10.104391, -11.723012, -13.578889, -14.474454, -12.769607, -14.811889,\n",
      "       -11.130769, -15.566349, -13.321251, -12.663921, -11.504653, -11.624412,\n",
      "       -14.530634, -13.888045, -15.109338, -14.304265, -10.927122, -12.19689 ,\n",
      "       -11.73518 , -14.418186, -13.091266, -13.479216, -10.872852, -14.716221,\n",
      "        -9.98844 , -12.758047,  -8.916815, -14.697646, -16.87485 , -15.357877,\n",
      "       -14.408097, -12.952589, -14.773169, -11.527948, -15.508636, -14.215442,\n",
      "       -13.207504, -11.807463, -15.503792, -11.714372, -12.104488, -14.550623,\n",
      "       -13.4974  , -15.19149 , -12.83158 , -11.988925, -14.521789, -11.294267,\n",
      "       -12.444336, -13.717294, -12.783082, -12.491116, -16.267539, -12.129721,\n",
      "       -12.581285, -13.209898, -12.784551, -11.362472, -12.999284, -12.135891,\n",
      "        -8.766296, -11.892835, -12.373203, -14.332617,  -8.838885, -15.78994 ,\n",
      "        -9.223663, -13.383158, -14.194622, -13.968948, -12.924874, -10.81465 ,\n",
      "       -12.504797, -12.38348 , -12.06292 , -14.446785])\n",
      "Coordinates:\n",
      "  * time     (time) datetime64[ns] 1900-05-01 1901-05-01 1902-05-01 ...\n"
     ]
    }
   ],
   "source": [
    "#AnomalousAsianLowpredictor\n",
    "\n",
    "latrange = slp.sel(lat = slice(60, 40)).lat\n",
    "weights = np.cos(latrange*np.pi/180)\n",
    "\n",
    "marchdata = slp.sel(lat = slice(60, 40), lon = slice(95, 125), time = (slp['time.month']==3))\n",
    "marchSLP = marchdata.sel(time = slice('1900-03-01', '2017-03-01'))\n",
    "\n",
    "marchmean = (marchSLP*weights).mean({'lon', 'lat'})/weights.mean()\n",
    "#marchmean\n",
    "\n",
    "maydata = slp.sel(lat = slice(60, 40), lon = slice(95, 125), time = (slp['time.month']==5))\n",
    "maySLP = maydata.sel(time = slice('1900-05-01', '2017-05-01'))\n",
    "\n",
    "maymean = (maySLP*weights).mean({'lon', 'lat'})/weights.mean()\n",
    "#maymean\n",
    "\n",
    "marchcalculation = ((marchdata.sel(time = slice('1900-03-01', '1988-03-01')))*weights).mean({'lon', 'lat'})/weights.mean()\n",
    "maycalculation = ((maydata.sel(time = slice('1900-05-01', '1988-05-01')))*weights).mean({'lon', 'lat'})/weights.mean()\n",
    "\n",
    "marchmean.time.data = maymean.time.data\n",
    "marchcalculation.time.data = maycalculation.time.data\n",
    "\n",
    "NAT = maymean - marchmean\n",
    "print (NAT)\n",
    "\n",
    "NATcalculation =maycalculation - marchcalculation"
   ]
  },
  {
   "cell_type": "code",
   "execution_count": 13,
   "metadata": {},
   "outputs": [
    {
     "data": {
      "text/plain": [
       "<xarray.DataArray (time: 118)>\n",
       "array([-1.03611 ,  0.577109,  1.77182 ,  1.682092,  0.852407, -0.430555,\n",
       "        0.313819, -0.224298,  0.565413, -0.315261,  0.655069,  0.198211,\n",
       "        0.347078,  0.668184,  1.712817, -0.601034, -0.841879, -0.248576,\n",
       "        0.725473,  1.131795,  1.29306 ,  0.377944,  0.981134,  1.17748 ,\n",
       "       -2.091744, -0.304031, -1.407071,  0.804704,  0.357936, -0.613891,\n",
       "       -0.342309,  1.009635, -1.065087,  0.333479, -0.017893,  1.174741,\n",
       "       -1.637917, -0.048953,  0.024075,  0.352321, -0.36744 ,  1.413738,\n",
       "        1.701546,  0.719781, -0.405889, -0.949088,  0.084976, -1.153758,\n",
       "        1.079003, -1.611371, -0.24962 ,  0.149079,  0.852226,  0.779586,\n",
       "       -0.983164, -0.593406, -1.334174, -0.845861,  1.202523,  0.432353,\n",
       "        0.712401, -0.914959, -0.110125, -0.345433,  1.23544 , -1.09573 ,\n",
       "        1.771875,  0.091987,  2.421862, -1.084464, -2.405034, -1.484923,\n",
       "       -0.90884 , -0.026011, -1.130272,  0.838096, -1.576365, -0.791986,\n",
       "       -0.180628,  0.668558, -1.573427,  0.725022,  0.4884  , -0.995288,\n",
       "       -0.356462, -1.384002,  0.047386,  0.558493, -0.977799,  0.979834,\n",
       "        0.282267, -0.489838,  0.076803,  0.253893, -2.036673,  0.473094,\n",
       "        0.199201, -0.18208 ,  0.075912,  0.938464, -0.054333,  0.469352,\n",
       "        2.513158,  0.616776,  0.325412, -0.863058,  2.46913 , -1.746988,\n",
       "        2.235746, -0.28717 , -0.779358, -0.642477, -0.009201,  1.270742,\n",
       "        0.245594,  0.319178,  0.513612, -0.932306])\n",
       "Coordinates:\n",
       "  * time     (time) datetime64[ns] 1900-05-01 1901-05-01 1902-05-01 ..."
      ]
     },
     "execution_count": 13,
     "metadata": {},
     "output_type": "execute_result"
    }
   ],
   "source": [
    "NAT = maymean - marchmean - NATcalculation.mean()\n",
    "NATstd = 1.648686\n",
    "NAT = NAT / NATstd\n",
    "NAT"
   ]
  },
  {
   "cell_type": "code",
   "execution_count": 14,
   "metadata": {},
   "outputs": [
    {
     "data": {
      "text/plain": [
       "<xarray.DataArray (time: 118)>\n",
       "array([-0.042596, -0.757899, -1.766456,  0.199377, -1.630334, -1.121421,\n",
       "        1.371203, -0.079403,  0.77688 ,  0.656838, -0.379069, -0.681692,\n",
       "        1.084558,  0.220955, -0.287467, -0.937024,  0.701061,  0.64974 ,\n",
       "       -0.554473, -0.579538, -0.201064, -0.473382, -0.092492, -0.750888,\n",
       "        0.816742,  0.198889,  0.388374, -0.439751,  0.181779, -0.502921,\n",
       "       -0.657933,  0.386087, -0.445543,  0.576919,  0.152516, -1.442611,\n",
       "        0.308847,  0.32483 ,  1.023841, -0.404138, -0.324822, -0.508294,\n",
       "        0.658941, -0.216077,  0.172053, -0.648198, -0.009967,  1.383421,\n",
       "        0.391949,  0.039416, -0.021435, -1.032848,  0.409194, -0.477785,\n",
       "        0.940502,  1.026816,  1.723165, -0.336076, -0.758003,  0.409474,\n",
       "        0.318476,  0.695605,  0.347039,  0.305742,  1.083076, -0.842518,\n",
       "       -1.088249, -0.097041, -0.817708, -0.446483,  1.040857,  0.589129,\n",
       "       -0.730976,  0.367479, -0.21923 ,  0.384705,  0.073341,  0.568503,\n",
       "        0.424104, -0.84189 , -0.391936, -0.24938 , -0.768644,  0.22141 ,\n",
       "        0.51418 ,  0.57658 , -0.068034, -0.431801,  0.870895,  0.174718,\n",
       "        0.265605, -0.407587, -0.883457, -0.791602,  0.109836,  0.32903 ,\n",
       "        0.264818, -1.740717,  0.912242,  0.169531, -0.205623,  0.30072 ,\n",
       "       -0.534253,  1.061398,  0.429376, -0.106556, -0.1722  ,  1.930685,\n",
       "       -0.845789, -0.83836 ,  1.672479,  1.020827,  0.404472,  0.749803,\n",
       "        0.393084, -1.074559,  0.362745,  1.054553])\n",
       "Coordinates:\n",
       "  * time     (time) datetime64[ns] 1900-05-01 1901-05-01 1902-05-01 ..."
      ]
     },
     "execution_count": 14,
     "metadata": {},
     "output_type": "execute_result"
    }
   ],
   "source": [
    "AIRI = 0.47*EPT + 0.19*CPT + 0.23*PSH - 0.24*NAT\n",
    "AIRI"
   ]
  },
  {
   "cell_type": "code",
   "execution_count": 15,
   "metadata": {},
   "outputs": [
    {
     "data": {
      "text/plain": [
       "[<matplotlib.lines.Line2D at 0x2b1b1e3ef610>]"
      ]
     },
     "execution_count": 15,
     "metadata": {},
     "output_type": "execute_result"
    },
    {
     "data": {
      "image/png": "[encoded data removed]",
      "text/plain": [
       "<matplotlib.figure.Figure at 0x2b1b50febf10>"
      ]
     },
     "metadata": {},
     "output_type": "display_data"
    }
   ],
   "source": [
    "final = AIRI * np.std(rainfall) + np.mean(rainfall)\n",
    "#AIRIrainfall = final['foo']\n",
    "#final.plot()\n",
    "plt.plot(np.arange(1900,2018,1),final)\n",
    "plt.plot(year,rainfall)"
   ]
  },
  {
   "cell_type": "code",
   "execution_count": 16,
   "metadata": {},
   "outputs": [
    {
     "data": {
      "text/plain": [
       "array([[1920.7       ,  813.4715229 ],\n",
       "       [1920.75      ,  813.58616951],\n",
       "       [1920.8       ,  813.50953136],\n",
       "       ...,\n",
       "       [2015.9       ,  831.91944467],\n",
       "       [2015.95      ,  835.85110232],\n",
       "       [2016.        ,  838.34435786]])"
      ]
     },
     "execution_count": 16,
     "metadata": {},
     "output_type": "execute_result"
    }
   ],
   "source": [
    "#data = xr_extras.csv.to_csv('calculated.csv')\n",
    "    #xr.open_dataset('calculated.csv')\n",
    "data = pd.read_csv('calculated1900-2016.csv')\n",
    "# xr.open_dataset('calculated.csv')\n",
    "calculatedModelPaper = data.values\n",
    "calculatedModelPaper"
   ]
  },
  {
   "cell_type": "code",
   "execution_count": 17,
   "metadata": {},
   "outputs": [
    {
     "data": {
      "text/plain": [
       "array([[1900.25      ,  837.00742662],\n",
       "       [1900.3       ,  827.07293161],\n",
       "       [1900.35      ,  817.82713826],\n",
       "       ...,\n",
       "       [2014.9       ,  727.47138274],\n",
       "       [2014.95      ,  727.57059845],\n",
       "       [2015.        ,  729.19400069]])"
      ]
     },
     "execution_count": 17,
     "metadata": {},
     "output_type": "execute_result"
    }
   ],
   "source": [
    "data1 = pd.read_csv('observed1900-2015.csv')\n",
    "observedRainfallPaper = data1.values\n",
    "observedRainfallPaper"
   ]
  },
  {
   "cell_type": "code",
   "execution_count": 48,
   "metadata": {},
   "outputs": [
    {
     "data": {
      "text/plain": [
       "[<matplotlib.lines.Line2D at 0x2ad9d38d95d0>]"
      ]
     },
     "execution_count": 48,
     "metadata": {},
     "output_type": "execute_result"
    },
    {
     "data": {
      "image/png": "[encoded data removed]",
      "text/plain": [
       "<matplotlib.figure.Figure at 0x2ad9d3cd9390>"
      ]
     },
     "metadata": {},
     "output_type": "display_data"
    }
   ],
   "source": [
    "plt.plot(np.arange(1900,2018,1),(final.data))\n",
    "plt.plot(calculatedModelPaper[:,0],calculatedModelPaper[:,1])\n",
    "#plt.plot(observedRainfallPaper[:,0],observedRainfallPaper[:,1])"
   ]
  },
  {
   "cell_type": "code",
   "execution_count": null,
   "metadata": {},
   "outputs": [],
   "source": []
  },
  {
   "cell_type": "code",
   "execution_count": null,
   "metadata": {},
   "outputs": [],
   "source": [
    "# Copyright (c) 2020 Medha Palavalli."
   ]
  }
 ],
 "metadata": {
  "kernelspec": {
   "display_name": "xarrayenv",
   "language": "python",
   "name": "xarrayenv"
  },
  "language_info": {
   "codemirror_mode": {
    "name": "ipython",
    "version": 2
   },
   "file_extension": ".py",
   "mimetype": "text/x-python",
   "name": "python",
   "nbconvert_exporter": "python",
   "pygments_lexer": "ipython2",
   "version": "2.7.14"
  }
 },
 "nbformat": 4,
 "nbformat_minor": 2
}