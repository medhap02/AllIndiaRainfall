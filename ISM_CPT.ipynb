{
 "nbformat": 4,
 "nbformat_minor": 2,
 "metadata": {
  "language_info": {
   "name": "python",
   "codemirror_mode": {
    "name": "ipython",
    "version": 3
   },
   "version": "3.7.4-final"
  },
  "orig_nbformat": 2,
  "file_extension": ".py",
  "mimetype": "text/x-python",
  "name": "python",
  "npconvert_exporter": "python",
  "pygments_lexer": "ipython3",
  "version": 3,
  "kernelspec": {
   "name": "python37464bitbaseconda35f0cee268cb44ceaf0469b41a6f34d7",
   "display_name": "Python 3.7.4 64-bit ('base': conda)"
  }
 },
 "cells": [
  {
   "cell_type": "code",
   "execution_count": 1,
   "metadata": {},
   "outputs": [],
   "source": [
    "%reset"
   ]
  },
  {
   "cell_type": "code",
   "execution_count": 2,
   "metadata": {},
   "outputs": [
    {
     "name": "stdout",
     "output_type": "stream",
     "text": "python version:\n3.7.4\n"
    }
   ],
   "source": [
    "import numpy as np\n",
    "import matplotlib \n",
    "import matplotlib.pyplot as plt\n",
    "import mpl_toolkits\n",
    "#from mpl_toolkits.basemap import Basemap\n",
    "import pandas as pd\n",
    "import xarray as xr\n",
    "#import Nio\n",
    "#print Nio.__version__\n",
    "\n",
    "print(\"python version:\")\n",
    "import platform\n",
    "print(platform.python_version())"
   ]
  },
  {
   "cell_type": "code",
   "execution_count": 3,
   "metadata": {},
   "outputs": [
    {
     "data": {
      "text/html": "<pre>&lt;xarray.Dataset&gt;\nDimensions:  (lat: 89, lon: 180, time: 2004)\nCoordinates:\n  * time     (time) datetime64[ns] 1854-01-01 1854-02-01 ... 2020-12-01\n  * lat      (lat) float64 -88.0 -86.0 -84.0 -82.0 -80.0 ... 82.0 84.0 86.0 88.0\n  * lon      (lon) float64 0.0 2.0 4.0 6.0 8.0 ... 350.0 352.0 354.0 356.0 358.0\nData variables:\n    sst      (time, lat, lon) float32 ...\n    ssta     (time, lat, lon) float32 ...\nAttributes:\n    Documentation:  https://www.ncdc.noaa.gov/data-access/marineocean-data/ex...\n    title:          NOAA Extended Reconstructed Sea Surface Temperature (SST) V5\n    Conventions:    COARDS\\nGrADS\n    dataType:       Grid\n    documentation:  http://apdrc.soest.hawaii.edu/datadoc/ersst.php\n    history:        Wed Dec 11 09:57:13 HST 2019 : imported by GrADS Data Ser...</pre>",
      "text/plain": "<xarray.Dataset>\nDimensions:  (lat: 89, lon: 180, time: 2004)\nCoordinates:\n  * time     (time) datetime64[ns] 1854-01-01 1854-02-01 ... 2020-12-01\n  * lat      (lat) float64 -88.0 -86.0 -84.0 -82.0 -80.0 ... 82.0 84.0 86.0 88.0\n  * lon      (lon) float64 0.0 2.0 4.0 6.0 8.0 ... 350.0 352.0 354.0 356.0 358.0\nData variables:\n    sst      (time, lat, lon) float32 ...\n    ssta     (time, lat, lon) float32 ...\nAttributes:\n    Documentation:  https://www.ncdc.noaa.gov/data-access/marineocean-data/ex...\n    title:          NOAA Extended Reconstructed Sea Surface Temperature (SST) V5\n    Conventions:    COARDS\\nGrADS\n    dataType:       Grid\n    documentation:  http://apdrc.soest.hawaii.edu/datadoc/ersst.php\n    history:        Wed Dec 11 09:57:13 HST 2019 : imported by GrADS Data Ser..."
     },
     "execution_count": 3,
     "metadata": {},
     "output_type": "execute_result"
    }
   ],
   "source": [
    "sstdat = xr.open_dataset('http://apdrc.soest.hawaii.edu/dods/public_data/NOAA_SST/ERSST/monthly_v5')\n",
    "sstdat"
   ]
  },
  {
   "cell_type": "code",
   "execution_count": 4,
   "metadata": {},
   "outputs": [
    {
     "data": {
      "text/html": "<pre>&lt;xarray.DataArray &#x27;sst&#x27; (time: 2004, lat: 89, lon: 180)&gt;\n[32104080 values with dtype=float32]\nCoordinates:\n  * time     (time) datetime64[ns] 1854-01-01 1854-02-01 ... 2020-12-01\n  * lat      (lat) float64 -88.0 -86.0 -84.0 -82.0 -80.0 ... 82.0 84.0 86.0 88.0\n  * lon      (lon) float64 0.0 2.0 4.0 6.0 8.0 ... 350.0 352.0 354.0 356.0 358.0\nAttributes:\n    long_name:  extended reconstructed sea surface temperature [degree c] </pre>",
      "text/plain": "<xarray.DataArray 'sst' (time: 2004, lat: 89, lon: 180)>\n[32104080 values with dtype=float32]\nCoordinates:\n  * time     (time) datetime64[ns] 1854-01-01 1854-02-01 ... 2020-12-01\n  * lat      (lat) float64 -88.0 -86.0 -84.0 -82.0 -80.0 ... 82.0 84.0 86.0 88.0\n  * lon      (lon) float64 0.0 2.0 4.0 6.0 8.0 ... 350.0 352.0 354.0 356.0 358.0\nAttributes:\n    long_name:  extended reconstructed sea surface temperature [degree c] "
     },
     "execution_count": 4,
     "metadata": {},
     "output_type": "execute_result"
    }
   ],
   "source": [
    "sst = sstdat['sst']\n",
    "sst"
   ]
  },
  {
   "cell_type": "code",
   "execution_count": 5,
   "metadata": {},
   "outputs": [],
   "source": [
    "latrange1= sst.sel(lat = slice(-25, -10)).lat\n",
    "weights1= np.cos(latrange1*np.pi/180)"
   ]
  },
  {
   "cell_type": "code",
   "execution_count": 6,
   "metadata": {},
   "outputs": [],
   "source": [
    "aprildata1= sst.sel(lat = slice(-25, -10), lon = slice(170, 200), time = (sst['time.month']==4))\n",
    "aprilSST1= aprildata1.sel(time = slice('1900-04-01', '1988-04-01'))\n",
    "\n",
    "aprilmean1= (aprilSST1*weights1).mean({'lon', 'lat'})/weights1.mean()\n",
    "#aprilmean1"
   ]
  },
  {
   "cell_type": "code",
   "execution_count": 7,
   "metadata": {},
   "outputs": [],
   "source": [
    "maydata1= sst.sel(lat = slice(-25, -10), lon = slice(170, 200), time = (sst['time.month']==5))\n",
    "maySST1= maydata1.sel(time = slice('1900-05-01', '1988-05-01'))\n",
    "\n",
    "maymean1= (maySST1*weights1).mean({'lon', 'lat'})/weights1.mean()\n",
    "#maymean1"
   ]
  },
  {
   "cell_type": "code",
   "execution_count": 8,
   "metadata": {},
   "outputs": [
    {
     "data": {
      "text/html": "<pre>&lt;xarray.DataArray ()&gt;\narray(-0.69317425)</pre>",
      "text/plain": "<xarray.DataArray ()>\narray(-0.69317425)"
     },
     "execution_count": 8,
     "metadata": {},
     "output_type": "execute_result"
    }
   ],
   "source": [
    "DSST1 = maymean1.mean() - aprilmean1.mean()\n",
    "DSST1"
   ]
  },
  {
   "cell_type": "code",
   "execution_count": 9,
   "metadata": {},
   "outputs": [],
   "source": [
    "latrange2= sst.sel(lat = slice(5, 20)).lat\n",
    "weights2= np.cos(latrange2*np.pi/180)"
   ]
  },
  {
   "cell_type": "code",
   "execution_count": 10,
   "metadata": {},
   "outputs": [],
   "source": [
    "aprildata2= sst.sel(lat = slice(5, 20), lon = slice(180, 210), time = (sst['time.month']==4))\n",
    "aprilSST2= aprildata2.sel(time = slice('1900-04-01', '1988-04-01'))\n",
    "\n",
    "aprilmean2= (aprilSST2*weights2).mean({'lon', 'lat'})/weights2.mean()\n",
    "#aprilmean2"
   ]
  },
  {
   "cell_type": "code",
   "execution_count": 11,
   "metadata": {},
   "outputs": [],
   "source": [
    "maydata2= sst.sel(lat = slice(5, 20), lon = slice(180, 210), time = (sst['time.month']==5))\n",
    "maySST2= maydata2.sel(time = slice('1900-05-01', '1988-05-01'))\n",
    "\n",
    "maymean2= (maySST2*weights2).mean({'lon', 'lat'})/weights2.mean()\n",
    "#maymean2"
   ]
  },
  {
   "cell_type": "code",
   "execution_count": 12,
   "metadata": {},
   "outputs": [
    {
     "data": {
      "text/html": "<pre>&lt;xarray.DataArray ()&gt;\narray(0.39412113)</pre>",
      "text/plain": "<xarray.DataArray ()>\narray(0.39412113)"
     },
     "execution_count": 12,
     "metadata": {},
     "output_type": "execute_result"
    }
   ],
   "source": [
    "DSST2 = maymean2.mean() - aprilmean2.mean()\n",
    "DSST2"
   ]
  },
  {
   "cell_type": "code",
   "execution_count": 13,
   "metadata": {},
   "outputs": [
    {
     "data": {
      "text/html": "<pre>&lt;xarray.DataArray ()&gt;\narray(-1.08729538)</pre>",
      "text/plain": "<xarray.DataArray ()>\narray(-1.08729538)"
     },
     "execution_count": 13,
     "metadata": {},
     "output_type": "execute_result"
    }
   ],
   "source": [
    "CPT = DSST1 - DSST2\n",
    "CPT"
   ]
  },
  {
   "cell_type": "code",
   "execution_count": null,
   "metadata": {},
   "outputs": [],
   "source": [
    "#CP-ENSOpredictor\n",
    "#note: lat & lon go by scale of 2 degrees"
   ]
  }
 ]
}